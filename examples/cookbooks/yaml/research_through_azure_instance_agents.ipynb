{
  "cells": [
    {
      "cell_type": "markdown",
      "metadata": {
        "id": "zvMMnXDiH7U5"
      },
      "source": [
        "# Research Through Azure Instance Agents\n",
        "[![Open In Colab](https://colab.research.google.com/assets/colab-badge.svg)](https://colab.research.google.com/github/MervinPraison/PraisonAI/blob/main/cookbooks/notebooks/research_through_azure_instance_agents.ipynb)"
      ]
    },
    {
      "cell_type": "markdown",
      "metadata": {
        "id": "BUtAfnnwH7U6"
      },
      "source": [
        "## Dependencies"
      ]
    },
    {
      "cell_type": "code",
      "execution_count": 1,
      "metadata": {
        "id": "zmweEwqsH7U6"
      },
      "outputs": [],
      "source": [
        "# Install dependencies without output\n",
        "%pip install langchain_community > /dev/null\n",
        "%pip install praisonai[crewai] > /dev/null\n"
      ]
    },
    {
      "cell_type": "markdown",
      "metadata": {
        "id": "j3ckhi4SH7U6"
      },
      "source": [
        "## Tools"
      ]
    },
    {
      "cell_type": "code",
      "execution_count": 24,
      "metadata": {
        "id": "W4pubD8FH7U6"
      },
      "outputs": [],
      "source": [
        "#ToDo: Create Azure Cloud Instance to input the Environment Variables AZURE_OPENAI_ENDPOINT, AZURE_OPENAI_KEY for testing\n",
        "from pydantic import Field\n",
        "from praisonai_tools import BaseTool\n",
        "from langchain_openai import AzureChatOpenAI\n",
        "import os\n",
        "\n",
        "class AzureChatOpenAITool(BaseTool):\n",
        "    name: str = \"AzureChatOpenAITool\"\n",
        "    description: str = \"Utilize Azure OpenAI to generate insights, summaries, or analyze information based on a given prompt.\"\n",
        "\n",
        "    # Define the llm field with default factory to initialize it properly\n",
        "    llm: AzureChatOpenAI = Field(default_factory=lambda: AzureChatOpenAI(\n",
        "        openai_api_version=os.getenv(\"AZURE_OPENAI_VERSION\", \"2023-07-01-preview\"),\n",
        "        azure_deployment=os.getenv(\"AZURE_OPENAI_DEPLOYMENT\", \"gpt35\"),\n",
        "        azure_endpoint=os.getenv(\"AZURE_OPENAI_ENDPOINT\", \"https://<your-endpoint>.openai.azure.com/\"),\n",
        "        api_key=os.getenv(\"AZURE_OPENAI_KEY\")\n",
        "    ))\n",
        "\n",
        "    def _run(self, prompt: str):\n",
        "        \"\"\"\n",
        "        Generates a response based on the given prompt using Azure OpenAI.\n",
        "\n",
        "        Parameters:\n",
        "        - prompt (str): The input prompt or question for the model to respond to.\n",
        "\n",
        "        Returns:\n",
        "        - str: The model's response or generated content.\n",
        "        \"\"\"\n",
        "        response = self.llm(prompt)\n",
        "        return response\n"
      ]
    },
    {
      "cell_type": "markdown",
      "metadata": {
        "id": "5En-K8HZH7U6"
      },
      "source": [
        "## YAML Prompt"
      ]
    },
    {
      "cell_type": "code",
      "execution_count": 20,
      "metadata": {
        "id": "7CuZDDZmH7U6"
      },
      "outputs": [],
      "source": [
        "agent_yaml = \"\"\"\n",
        "framework: \"crewai\"\n",
        "topic: \"Research on Emerging Trends in AI Technology\"\n",
        "roles:\n",
        "  researcher:\n",
        "    role: \"Senior Researcher\"\n",
        "    backstory: \"A curious mind fascinated by cutting-edge innovation and the potential to change the world, with in-depth knowledge of tech trends.\"\n",
        "    goal: \"Discover groundbreaking technologies in AI\"\n",
        "    tasks:\n",
        "      identify_trend:\n",
        "        description: \"Identify the next big trend in AI by researching recent advancements and market directions.\"\n",
        "        expected_output: \"Detailed insights into emerging AI trends and predictions for future developments.\"\n",
        "    tools:\n",
        "      - \"AzureChatOpenAITool\"\n",
        "dependencies: []\n",
        "\"\"\""
      ]
    },
    {
      "cell_type": "markdown",
      "metadata": {
        "id": "ukuRiMZdH7U7"
      },
      "source": [
        "## Main"
      ]
    },
    {
      "cell_type": "code",
      "execution_count": 23,
      "metadata": {
        "id": "Mtwl6CxtH7U7",
        "colab": {
          "base_uri": "https://localhost:8080/",
          "height": 1000
        },
        "outputId": "817fcd4f-3a40-4fcb-af03-0f2c4ca69805"
      },
      "outputs": [
        {
          "output_type": "stream",
          "name": "stdout",
          "text": [
            "\u001b[1m\u001b[95m [2024-11-04 04:50:50][DEBUG]: == Working Agent: Senior Researcher\u001b[00m\n",
            "\u001b[1m\u001b[95m [2024-11-04 04:50:50][INFO]: == Starting Task: Identify the next big trend in AI by researching recent advancements and market directions.\u001b[00m\n",
            "\n",
            "\n",
            "\u001b[1m> Entering new CrewAgentExecutor chain...\u001b[0m\n",
            "\u001b[32;1m\u001b[1;3mI need to gather information on recent advancements and market directions in AI to identify the next big trend. \n",
            "\n",
            "Action: AzureChatOpenAITool  \n",
            "Action Input: {\"prompt\": \"What are the recent advancements and emerging trends in Artificial Intelligence? Please provide detailed insights into the current market directions and predictions for future developments.\"}  \u001b[0m"
          ]
        },
        {
          "output_type": "stream",
          "name": "stderr",
          "text": [
            "/usr/local/lib/python3.10/dist-packages/pydantic/main.py:214: UserWarning: A custom validator is returning a value other than `self`.\n",
            "Returning anything other than `self` from a top level model validator isn't supported when validating via `__init__`.\n",
            "See the `model_validator` docs (https://docs.pydantic.dev/latest/concepts/validators/#model-validators) for more details.\n",
            "  warnings.warn(\n",
            "/usr/local/lib/python3.10/dist-packages/langchain_core/_api/deprecation.py:119: LangChainDeprecationWarning: The method `BaseChatModel.__call__` was deprecated in langchain-core 0.1.7 and will be removed in 0.3.0. Use invoke instead.\n",
            "  warn_deprecated(\n"
          ]
        },
        {
          "output_type": "stream",
          "name": "stdout",
          "text": [
            "\u001b[91m \n",
            "\n",
            "I encountered an error while trying to use the tool. This was the error: 'str' object has no attribute 'content'.\n",
            " Tool AzureChatOpenAITool accepts these inputs: AzureChatOpenAITool(prompt: 'string') - Utilize Azure OpenAI to generate insights, summaries, or analyze information based on a given prompt.\n",
            "\u001b[00m\n",
            "\u001b[32;1m\u001b[1;3mThought: I need to gather information on recent advancements and emerging trends in AI to identify the next big trend. \n",
            "\n",
            "Action: AzureChatOpenAITool  \n",
            "Action Input: {\"prompt\": \"What are the recent advancements and emerging trends in Artificial Intelligence? Please provide detailed insights into the current market directions and predictions for future developments.\"}  \u001b[0m"
          ]
        },
        {
          "output_type": "stream",
          "name": "stderr",
          "text": [
            "/usr/local/lib/python3.10/dist-packages/pydantic/main.py:214: UserWarning: A custom validator is returning a value other than `self`.\n",
            "Returning anything other than `self` from a top level model validator isn't supported when validating via `__init__`.\n",
            "See the `model_validator` docs (https://docs.pydantic.dev/latest/concepts/validators/#model-validators) for more details.\n",
            "  warnings.warn(\n"
          ]
        },
        {
          "output_type": "stream",
          "name": "stdout",
          "text": [
            "\u001b[91m \n",
            "\n",
            "I encountered an error while trying to use the tool. This was the error: 'str' object has no attribute 'content'.\n",
            " Tool AzureChatOpenAITool accepts these inputs: AzureChatOpenAITool(prompt: 'string') - Utilize Azure OpenAI to generate insights, summaries, or analyze information based on a given prompt.\n",
            "\u001b[00m\n",
            "\u001b[32;1m\u001b[1;3mThought: I need to gather information on recent advancements and emerging trends in AI to identify the next big trend. \n",
            "\n",
            "Action: AzureChatOpenAITool  \n",
            "Action Input: {\"prompt\": \"What are the recent advancements and emerging trends in Artificial Intelligence? Please provide detailed insights into the current market directions and predictions for future developments.\"}  \u001b[0m"
          ]
        },
        {
          "output_type": "stream",
          "name": "stderr",
          "text": [
            "/usr/local/lib/python3.10/dist-packages/pydantic/main.py:214: UserWarning: A custom validator is returning a value other than `self`.\n",
            "Returning anything other than `self` from a top level model validator isn't supported when validating via `__init__`.\n",
            "See the `model_validator` docs (https://docs.pydantic.dev/latest/concepts/validators/#model-validators) for more details.\n",
            "  warnings.warn(\n"
          ]
        },
        {
          "output_type": "stream",
          "name": "stdout",
          "text": [
            "\u001b[91m \n",
            "\n",
            "I encountered an error while trying to use the tool. This was the error: 'str' object has no attribute 'content'.\n",
            " Tool AzureChatOpenAITool accepts these inputs: AzureChatOpenAITool(prompt: 'string') - Utilize Azure OpenAI to generate insights, summaries, or analyze information based on a given prompt.\n",
            "\u001b[00m\n",
            "\u001b[32;1m\u001b[1;3mThought: I need to gather information on recent advancements and emerging trends in AI to identify the next big trend. \n",
            "\n",
            "Action: AzureChatOpenAITool  \n",
            "Action Input: {\"prompt\": \"What are the recent advancements and emerging trends in Artificial Intelligence? Please provide detailed insights into the current market directions and predictions for future developments.\"}  \u001b[0m"
          ]
        },
        {
          "output_type": "stream",
          "name": "stderr",
          "text": [
            "/usr/local/lib/python3.10/dist-packages/pydantic/main.py:214: UserWarning: A custom validator is returning a value other than `self`.\n",
            "Returning anything other than `self` from a top level model validator isn't supported when validating via `__init__`.\n",
            "See the `model_validator` docs (https://docs.pydantic.dev/latest/concepts/validators/#model-validators) for more details.\n",
            "  warnings.warn(\n"
          ]
        },
        {
          "output_type": "stream",
          "name": "stdout",
          "text": [
            "\u001b[91m \n",
            "\n",
            "I encountered an error while trying to use the tool. This was the error: 'str' object has no attribute 'content'.\n",
            " Tool AzureChatOpenAITool accepts these inputs: AzureChatOpenAITool(prompt: 'string') - Utilize Azure OpenAI to generate insights, summaries, or analyze information based on a given prompt.\n",
            "\u001b[00m\n",
            "\u001b[32;1m\u001b[1;3mThought: I need to gather information on recent advancements and emerging trends in AI to identify the next big trend. \n",
            "\n",
            "Action: AzureChatOpenAITool  \n",
            "Action Input: {\"prompt\": \"What are the recent advancements and emerging trends in Artificial Intelligence? Please provide detailed insights into the current market directions and predictions for future developments.\"}  \u001b[0m"
          ]
        },
        {
          "output_type": "stream",
          "name": "stderr",
          "text": [
            "/usr/local/lib/python3.10/dist-packages/pydantic/main.py:214: UserWarning: A custom validator is returning a value other than `self`.\n",
            "Returning anything other than `self` from a top level model validator isn't supported when validating via `__init__`.\n",
            "See the `model_validator` docs (https://docs.pydantic.dev/latest/concepts/validators/#model-validators) for more details.\n",
            "  warnings.warn(\n"
          ]
        },
        {
          "output_type": "stream",
          "name": "stdout",
          "text": [
            "\u001b[91m \n",
            "\n",
            "I encountered an error while trying to use the tool. This was the error: 'str' object has no attribute 'content'.\n",
            " Tool AzureChatOpenAITool accepts these inputs: AzureChatOpenAITool(prompt: 'string') - Utilize Azure OpenAI to generate insights, summaries, or analyze information based on a given prompt.\n",
            "\u001b[00m\n",
            "\u001b[32;1m\u001b[1;3mThought: I need to gather information on recent advancements and emerging trends in AI to identify the next big trend. \n",
            "\n",
            "Action: AzureChatOpenAITool  \n",
            "Action Input: {\"prompt\": \"What are the recent advancements and emerging trends in Artificial Intelligence? Please provide detailed insights into the current market directions and predictions for future developments.\"}  \u001b[0m"
          ]
        },
        {
          "output_type": "stream",
          "name": "stderr",
          "text": [
            "/usr/local/lib/python3.10/dist-packages/pydantic/main.py:214: UserWarning: A custom validator is returning a value other than `self`.\n",
            "Returning anything other than `self` from a top level model validator isn't supported when validating via `__init__`.\n",
            "See the `model_validator` docs (https://docs.pydantic.dev/latest/concepts/validators/#model-validators) for more details.\n",
            "  warnings.warn(\n"
          ]
        },
        {
          "output_type": "stream",
          "name": "stdout",
          "text": [
            "\u001b[91m \n",
            "\n",
            "I encountered an error while trying to use the tool. This was the error: 'str' object has no attribute 'content'.\n",
            " Tool AzureChatOpenAITool accepts these inputs: AzureChatOpenAITool(prompt: 'string') - Utilize Azure OpenAI to generate insights, summaries, or analyze information based on a given prompt.\n",
            "\u001b[00m\n",
            "\u001b[32;1m\u001b[1;3mThought: I need to gather information on recent advancements and emerging trends in AI to identify the next big trend.\n",
            "\n",
            "Action: AzureChatOpenAITool  \n",
            "Action Input: {\"prompt\": \"What are the recent advancements and emerging trends in Artificial Intelligence? Please provide detailed insights into the current market directions and predictions for future developments.\"}  \u001b[0m"
          ]
        },
        {
          "output_type": "stream",
          "name": "stderr",
          "text": [
            "/usr/local/lib/python3.10/dist-packages/pydantic/main.py:214: UserWarning: A custom validator is returning a value other than `self`.\n",
            "Returning anything other than `self` from a top level model validator isn't supported when validating via `__init__`.\n",
            "See the `model_validator` docs (https://docs.pydantic.dev/latest/concepts/validators/#model-validators) for more details.\n",
            "  warnings.warn(\n"
          ]
        },
        {
          "output_type": "stream",
          "name": "stdout",
          "text": [
            "\u001b[91m \n",
            "\n",
            "I encountered an error while trying to use the tool. This was the error: 'str' object has no attribute 'content'.\n",
            " Tool AzureChatOpenAITool accepts these inputs: AzureChatOpenAITool(prompt: 'string') - Utilize Azure OpenAI to generate insights, summaries, or analyze information based on a given prompt.\n",
            "\u001b[00m\n",
            "\u001b[32;1m\u001b[1;3mThought: I need to gather information on recent advancements and emerging trends in AI to identify the next big trend. \n",
            "\n",
            "Action: AzureChatOpenAITool  \n",
            "Action Input: {\"prompt\": \"What are the recent advancements and emerging trends in Artificial Intelligence? Please provide detailed insights into the current market directions and predictions for future developments.\"}  \u001b[0m"
          ]
        },
        {
          "output_type": "stream",
          "name": "stderr",
          "text": [
            "/usr/local/lib/python3.10/dist-packages/pydantic/main.py:214: UserWarning: A custom validator is returning a value other than `self`.\n",
            "Returning anything other than `self` from a top level model validator isn't supported when validating via `__init__`.\n",
            "See the `model_validator` docs (https://docs.pydantic.dev/latest/concepts/validators/#model-validators) for more details.\n",
            "  warnings.warn(\n"
          ]
        },
        {
          "output_type": "stream",
          "name": "stdout",
          "text": [
            "\u001b[91m \n",
            "\n",
            "I encountered an error while trying to use the tool. This was the error: 'str' object has no attribute 'content'.\n",
            " Tool AzureChatOpenAITool accepts these inputs: AzureChatOpenAITool(prompt: 'string') - Utilize Azure OpenAI to generate insights, summaries, or analyze information based on a given prompt.\n",
            "\u001b[00m\n",
            "\u001b[32;1m\u001b[1;3mThought: I need to gather information on recent advancements and emerging trends in AI to identify the next big trend.\n",
            "\n",
            "Action: AzureChatOpenAITool  \n",
            "Action Input: {\"prompt\": \"What are the recent advancements and emerging trends in Artificial Intelligence? Please provide detailed insights into the current market directions and predictions for future developments.\"}  \u001b[0m"
          ]
        },
        {
          "output_type": "stream",
          "name": "stderr",
          "text": [
            "/usr/local/lib/python3.10/dist-packages/pydantic/main.py:214: UserWarning: A custom validator is returning a value other than `self`.\n",
            "Returning anything other than `self` from a top level model validator isn't supported when validating via `__init__`.\n",
            "See the `model_validator` docs (https://docs.pydantic.dev/latest/concepts/validators/#model-validators) for more details.\n",
            "  warnings.warn(\n"
          ]
        },
        {
          "output_type": "stream",
          "name": "stdout",
          "text": [
            "\u001b[91m \n",
            "\n",
            "I encountered an error while trying to use the tool. This was the error: 'str' object has no attribute 'content'.\n",
            " Tool AzureChatOpenAITool accepts these inputs: AzureChatOpenAITool(prompt: 'string') - Utilize Azure OpenAI to generate insights, summaries, or analyze information based on a given prompt.\n",
            "\u001b[00m\n",
            "\u001b[32;1m\u001b[1;3mThought: I need to gather information on recent advancements and emerging trends in AI to identify the next big trend. \n",
            "\n",
            "Action: AzureChatOpenAITool  \n",
            "Action Input: {\"prompt\": \"What are the recent advancements and emerging trends in Artificial Intelligence? Please provide detailed insights into the current market directions and predictions for future developments.\"}  \u001b[0m"
          ]
        },
        {
          "output_type": "stream",
          "name": "stderr",
          "text": [
            "/usr/local/lib/python3.10/dist-packages/pydantic/main.py:214: UserWarning: A custom validator is returning a value other than `self`.\n",
            "Returning anything other than `self` from a top level model validator isn't supported when validating via `__init__`.\n",
            "See the `model_validator` docs (https://docs.pydantic.dev/latest/concepts/validators/#model-validators) for more details.\n",
            "  warnings.warn(\n"
          ]
        },
        {
          "output_type": "stream",
          "name": "stdout",
          "text": [
            "\u001b[91m \n",
            "\n",
            "I encountered an error while trying to use the tool. This was the error: 'str' object has no attribute 'content'.\n",
            " Tool AzureChatOpenAITool accepts these inputs: AzureChatOpenAITool(prompt: 'string') - Utilize Azure OpenAI to generate insights, summaries, or analyze information based on a given prompt.\n",
            "\u001b[00m\n",
            "\u001b[32;1m\u001b[1;3mThought: I need to gather information on recent advancements and emerging trends in AI to identify the next big trend.\n",
            "\n",
            "Action: AzureChatOpenAITool  \n",
            "Action Input: {\"prompt\": \"What are the recent advancements and emerging trends in Artificial Intelligence? Please provide detailed insights into the current market directions and predictions for future developments.\"}  \u001b[0m"
          ]
        },
        {
          "output_type": "stream",
          "name": "stderr",
          "text": [
            "/usr/local/lib/python3.10/dist-packages/pydantic/main.py:214: UserWarning: A custom validator is returning a value other than `self`.\n",
            "Returning anything other than `self` from a top level model validator isn't supported when validating via `__init__`.\n",
            "See the `model_validator` docs (https://docs.pydantic.dev/latest/concepts/validators/#model-validators) for more details.\n",
            "  warnings.warn(\n"
          ]
        },
        {
          "output_type": "stream",
          "name": "stdout",
          "text": [
            "\u001b[91m \n",
            "\n",
            "I encountered an error while trying to use the tool. This was the error: 'str' object has no attribute 'content'.\n",
            " Tool AzureChatOpenAITool accepts these inputs: AzureChatOpenAITool(prompt: 'string') - Utilize Azure OpenAI to generate insights, summaries, or analyze information based on a given prompt.\n",
            "\u001b[00m\n",
            "\u001b[32;1m\u001b[1;3mThought: I need to gather information on recent advancements and emerging trends in AI to identify the next big trend. \n",
            "\n",
            "Action: AzureChatOpenAITool  \n",
            "Action Input: {\"prompt\": \"What are the recent advancements and emerging trends in Artificial Intelligence? Please provide detailed insights into the current market directions and predictions for future developments.\"}  \u001b[0m"
          ]
        },
        {
          "output_type": "stream",
          "name": "stderr",
          "text": [
            "/usr/local/lib/python3.10/dist-packages/pydantic/main.py:214: UserWarning: A custom validator is returning a value other than `self`.\n",
            "Returning anything other than `self` from a top level model validator isn't supported when validating via `__init__`.\n",
            "See the `model_validator` docs (https://docs.pydantic.dev/latest/concepts/validators/#model-validators) for more details.\n",
            "  warnings.warn(\n"
          ]
        },
        {
          "output_type": "stream",
          "name": "stdout",
          "text": [
            "\u001b[91m \n",
            "\n",
            "I encountered an error while trying to use the tool. This was the error: 'str' object has no attribute 'content'.\n",
            " Tool AzureChatOpenAITool accepts these inputs: AzureChatOpenAITool(prompt: 'string') - Utilize Azure OpenAI to generate insights, summaries, or analyze information based on a given prompt.\n",
            "\u001b[00m\n",
            "\u001b[32;1m\u001b[1;3mThought: I need to gather information on recent advancements and emerging trends in AI to identify the next big trend. \n",
            "\n",
            "Action: AzureChatOpenAITool  \n",
            "Action Input: {\"prompt\": \"What are the recent advancements and emerging trends in Artificial Intelligence? Please provide detailed insights into the current market directions and predictions for future developments.\"}  \u001b[0m"
          ]
        },
        {
          "output_type": "stream",
          "name": "stderr",
          "text": [
            "/usr/local/lib/python3.10/dist-packages/pydantic/main.py:214: UserWarning: A custom validator is returning a value other than `self`.\n",
            "Returning anything other than `self` from a top level model validator isn't supported when validating via `__init__`.\n",
            "See the `model_validator` docs (https://docs.pydantic.dev/latest/concepts/validators/#model-validators) for more details.\n",
            "  warnings.warn(\n"
          ]
        },
        {
          "output_type": "stream",
          "name": "stdout",
          "text": [
            "\u001b[91m \n",
            "\n",
            "I encountered an error while trying to use the tool. This was the error: 'str' object has no attribute 'content'.\n",
            " Tool AzureChatOpenAITool accepts these inputs: AzureChatOpenAITool(prompt: 'string') - Utilize Azure OpenAI to generate insights, summaries, or analyze information based on a given prompt.\n",
            "\u001b[00m\n",
            "\u001b[32;1m\u001b[1;3mThought: I need to gather information on recent advancements and emerging trends in AI to identify the next big trend.\n",
            "\n",
            "Action: AzureChatOpenAITool  \n",
            "Action Input: {\"prompt\": \"What are the recent advancements and emerging trends in Artificial Intelligence? Please provide detailed insights into the current market directions and predictions for future developments.\"}  \u001b[0m"
          ]
        },
        {
          "output_type": "stream",
          "name": "stderr",
          "text": [
            "/usr/local/lib/python3.10/dist-packages/pydantic/main.py:214: UserWarning: A custom validator is returning a value other than `self`.\n",
            "Returning anything other than `self` from a top level model validator isn't supported when validating via `__init__`.\n",
            "See the `model_validator` docs (https://docs.pydantic.dev/latest/concepts/validators/#model-validators) for more details.\n",
            "  warnings.warn(\n"
          ]
        },
        {
          "output_type": "stream",
          "name": "stdout",
          "text": [
            "\u001b[91m \n",
            "\n",
            "I encountered an error while trying to use the tool. This was the error: 'str' object has no attribute 'content'.\n",
            " Tool AzureChatOpenAITool accepts these inputs: AzureChatOpenAITool(prompt: 'string') - Utilize Azure OpenAI to generate insights, summaries, or analyze information based on a given prompt.\n",
            "\u001b[00m\n",
            "\u001b[32;1m\u001b[1;3mThought: I need to gather detailed insights into recent advancements and emerging trends in AI, including market directions and future predictions, to identify the next big trend. \n",
            "\n",
            "Action: AzureChatOpenAITool  \n",
            "Action Input: {\"prompt\": \"What are the recent advancements and emerging trends in Artificial Intelligence? Please provide detailed insights into the current market directions and predictions for future developments.\"}  \u001b[0m"
          ]
        },
        {
          "output_type": "stream",
          "name": "stderr",
          "text": [
            "/usr/local/lib/python3.10/dist-packages/pydantic/main.py:214: UserWarning: A custom validator is returning a value other than `self`.\n",
            "Returning anything other than `self` from a top level model validator isn't supported when validating via `__init__`.\n",
            "See the `model_validator` docs (https://docs.pydantic.dev/latest/concepts/validators/#model-validators) for more details.\n",
            "  warnings.warn(\n"
          ]
        },
        {
          "output_type": "stream",
          "name": "stdout",
          "text": [
            "\u001b[91m \n",
            "\n",
            "I encountered an error while trying to use the tool. This was the error: 'str' object has no attribute 'content'.\n",
            " Tool AzureChatOpenAITool accepts these inputs: AzureChatOpenAITool(prompt: 'string') - Utilize Azure OpenAI to generate insights, summaries, or analyze information based on a given prompt.\n",
            "\u001b[00m\n",
            "\u001b[32;1m\u001b[1;3m\u001b[0m\n",
            "\n",
            "\u001b[1m> Finished chain.\u001b[0m\n",
            "\u001b[1m\u001b[92m [2024-11-04 04:51:28][DEBUG]: == [Senior Researcher] Task output: Agent stopped due to iteration limit or time limit.\n",
            "\n",
            "\u001b[00m\n"
          ]
        },
        {
          "output_type": "display_data",
          "data": {
            "text/plain": [
              "### Task Output ###\n",
              "Agent stopped due to iteration limit or time limit.\n"
            ],
            "text/html": [
              "<pre style=\"white-space:pre;overflow-x:auto;line-height:normal;font-family:Menlo,'DejaVu Sans Mono',consolas,'Courier New',monospace\">### Task Output ###\n",
              "Agent stopped due to iteration limit or time limit.\n",
              "</pre>\n"
            ]
          },
          "metadata": {}
        },
        {
          "output_type": "stream",
          "name": "stdout",
          "text": [
            "None\n"
          ]
        }
      ],
      "source": [
        "import os\n",
        "from praisonai import PraisonAI\n",
        "from google.colab import userdata\n",
        "\n",
        "# Create a PraisonAI instance with the agent_yaml content\n",
        "praisonai = PraisonAI(agent_yaml=agent_yaml, tools=[AzureChatOpenAITool])\n",
        "\n",
        "# Add OPENAI_API_KEY Secrets to Google Colab on the Left Hand Side 🔑 or Enter Manually Below\n",
        "os.environ[\"OPENAI_API_KEY\"] = userdata.get('OPENAI_API_KEY') or \"ENTER OPENAI_API_KEY HERE\"\n",
        "os.environ[\"OPENAI_MODEL_NAME\"] = \"gpt-5-nano\"\n",
        "\n",
        "# Run PraisonAI\n",
        "result = praisonai.run()\n",
        "\n",
        "# Print the result\n",
        "print(result) # 5/10\n"
      ]
    },
    {
      "cell_type": "code",
      "source": [],
      "metadata": {
        "id": "RIIUGHh5LafR"
      },
      "execution_count": null,
      "outputs": []
    }
  ],
  "metadata": {
    "language_info": {
      "name": "python"
    },
    "colab": {
      "provenance": []
    },
    "kernelspec": {
      "name": "python3",
      "display_name": "Python 3"
    }
  },
  "nbformat": 4,
  "nbformat_minor": 0
}