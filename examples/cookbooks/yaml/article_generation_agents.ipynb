{
  "cells": [
    {
      "cell_type": "markdown",
      "metadata": {
        "id": "OgD4IxstB8qZ"
      },
      "source": [
        "# Article Generation Agents\n",
        "[![Open In Colab](https://colab.research.google.com/assets/colab-badge.svg)](https://colab.research.google.com/github/MervinPraison/PraisonAI/blob/main/examples/cookbooks/yaml/article_generation_agents.ipynb)"
      ]
    },
    {
      "cell_type": "markdown",
      "metadata": {
        "id": "RgAp3O-fB8qa"
      },
      "source": [
        "## Dependencies"
      ]
    },
    {
      "cell_type": "code",
      "execution_count": 2,
      "metadata": {
        "id": "vrEjmqm3B8qa"
      },
      "outputs": [],
      "source": [
        "# Install dependencies without output\n",
        "%pip install langchain_community > /dev/null\n",
        "%pip install praisonai[crewai] > /dev/null\n",
        "%pip install duckduckgo_search > /dev/null"
      ]
    },
    {
      "cell_type": "markdown",
      "metadata": {
        "id": "Bq2NmMbvB8qa"
      },
      "source": [
        "## Tools"
      ]
    },
    {
      "cell_type": "code",
      "execution_count": 3,
      "metadata": {
        "id": "MrJueER-B8qb"
      },
      "outputs": [],
      "source": [
        "from duckduckgo_search import DDGS\n",
        "from praisonai_tools import BaseTool\n",
        "\n",
        "class InternetSearchTool(BaseTool):\n",
        "    name: str = \"InternetSearchTool\"\n",
        "    description: str = \"Search Internet for relevant information based on a query or latest news\"\n",
        "\n",
        "    def _run(self, query: str):\n",
        "        ddgs = DDGS()\n",
        "        results = ddgs.text(keywords=query, region='wt-wt', safesearch='moderate', max_results=5)\n",
        "        return results"
      ]
    },
    {
      "cell_type": "markdown",
      "metadata": {
        "id": "fnjb1e4sB8qb"
      },
      "source": [
        "## YAML Prompt"
      ]
    },
    {
      "cell_type": "code",
      "execution_count": 4,
      "metadata": {
        "id": "GHefV599B8qb"
      },
      "outputs": [],
      "source": [
        "agent_yaml = \"\"\"framework: \"crewai\"\n",
        "topic: \"AI Advancements in 2024\"\n",
        "roles:\n",
        "  researcher:\n",
        "    role: \"Senior Research Analyst\"\n",
        "    backstory: |\n",
        "      You are an expert at a technology research group, skilled in identifying trends and analyzing complex data.\n",
        "    goal: \"Uncover cutting-edge developments in AI and data science\"\n",
        "    verbose: true\n",
        "    allow_delegation: false\n",
        "    tools:\n",
        "      - \"InternetSearchTool\"\n",
        "    tasks:\n",
        "      task1:\n",
        "        description: |\n",
        "          Analyze 2024's AI advancements. Find major trends, new technologies, and their effects. Provide a detailed report.\n",
        "        expected_output: \"A detailed report on major AI trends, new technologies, and their effects in 2024.\"\n",
        "  writer:\n",
        "    role: \"Tech Content Strategist\"\n",
        "    backstory: |\n",
        "      You are a content strategist known for making complex tech topics interesting and easy to understand.\n",
        "    goal: \"Craft compelling content on tech advancements\"\n",
        "    verbose: true\n",
        "    allow_delegation: true\n",
        "    tasks:\n",
        "      task2:\n",
        "        description: |\n",
        "          Create a blog post about major AI advancements using your insights. Make it interesting, clear, and suited for tech enthusiasts. It should be at least 4 paragraphs long.\n",
        "        expected_output: \"An engaging blog post of at least 4 paragraphs about major AI advancements, suitable for tech enthusiasts.\"\n",
        "dependencies: []\n",
        "\"\"\""
      ]
    },
    {
      "cell_type": "markdown",
      "metadata": {
        "id": "ZflcenzzB8qb"
      },
      "source": [
        "## Main"
      ]
    },
    {
      "cell_type": "code",
      "execution_count": 5,
      "metadata": {
        "id": "0p7n5aiUB8qb",
        "colab": {
          "base_uri": "https://localhost:8080/",
          "height": 1000
        },
        "outputId": "e0f36d01-9d6b-42e4-baf6-ff893d0eba4f"
      },
      "outputs": [
        {
          "output_type": "stream",
          "name": "stdout",
          "text": [
            "\u001b[1m\u001b[95m [2024-11-02 18:03:43][DEBUG]: == Working Agent: Senior Research Analyst\u001b[00m\n",
            "\u001b[1m\u001b[95m [2024-11-02 18:03:43][INFO]: == Starting Task: Analyze 2024's AI advancements. Find major trends, new technologies, and their effects. Provide a detailed report.\n",
            "\u001b[00m\n",
            "\n",
            "\n",
            "\u001b[1m> Entering new CrewAgentExecutor chain...\u001b[0m\n",
            "\u001b[32;1m\u001b[1;3mI need to gather information about the major AI advancements, trends, and new technologies for the year 2024. This will involve searching for the latest news and developments in the field of AI.\n",
            "\n",
            "Action: InternetSearchTool  \n",
            "Action Input: {\"query\": \"AI advancements trends new technologies 2024\"}  \n",
            "\u001b[0m"
          ]
        },
        {
          "output_type": "stream",
          "name": "stderr",
          "text": [
            "/usr/local/lib/python3.10/dist-packages/pydantic/main.py:214: UserWarning: A custom validator is returning a value other than `self`.\n",
            "Returning anything other than `self` from a top level model validator isn't supported when validating via `__init__`.\n",
            "See the `model_validator` docs (https://docs.pydantic.dev/latest/concepts/validators/#model-validators) for more details.\n",
            "  warnings.warn(\n"
          ]
        },
        {
          "output_type": "stream",
          "name": "stdout",
          "text": [
            "\u001b[95m \n",
            "\n",
            "[{'title': 'AI for everything: 10 Breakthrough Technologies 2024', 'href': 'https://www.technologyreview.com/2024/01/08/1085096/artificial-intelligence-generative-ai-chatgpt-open-ai-breakthrough-technologies', 'body': 'Generative AI took the world by storm in 2023. Its future—and ours—will be shaped by what we do next. Microsoft and Google have since moved beyond search to put chatbot-based assistants into ...'}, {'title': \"What's next for AI in 2024 - MIT Technology Review\", 'href': 'https://www.technologyreview.com/2024/01/04/1086046/whats-next-for-ai-in-2024/', 'body': 'In 2024, generative AI might actually become useful for the regular, non-tech person, and we are going to see more people tinkering with a million little AI models. State-of-the-art AI models ...'}, {'title': 'The 5 Biggest Artificial Intelligence Trends For 2024 - Forbes', 'href': 'https://www.forbes.com/sites/bernardmarr/2023/11/01/the-top-5-artificial-intelligence-trends-for-2024/', 'body': \"Adobe Stock. It's been a year since OpenAI released ChatGPT, opening the door to seamlessly weave AI into the fabric of our daily lives, propelling industries into the future and even prompting ...\"}, {'title': 'The Future of AI: 10 Trends in Artificial Intelligence in 2024 - Algotive', 'href': 'https://www.algotive.ai/blog/the-future-of-ai-10-trends-in-artificial-intelligence-in-2024', 'body': 'Here are the top 10 AI trends that will boost the productivity of companies in 2024: While autonomous chatbots are already a reality, new technologies and smarter algorithms point toward better AI agents that allow for more efficient customer service and shorter response times.'}, {'title': 'Top 6 predictions for AI advancements and trends in 2024 - IBM', 'href': 'https://www.ibm.com/think/insights/ai-trends', 'body': \"4. AI as a national priority. Recognizing AI's immense potential, nations worldwide are expected to prioritize its development in a manner reminiscent of a new space race. This heightened focus drives significant advances in research, science and economic growth, firmly establishing AI as a strategic global asset.\"}]\n",
            "\u001b[00m\n",
            "\u001b[32;1m\u001b[1;3mThought: I have gathered several articles that discuss the major AI advancements, trends, and new technologies for 2024. I need to analyze these sources to extract detailed insights.\n",
            "\n",
            "Action: InternetSearchTool  \n",
            "Action Input: {\"query\": \"AI advancements trends 2024 detailed analysis\"}  \n",
            "\u001b[0m"
          ]
        },
        {
          "output_type": "stream",
          "name": "stderr",
          "text": [
            "/usr/local/lib/python3.10/dist-packages/pydantic/main.py:214: UserWarning: A custom validator is returning a value other than `self`.\n",
            "Returning anything other than `self` from a top level model validator isn't supported when validating via `__init__`.\n",
            "See the `model_validator` docs (https://docs.pydantic.dev/latest/concepts/validators/#model-validators) for more details.\n",
            "  warnings.warn(\n"
          ]
        },
        {
          "output_type": "stream",
          "name": "stdout",
          "text": [
            "\u001b[95m \n",
            "\n",
            "[{'title': 'PDF The state of AI in early 2024: Gen AI adoption spikes and starts to ...', 'href': 'https://www.mckinsey.com/~/media/mckinsey/business+functions/quantumblack/our+insights/the+state+of+ai/2024/the-state-of-ai-in-early-2024-final.pdf', 'body': 'The state of AI in early 2024: Gen AI adoption spikes and starts to generate value 1 This article is a collaborative effort by Alex Singla, Alexander Sukharevsky, Lareina Yee, and Michael Chui, with Bryce Hall, representing views from QuantumBlack, AI by McKinsey and McKinsey Digital.'}, {'title': '8 AI Predictions for 2024 That Stood the Test of Time', 'href': 'https://www.td.org/content/atd-blog/8-ai-predictions-for-2024-that-stood-the-test-of-time', 'body': \"Here are eight AI predictions for 2024 that have stood the test of time and are shaping the HR and L&D market today. Advertisement. 1. Proactive AI. One major prediction was that AI would become more proactive, and that's exactly what we're seeing. AI now anticipates user needs rather than waiting for input.\"}, {'title': 'The state of AI in early 2024 | McKinsey - McKinsey & Company', 'href': 'https://www.mckinsey.com/capabilities/quantumblack/our-insights/the-state-of-ai', 'body': 'If 2023 was the year the world discovered generative AI (gen AI), 2024 is the year organizations truly began using—and deriving business value from—this new technology.In the latest McKinsey Global Survey on AI, 65 percent of respondents report that their organizations are regularly using gen AI, nearly double the percentage from our previous survey just ten months ago.'}, {'title': \"What's next for AI in 2024 - MIT Technology Review\", 'href': 'https://www.technologyreview.com/2024/01/04/1086046/whats-next-for-ai-in-2024/', 'body': 'In 2024, generative AI might actually become useful for the regular, non-tech person, and we are going to see more people tinkering with a million little AI models. State-of-the-art AI models ...'}, {'title': 'AI Index Report 2024 - Artificial Intelligence Index', 'href': 'https://aiindex.stanford.edu/report/', 'body': \"The 2024 Index is our most comprehensive to date and arrives at an important moment when AI's influence on society has never been more pronounced. This year, we have broadened our scope to more extensively cover essential trends such as technical advancements in AI, public perceptions of the technology, and the geopolitical dynamics ...\"}]\n",
            "\u001b[00m\n",
            "\u001b[32;1m\u001b[1;3mThought: I have gathered a rich set of articles and reports that can provide a comprehensive overview of the AI advancements, trends, and new technologies for 2024. I will now synthesize the information from these sources to prepare a detailed report.\n",
            "\n",
            "**Final Answer: Detailed Report on Major AI Trends, New Technologies, and Their Effects in 2024**\n",
            "\n",
            "**1. Overview of AI Advancements in 2024**\n",
            "In 2024, the landscape of artificial intelligence (AI) is characterized by significant advancements in generative AI, alongside a shift towards practical applications that enhance everyday tasks for non-technical users. The previous year marked the explosion of generative AI technologies, with tools like ChatGPT capturing public attention. This year sees a transition from exploration to practical integration, where businesses and individuals alike are beginning to unlock the full potential of these innovations.\n",
            "\n",
            "**2. Major Trends in AI for 2024**\n",
            "Several key trends have emerged in the AI field:\n",
            "\n",
            "- **Generative AI Maturity**: As reported by McKinsey, there is a notable spike in the adoption of generative AI, with 65% of organizations now utilizing it regularly. This reflects a significant increase from the previous year, indicating that businesses are finding real value in these applications.\n",
            "\n",
            "- **Proactive AI**: AI systems are evolving to become more anticipatory, actively predicting user needs rather than simply responding to requests. This trend is especially evident in customer service applications, where AI is enhancing user experiences through increased efficiency and responsiveness.\n",
            "\n",
            "- **Integration of AI into Daily Life**: Companies like Microsoft and Google are expanding their chatbot technologies beyond search functionalities, embedding AI deeper into daily workflows. This reflects a broader trend where AI becomes an integral part of both personal and professional environments.\n",
            "\n",
            "- **Diverse AI Models**: There is a growing interest in smaller, specialized AI models that cater to specific tasks. As more people experiment with these models, we can expect a democratization of AI capabilities that empowers users to create tailored solutions for their unique challenges.\n",
            "\n",
            "- **AI as a National Priority**: Governments around the world are recognizing the strategic importance of AI, resembling a new space race. Investment in AI research and development is expected to drive economic growth, enhance scientific advancements, and establish AI as a key global asset.\n",
            "\n",
            "**3. New Technologies Shaping AI in 2024**\n",
            "The technological advancements shaping AI in 2024 include:\n",
            "\n",
            "- **Enhanced Algorithms**: Advances in machine learning algorithms are leading to more effective AI agents capable of handling complex tasks with reduced response times. This includes improvements in natural language processing and computer vision that allow AI systems to perform more sophisticated analyses and generate human-like responses.\n",
            "\n",
            "- **AI in Creative Industries**: Generative AI is creating waves in creative sectors, allowing businesses to produce content, design products, and even create art with unprecedented efficiency. This technology is empowering creatives to explore new domains while reducing the time and resources required for traditional processes.\n",
            "\n",
            "- **AI in the Workplace**: The integration of AI tools in HR and Learning & Development (L&D) is transforming employee engagement and training. AI is being used to personalize learning experiences, track employee performance, and even facilitate recruitment processes.\n",
            "\n",
            "**4. Effects of AI Advancements in 2024**\n",
            "The effects of these advancements are profound:\n",
            "\n",
            "- **Business Efficiency**: Companies leveraging AI technologies are witnessing improved operational efficiency, reduced costs, and enhanced customer satisfaction. The ability to automate routine tasks allows human employees to focus on more strategic initiatives.\n",
            "\n",
            "- **Workforce Transformation**: The rise of AI is reshaping job roles, necessitating new skill sets and adaptability in the workforce. While AI can automate certain tasks, it also creates opportunities for workers to engage in higher-level thinking and creativity.\n",
            "\n",
            "- **Public Perception and Ethical Considerations**: As AI continues to permeate various aspects of life, public perception is becoming a critical factor. There are ongoing discussions about the ethical implications of AI, including data privacy, bias in algorithms, and the need for regulation to ensure responsible deployment.\n",
            "\n",
            "**Conclusion**\n",
            "The year 2024 is set to be a pivotal moment for artificial intelligence, with advancements that not only enhance technological capabilities but also reshape societal interactions with AI. As organizations and individuals alike embrace these changes, the focus will increasingly be on harnessing AI to create meaningful value while navigating the accompanying ethical challenges. \n",
            "\n",
            "This detailed report encapsulates the major trends, new technologies, and their effects in the AI landscape for 2024, providing a comprehensive picture of where the industry is headed.\u001b[0m\n",
            "\n",
            "\u001b[1m> Finished chain.\u001b[0m\n",
            "\u001b[1m\u001b[92m [2024-11-02 18:04:01][DEBUG]: == [Senior Research Analyst] Task output: Detailed Report on Major AI Trends, New Technologies, and Their Effects in 2024**\n",
            "\n",
            "**1. Overview of AI Advancements in 2024**\n",
            "In 2024, the landscape of artificial intelligence (AI) is characterized by significant advancements in generative AI, alongside a shift towards practical applications that enhance everyday tasks for non-technical users. The previous year marked the explosion of generative AI technologies, with tools like ChatGPT capturing public attention. This year sees a transition from exploration to practical integration, where businesses and individuals alike are beginning to unlock the full potential of these innovations.\n",
            "\n",
            "**2. Major Trends in AI for 2024**\n",
            "Several key trends have emerged in the AI field:\n",
            "\n",
            "- **Generative AI Maturity**: As reported by McKinsey, there is a notable spike in the adoption of generative AI, with 65% of organizations now utilizing it regularly. This reflects a significant increase from the previous year, indicating that businesses are finding real value in these applications.\n",
            "\n",
            "- **Proactive AI**: AI systems are evolving to become more anticipatory, actively predicting user needs rather than simply responding to requests. This trend is especially evident in customer service applications, where AI is enhancing user experiences through increased efficiency and responsiveness.\n",
            "\n",
            "- **Integration of AI into Daily Life**: Companies like Microsoft and Google are expanding their chatbot technologies beyond search functionalities, embedding AI deeper into daily workflows. This reflects a broader trend where AI becomes an integral part of both personal and professional environments.\n",
            "\n",
            "- **Diverse AI Models**: There is a growing interest in smaller, specialized AI models that cater to specific tasks. As more people experiment with these models, we can expect a democratization of AI capabilities that empowers users to create tailored solutions for their unique challenges.\n",
            "\n",
            "- **AI as a National Priority**: Governments around the world are recognizing the strategic importance of AI, resembling a new space race. Investment in AI research and development is expected to drive economic growth, enhance scientific advancements, and establish AI as a key global asset.\n",
            "\n",
            "**3. New Technologies Shaping AI in 2024**\n",
            "The technological advancements shaping AI in 2024 include:\n",
            "\n",
            "- **Enhanced Algorithms**: Advances in machine learning algorithms are leading to more effective AI agents capable of handling complex tasks with reduced response times. This includes improvements in natural language processing and computer vision that allow AI systems to perform more sophisticated analyses and generate human-like responses.\n",
            "\n",
            "- **AI in Creative Industries**: Generative AI is creating waves in creative sectors, allowing businesses to produce content, design products, and even create art with unprecedented efficiency. This technology is empowering creatives to explore new domains while reducing the time and resources required for traditional processes.\n",
            "\n",
            "- **AI in the Workplace**: The integration of AI tools in HR and Learning & Development (L&D) is transforming employee engagement and training. AI is being used to personalize learning experiences, track employee performance, and even facilitate recruitment processes.\n",
            "\n",
            "**4. Effects of AI Advancements in 2024**\n",
            "The effects of these advancements are profound:\n",
            "\n",
            "- **Business Efficiency**: Companies leveraging AI technologies are witnessing improved operational efficiency, reduced costs, and enhanced customer satisfaction. The ability to automate routine tasks allows human employees to focus on more strategic initiatives.\n",
            "\n",
            "- **Workforce Transformation**: The rise of AI is reshaping job roles, necessitating new skill sets and adaptability in the workforce. While AI can automate certain tasks, it also creates opportunities for workers to engage in higher-level thinking and creativity.\n",
            "\n",
            "- **Public Perception and Ethical Considerations**: As AI continues to permeate various aspects of life, public perception is becoming a critical factor. There are ongoing discussions about the ethical implications of AI, including data privacy, bias in algorithms, and the need for regulation to ensure responsible deployment.\n",
            "\n",
            "**Conclusion**\n",
            "The year 2024 is set to be a pivotal moment for artificial intelligence, with advancements that not only enhance technological capabilities but also reshape societal interactions with AI. As organizations and individuals alike embrace these changes, the focus will increasingly be on harnessing AI to create meaningful value while navigating the accompanying ethical challenges. \n",
            "\n",
            "This detailed report encapsulates the major trends, new technologies, and their effects in the AI landscape for 2024, providing a comprehensive picture of where the industry is headed.\n",
            "\n",
            "\u001b[00m\n",
            "\u001b[1m\u001b[95m [2024-11-02 18:04:01][DEBUG]: == Working Agent: Tech Content Strategist\u001b[00m\n",
            "\u001b[1m\u001b[95m [2024-11-02 18:04:01][INFO]: == Starting Task: Create a blog post about major AI advancements using your insights. Make it interesting, clear, and suited for tech enthusiasts. It should be at least 4 paragraphs long.\n",
            "\u001b[00m\n",
            "\n",
            "\n",
            "\u001b[1m> Entering new CrewAgentExecutor chain...\u001b[0m\n",
            "\u001b[32;1m\u001b[1;3mThought: To create a compelling blog post about major AI advancements, I need to gather detailed insights and relevant context to effectively communicate these advancements in an engaging manner for tech enthusiasts.\n",
            "\n",
            "Action: Delegate work to coworker\n",
            "Action Input: {\n",
            "    \"coworker\": \"Senior Research Analyst\",\n",
            "    \"task\": \"Gather detailed insights on major AI advancements in 2024, focusing on trends, technologies, and their societal impacts. Include specific examples and statistics to support the findings. This information will be used to create a blog post that is interesting and clear for tech enthusiasts.\",\n",
            "    \"context\": \"The AI landscape in 2024 is characterized by significant advancements in generative AI, practical applications, and a shift towards user-friendly technologies. Key trends include generative AI maturity, proactive AI systems, integration into daily life, diverse AI models, and the prioritization of AI by governments. New technologies involve enhanced algorithms, AI in creative industries, and workplace applications. The effects of these advancements include improved business efficiency, workforce transformation, and ethical considerations.\"\n",
            "}\u001b[0m"
          ]
        },
        {
          "output_type": "stream",
          "name": "stderr",
          "text": [
            "/usr/local/lib/python3.10/dist-packages/pydantic/main.py:214: UserWarning: A custom validator is returning a value other than `self`.\n",
            "Returning anything other than `self` from a top level model validator isn't supported when validating via `__init__`.\n",
            "See the `model_validator` docs (https://docs.pydantic.dev/latest/concepts/validators/#model-validators) for more details.\n",
            "  warnings.warn(\n"
          ]
        },
        {
          "output_type": "stream",
          "name": "stdout",
          "text": [
            "\n",
            "\n",
            "\u001b[1m> Entering new CrewAgentExecutor chain...\u001b[0m\n",
            "\u001b[32;1m\u001b[1;3mAction: InternetSearchTool  \n",
            "Action Input: {\"query\": \"AI advancements 2024 trends technologies societal impacts\"}  \u001b[0m"
          ]
        },
        {
          "output_type": "stream",
          "name": "stderr",
          "text": [
            "/usr/local/lib/python3.10/dist-packages/pydantic/main.py:214: UserWarning: A custom validator is returning a value other than `self`.\n",
            "Returning anything other than `self` from a top level model validator isn't supported when validating via `__init__`.\n",
            "See the `model_validator` docs (https://docs.pydantic.dev/latest/concepts/validators/#model-validators) for more details.\n",
            "  warnings.warn(\n"
          ]
        },
        {
          "output_type": "stream",
          "name": "stdout",
          "text": [
            "\u001b[95m \n",
            "\n",
            "[{'title': 'How the Top 10 Emerging Technologies of 2024 will impact the world', 'href': 'https://www.weforum.org/stories/2024/06/top-10-emerging-technologies-of-2024-impact-world/', 'body': 'With AI expanding the world of data like never before, finding ways of leveraging it without ethical or security concerns is key. Enter synthetic data, an exciting privacy-enhancing technology re-emerging in the age of AI. It replicates the patterns and trends in sensitive datasets but does not contain specific information that could be linked to individuals or compromise organizations or ...'}, {'title': \"The current state of AI, according to Stanford's AI Index | World ...\", 'href': 'https://www.weforum.org/stories/2024/04/stanford-university-ai-index-report/', 'body': \"It covers trends such as technical advancements in AI and public perceptions of the technology. ... AI and emerging technology at Davos 2024: 5 surprising things to know ... several studies assessing AI's impact on labour suggest that it enables workers to complete tasks more quickly and improved the quality of their output. The studies also ...\"}, {'title': \"What's next for AI in 2024 | MIT Technology Review\", 'href': 'https://www.technologyreview.com/2024/01/04/1086046/whats-next-for-ai-in-2024/', 'body': 'In 2024, generative AI might actually become useful for the regular, non-tech person, and we are going to see more people tinkering with a million little AI models. State-of-the-art AI models ...'}, {'title': 'The state of AI in early 2024 | McKinsey - McKinsey & Company', 'href': 'https://www.mckinsey.com/capabilities/quantumblack/our-insights/the-state-of-ai', 'body': 'If 2023 was the year the world discovered generative AI (gen AI), 2024 is the year organizations truly began using—and deriving business value from—this new technology.In the latest McKinsey Global Survey on AI, 65 percent of respondents report that their organizations are regularly using gen AI, nearly double the percentage from our previous survey just ten months ago.'}, {'title': '22 Top AI Statistics & Trends In 2024 - Forbes Advisor', 'href': 'https://www.forbes.com/advisor/business/ai-statistics/', 'body': 'AI is expected to see an annual growth rate of 36.6% from 2023 to 2030. AI continues to revolutionize various industries, with an expected annual growth rate of 36.6% between 2023 and 2030, as ...'}]\n",
            "\u001b[00m\n",
            "\u001b[32;1m\u001b[1;3mThought: I need to analyze the gathered insights to create a comprehensive overview of AI advancements in 2024, focusing on trends, technologies, and societal impacts.\n",
            "\n",
            "Action: InternetSearchTool  \n",
            "Action Input: {\"query\": \"AI generative models advancements 2024\"}  \u001b[0m"
          ]
        },
        {
          "output_type": "stream",
          "name": "stderr",
          "text": [
            "/usr/local/lib/python3.10/dist-packages/pydantic/main.py:214: UserWarning: A custom validator is returning a value other than `self`.\n",
            "Returning anything other than `self` from a top level model validator isn't supported when validating via `__init__`.\n",
            "See the `model_validator` docs (https://docs.pydantic.dev/latest/concepts/validators/#model-validators) for more details.\n",
            "  warnings.warn(\n"
          ]
        },
        {
          "output_type": "stream",
          "name": "stdout",
          "text": [
            "\u001b[95m \n",
            "\n",
            "[{'title': \"What's next for AI in 2024 - MIT Technology Review\", 'href': 'https://www.technologyreview.com/2024/01/04/1086046/whats-next-for-ai-in-2024/', 'body': 'In 2024, generative AI might actually become useful for the regular, non-tech person, and we are going to see more people tinkering with a million little AI models. State-of-the-art AI models ...'}, {'title': 'Exploring The Future: 5 Cutting-Edge Generative AI Trends In 2024 - Forbes', 'href': 'https://www.forbes.com/sites/janakirammsv/2024/01/02/exploring-the-future-5-cutting-edge-generative-ai-trends-in-2024/', 'body': \"OpenAI's GPT4, Meta's Llama 2, and Mistral all served as examples of the advancements in large language models. The technology goes beyond text with multimodal AI models, allowing users to mix and ...\"}, {'title': 'AI for everything: 10 Breakthrough Technologies 2024', 'href': 'https://www.technologyreview.com/2024/01/08/1085096/artificial-intelligence-generative-ai-chatgpt-open-ai-breakthrough-technologies', 'body': 'Generative AI took the world by storm in 2023. Its future—and ours—will be shaped by what we do next. Microsoft and Google have since moved beyond search to put chatbot-based assistants into ...'}, {'title': 'PDF The state of AI in early 2024: Gen AI adoption spikes and starts to ...', 'href': 'https://www.mckinsey.com/~/media/mckinsey/business+functions/quantumblack/our+insights/the+state+of+ai/2024/the-state-of-ai-in-early-2024-final.pdf', 'body': 'If 2023 was the year the world discovered generative AI (gen AI), 2024 is the year organizations truly began using—and deriving business value from—this new technology. In the latest McKinsey Global Survey on AI, 65 percent of respondents report'}, {'title': 'The 10 Biggest Generative AI Trends For 2024 Everyone Must Be ... - Forbes', 'href': 'https://www.forbes.com/sites/bernardmarr/2023/10/02/the-10-biggest-generative-ai-trends-for-2024-everyone-must-be-ready-for-now/', 'body': 'With generative video tools, anyone will be able to produce professional-looking video content for a fraction of the price in 2024. 4 Generative Audio And Speech. As with video and design tools ...'}]\n",
            "\u001b[00m\n",
            "\u001b[32;1m\u001b[1;3mThought: I need to consolidate the insights I've gathered to provide a well-rounded view of AI advancements in 2024, emphasizing the key trends, technologies, and societal impacts.\n",
            "\n",
            "Final Answer:\n",
            "\n",
            "In 2024, the landscape of artificial intelligence (AI) has evolved dramatically, showcasing significant advancements that are reshaping various industries and everyday life. This year, several key trends emerged, highlighting the maturation of generative AI, the rise of proactive AI systems, and the increasing integration of AI into daily routines. Here's a detailed overview of these advancements, the technologies driving them, and their societal impacts.\n",
            "\n",
            "### Key Trends in AI Advancements\n",
            "\n",
            "1. **Generative AI Maturity**: \n",
            "   2024 marks a pivotal moment for generative AI, with tools becoming more user-friendly and accessible. Reports indicate that **65% of organizations** are now utilizing generative AI technologies, nearly doubling the adoption rate from the previous year (McKinsey & Company). This accessibility allows non-tech users to leverage AI for various applications, such as content creation and data analysis.\n",
            "\n",
            "2. **Diverse AI Models**: \n",
            "   The proliferation of diverse AI models is another hallmark of 2024. Companies like OpenAI with GPT-4, Meta's Llama 2, and Mistral are leading advancements in large language models (Forbes). These models are not only enhancing text generation but also expanding into multimodal capabilities, allowing users to integrate text, images, and audio seamlessly.\n",
            "\n",
            "3. **Proactive AI Systems**: \n",
            "   AI systems are becoming more proactive, capable of anticipating user needs and automating tasks. This trend is particularly evident in personal assistants that can handle complex scheduling and communication tasks, freeing up time for users to focus on strategic decision-making.\n",
            "\n",
            "4. **Government Prioritization of AI**: \n",
            "   Governments worldwide are recognizing the potential of AI, prioritizing its integration into public services and regulatory frameworks. This shift is aimed at harnessing AI for societal benefits while addressing ethical and security concerns related to data privacy (World Economic Forum).\n",
            "\n",
            "### Technologies Driving AI Advancements\n",
            "\n",
            "- **Enhanced Algorithms**: Continuous improvements in algorithms have enabled more efficient processing of vast datasets, leading to faster and more accurate AI outputs.\n",
            "- **Generative Video and Audio Tools**: Innovations in generative technology are allowing users to create professional-quality video and audio content at a fraction of the traditional cost. This democratization of content creation is empowering creators across various fields (Forbes).\n",
            "- **Synthetic Data**: The use of synthetic data is emerging as a key solution to privacy concerns, enabling organizations to train AI models without compromising sensitive information.\n",
            "\n",
            "### Societal Impacts\n",
            "\n",
            "The advancements in AI technologies are poised to transform the workforce and improve business efficiency. For instance, AI is enabling workers to complete tasks more rapidly and improve the quality of their outputs, thus enhancing overall productivity. Additionally, as AI tools become integrated into everyday applications, they are fostering a culture of innovation and creativity among users.\n",
            "\n",
            "However, these developments also raise ethical considerations regarding job displacement and data security. As businesses increasingly rely on AI, there is a pressing need for frameworks that address these concerns while ensuring that the benefits of AI are distributed equitably across society.\n",
            "\n",
            "### Conclusion\n",
            "\n",
            "The advancements in AI technology in 2024 are not just about improving efficiency; they represent a fundamental shift in how humans interact with technology. As generative AI matures and becomes more accessible, the potential for creative and innovative applications grows exponentially. The ongoing integration of AI into daily life, combined with proactive systems and diverse models, signifies a future where AI is an indispensable tool for individuals and organizations alike.\n",
            "\n",
            "These insights into the advancements of AI in 2024 will serve as a foundational backdrop for discussions surrounding the future of technology and its implications for society at large.\u001b[0m\n",
            "\n",
            "\u001b[1m> Finished chain.\u001b[0m\n",
            "\u001b[95m \n",
            "\n",
            "In 2024, the landscape of artificial intelligence (AI) has evolved dramatically, showcasing significant advancements that are reshaping various industries and everyday life. This year, several key trends emerged, highlighting the maturation of generative AI, the rise of proactive AI systems, and the increasing integration of AI into daily routines. Here's a detailed overview of these advancements, the technologies driving them, and their societal impacts.\n",
            "\n",
            "### Key Trends in AI Advancements\n",
            "\n",
            "1. **Generative AI Maturity**: \n",
            "   2024 marks a pivotal moment for generative AI, with tools becoming more user-friendly and accessible. Reports indicate that **65% of organizations** are now utilizing generative AI technologies, nearly doubling the adoption rate from the previous year (McKinsey & Company). This accessibility allows non-tech users to leverage AI for various applications, such as content creation and data analysis.\n",
            "\n",
            "2. **Diverse AI Models**: \n",
            "   The proliferation of diverse AI models is another hallmark of 2024. Companies like OpenAI with GPT-4, Meta's Llama 2, and Mistral are leading advancements in large language models (Forbes). These models are not only enhancing text generation but also expanding into multimodal capabilities, allowing users to integrate text, images, and audio seamlessly.\n",
            "\n",
            "3. **Proactive AI Systems**: \n",
            "   AI systems are becoming more proactive, capable of anticipating user needs and automating tasks. This trend is particularly evident in personal assistants that can handle complex scheduling and communication tasks, freeing up time for users to focus on strategic decision-making.\n",
            "\n",
            "4. **Government Prioritization of AI**: \n",
            "   Governments worldwide are recognizing the potential of AI, prioritizing its integration into public services and regulatory frameworks. This shift is aimed at harnessing AI for societal benefits while addressing ethical and security concerns related to data privacy (World Economic Forum).\n",
            "\n",
            "### Technologies Driving AI Advancements\n",
            "\n",
            "- **Enhanced Algorithms**: Continuous improvements in algorithms have enabled more efficient processing of vast datasets, leading to faster and more accurate AI outputs.\n",
            "- **Generative Video and Audio Tools**: Innovations in generative technology are allowing users to create professional-quality video and audio content at a fraction of the traditional cost. This democratization of content creation is empowering creators across various fields (Forbes).\n",
            "- **Synthetic Data**: The use of synthetic data is emerging as a key solution to privacy concerns, enabling organizations to train AI models without compromising sensitive information.\n",
            "\n",
            "### Societal Impacts\n",
            "\n",
            "The advancements in AI technologies are poised to transform the workforce and improve business efficiency. For instance, AI is enabling workers to complete tasks more rapidly and improve the quality of their outputs, thus enhancing overall productivity. Additionally, as AI tools become integrated into everyday applications, they are fostering a culture of innovation and creativity among users.\n",
            "\n",
            "However, these developments also raise ethical considerations regarding job displacement and data security. As businesses increasingly rely on AI, there is a pressing need for frameworks that address these concerns while ensuring that the benefits of AI are distributed equitably across society.\n",
            "\n",
            "### Conclusion\n",
            "\n",
            "The advancements in AI technology in 2024 are not just about improving efficiency; they represent a fundamental shift in how humans interact with technology. As generative AI matures and becomes more accessible, the potential for creative and innovative applications grows exponentially. The ongoing integration of AI into daily life, combined with proactive systems and diverse models, signifies a future where AI is an indispensable tool for individuals and organizations alike.\n",
            "\n",
            "These insights into the advancements of AI in 2024 will serve as a foundational backdrop for discussions surrounding the future of technology and its implications for society at large.\n",
            "\u001b[00m\n",
            "\u001b[32;1m\u001b[1;3mThought: I now have the necessary information and insights to craft an engaging blog post about major AI advancements in 2024, incorporating the trends, technologies, and societal impacts that were gathered.\n",
            "\n",
            "Final Answer: \n",
            "\n",
            "### Unleashing the Future: Major AI Advancements in 2024\n",
            "\n",
            "As we step into 2024, the landscape of artificial intelligence (AI) has undergone a remarkable transformation, shaping industries and everyday life in unprecedented ways. This year's advancements showcase not only the maturation of generative AI technologies but also a shift towards practical applications that are accessible to a wider audience. With organizations increasingly harnessing AI to streamline operations and enhance user experiences, the stage is set for a new era of technological integration.\n",
            "\n",
            "One of the most notable trends of 2024 is the **maturity of generative AI**. According to a recent report by McKinsey & Company, a staggering 65% of organizations are now regularly utilizing generative AI tools, nearly doubling the adoption rate from the previous year. This surge in usage reflects a growing recognition of the value that AI can provide in diverse applications, from content creation to data analysis. Companies like OpenAI, with its GPT-4 model, are leading the charge, offering user-friendly solutions that empower even non-technical users to leverage the power of AI in their daily tasks. As generative AI continues to evolve, its capabilities are expanding, allowing for innovative uses that were once considered the realm of science fiction.\n",
            "\n",
            "In parallel, the rise of **proactive AI systems** marks a significant shift in how we interact with technology. Unlike traditional AI that simply responds to user inputs, these advanced systems are designed to anticipate needs and automate tasks before they arise. This proactive approach is particularly evident in personal assistants, which can now handle complex scheduling and communications. For instance, imagine an AI that not only reminds you of appointments but also books them based on your preferences and availability. This level of assistance frees users to focus on strategic decision-making, driving efficiency and productivity.\n",
            "\n",
            "Moreover, the **integration of AI into daily life** is becoming more pronounced, with tech giants like Microsoft and Google embedding AI deeper into their workflows. This trend signifies a cultural shift where AI evolves from a niche tool to a core component of both personal and professional environments. The emergence of diverse AI models also plays a crucial role in this transformation. Companies are exploring specialized models tailored to specific tasks, promoting a democratization of AI capabilities. Such diversity empowers users to craft solutions that address their unique challenges, fostering creativity and innovation.\n",
            "\n",
            "However, as we embrace these advancements, it is essential to consider their **societal impacts**. While AI is undoubtedly enhancing business efficiency and transforming job roles, it also raises ethical concerns regarding data privacy and job displacement. As organizations increasingly rely on AI for operational tasks, the need for regulatory frameworks to ensure responsible deployment becomes paramount. The ongoing dialogue surrounding these issues will be critical in establishing a future where the benefits of AI are equitably distributed across society.\n",
            "\n",
            "In conclusion, 2024 stands as a pivotal moment for artificial intelligence, characterized by a blend of technological advancements and profound societal implications. The maturation of generative AI, the rise of proactive systems, and the deeper integration of AI into daily life all point toward a future where AI is not just a tool but an indispensable partner in our personal and professional endeavors. As we navigate this exciting landscape, the focus will increasingly be on harnessing AI's potential to create meaningful value while addressing the ethical challenges that accompany its rapid development.\u001b[0m\n",
            "\n",
            "\u001b[1m> Finished chain.\u001b[0m\n",
            "\u001b[1m\u001b[92m [2024-11-02 18:04:35][DEBUG]: == [Tech Content Strategist] Task output: ### Unleashing the Future: Major AI Advancements in 2024\n",
            "\n",
            "As we step into 2024, the landscape of artificial intelligence (AI) has undergone a remarkable transformation, shaping industries and everyday life in unprecedented ways. This year's advancements showcase not only the maturation of generative AI technologies but also a shift towards practical applications that are accessible to a wider audience. With organizations increasingly harnessing AI to streamline operations and enhance user experiences, the stage is set for a new era of technological integration.\n",
            "\n",
            "One of the most notable trends of 2024 is the **maturity of generative AI**. According to a recent report by McKinsey & Company, a staggering 65% of organizations are now regularly utilizing generative AI tools, nearly doubling the adoption rate from the previous year. This surge in usage reflects a growing recognition of the value that AI can provide in diverse applications, from content creation to data analysis. Companies like OpenAI, with its GPT-4 model, are leading the charge, offering user-friendly solutions that empower even non-technical users to leverage the power of AI in their daily tasks. As generative AI continues to evolve, its capabilities are expanding, allowing for innovative uses that were once considered the realm of science fiction.\n",
            "\n",
            "In parallel, the rise of **proactive AI systems** marks a significant shift in how we interact with technology. Unlike traditional AI that simply responds to user inputs, these advanced systems are designed to anticipate needs and automate tasks before they arise. This proactive approach is particularly evident in personal assistants, which can now handle complex scheduling and communications. For instance, imagine an AI that not only reminds you of appointments but also books them based on your preferences and availability. This level of assistance frees users to focus on strategic decision-making, driving efficiency and productivity.\n",
            "\n",
            "Moreover, the **integration of AI into daily life** is becoming more pronounced, with tech giants like Microsoft and Google embedding AI deeper into their workflows. This trend signifies a cultural shift where AI evolves from a niche tool to a core component of both personal and professional environments. The emergence of diverse AI models also plays a crucial role in this transformation. Companies are exploring specialized models tailored to specific tasks, promoting a democratization of AI capabilities. Such diversity empowers users to craft solutions that address their unique challenges, fostering creativity and innovation.\n",
            "\n",
            "However, as we embrace these advancements, it is essential to consider their **societal impacts**. While AI is undoubtedly enhancing business efficiency and transforming job roles, it also raises ethical concerns regarding data privacy and job displacement. As organizations increasingly rely on AI for operational tasks, the need for regulatory frameworks to ensure responsible deployment becomes paramount. The ongoing dialogue surrounding these issues will be critical in establishing a future where the benefits of AI are equitably distributed across society.\n",
            "\n",
            "In conclusion, 2024 stands as a pivotal moment for artificial intelligence, characterized by a blend of technological advancements and profound societal implications. The maturation of generative AI, the rise of proactive systems, and the deeper integration of AI into daily life all point toward a future where AI is not just a tool but an indispensable partner in our personal and professional endeavors. As we navigate this exciting landscape, the focus will increasingly be on harnessing AI's potential to create meaningful value while addressing the ethical challenges that accompany its rapid development.\n",
            "\n",
            "\u001b[00m\n"
          ]
        },
        {
          "output_type": "display_data",
          "data": {
            "text/plain": [
              "### Task Output ###\n",
              "### Unleashing the Future: Major AI Advancements in \u001b[1;36m2024\u001b[0m\n",
              "\n",
              "As we step into \u001b[1;36m2024\u001b[0m, the landscape of artificial intelligence \u001b[1m(\u001b[0mAI\u001b[1m)\u001b[0m has undergone a remarkable transformation, \n",
              "shaping industries and everyday life in unprecedented ways. This year's advancements showcase not only the \n",
              "maturation of generative AI technologies but also a shift towards practical applications that are accessible to a \n",
              "wider audience. With organizations increasingly harnessing AI to streamline operations and enhance user \n",
              "experiences, the stage is set for a new era of technological integration.\n",
              "\n",
              "One of the most notable trends of \u001b[1;36m2024\u001b[0m is the **maturity of generative AI**. According to a recent report by \n",
              "McKinsey & Company, a staggering \u001b[1;36m65\u001b[0m% of organizations are now regularly utilizing generative AI tools, nearly \n",
              "doubling the adoption rate from the previous year. This surge in usage reflects a growing recognition of the value \n",
              "that AI can provide in diverse applications, from content creation to data analysis. Companies like OpenAI, with \n",
              "its GPT-\u001b[1;36m4\u001b[0m model, are leading the charge, offering user-friendly solutions that empower even non-technical users to \n",
              "leverage the power of AI in their daily tasks. As generative AI continues to evolve, its capabilities are \n",
              "expanding, allowing for innovative uses that were once considered the realm of science fiction.\n",
              "\n",
              "In parallel, the rise of **proactive AI systems** marks a significant shift in how we interact with technology. \n",
              "Unlike traditional AI that simply responds to user inputs, these advanced systems are designed to anticipate needs \n",
              "and automate tasks before they arise. This proactive approach is particularly evident in personal assistants, which\n",
              "can now handle complex scheduling and communications. For instance, imagine an AI that not only reminds you of \n",
              "appointments but also books them based on your preferences and availability. This level of assistance frees users \n",
              "to focus on strategic decision-making, driving efficiency and productivity.\n",
              "\n",
              "Moreover, the **integration of AI into daily life** is becoming more pronounced, with tech giants like Microsoft \n",
              "and Google embedding AI deeper into their workflows. This trend signifies a cultural shift where AI evolves from a \n",
              "niche tool to a core component of both personal and professional environments. The emergence of diverse AI models \n",
              "also plays a crucial role in this transformation. Companies are exploring specialized models tailored to specific \n",
              "tasks, promoting a democratization of AI capabilities. Such diversity empowers users to craft solutions that \n",
              "address their unique challenges, fostering creativity and innovation.\n",
              "\n",
              "However, as we embrace these advancements, it is essential to consider their **societal impacts**. While AI is \n",
              "undoubtedly enhancing business efficiency and transforming job roles, it also raises ethical concerns regarding \n",
              "data privacy and job displacement. As organizations increasingly rely on AI for operational tasks, the need for \n",
              "regulatory frameworks to ensure responsible deployment becomes paramount. The ongoing dialogue surrounding these \n",
              "issues will be critical in establishing a future where the benefits of AI are equitably distributed across society.\n",
              "\n",
              "In conclusion, \u001b[1;36m2024\u001b[0m stands as a pivotal moment for artificial intelligence, characterized by a blend of \n",
              "technological advancements and profound societal implications. The maturation of generative AI, the rise of \n",
              "proactive systems, and the deeper integration of AI into daily life all point toward a future where AI is not just \n",
              "a tool but an indispensable partner in our personal and professional endeavors. As we navigate this exciting \n",
              "landscape, the focus will increasingly be on harnessing AI's potential to create meaningful value while addressing \n",
              "the ethical challenges that accompany its rapid development.\n"
            ],
            "text/html": [
              "<pre style=\"white-space:pre;overflow-x:auto;line-height:normal;font-family:Menlo,'DejaVu Sans Mono',consolas,'Courier New',monospace\">### Task Output ###\n",
              "### Unleashing the Future: Major AI Advancements in <span style=\"color: #008080; text-decoration-color: #008080; font-weight: bold\">2024</span>\n",
              "\n",
              "As we step into <span style=\"color: #008080; text-decoration-color: #008080; font-weight: bold\">2024</span>, the landscape of artificial intelligence <span style=\"font-weight: bold\">(</span>AI<span style=\"font-weight: bold\">)</span> has undergone a remarkable transformation, \n",
              "shaping industries and everyday life in unprecedented ways. This year's advancements showcase not only the \n",
              "maturation of generative AI technologies but also a shift towards practical applications that are accessible to a \n",
              "wider audience. With organizations increasingly harnessing AI to streamline operations and enhance user \n",
              "experiences, the stage is set for a new era of technological integration.\n",
              "\n",
              "One of the most notable trends of <span style=\"color: #008080; text-decoration-color: #008080; font-weight: bold\">2024</span> is the **maturity of generative AI**. According to a recent report by \n",
              "McKinsey &amp; Company, a staggering <span style=\"color: #008080; text-decoration-color: #008080; font-weight: bold\">65</span>% of organizations are now regularly utilizing generative AI tools, nearly \n",
              "doubling the adoption rate from the previous year. This surge in usage reflects a growing recognition of the value \n",
              "that AI can provide in diverse applications, from content creation to data analysis. Companies like OpenAI, with \n",
              "its GPT-<span style=\"color: #008080; text-decoration-color: #008080; font-weight: bold\">4</span> model, are leading the charge, offering user-friendly solutions that empower even non-technical users to \n",
              "leverage the power of AI in their daily tasks. As generative AI continues to evolve, its capabilities are \n",
              "expanding, allowing for innovative uses that were once considered the realm of science fiction.\n",
              "\n",
              "In parallel, the rise of **proactive AI systems** marks a significant shift in how we interact with technology. \n",
              "Unlike traditional AI that simply responds to user inputs, these advanced systems are designed to anticipate needs \n",
              "and automate tasks before they arise. This proactive approach is particularly evident in personal assistants, which\n",
              "can now handle complex scheduling and communications. For instance, imagine an AI that not only reminds you of \n",
              "appointments but also books them based on your preferences and availability. This level of assistance frees users \n",
              "to focus on strategic decision-making, driving efficiency and productivity.\n",
              "\n",
              "Moreover, the **integration of AI into daily life** is becoming more pronounced, with tech giants like Microsoft \n",
              "and Google embedding AI deeper into their workflows. This trend signifies a cultural shift where AI evolves from a \n",
              "niche tool to a core component of both personal and professional environments. The emergence of diverse AI models \n",
              "also plays a crucial role in this transformation. Companies are exploring specialized models tailored to specific \n",
              "tasks, promoting a democratization of AI capabilities. Such diversity empowers users to craft solutions that \n",
              "address their unique challenges, fostering creativity and innovation.\n",
              "\n",
              "However, as we embrace these advancements, it is essential to consider their **societal impacts**. While AI is \n",
              "undoubtedly enhancing business efficiency and transforming job roles, it also raises ethical concerns regarding \n",
              "data privacy and job displacement. As organizations increasingly rely on AI for operational tasks, the need for \n",
              "regulatory frameworks to ensure responsible deployment becomes paramount. The ongoing dialogue surrounding these \n",
              "issues will be critical in establishing a future where the benefits of AI are equitably distributed across society.\n",
              "\n",
              "In conclusion, <span style=\"color: #008080; text-decoration-color: #008080; font-weight: bold\">2024</span> stands as a pivotal moment for artificial intelligence, characterized by a blend of \n",
              "technological advancements and profound societal implications. The maturation of generative AI, the rise of \n",
              "proactive systems, and the deeper integration of AI into daily life all point toward a future where AI is not just \n",
              "a tool but an indispensable partner in our personal and professional endeavors. As we navigate this exciting \n",
              "landscape, the focus will increasingly be on harnessing AI's potential to create meaningful value while addressing \n",
              "the ethical challenges that accompany its rapid development.\n",
              "</pre>\n"
            ]
          },
          "metadata": {}
        },
        {
          "output_type": "stream",
          "name": "stdout",
          "text": [
            "None\n"
          ]
        }
      ],
      "source": [
        "import os\n",
        "from praisonai import PraisonAI\n",
        "from google.colab import userdata\n",
        "\n",
        "# Create a PraisonAI instance with the agent_yaml content\n",
        "praisonai = PraisonAI(agent_yaml=agent_yaml, tools=[InternetSearchTool])\n",
        "\n",
        "# Add OPENAI_API_KEY Secrets to Google Colab on the Left Hand Side 🔑 or Enter Manually Below\n",
        "os.environ[\"OPENAI_API_KEY\"] = userdata.get('OPENAI_API_KEY') or \"ENTER OPENAI_API_KEY HERE\"\n",
        "os.environ[\"OPENAI_MODEL_NAME\"] = \"gpt-5-nano\"\n",
        "\n",
        "# Run PraisonAI\n",
        "result = praisonai.run()\n",
        "\n",
        "# Print the result\n",
        "print(result) # 10/10\n"
      ]
    }
  ],
  "metadata": {
    "language_info": {
      "name": "python"
    },
    "colab": {
      "provenance": []
    },
    "kernelspec": {
      "name": "python3",
      "display_name": "Python 3"
    }
  },
  "nbformat": 4,
  "nbformat_minor": 0
}
