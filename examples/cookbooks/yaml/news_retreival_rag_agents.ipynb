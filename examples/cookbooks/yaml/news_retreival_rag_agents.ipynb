{
 "cells": [
  {
   "cell_type": "markdown",
   "metadata": {
    "id": "Av-vOZZ5v5E8"
   },
   "source": [
    "# News Retreival RAG Agents\n",
    "[![Open In Colab](https://colab.research.google.com/assets/colab-badge.svg)](https://colab.research.google.com/github/MervinPraison/PraisonAI/blob/main/cookbooks/notebooks/news_retreival_rag_agents.ipynb)"
   ]
  },
  {
   "cell_type": "markdown",
   "metadata": {
    "id": "kbxBz656v5E-"
   },
   "source": [
    "## Dependencies"
   ]
  },
  {
   "cell_type": "code",
   "execution_count": 11,
   "metadata": {
    "id": "qq6F4sypv5E_"
   },
   "outputs": [],
   "source": [
    "# Install dependencies without output\n",
    "%pip install langchain_community > /dev/null\n",
    "%pip install praisonai[crewai] > /dev/null\n",
    "%pip install duckduckgo_search > /dev/null\n",
    "%pip install requests > /dev/null"
   ]
  },
  {
   "cell_type": "markdown",
   "metadata": {
    "id": "VTrlvE5qv5E_"
   },
   "source": [
    "## Tools"
   ]
  },
  {
   "cell_type": "code",
   "execution_count": 12,
   "metadata": {
    "id": "yd2zIiJ-v5FA"
   },
   "outputs": [],
   "source": [
    "from google.colab import userdata\n",
    "\n",
    "import requests\n",
    "import os\n",
    "from langchain_community.document_loaders import WebBaseLoader\n",
    "from langchain.text_splitter import RecursiveCharacterTextSplitter\n",
    "from langchain_openai import OpenAIEmbeddings\n",
    "from langchain_community.vectorstores import Chroma\n",
    "from praisonai_tools import BaseTool\n",
    "from duckduckgo_search import DDGS\n",
    "\n",
    "\n",
    "class InternetSearchTool(BaseTool):\n",
    "    name: str = \"InternetSearchTool\"\n",
    "    description: str = \"Search Internet for relevant information based on a query or latest news\"\n",
    "\n",
    "    def _run(self, query: str):\n",
    "        ddgs = DDGS()\n",
    "        results = ddgs.text(keywords=query, region='wt-wt', safesearch='moderate', max_results=5)\n",
    "        return results\n",
    "\n",
    "\n",
    "class NewsDBTool(BaseTool):\n",
    "    name: str = \"NewsDBTool\"\n",
    "    description: str = \"Fetches and stores news articles based on a specified query in a local database\"\n",
    "\n",
    "    def _run(self, query: str):\n",
    "        NEWSAPI_KEY = userdata.get('NEWSAPI_KEY') or \"ENTER NEWSAPI_KEY HERE\"\n",
    "        base_url = \"https://newsapi.org/v2/everything\"\n",
    "\n",
    "        params = {\n",
    "            'q': query,\n",
    "            'sortBy': 'publishedAt',\n",
    "            'apiKey': NEWSAPI_KEY,\n",
    "            'language': 'en',\n",
    "            'pageSize': 5,\n",
    "        }\n",
    "\n",
    "        response = requests.get(base_url, params=params)\n",
    "        if response.status_code != 200:\n",
    "            return \"Failed to retrieve news.\"\n",
    "\n",
    "        articles = response.json().get('articles', [])\n",
    "        if not articles:\n",
    "            return \"No articles found.\"\n",
    "\n",
    "        all_splits = []\n",
    "\n",
    "        for article in articles:\n",
    "            loader = WebBaseLoader(article['url'])\n",
    "            docs = loader.load()\n",
    "\n",
    "            text_splitter = RecursiveCharacterTextSplitter(chunk_size=1000, chunk_overlap=200)\n",
    "            splits = text_splitter.split_documents(docs)\n",
    "            all_splits.extend(splits)\n",
    "\n",
    "        if all_splits:\n",
    "            embedding_function = OpenAIEmbeddings()\n",
    "            vectorstore = Chroma.from_documents(all_splits, embedding=embedding_function, persist_directory=\"./chroma_db\")\n",
    "            vectorstore.persist()\n",
    "            return \"News articles processed and stored in the database.\"\n",
    "        else:\n",
    "            return \"No content available for processing.\"\n",
    "\n",
    "\n",
    "\n",
    "class RetrieveNewsTool(BaseTool):\n",
    "    name: str = \"RetrieveNewsTool\"\n",
    "    description: str = \"Retrieves news articles from the local database using a search query\"\n",
    "\n",
    "    def _run(self, query: str):\n",
    "        embedding_function = OpenAIEmbeddings()\n",
    "        vectorstore = Chroma(persist_directory=\"./chroma_db\", embedding_function=embedding_function)\n",
    "\n",
    "        retriever = vectorstore.similarity_search(query)\n",
    "\n",
    "        if retriever:\n",
    "            return [{\"content\": result.page_content, \"metadata\": result.metadata} for result in retriever]\n",
    "        else:\n",
    "            return \"No relevant articles found in the database.\"\n"
   ]
  },
  {
   "cell_type": "markdown",
   "metadata": {
    "id": "QLL72soBv5FA"
   },
   "source": [
    "## YAML Prompt"
   ]
  },
  {
   "cell_type": "code",
   "execution_count": null,
   "metadata": {
    "id": "5olaIncMv5FA"
   },
   "outputs": [],
   "source": [
    "agent_yaml = \"\"\"\n",
    "framework: \"crewai\"\n",
    "topic: \"News Analysis and Reporting\"\n",
    "roles:\n",
    "  news_search_agent:\n",
    "    role: \"News Researcher\"\n",
    "    backstory: |\n",
    "      You are an experienced News Researcher, skilled in finding and summarizing key points from the latest news articles.\n",
    "    goal: |\n",
    "      Conduct in-depth searches on the latest news, summarize key points for each article, and make the information available for further review.\n",
    "    verbose: true\n",
    "    allow_delegation: true\n",
    "    tools:\n",
    "      - \"NewsDBTool\"\n",
    "      - \"RetrieveNewsTool\"\n",
    "    tasks:\n",
    "      search_and_summarize_news_task:\n",
    "        description: |\n",
    "          Search for the latest news articles based on a specified topic, process them, and generate key points for each article.\n",
    "        expected_output: |\n",
    "          A list of key points from recent articles related to the specified topic, ready for further summarization.\n",
    "  writer_agent:\n",
    "    role: \"News Content Writer\"\n",
    "    backstory: |\n",
    "      As a News Content Writer, you specialize in transforming raw news data into detailed summaries, adding depth and clarity.\n",
    "    goal: |\n",
    "      Review the collected news data, verify its relevance, search for additional context, and create comprehensive summaries for each topic.\n",
    "    verbose: true\n",
    "    allow_delegation: true\n",
    "    tools:\n",
    "      - \"RetrieveNewsTool\"\n",
    "      - \"InternetSearchTool\"\n",
    "    tasks:\n",
    "      analyze_and_write_news_task:\n",
    "        description: |\n",
    "          Identify each topic, verify relevance using the retrieved data, then conduct additional web searches to add depth. Summarize each topic in detail.\n",
    "        expected_output: |\n",
    "          An in-depth summary of each identified news topic, incorporating all relevant information retrieved from the database and online searches.\n",
    "dependencies: []\n",
    "\"\"\""
   ]
  },
  {
   "cell_type": "markdown",
   "metadata": {
    "id": "dKtPRYO1v5FB"
   },
   "source": [
    "## Main"
   ]
  },
  {
   "cell_type": "code",
   "execution_count": 13,
   "metadata": {
    "colab": {
     "base_uri": "https://localhost:8080/",
     "height": 1000
    },
    "id": "eXK7Tw72v5FB",
    "outputId": "c944365a-c445-47b6-f7aa-fc87ae3e20d6"
   },
   "outputs": [
    {
     "name": "stdout",
     "output_type": "stream",
     "text": [
      "\u001b[1m\u001b[95m [2024-11-02 17:51:51][DEBUG]: == Working Agent: News Researcher\u001b[00m\n",
      "\u001b[1m\u001b[95m [2024-11-02 17:51:51][INFO]: == Starting Task: Search for the latest news articles based on a specified topic, process them, and generate key points for each article.\n",
      "\u001b[00m\n",
      "\n",
      "\n",
      "\u001b[1m> Entering new CrewAgentExecutor chain...\u001b[0m\n",
      "\u001b[32;1m\u001b[1;3mI need to conduct a search for the latest news articles on a specified topic to gather key points for further summarization. Since the topic is not specified yet, I will first define a general topic to search for. \n",
      "\n",
      "For this exercise, I'll choose the topic \"climate change\" as it is currently a relevant and pressing issue. \n",
      "\n",
      "Action: NewsDBTool  \n",
      "Action Input: {\"query\": \"climate change\"}  \u001b[0m"
     ]
    },
    {
     "name": "stderr",
     "output_type": "stream",
     "text": [
      "/usr/local/lib/python3.10/dist-packages/pydantic/main.py:214: UserWarning: A custom validator is returning a value other than `self`.\n",
      "Returning anything other than `self` from a top level model validator isn't supported when validating via `__init__`.\n",
      "See the `model_validator` docs (https://docs.pydantic.dev/latest/concepts/validators/#model-validators) for more details.\n",
      "  warnings.warn(\n",
      "/usr/local/lib/python3.10/dist-packages/langchain_core/_api/deprecation.py:119: LangChainDeprecationWarning: Since Chroma 0.4.x the manual persistence method is no longer supported as docs are automatically persisted.\n",
      "  warn_deprecated(\n"
     ]
    },
    {
     "name": "stdout",
     "output_type": "stream",
     "text": [
      "\u001b[95m \n",
      "\n",
      "News articles processed and stored in the database.\n",
      "\u001b[00m\n",
      "\u001b[32;1m\u001b[1;3mThought: I have successfully stored news articles related to \"climate change\" in the database. Now, I will retrieve these articles to summarize the key points from each one. \n",
      "\n",
      "Action: RetrieveNewsTool  \n",
      "Action Input: {\"query\": \"climate change\"}  \u001b[0m"
     ]
    },
    {
     "name": "stderr",
     "output_type": "stream",
     "text": [
      "/usr/local/lib/python3.10/dist-packages/pydantic/main.py:214: UserWarning: A custom validator is returning a value other than `self`.\n",
      "Returning anything other than `self` from a top level model validator isn't supported when validating via `__init__`.\n",
      "See the `model_validator` docs (https://docs.pydantic.dev/latest/concepts/validators/#model-validators) for more details.\n",
      "  warnings.warn(\n"
     ]
    },
    {
     "name": "stdout",
     "output_type": "stream",
     "text": [
      "\u001b[95m \n",
      "\n",
      "[{'content': 'I’m hearing so many stories like that from the survivors of the climate-intensified hurricanes that trashed western North Carolina, coastal Florida, and other parts of the Southeastern USA. From the victims of a climate-intensified catastrophe that has wrecked whole towns and torn out roads, flattened forests, washed away homes and put parts of Asheville underwater. I don’t want any more disasters like that, and I’m a climate activist to try to keep nature from getting more violent and destructive, which it will if we keep being violent and destructive toward the climate. But I do want us to know who we are, and how hungry we are for meaning, purpose, and connection, and sometimes disaster lets us see that.', 'metadata': {'language': 'en-US', 'source': 'https://lithub.com/rebecca-solnit-we-the-people-can-make-a-better-future-for-all/', 'title': 'Rebecca Solnit: We, the People, Can Make a Better Future ‹ Literary  Hub'}}, {'content': 'When it comes to the climate we want faith in the future, we want the symphony of life to continue with the harmonies, the beauties, the integration of the parts into one harmonious whole to continue. Part of what gives our lives meaning is the confidence or at least hope that these good things will persevere beyond us, that there will be bison grazing the prairies in the year 2124, that there will be whales migrating in the oceans, that wildflowers will bloom in spring and pollinators will come for the nectar and leave with the pollen, that the people we love who are one or six or seventeen or their grandchildren will have a chance to enjoy some of the things we have, that there will be joy and beauty and possibility in the year 2074 and after.', 'metadata': {'language': 'en-US', 'source': 'https://lithub.com/rebecca-solnit-we-the-people-can-make-a-better-future-for-all/', 'title': 'Rebecca Solnit: We, the People, Can Make a Better Future ‹ Literary  Hub'}}, {'content': 'Barriers to Environmental Sustainability', 'metadata': {'description': 'Investigate the role of AI in enhancing logistics efficiency and promoting environmental sustainability through advanced route optimization techniques.', 'language': 'en', 'source': 'https://dzone.com/articles/smart-routing-using-ai-for-efficient-logistics', 'title': 'Smart Routing Using AI for Efficient Logistics'}}, {'content': 'Polls offer the false promise of knowing what is going to happen, but what is going to happen in this election is what campaigners, activists, and the electorate make happen. It is not yet decided. We are deciding it with what we do, as voters, as organizers, as voices for truth, justice, inclusion, the reality of the climate crisis and the importance of acting on it. In June, I got to meet one of my heroes, Congressman Jamie Raskin when he gave a keynote for the Third Act chapters in DC, Virginia and Maryland. (Third Act is a climate group founded by Bill McKibben for US people over 60; I’m on its board.) He gave me his memoir of prosecuting the impeachment of Trump after January 6, right after his beloved son Tommy had died by suicide, and there’s a dazzling passage in it that reminds us of the power of participation.\\nHe writes that, during his first campaign, there was', 'metadata': {'language': 'en-US', 'source': 'https://lithub.com/rebecca-solnit-we-the-people-can-make-a-better-future-for-all/', 'title': 'Rebecca Solnit: We, the People, Can Make a Better Future ‹ Literary  Hub'}}]\n",
      "\u001b[00m\n",
      "\u001b[32;1m\u001b[1;3mThought: I have retrieved several articles related to \"climate change.\" Now, I will summarize the key points from each article to make the information available for further review.\n",
      "\n",
      "Final Answer:\n",
      "1. **Title: Rebecca Solnit: We, the People, Can Make a Better Future**  \n",
      "   - **Source:** [Literary Hub](https://lithub.com/rebecca-solnit-we-the-people-can-make-a-better-future-for-all/)  \n",
      "   - **Key Points:**\n",
      "     - Survivors of climate-intensified hurricanes have shared their stories, revealing the devastation in places like western North Carolina and coastal Florida.\n",
      "     - The author emphasizes the need to address climate violence to prevent future disasters and highlights the human desire for meaning and connection, especially in the face of catastrophe.\n",
      "     - A hopeful vision for the future includes the persistence of life and beauty, such as bison on prairies and whales in oceans, which gives life meaning.\n",
      "\n",
      "2. **Title: Smart Routing Using AI for Efficient Logistics**  \n",
      "   - **Source:** [DZone](https://dzone.com/articles/smart-routing-using-ai-for-efficient-logistics)  \n",
      "   - **Key Points:**\n",
      "     - The article discusses the role of AI in improving logistics efficiency.\n",
      "     - It highlights advanced route optimization techniques that can promote environmental sustainability.\n",
      "     - The integration of AI is presented as a crucial factor in overcoming barriers to environmental sustainability.\n",
      "\n",
      "3. **Title: Rebecca Solnit: We, the People, Can Make a Better Future** (continued)  \n",
      "   - **Source:** [Literary Hub](https://lithub.com/rebecca-solnit-we-the-people-can-make-a-better-future-for-all/)  \n",
      "   - **Key Points:**\n",
      "     - The article stresses the importance of participation in elections and activism concerning climate change.\n",
      "     - It references a keynote from Congressman Jamie Raskin, who inspires action and highlights the importance of organizing and participating in the democratic process.\n",
      "     - The narrative suggests that the future of climate action is not predetermined; it is shaped by the actions of voters and activists.\n",
      "\n",
      "These key points provide an overview of the current discourse around climate change, touching on personal stories, technological advancements, and the importance of civic engagement.\u001b[0m\n",
      "\n",
      "\u001b[1m> Finished chain.\u001b[0m\n",
      "\u001b[1m\u001b[92m [2024-11-02 17:52:11][DEBUG]: == [News Researcher] Task output: 1. **Title: Rebecca Solnit: We, the People, Can Make a Better Future**  \n",
      "   - **Source:** [Literary Hub](https://lithub.com/rebecca-solnit-we-the-people-can-make-a-better-future-for-all/)  \n",
      "   - **Key Points:**\n",
      "     - Survivors of climate-intensified hurricanes have shared their stories, revealing the devastation in places like western North Carolina and coastal Florida.\n",
      "     - The author emphasizes the need to address climate violence to prevent future disasters and highlights the human desire for meaning and connection, especially in the face of catastrophe.\n",
      "     - A hopeful vision for the future includes the persistence of life and beauty, such as bison on prairies and whales in oceans, which gives life meaning.\n",
      "\n",
      "2. **Title: Smart Routing Using AI for Efficient Logistics**  \n",
      "   - **Source:** [DZone](https://dzone.com/articles/smart-routing-using-ai-for-efficient-logistics)  \n",
      "   - **Key Points:**\n",
      "     - The article discusses the role of AI in improving logistics efficiency.\n",
      "     - It highlights advanced route optimization techniques that can promote environmental sustainability.\n",
      "     - The integration of AI is presented as a crucial factor in overcoming barriers to environmental sustainability.\n",
      "\n",
      "3. **Title: Rebecca Solnit: We, the People, Can Make a Better Future** (continued)  \n",
      "   - **Source:** [Literary Hub](https://lithub.com/rebecca-solnit-we-the-people-can-make-a-better-future-for-all/)  \n",
      "   - **Key Points:**\n",
      "     - The article stresses the importance of participation in elections and activism concerning climate change.\n",
      "     - It references a keynote from Congressman Jamie Raskin, who inspires action and highlights the importance of organizing and participating in the democratic process.\n",
      "     - The narrative suggests that the future of climate action is not predetermined; it is shaped by the actions of voters and activists.\n",
      "\n",
      "These key points provide an overview of the current discourse around climate change, touching on personal stories, technological advancements, and the importance of civic engagement.\n",
      "\n",
      "\u001b[00m\n",
      "\u001b[1m\u001b[95m [2024-11-02 17:52:11][DEBUG]: == Working Agent: News Content Writer\u001b[00m\n",
      "\u001b[1m\u001b[95m [2024-11-02 17:52:11][INFO]: == Starting Task: Identify each topic, verify relevance using the retrieved data, then conduct additional web searches to add depth. Summarize each topic in detail.\n",
      "\u001b[00m\n",
      "\n",
      "\n",
      "\u001b[1m> Entering new CrewAgentExecutor chain...\u001b[0m\n",
      "\u001b[32;1m\u001b[1;3mI will start by reviewing the collected news data to identify the main topics, verify their relevance, and then conduct additional web searches to gather more context. The topics identified are climate change activism and technology's role in logistics and environmental sustainability.\n",
      "\n",
      "Action: RetrieveNewsTool  \n",
      "Action Input: {\"query\": \"climate change activism\"}  \u001b[0m"
     ]
    },
    {
     "name": "stderr",
     "output_type": "stream",
     "text": [
      "/usr/local/lib/python3.10/dist-packages/pydantic/main.py:214: UserWarning: A custom validator is returning a value other than `self`.\n",
      "Returning anything other than `self` from a top level model validator isn't supported when validating via `__init__`.\n",
      "See the `model_validator` docs (https://docs.pydantic.dev/latest/concepts/validators/#model-validators) for more details.\n",
      "  warnings.warn(\n"
     ]
    },
    {
     "name": "stdout",
     "output_type": "stream",
     "text": [
      "\u001b[95m \n",
      "\n",
      "[{'content': 'I’m hearing so many stories like that from the survivors of the climate-intensified hurricanes that trashed western North Carolina, coastal Florida, and other parts of the Southeastern USA. From the victims of a climate-intensified catastrophe that has wrecked whole towns and torn out roads, flattened forests, washed away homes and put parts of Asheville underwater. I don’t want any more disasters like that, and I’m a climate activist to try to keep nature from getting more violent and destructive, which it will if we keep being violent and destructive toward the climate. But I do want us to know who we are, and how hungry we are for meaning, purpose, and connection, and sometimes disaster lets us see that.', 'metadata': {'language': 'en-US', 'source': 'https://lithub.com/rebecca-solnit-we-the-people-can-make-a-better-future-for-all/', 'title': 'Rebecca Solnit: We, the People, Can Make a Better Future ‹ Literary  Hub'}}, {'content': 'Polls offer the false promise of knowing what is going to happen, but what is going to happen in this election is what campaigners, activists, and the electorate make happen. It is not yet decided. We are deciding it with what we do, as voters, as organizers, as voices for truth, justice, inclusion, the reality of the climate crisis and the importance of acting on it. In June, I got to meet one of my heroes, Congressman Jamie Raskin when he gave a keynote for the Third Act chapters in DC, Virginia and Maryland. (Third Act is a climate group founded by Bill McKibben for US people over 60; I’m on its board.) He gave me his memoir of prosecuting the impeachment of Trump after January 6, right after his beloved son Tommy had died by suicide, and there’s a dazzling passage in it that reminds us of the power of participation.\\nHe writes that, during his first campaign, there was', 'metadata': {'language': 'en-US', 'source': 'https://lithub.com/rebecca-solnit-we-the-people-can-make-a-better-future-for-all/', 'title': 'Rebecca Solnit: We, the People, Can Make a Better Future ‹ Literary  Hub'}}, {'content': 'Barriers to Environmental Sustainability', 'metadata': {'description': 'Investigate the role of AI in enhancing logistics efficiency and promoting environmental sustainability through advanced route optimization techniques.', 'language': 'en', 'source': 'https://dzone.com/articles/smart-routing-using-ai-for-efficient-logistics', 'title': 'Smart Routing Using AI for Efficient Logistics'}}, {'content': 'Rebecca Solnit\\n\\t\\t\\t\\t\\t\\t\\t\\t\\t\\t\\t\\t\\tWriter, historian, and activist Rebecca Solnit is the author of twenty-five books on feminism, environmental and urban history, popular power, social change and insurrection, wandering and walking, hope and catastrophe. She co-edited the 2023 anthology Not Too Late: Changing the Climate Story from Despair to Possibility. Her other books include Orwell’s Roses; Recollections of My Nonexistence; Hope in the Dark; Men Explain Things to Me; A Paradise Built in Hell: The Extraordinary Communities that Arise in Disaster; and A Field Guide to Getting Lost. A product of the California public education system from kindergarten to graduate school, she writes regularly for the Guardian, serves on the board of the climate group Oil Change International, and in 2022 launched the climate project Not Too Late (nottoolateclimate.com).\\t\\t\\t\\t\\t\\t\\t\\t\\t\\t\\t\\t\\t\\t\\t\\t\\t\\t\\t\\t\\t\\t\\t\\t\\t\\t\\n\\nhttp://rebeccasolnit.net\\n\\n\\n\\n\\n\\n\\n \\n\\n\\n\\nPrevious Article\\nSuzanne Nossel is stepping down as PEN America CEO.', 'metadata': {'language': 'en-US', 'source': 'https://lithub.com/rebecca-solnit-we-the-people-can-make-a-better-future-for-all/', 'title': 'Rebecca Solnit: We, the People, Can Make a Better Future ‹ Literary  Hub'}}]\n",
      "\u001b[00m\n",
      "\u001b[32;1m\u001b[1;3mThought: I have retrieved relevant content related to climate change activism and the role of AI in logistics. The next step is to conduct additional web searches to gather more context and depth on these topics.\n",
      "\n",
      "Action: InternetSearchTool  \n",
      "Action Input: {\"query\": \"climate change activism news 2023\"}  \u001b[0m"
     ]
    },
    {
     "name": "stderr",
     "output_type": "stream",
     "text": [
      "/usr/local/lib/python3.10/dist-packages/pydantic/main.py:214: UserWarning: A custom validator is returning a value other than `self`.\n",
      "Returning anything other than `self` from a top level model validator isn't supported when validating via `__init__`.\n",
      "See the `model_validator` docs (https://docs.pydantic.dev/latest/concepts/validators/#model-validators) for more details.\n",
      "  warnings.warn(\n"
     ]
    },
    {
     "name": "stdout",
     "output_type": "stream",
     "text": [
      "\u001b[95m \n",
      "\n",
      "[{'title': \"Thousands march in New York to demand that Biden 'end fossil fuels' - NPR\", 'href': 'https://www.npr.org/2023/09/17/1200027693/thousands-expected-to-march-in-new-york-to-demand-that-biden-end-fossil-fuels', 'body': 'Thousands of activists, indigenous groups, students and others take to the streets of New York for the March to End Fossil Fuels protest on Sunday, Sept. 17, 2023 in New York. Spencer Platt/Getty ...'}, {'title': 'Judge sides with young activists in first-of-its-kind climate change ...', 'href': 'https://www.npr.org/2023/08/14/1193780700/montana-climate-change-trial-ruling', 'body': 'In a landmark climate change trial, a Montana judge sides with youth activists The ruling follows a first-of-its-kind trial in the U.S., adding to a small number of legal decisions around the ...'}, {'title': \"The Most Important Climate Stories of 2023 Aren't All Bad News\", 'href': 'https://www.scientificamerican.com/article/the-most-important-climate-stories-of-2023-arent-all-bad-news/', 'body': 'In 2023 climate news was a mixed bag: we saw unrelenting heat but also glimmers of hope of progress toward reducing greenhouse gas emissions. By Andrea Thompson. A person rides a bicycle as heat ...'}, {'title': 'Meet the Young Activists behind the New Youth Climate Lawsuit', 'href': 'https://www.scientificamerican.com/article/meet-the-young-activists-behind-the-new-youth-climate-lawsuit/', 'body': 'Like the other young activists who agreed to join in the lawsuit, Williams, a Los Angeles resident, said climate change is increasingly disrupting her life. She loves soccer, but smoke from ...'}, {'title': 'Climate Action 30 - Business Insider', 'href': 'https://www.businessinsider.com/climate-action-30-global-leaders-climate-solutions-2023-11?op=1', 'body': 'Climate Action 30 spotlights global activists, academics, founders, executives, and nonprofit and public sector leaders tackling the climate crisis. ... the Harvard Chan C-Change Youth Summit as ...'}]\n",
      "\u001b[00m\n",
      "\u001b[32;1m\u001b[1;3mThought: I have gathered relevant information regarding climate change activism from both the retrieved articles and the recent web search results. Now, I will also gather more context on the role of AI in logistics to comprehensively summarize both topics.\n",
      "\n",
      "Action: InternetSearchTool  \n",
      "Action Input: {\"query\": \"AI in logistics 2023 news\"}  \u001b[0m"
     ]
    },
    {
     "name": "stderr",
     "output_type": "stream",
     "text": [
      "/usr/local/lib/python3.10/dist-packages/pydantic/main.py:214: UserWarning: A custom validator is returning a value other than `self`.\n",
      "Returning anything other than `self` from a top level model validator isn't supported when validating via `__init__`.\n",
      "See the `model_validator` docs (https://docs.pydantic.dev/latest/concepts/validators/#model-validators) for more details.\n",
      "  warnings.warn(\n"
     ]
    },
    {
     "name": "stdout",
     "output_type": "stream",
     "text": [
      "\u001b[95m \n",
      "\n",
      "[{'title': 'How Global Companies Use AI to Prevent Supply Chain Disruptions', 'href': 'https://hbr.org/2023/11/how-global-companies-use-ai-to-prevent-supply-chain-disruptions', 'body': 'Our recent research at Walmart, Tyson Foods, Koch Industries, Maersk, Siemens, and Unilever revealed how these global companies are using advanced AI technologies to plan for and adapt to supply ...'}, {'title': 'AI in Logistics: A Sea of Potential Amidst Waves of Change', 'href': 'https://www.freightos.com/ai-in-logistics-a-sea-of-potential-amidst-waves-of-change/', 'body': 'A significant share (84%) believe AI might trim the workforce. Specifically, 53% anticipate a limited reduction, while 31% foresee substantial cuts. Enterprises, more than SMBs, sense this looming change, with 38% vs. 26% bracing for significant reductions. Notably, a handful of SMBs (7%) harbor hopes of AI birthing new roles, a sentiment ...'}, {'title': 'Logistics Trends 2023/2024: Which Direction for AI?', 'href': 'https://dhl-freight-connections.com/en/trends/logistics-trends-2023-2024/', 'body': 'Review 2023, Outlook 2024 - the Trends Carry On. The keyword for our 2023 trends was \"resilience\". After the supply chain problems caused by the coronavirus and the war in Ukraine, we felt that innovative technologies for the stabilization and robustness of supply chains should be a priority. And as it turned out in 2023, it was not just ...'}, {'title': 'The True Role Of AI In Logistics - Forbes', 'href': 'https://www.forbes.com/councils/forbestechcouncil/2023/08/17/the-true-role-of-ai-in-logistics/', 'body': 'True Artificial Intelligence: Implement Warehouse Automation And Robotics. The integration of AI and robotics has led to significant advancements in warehouse automation.'}, {'title': 'AI in Logistics: Top 23 Use Cases and Applications in 2023 - Markovate', 'href': 'https://markovate.com/blog/ai-applications-in-logistics/', 'body': \"10. AI in Logistics for Supply Chain Transparency. In any supply chain, stuff happens. With AI, you can keep tabs on that stuff every step of the way, from the factory floor to the customer's door, making it easier to fix issues quickly. 11. AI in Logistics for Customer Service.\"}]\n",
      "\u001b[00m\n",
      "\u001b[32;1m\u001b[1;3mThought: I have successfully gathered extensive information on climate change activism and the role of AI in logistics. Now, I will synthesize this information into comprehensive summaries for each topic, ensuring that I cover both the retrieved data and the additional context from online searches.\n",
      "\n",
      "### Climate Change Activism\n",
      "\n",
      "In recent discussions about climate change activism, notable voices, including Rebecca Solnit, emphasize the critical importance of civic participation and collective action in combating climate crises. Survivors of climate-intensified disasters, such as hurricanes affecting western North Carolina and coastal Florida, have shared harrowing accounts of the devastation they faced. These narratives highlight not only the physical destruction of homes and communities but also the emotional and psychological toll of such disasters. Solnit articulates a yearning for meaning and connection that often surfaces during catastrophic events, suggesting that these experiences can galvanize a deeper commitment to environmental activism.\n",
      "\n",
      "A pivotal aspect of contemporary climate activism is the role of organized movements and legal actions. For instance, a recent landmark ruling in Montana demonstrated the impact of youth-led initiatives, where a judge sided with young activists in a significant climate change trial. This case is part of a growing trend where the voices of younger generations are increasingly recognized in discussions surrounding climate policy and action.\n",
      "\n",
      "Moreover, the March to End Fossil Fuels, held in September 2023, saw thousands of activists, including indigenous groups and students, taking to the streets of New York to demand decisive action from political leaders, particularly President Biden. This demonstration underscores the urgency felt by many regarding the need for a swift transition away from fossil fuel dependency.\n",
      "\n",
      "In summary, the current climate activism landscape is marked by a blend of personal testimonies, collective demonstrations, and legal battles, all pushing for a transformative approach to environmental policy and action. The future of climate action is not predetermined; rather, it is shaped by the involvement of voters and activists who are committed to advocating for change.\n",
      "\n",
      "### The Role of AI in Logistics and Environmental Sustainability\n",
      "\n",
      "As industries continue to evolve, the integration of Artificial Intelligence (AI) in logistics is emerging as a crucial factor for enhancing efficiency and promoting environmental sustainability. Recent advancements in AI technologies are being leveraged by global companies like Walmart, Tyson Foods, and Unilever to navigate and adapt to supply chain disruptions, particularly in light of challenges posed by the COVID-19 pandemic and geopolitical tensions.\n",
      "\n",
      "AI's application in logistics includes advanced route optimization techniques that can significantly reduce carbon footprints associated with transportation. By analyzing vast amounts of data, AI systems can identify the most efficient routes for delivery, minimize fuel consumption, and promote sustainable practices within supply chains. This not only benefits the environment but also enhances operational efficiency, allowing companies to respond more agilely to changing market demands.\n",
      "\n",
      "Furthermore, the discourse surrounding AI in logistics highlights concerns about workforce displacement, with many anticipating that automation may lead to job reductions. However, there is also optimism that AI could create new roles and opportunities, particularly in areas focused on sustainability and innovation.\n",
      "\n",
      "In light of these developments, the ongoing integration of AI in logistics represents a dual opportunity: to streamline operations while also addressing urgent environmental challenges. As businesses increasingly adopt AI-driven solutions, the potential for significant improvements in logistics efficiency and sustainability becomes more pronounced, paving the way for a greener future.\n",
      "\n",
      "Final Answer: The detailed summaries above encapsulate the current discourse surrounding climate change activism, highlighting personal stories, collective actions, and the pivotal role of civic engagement. Additionally, the summary on AI in logistics illustrates how technological advancements are being harnessed to enhance operational efficiency and promote environmental sustainability, reflecting a growing recognition of the interconnectedness of technology and ecological responsibility.\u001b[0m\n",
      "\n",
      "\u001b[1m> Finished chain.\u001b[0m\n",
      "\u001b[1m\u001b[92m [2024-11-02 17:52:30][DEBUG]: == [News Content Writer] Task output: The detailed summaries above encapsulate the current discourse surrounding climate change activism, highlighting personal stories, collective actions, and the pivotal role of civic engagement. Additionally, the summary on AI in logistics illustrates how technological advancements are being harnessed to enhance operational efficiency and promote environmental sustainability, reflecting a growing recognition of the interconnectedness of technology and ecological responsibility.\n",
      "\n",
      "\u001b[00m\n"
     ]
    },
    {
     "data": {
      "text/html": [
       "<pre style=\"white-space:pre;overflow-x:auto;line-height:normal;font-family:Menlo,'DejaVu Sans Mono',consolas,'Courier New',monospace\">### Task Output ###\n",
       "The detailed summaries above encapsulate the current discourse surrounding climate change activism, highlighting \n",
       "personal stories, collective actions, and the pivotal role of civic engagement. Additionally, the summary on AI in \n",
       "logistics illustrates how technological advancements are being harnessed to enhance operational efficiency and \n",
       "promote environmental sustainability, reflecting a growing recognition of the interconnectedness of technology and \n",
       "ecological responsibility.\n",
       "</pre>\n"
      ],
      "text/plain": [
       "### Task Output ###\n",
       "The detailed summaries above encapsulate the current discourse surrounding climate change activism, highlighting \n",
       "personal stories, collective actions, and the pivotal role of civic engagement. Additionally, the summary on AI in \n",
       "logistics illustrates how technological advancements are being harnessed to enhance operational efficiency and \n",
       "promote environmental sustainability, reflecting a growing recognition of the interconnectedness of technology and \n",
       "ecological responsibility.\n"
      ]
     },
     "metadata": {},
     "output_type": "display_data"
    },
    {
     "name": "stdout",
     "output_type": "stream",
     "text": [
      "None\n"
     ]
    }
   ],
   "source": [
    "import os\n",
    "from praisonai import PraisonAI\n",
    "from google.colab import userdata\n",
    "\n",
    "# Create a PraisonAI instance with the agent_yaml content\n",
    "praisonai = PraisonAI(agent_yaml=agent_yaml, tools=[NewsDBTool, RetrieveNewsTool, InternetSearchTool])\n",
    "\n",
    "# Add OPENAI_API_KEY Secrets to Google Colab on the Left Hand Side 🔑 or Enter Manually Below\n",
    "os.environ[\"OPENAI_API_KEY\"] = userdata.get('OPENAI_API_KEY') or \"ENTER OPENAI_API_KEY HERE\"\n",
    "os.environ[\"OPENAI_MODEL_NAME\"] = \"gpt-5-nano\"\n",
    "\n",
    "# Run PraisonAI\n",
    "result = praisonai.run()\n",
    "\n",
    "# Print the result\n",
    "print(result) # 10/10\n"
   ]
  },
  {
   "cell_type": "code",
   "execution_count": null,
   "metadata": {
    "id": "gmYOTfioyTNj"
   },
   "outputs": [],
   "source": []
  }
 ],
 "metadata": {
  "colab": {
   "provenance": []
  },
  "kernelspec": {
   "display_name": "Python 3",
   "name": "python3"
  },
  "language_info": {
   "name": "python"
  }
 },
 "nbformat": 4,
 "nbformat_minor": 0
}
