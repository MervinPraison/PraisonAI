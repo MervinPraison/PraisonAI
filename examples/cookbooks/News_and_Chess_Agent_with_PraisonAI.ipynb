{
 "cells": [
  {
   "cell_type": "markdown",
   "metadata": {
    "id": "uA1Y_qQ6_TxE"
   },
   "source": [
    "# Praison AI Agent - News Fetch + Chess Puzzle Generator"
   ]
  },
  {
   "cell_type": "markdown",
   "metadata": {
    "id": "Loj3WklK_VrG"
   },
   "source": [
    "# Description"
   ]
  },
  {
   "cell_type": "markdown",
   "metadata": {
    "id": "fL5c6aC5_ZMF"
   },
   "source": [
    "This notebook demonstrates how to use the Praison AI Agent to:\n",
    "\n",
    "Fetch news using a tool (get_news)\n",
    "\n",
    "Generate a chess puzzle via a custom agent\n",
    "\n",
    "All outputs are handled as clean JSON"
   ]
  },
  {
   "cell_type": "markdown",
   "metadata": {
    "id": "QsrTiSYtD3dM"
   },
   "source": [
    "[![Open in Colab](https://colab.research.google.com/assets/colab-badge.svg)](https://colab.research.google.com/github/DhivyaBharathy-web/PraisonAI/blob/main/examples/cookbooks/News_and_Chess_Agent_with_PraisonAI.ipynb)\n"
   ]
  },
  {
   "cell_type": "markdown",
   "metadata": {
    "id": "7wVX4VcbDRDo"
   },
   "source": [
    "# Dependencies"
   ]
  },
  {
   "cell_type": "code",
   "execution_count": 26,
   "metadata": {
    "id": "W23vm-mfBwPZ"
   },
   "outputs": [],
   "source": [
    "!pip install praisonaiagents fastapi uvicorn duckduckgo-search --quiet\n"
   ]
  },
  {
   "cell_type": "markdown",
   "metadata": {
    "id": "xCqP4vXn_dKX"
   },
   "source": [
    "# Set API Key"
   ]
  },
  {
   "cell_type": "code",
   "execution_count": 19,
   "metadata": {
    "id": "VQ2lmWXP_epf"
   },
   "outputs": [],
   "source": [
    "import os\n",
    "\n",
    "# ✅ If using OpenAI directly (replace with your key)\n",
    "os.environ[\"OPENAI_API_KEY\"] = \"Enter your api key\"\n",
    "\n",
    "# ✅ OR: If using LM Studio / Local LLM\n",
    "# os.environ[\"OPENAI_API_KEY\"] = \"not-needed\"\n",
    "# os.environ[\"OPENAI_API_BASE\"] = \"http://localhost:1234/v1\"\n"
   ]
  },
  {
   "cell_type": "markdown",
   "metadata": {
    "id": "w5pGaa7L_q8m"
   },
   "source": [
    "# Import Tools"
   ]
  },
  {
   "cell_type": "code",
   "execution_count": 27,
   "metadata": {
    "id": "kC-5SAWYB1bA"
   },
   "outputs": [],
   "source": [
    "from praisonaiagents import Agent\n",
    "from typing import Dict\n",
    "import json\n"
   ]
  },
  {
   "cell_type": "markdown",
   "metadata": {
    "id": "x2P56vFrDf_-"
   },
   "source": [
    "# Define News Tool and Translator"
   ]
  },
  {
   "cell_type": "code",
   "execution_count": 28,
   "metadata": {
    "id": "t1-M5-jzB3Q9"
   },
   "outputs": [],
   "source": [
    "# Mock tool: fetch news\n",
    "def get_news() -> Dict:\n",
    "    return {\n",
    "        \"title\": \"India launches a new satellite\",\n",
    "        \"description\": \"ISRO successfully deployed a next-gen communication satellite.\",\n",
    "        \"source_links\": [\"https://example.com/news/space\"]\n",
    "    }\n",
    "\n",
    "# Mock translation (replace with real if needed)\n",
    "def translate_text(news: Dict, languages: list) -> Dict:\n",
    "    return {lang: f\"[Translated {lang}] {news['description']}\" for lang in languages}\n"
   ]
  },
  {
   "cell_type": "markdown",
   "metadata": {
    "id": "D3XPywPFDivI"
   },
   "source": [
    "# Use News Agent"
   ]
  },
  {
   "cell_type": "code",
   "execution_count": 29,
   "metadata": {
    "colab": {
     "base_uri": "https://localhost:8080/"
    },
    "id": "R21vSVRNB5Ka",
    "outputId": "9ec9bf01-45f6-4030-b135-8a812882bc1f"
   },
   "outputs": [
    {
     "name": "stdout",
     "output_type": "stream",
     "text": [
      "{\n",
      "  \"title\": \"India launches a new satellite\",\n",
      "  \"description\": \"ISRO successfully deployed a next-gen communication satellite.\",\n",
      "  \"source_links\": [\n",
      "    \"https://example.com/news/space\"\n",
      "  ],\n",
      "  \"translations\": {\n",
      "    \"hi-IN\": \"[Translated hi-IN] ISRO successfully deployed a next-gen communication satellite.\"\n",
      "  }\n",
      "}\n"
     ]
    }
   ],
   "source": [
    "news_agent = Agent(\n",
    "    name=\"NewsAgent\",\n",
    "    role=\"News Fetcher\",\n",
    "    goal=\"Fetch the latest news using tool\",\n",
    "    backstory=\"Specialist in curated news\",\n",
    "    tools=[get_news]\n",
    ")\n",
    "\n",
    "# Run the agent (optional prompt, direct tool call here)\n",
    "news_data = get_news()\n",
    "translated_data = translate_text(news_data, [\"hi-IN\"])\n",
    "\n",
    "# Final news structure\n",
    "news_output = {\n",
    "    \"title\": news_data[\"title\"],\n",
    "    \"description\": news_data[\"description\"],\n",
    "    \"source_links\": news_data[\"source_links\"],\n",
    "    \"translations\": translated_data\n",
    "}\n",
    "\n",
    "print(json.dumps(news_output, indent=2))\n"
   ]
  },
  {
   "cell_type": "markdown",
   "metadata": {
    "id": "fIfwLJCvDmQ4"
   },
   "source": [
    "# Define Chess Puzzle Tool and Agent"
   ]
  },
  {
   "cell_type": "code",
   "execution_count": 30,
   "metadata": {
    "id": "IL8aUEnCB7qs"
   },
   "outputs": [],
   "source": [
    "# Define a dummy chess puzzle generator tool\n",
    "def generate_chess_puzzle() -> Dict:\n",
    "    return {\n",
    "        \"title\": \"Mate in 2\",\n",
    "        \"theme\": \"Back Rank Mate\",\n",
    "        \"difficulty\": \"Intermediate\",\n",
    "        \"hint\": \"Use a rook sacrifice to distract the king.\",\n",
    "        \"solution\": [\"Rf8+\", \"Kxf8\", \"Qg8#\"],\n",
    "        \"mate_in_n\": 2,\n",
    "        \"fen\": \"5rk1/5ppp/8/8/8/8/5PPP/5RK1 w - - 0 1\"\n",
    "    }\n",
    "\n",
    "# Setup agent with tool\n",
    "puzzle_agent = Agent(\n",
    "    name=\"ChessPuzzleAgent\",\n",
    "    role=\"Tactical Master\",\n",
    "    goal=\"Generate a chess puzzle and give full analysis\",\n",
    "    backstory=\"AI trained on thousands of tactical puzzles\",\n",
    "    tools=[generate_chess_puzzle]\n",
    ")\n"
   ]
  },
  {
   "cell_type": "markdown",
   "metadata": {
    "id": "W-v4Kv_tDpmX"
   },
   "source": [
    "# Use Puzzle Agent"
   ]
  },
  {
   "cell_type": "code",
   "execution_count": 31,
   "metadata": {
    "colab": {
     "base_uri": "https://localhost:8080/"
    },
    "id": "OxFSA-rPCInN",
    "outputId": "8f37846e-6c2f-43a8-f85f-dceca51d7980"
   },
   "outputs": [
    {
     "name": "stdout",
     "output_type": "stream",
     "text": [
      "{\n",
      "  \"title\": \"Mate in 2\",\n",
      "  \"theme\": \"Back Rank Mate\",\n",
      "  \"difficulty\": \"Intermediate\",\n",
      "  \"hint\": \"Use a rook sacrifice to distract the king.\",\n",
      "  \"solution\": [\n",
      "    \"Rf8+\",\n",
      "    \"Kxf8\",\n",
      "    \"Qg8#\"\n",
      "  ],\n",
      "  \"mate_in_n\": 2,\n",
      "  \"fen\": \"5rk1/5ppp/8/8/8/8/5PPP/5RK1 w - - 0 1\"\n",
      "}\n"
     ]
    }
   ],
   "source": [
    "# Run the tool directly\n",
    "puzzle_data = generate_chess_puzzle()\n",
    "\n",
    "print(json.dumps(puzzle_data, indent=2))\n"
   ]
  }
 ],
 "metadata": {
  "colab": {
   "provenance": []
  },
  "kernelspec": {
   "display_name": "Python 3",
   "name": "python3"
  },
  "language_info": {
   "name": "python"
  }
 },
 "nbformat": 4,
 "nbformat_minor": 0
}
