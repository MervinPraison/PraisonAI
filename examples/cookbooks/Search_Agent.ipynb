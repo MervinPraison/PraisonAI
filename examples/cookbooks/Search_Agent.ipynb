{
 "cells": [
  {
   "cell_type": "markdown",
   "metadata": {
    "id": "-j-8RaEinSgs"
   },
   "source": [
    "# 🧠 MemoryPal (PraisonAI Edition)\n",
    "\n",
    "A minimal example of using PraisonAI's Agent with a custom internet search tool in Python, ready for Google Colab."
   ]
  },
  {
   "cell_type": "markdown",
   "metadata": {
    "id": "tztyseN5pqeD"
   },
   "source": [
    "[![Open in Colab](https://colab.research.google.com/assets/colab-badge.svg)](https://colab.research.google.com/github/DhivyaBharathy-web/PraisonAI/blob/main/examples/cookbooks/MemoryPal_Search_Agent.ipynb)\n"
   ]
  },
  {
   "cell_type": "markdown",
   "metadata": {
    "id": "Ls8fyQsTnXqR"
   },
   "source": [
    "# Install Dependencies"
   ]
  },
  {
   "cell_type": "code",
   "execution_count": null,
   "metadata": {
    "id": "HihjK38YncNS"
   },
   "outputs": [],
   "source": [
    "!pip install praisonaiagents duckduckgo-search"
   ]
  },
  {
   "cell_type": "markdown",
   "metadata": {
    "id": "drGND5XAnpzd"
   },
   "source": [
    "# Set API Key"
   ]
  },
  {
   "cell_type": "code",
   "execution_count": 2,
   "metadata": {
    "id": "nkpbgwJwnrn_"
   },
   "outputs": [],
   "source": [
    "import os\n",
    "\n",
    "# Enter your OpenAI API key here\n",
    "os.environ['OPENAI_API_KEY'] = 'Enter your api key'  # <-- Replace with your OpenAI API key"
   ]
  },
  {
   "cell_type": "markdown",
   "metadata": {
    "id": "19dqWac7nzZf"
   },
   "source": [
    "# Tool Definition"
   ]
  },
  {
   "cell_type": "code",
   "execution_count": 3,
   "metadata": {
    "id": "_M7EI96dn0qi"
   },
   "outputs": [],
   "source": [
    "from duckduckgo_search import DDGS\n",
    "\n",
    "def internet_search_tool(query: str):\n",
    "    results = []\n",
    "    ddgs = DDGS()\n",
    "    for result in ddgs.text(keywords=query, max_results=5):\n",
    "        results.append({\n",
    "            'title': result.get('title', ''),\n",
    "            'url': result.get('href', ''),\n",
    "            'snippet': result.get('body', '')\n",
    "        })\n",
    "    return results"
   ]
  },
  {
   "cell_type": "markdown",
   "metadata": {
    "id": "SYPI8zhen4nd"
   },
   "source": [
    "# YAML Agent Config"
   ]
  },
  {
   "cell_type": "code",
   "execution_count": 6,
   "metadata": {
    "colab": {
     "base_uri": "https://localhost:8080/"
    },
    "id": "Yag6EqYOn5h-",
    "outputId": "03f37769-3f05-479d-8d5a-a201bf403c73"
   },
   "outputs": [
    {
     "name": "stdout",
     "output_type": "stream",
     "text": [
      "{'framework': 'praisonai', 'topic': 'internet search demo', 'roles': {'searcher': {'backstory': 'Expert in internet search.', 'goal': 'Find information online.', 'role': 'Searcher', 'tools': ['internet_search_tool'], 'tasks': {'search_task': {'description': \"Search for 'AI job trends in 2025'.\", 'expected_output': 'List of search results.'}}}}}\n"
     ]
    }
   ],
   "source": [
    "import yaml\n",
    "\n",
    "yaml_config = \"\"\"\n",
    "framework: praisonai\n",
    "topic: internet search demo\n",
    "roles:\n",
    "  searcher:\n",
    "    backstory: Expert in internet search.\n",
    "    goal: Find information online.\n",
    "    role: Searcher\n",
    "    tools:\n",
    "      - internet_search_tool\n",
    "    tasks:\n",
    "      search_task:\n",
    "        description: Search for 'AI job trends in 2025'.\n",
    "        expected_output: List of search results.\n",
    "\"\"\"\n",
    "\n",
    "config = yaml.safe_load(yaml_config)\n",
    "print(config)"
   ]
  },
  {
   "cell_type": "markdown",
   "metadata": {
    "id": "KbYjwEkvoUqV"
   },
   "source": [
    "# Prompt Example"
   ]
  },
  {
   "cell_type": "markdown",
   "metadata": {
    "id": "7hslONZgoXph"
   },
   "source": [
    "Example prompt to use with the agent:  \n",
    "`Search about AI job trends in 2025`"
   ]
  },
  {
   "cell_type": "markdown",
   "metadata": {
    "id": "KvzzBm-7oZ9c"
   },
   "source": [
    "# Main: Run the Agent"
   ]
  },
  {
   "cell_type": "code",
   "execution_count": 7,
   "metadata": {
    "colab": {
     "base_uri": "https://localhost:8080/",
     "height": 1000,
     "referenced_widgets": [
      "4a9625800fe94aabb88e2ff78bce5a1d",
      "930e61499fac44f183c51ca93e3aad88",
      "bfb62f3af49c40f7934a7f245cd57d6d",
      "50486df133bf4e1582880c2cd6f2ca54"
     ]
    },
    "id": "TxyynCXCobA0",
    "outputId": "148a9670-ebd7-4d23-e248-1e5cf13aeb8e"
   },
   "outputs": [
    {
     "data": {
      "text/html": [
       "<pre style=\"white-space:pre;overflow-x:auto;line-height:normal;font-family:Menlo,'DejaVu Sans Mono',consolas,'Courier New',monospace\"><span style=\"color: #d2e3c8; text-decoration-color: #d2e3c8\">╭─ </span><span style=\"color: #d2e3c8; text-decoration-color: #d2e3c8; font-weight: bold\">Agent Info</span><span style=\"color: #d2e3c8; text-decoration-color: #d2e3c8\"> ────────────────────────────────────────────────────────────────────────────────────────────────────╮</span>\n",
       "<span style=\"color: #d2e3c8; text-decoration-color: #d2e3c8\">│</span>                                                                                                                 <span style=\"color: #d2e3c8; text-decoration-color: #d2e3c8\">│</span>\n",
       "<span style=\"color: #d2e3c8; text-decoration-color: #d2e3c8\">│</span>  <span style=\"color: #ff9b9b; text-decoration-color: #ff9b9b; font-weight: bold\">👤 Agent:</span> <span style=\"color: #ffe5e5; text-decoration-color: #ffe5e5\">Agent</span>                                                                                                <span style=\"color: #d2e3c8; text-decoration-color: #d2e3c8\">│</span>\n",
       "<span style=\"color: #d2e3c8; text-decoration-color: #d2e3c8\">│</span>  <span style=\"color: #b4b4b3; text-decoration-color: #b4b4b3; font-weight: bold\">Role:</span> <span style=\"color: #ffe5e5; text-decoration-color: #ffe5e5\">Assistant</span>                                                                                                <span style=\"color: #d2e3c8; text-decoration-color: #d2e3c8\">│</span>\n",
       "<span style=\"color: #d2e3c8; text-decoration-color: #d2e3c8\">│</span>  <span style=\"color: #86a789; text-decoration-color: #86a789; font-weight: bold\">Tools:</span> <span style=\"color: #b4d4ff; text-decoration-color: #b4d4ff; font-style: italic\">internet_search_tool</span>                                                                                    <span style=\"color: #d2e3c8; text-decoration-color: #d2e3c8\">│</span>\n",
       "<span style=\"color: #d2e3c8; text-decoration-color: #d2e3c8\">│</span>                                                                                                                 <span style=\"color: #d2e3c8; text-decoration-color: #d2e3c8\">│</span>\n",
       "<span style=\"color: #d2e3c8; text-decoration-color: #d2e3c8\">╰─────────────────────────────────────────────────────────────────────────────────────────────────────────────────╯</span>\n",
       "</pre>\n"
      ],
      "text/plain": [
       "\u001b[38;2;210;227;200m╭─\u001b[0m\u001b[38;2;210;227;200m \u001b[0m\u001b[1;38;2;210;227;200mAgent Info\u001b[0m\u001b[38;2;210;227;200m \u001b[0m\u001b[38;2;210;227;200m───────────────────────────────────────────────────────────────────────────────────────────────────\u001b[0m\u001b[38;2;210;227;200m─╮\u001b[0m\n",
       "\u001b[38;2;210;227;200m│\u001b[0m                                                                                                                 \u001b[38;2;210;227;200m│\u001b[0m\n",
       "\u001b[38;2;210;227;200m│\u001b[0m  \u001b[1;38;2;255;155;155m👤 Agent:\u001b[0m \u001b[38;2;255;229;229mAgent\u001b[0m                                                                                                \u001b[38;2;210;227;200m│\u001b[0m\n",
       "\u001b[38;2;210;227;200m│\u001b[0m  \u001b[1;38;2;180;180;179mRole:\u001b[0m \u001b[38;2;255;229;229mAssistant\u001b[0m                                                                                                \u001b[38;2;210;227;200m│\u001b[0m\n",
       "\u001b[38;2;210;227;200m│\u001b[0m  \u001b[1;38;2;134;167;137mTools:\u001b[0m \u001b[3;38;2;180;212;255minternet_search_tool\u001b[0m                                                                                    \u001b[38;2;210;227;200m│\u001b[0m\n",
       "\u001b[38;2;210;227;200m│\u001b[0m                                                                                                                 \u001b[38;2;210;227;200m│\u001b[0m\n",
       "\u001b[38;2;210;227;200m╰─────────────────────────────────────────────────────────────────────────────────────────────────────────────────╯\u001b[0m\n"
      ]
     },
     "metadata": {},
     "output_type": "display_data"
    },
    {
     "data": {
      "application/vnd.jupyter.widget-view+json": {
       "model_id": "4a9625800fe94aabb88e2ff78bce5a1d",
       "version_major": 2,
       "version_minor": 0
      },
      "text/plain": [
       "Output()"
      ]
     },
     "metadata": {},
     "output_type": "display_data"
    },
    {
     "data": {
      "text/html": [
       "<pre style=\"white-space:pre;overflow-x:auto;line-height:normal;font-family:Menlo,'DejaVu Sans Mono',consolas,'Courier New',monospace\"></pre>\n"
      ],
      "text/plain": []
     },
     "metadata": {},
     "output_type": "display_data"
    },
    {
     "data": {
      "text/html": [
       "<pre style=\"white-space:pre;overflow-x:auto;line-height:normal;font-family:Menlo,'DejaVu Sans Mono',consolas,'Courier New',monospace\">\n",
       "</pre>\n"
      ],
      "text/plain": [
       "\n"
      ]
     },
     "metadata": {},
     "output_type": "display_data"
    },
    {
     "data": {
      "text/html": [
       "<pre style=\"white-space:pre;overflow-x:auto;line-height:normal;font-family:Menlo,'DejaVu Sans Mono',consolas,'Courier New',monospace\"><span style=\"color: #008000; text-decoration-color: #008000\">╭──────────────────────────────────────────────── Tool Call ────────────────────────────────────────────────╮</span>\n",
       "<span style=\"color: #008000; text-decoration-color: #008000\">│</span> <span style=\"color: #008080; text-decoration-color: #008080; font-weight: bold\">Agent Agent is calling function 'internet_search_tool' with arguments: {'query': 'AI job trends in 2025'}</span> <span style=\"color: #008000; text-decoration-color: #008000\">│</span>\n",
       "<span style=\"color: #008000; text-decoration-color: #008000\">╰───────────────────────────────────────────────────────────────────────────────────────────────────────────╯</span>\n",
       "</pre>\n"
      ],
      "text/plain": [
       "\u001b[32m╭─\u001b[0m\u001b[32m───────────────────────────────────────────────\u001b[0m\u001b[32m Tool Call \u001b[0m\u001b[32m───────────────────────────────────────────────\u001b[0m\u001b[32m─╮\u001b[0m\n",
       "\u001b[32m│\u001b[0m \u001b[1;36mAgent Agent is calling function 'internet_search_tool' with arguments: {'query': 'AI job trends in 2025'}\u001b[0m \u001b[32m│\u001b[0m\n",
       "\u001b[32m╰───────────────────────────────────────────────────────────────────────────────────────────────────────────╯\u001b[0m\n"
      ]
     },
     "metadata": {},
     "output_type": "display_data"
    },
    {
     "data": {
      "text/html": [
       "<pre style=\"white-space:pre;overflow-x:auto;line-height:normal;font-family:Menlo,'DejaVu Sans Mono',consolas,'Courier New',monospace\"><span style=\"color: #008000; text-decoration-color: #008000\">╭─────────────────────────────────────────────────── Tool Call ───────────────────────────────────────────────────╮</span>\n",
       "<span style=\"color: #008000; text-decoration-color: #008000\">│</span> <span style=\"color: #008080; text-decoration-color: #008080; font-weight: bold\">Function 'internet_search_tool' returned: [{\"title\": \"AI Job Trends 2025: Top AI Jobs, Roles, and Hiring Data </span>  <span style=\"color: #008000; text-decoration-color: #008000\">│</span>\n",
       "<span style=\"color: #008000; text-decoration-color: #008000\">│</span> <span style=\"color: #008080; text-decoration-color: #008080; font-weight: bold\">Insights\", \"url\": \"https://blog.getaura.ai/ai-job-trends-2025\", \"snippet\": \"Explore the latest AI job trends </span>   <span style=\"color: #008000; text-decoration-color: #008000\">│</span>\n",
       "<span style=\"color: #008000; text-decoration-color: #008000\">│</span> <span style=\"color: #008080; text-decoration-color: #008080; font-weight: bold\">for 2025. Learn about top industries hiring, in-demand skills, and emerging roles shaping the future of AI </span>     <span style=\"color: #008000; text-decoration-color: #008000\">│</span>\n",
       "<span style=\"color: #008000; text-decoration-color: #008000\">│</span> <span style=\"color: #008080; text-decoration-color: #008080; font-weight: bold\">hiring.\"}, {\"title\": \" The Fearless Future: 2025 Global AI Jobs Barometer - PwC\", \"url\": </span>                       <span style=\"color: #008000; text-decoration-color: #008000\">│</span>\n",
       "<span style=\"color: #008000; text-decoration-color: #008000\">│</span> <span style=\"color: #008080; text-decoration-color: #008080; font-weight: bold\">\"https://www.pwc.com/gx/en/issues/artificial-intelligence/job-barometer/aijb-2025-united-states-analysis.pdf\", </span> <span style=\"color: #008000; text-decoration-color: #008000\">│</span>\n",
       "<span style=\"color: #008000; text-decoration-color: #008000\">│</span> <span style=\"color: #008080; text-decoration-color: #008080; font-weight: bold\">\"snippet\": \"Global Insights The AI Jobs Barometer reveals AI's global impact on jobs, wages, skills, and </span>       <span style=\"color: #008000; text-decoration-color: #008000\">│</span>\n",
       "<span style=\"color: #008000; text-decoration-color: #008000\">│</span> <span style=\"color: #008080; text-decoration-color: #008080; font-weight: bold\">productivity by examining close to a billion job ads from six continents.\"}, {\"title\": \"10 Hottest AI Jobs Of </span>  <span style=\"color: #008000; text-decoration-color: #008000\">│</span>\n",
       "<span style=\"color: #008000; text-decoration-color: #008000\">│</span> <span style=\"color: #008080; text-decoration-color: #008080; font-weight: bold\">2025 With Six-Figure Salaries - Forbes\", \"url\": </span>                                                                <span style=\"color: #008000; text-decoration-color: #008000\">│</span>\n",
       "<span style=\"color: #008000; text-decoration-color: #008000\">│</span> <span style=\"color: #008080; text-decoration-color: #008080; font-weight: bold\">\"https://www.forbes.com/sites/bryanrobinson/2025/01/17/10-hottest-ai-jobs-of-2025-paying-six-figure-salaries/\",</span> <span style=\"color: #008000; text-decoration-color: #008000\">│</span>\n",
       "<span style=\"color: #008000; text-decoration-color: #008000\">│</span> <span style=\"color: #008080; text-decoration-color: #008080; font-weight: bold\">\"snippet\": \"Explore the top AI roles of 2025, from Machine Learning Engineers to NLP Specialists, offering </span>     <span style=\"color: #008000; text-decoration-color: #008000\">│</span>\n",
       "<span style=\"color: #008000; text-decoration-color: #008000\">│</span> <span style=\"color: #008080; text-decoration-color: #008080; font-weight: bold\">six-figure salaries and high demand in the evolving tech landscape.\"}, {\"title\": \"AI Job Market 2025: Impact on</span> <span style=\"color: #008000; text-decoration-color: #008000\">│</span>\n",
       "<span style=\"color: #008000; text-decoration-color: #008000\">│</span> <span style=\"color: #008080; text-decoration-color: #008080; font-weight: bold\">Employment &amp; Future Workforce Trends\", \"url\": </span>                                                                  <span style=\"color: #008000; text-decoration-color: #008000\">│</span>\n",
       "<span style=\"color: #008000; text-decoration-color: #008000\">│</span> <span style=\"color: #008080; text-decoration-color: #008080; font-weight: bold\">\"https://www.cognitivetoday.com/2025/03/ai-job-market-impact-on-employment-future-workforce-trends/\", </span>          <span style=\"color: #008000; text-decoration-color: #008000\">│</span>\n",
       "<span style=\"color: #008000; text-decoration-color: #008000\">│</span> <span style=\"color: #008080; text-decoration-color: #008080; font-weight: bold\">\"snippet\": \"Discover how AI will reshape jobs in 2025. Learn about AI-driven displacement, new roles, and </span>      <span style=\"color: #008000; text-decoration-color: #008000\">│</span>\n",
       "<span style=\"color: #008000; text-decoration-color: #008000\">│</span> <span style=\"color: #008080; text-decoration-color: #008080; font-weight: bold\">must-have skills to thrive in the evolving workforce. AI Job Market 2025.\"}, {\"title\": \"AI Job Market: Trends, </span> <span style=\"color: #008000; text-decoration-color: #008000\">│</span>\n",
       "<span style=\"color: #008000; text-decoration-color: #008000\">│</span> <span style=\"color: #008080; text-decoration-color: #008080; font-weight: bold\">Opportunities, and Key Skills for 2025\", \"url\": </span>                                                                <span style=\"color: #008000; text-decoration-color: #008000\">│</span>\n",
       "<span style=\"color: #008000; text-decoration-color: #008000\">│</span> <span style=\"color: #008080; text-decoration-color: #008080; font-weight: bold\">\"https://www.analyticsinsight.net/artificial-intelligence/ai-job-market-trends-opportunities-and-key-skills-for</span> <span style=\"color: #008000; text-decoration-color: #008000\">│</span>\n",
       "<span style=\"color: #008000; text-decoration-color: #008000\">│</span> <span style=\"color: #008080; text-decoration-color: #008080; font-weight: bold\">-2025\", \"snippet\": \"As artificial intelligence (AI) continues to reshape industries, the job market will see a </span> <span style=\"color: #008000; text-decoration-color: #008000\">│</span>\n",
       "<span style=\"color: #008000; text-decoration-color: #008000\">│</span> <span style=\"color: #008080; text-decoration-color: #008080; font-weight: bold\">significant transformation in 2025. With new opportunities emerging and certain skills becoming essential, AI </span>  <span style=\"color: #008000; text-decoration-color: #008000\">│</span>\n",
       "<span style=\"color: #008000; text-decoration-color: #008000\">│</span> <span style=\"color: #008080; text-decoration-color: #008080; font-weight: bold\">adoption will also rise. From automation and machine learning to AI-driven healthcare and edge computing, </span>      <span style=\"color: #008000; text-decoration-color: #008000\">│</span>\n",
       "<span style=\"color: #008000; text-decoration-color: #008000\">│</span> <span style=\"color: #008080; text-decoration-color: #008080; font-weight: bold\">understanding the evolving trends and required skill sets will be crucial for anyone ...\"}]</span>                     <span style=\"color: #008000; text-decoration-color: #008000\">│</span>\n",
       "<span style=\"color: #008000; text-decoration-color: #008000\">╰─────────────────────────────────────────────────────────────────────────────────────────────────────────────────╯</span>\n",
       "</pre>\n"
      ],
      "text/plain": [
       "\u001b[32m╭─\u001b[0m\u001b[32m──────────────────────────────────────────────────\u001b[0m\u001b[32m Tool Call \u001b[0m\u001b[32m──────────────────────────────────────────────────\u001b[0m\u001b[32m─╮\u001b[0m\n",
       "\u001b[32m│\u001b[0m \u001b[1;36mFunction 'internet_search_tool' returned: [{\"title\": \"AI Job Trends 2025: Top AI Jobs, Roles, and Hiring Data \u001b[0m  \u001b[32m│\u001b[0m\n",
       "\u001b[32m│\u001b[0m \u001b[1;36mInsights\", \"url\": \"https://blog.getaura.ai/ai-job-trends-2025\", \"snippet\": \"Explore the latest AI job trends \u001b[0m   \u001b[32m│\u001b[0m\n",
       "\u001b[32m│\u001b[0m \u001b[1;36mfor 2025. Learn about top industries hiring, in-demand skills, and emerging roles shaping the future of AI \u001b[0m     \u001b[32m│\u001b[0m\n",
       "\u001b[32m│\u001b[0m \u001b[1;36mhiring.\"}, {\"title\": \" The Fearless Future: 2025 Global AI Jobs Barometer - PwC\", \"url\": \u001b[0m                       \u001b[32m│\u001b[0m\n",
       "\u001b[32m│\u001b[0m \u001b[1;36m\"https://www.pwc.com/gx/en/issues/artificial-intelligence/job-barometer/aijb-2025-united-states-analysis.pdf\", \u001b[0m \u001b[32m│\u001b[0m\n",
       "\u001b[32m│\u001b[0m \u001b[1;36m\"snippet\": \"Global Insights The AI Jobs Barometer reveals AI's global impact on jobs, wages, skills, and \u001b[0m       \u001b[32m│\u001b[0m\n",
       "\u001b[32m│\u001b[0m \u001b[1;36mproductivity by examining close to a billion job ads from six continents.\"}, {\"title\": \"10 Hottest AI Jobs Of \u001b[0m  \u001b[32m│\u001b[0m\n",
       "\u001b[32m│\u001b[0m \u001b[1;36m2025 With Six-Figure Salaries - Forbes\", \"url\": \u001b[0m                                                                \u001b[32m│\u001b[0m\n",
       "\u001b[32m│\u001b[0m \u001b[1;36m\"https://www.forbes.com/sites/bryanrobinson/2025/01/17/10-hottest-ai-jobs-of-2025-paying-six-figure-salaries/\",\u001b[0m \u001b[32m│\u001b[0m\n",
       "\u001b[32m│\u001b[0m \u001b[1;36m\"snippet\": \"Explore the top AI roles of 2025, from Machine Learning Engineers to NLP Specialists, offering \u001b[0m     \u001b[32m│\u001b[0m\n",
       "\u001b[32m│\u001b[0m \u001b[1;36msix-figure salaries and high demand in the evolving tech landscape.\"}, {\"title\": \"AI Job Market 2025: Impact on\u001b[0m \u001b[32m│\u001b[0m\n",
       "\u001b[32m│\u001b[0m \u001b[1;36mEmployment & Future Workforce Trends\", \"url\": \u001b[0m                                                                  \u001b[32m│\u001b[0m\n",
       "\u001b[32m│\u001b[0m \u001b[1;36m\"https://www.cognitivetoday.com/2025/03/ai-job-market-impact-on-employment-future-workforce-trends/\", \u001b[0m          \u001b[32m│\u001b[0m\n",
       "\u001b[32m│\u001b[0m \u001b[1;36m\"snippet\": \"Discover how AI will reshape jobs in 2025. Learn about AI-driven displacement, new roles, and \u001b[0m      \u001b[32m│\u001b[0m\n",
       "\u001b[32m│\u001b[0m \u001b[1;36mmust-have skills to thrive in the evolving workforce. AI Job Market 2025.\"}, {\"title\": \"AI Job Market: Trends, \u001b[0m \u001b[32m│\u001b[0m\n",
       "\u001b[32m│\u001b[0m \u001b[1;36mOpportunities, and Key Skills for 2025\", \"url\": \u001b[0m                                                                \u001b[32m│\u001b[0m\n",
       "\u001b[32m│\u001b[0m \u001b[1;36m\"https://www.analyticsinsight.net/artificial-intelligence/ai-job-market-trends-opportunities-and-key-skills-for\u001b[0m \u001b[32m│\u001b[0m\n",
       "\u001b[32m│\u001b[0m \u001b[1;36m-2025\", \"snippet\": \"As artificial intelligence (AI) continues to reshape industries, the job market will see a \u001b[0m \u001b[32m│\u001b[0m\n",
       "\u001b[32m│\u001b[0m \u001b[1;36msignificant transformation in 2025. With new opportunities emerging and certain skills becoming essential, AI \u001b[0m  \u001b[32m│\u001b[0m\n",
       "\u001b[32m│\u001b[0m \u001b[1;36madoption will also rise. From automation and machine learning to AI-driven healthcare and edge computing, \u001b[0m      \u001b[32m│\u001b[0m\n",
       "\u001b[32m│\u001b[0m \u001b[1;36munderstanding the evolving trends and required skill sets will be crucial for anyone ...\"}]\u001b[0m                     \u001b[32m│\u001b[0m\n",
       "\u001b[32m╰─────────────────────────────────────────────────────────────────────────────────────────────────────────────────╯\u001b[0m\n"
      ]
     },
     "metadata": {},
     "output_type": "display_data"
    },
    {
     "data": {
      "application/vnd.jupyter.widget-view+json": {
       "model_id": "bfb62f3af49c40f7934a7f245cd57d6d",
       "version_major": 2,
       "version_minor": 0
      },
      "text/plain": [
       "Output()"
      ]
     },
     "metadata": {},
     "output_type": "display_data"
    },
    {
     "data": {
      "text/html": [
       "<pre style=\"white-space:pre;overflow-x:auto;line-height:normal;font-family:Menlo,'DejaVu Sans Mono',consolas,'Courier New',monospace\"></pre>\n"
      ],
      "text/plain": []
     },
     "metadata": {},
     "output_type": "display_data"
    },
    {
     "data": {
      "text/html": [
       "<pre style=\"white-space:pre;overflow-x:auto;line-height:normal;font-family:Menlo,'DejaVu Sans Mono',consolas,'Courier New',monospace\">\n",
       "</pre>\n"
      ],
      "text/plain": [
       "\n"
      ]
     },
     "metadata": {},
     "output_type": "display_data"
    },
    {
     "data": {
      "text/html": [
       "<pre style=\"white-space:pre;overflow-x:auto;line-height:normal;font-family:Menlo,'DejaVu Sans Mono',consolas,'Courier New',monospace\"><span style=\"color: #7f7f7f; text-decoration-color: #7f7f7f\">Response generated in 14.7s</span>\n",
       "</pre>\n"
      ],
      "text/plain": [
       "\u001b[2mResponse generated in 14.7s\u001b[0m\n"
      ]
     },
     "metadata": {},
     "output_type": "display_data"
    },
    {
     "data": {
      "text/html": [
       "<pre style=\"white-space:pre;overflow-x:auto;line-height:normal;font-family:Menlo,'DejaVu Sans Mono',consolas,'Courier New',monospace\"><span style=\"color: #008080; text-decoration-color: #008080\">╭───────────────────────────────────────────────────── Task ──────────────────────────────────────────────────────╮</span>\n",
       "<span style=\"color: #008080; text-decoration-color: #008080\">│</span> AI job trends in 2025                                                                                           <span style=\"color: #008080; text-decoration-color: #008080\">│</span>\n",
       "<span style=\"color: #008080; text-decoration-color: #008080\">╰─────────────────────────────────────────────────────────────────────────────────────────────────────────────────╯</span>\n",
       "</pre>\n"
      ],
      "text/plain": [
       "\u001b[36m╭─\u001b[0m\u001b[36m────────────────────────────────────────────────────\u001b[0m\u001b[36m Task \u001b[0m\u001b[36m─────────────────────────────────────────────────────\u001b[0m\u001b[36m─╮\u001b[0m\n",
       "\u001b[36m│\u001b[0m AI job trends in 2025                                                                                           \u001b[36m│\u001b[0m\n",
       "\u001b[36m╰─────────────────────────────────────────────────────────────────────────────────────────────────────────────────╯\u001b[0m\n"
      ]
     },
     "metadata": {},
     "output_type": "display_data"
    },
    {
     "data": {
      "text/html": [
       "<pre style=\"white-space:pre;overflow-x:auto;line-height:normal;font-family:Menlo,'DejaVu Sans Mono',consolas,'Courier New',monospace\"><span style=\"color: #008080; text-decoration-color: #008080\">╭─────────────────────────────────────────────────── Response ────────────────────────────────────────────────────╮</span>\n",
       "<span style=\"color: #008080; text-decoration-color: #008080\">│</span> Here are some insights into AI job trends for 2025:                                                             <span style=\"color: #008080; text-decoration-color: #008080\">│</span>\n",
       "<span style=\"color: #008080; text-decoration-color: #008080\">│</span>                                                                                                                 <span style=\"color: #008080; text-decoration-color: #008080\">│</span>\n",
       "<span style=\"color: #008080; text-decoration-color: #008080\">│</span> <span style=\"color: #808000; text-decoration-color: #808000; font-weight: bold\"> 1 </span><span style=\"font-weight: bold\">Top AI Jobs and Roles</span>: The AI job market in 2025 is expected to feature roles such as Machine Learning       <span style=\"color: #008080; text-decoration-color: #008080\">│</span>\n",
       "<span style=\"color: #008080; text-decoration-color: #008080\">│</span> <span style=\"color: #808000; text-decoration-color: #808000; font-weight: bold\">   </span>Engineers, NLP Specialists, and other positions offering six-figure salaries. These roles are in high demand <span style=\"color: #008080; text-decoration-color: #008080\">│</span>\n",
       "<span style=\"color: #008080; text-decoration-color: #008080\">│</span> <span style=\"color: #808000; text-decoration-color: #808000; font-weight: bold\">   </span>as the tech landscape evolves. <a href=\"https://www.forbes.com/sites/bryanrobinson/2025/01/17/10-hottest-ai-jobs-of-2025-paying-six-figure-salaries/\" target=\"_blank\"><span style=\"color: #000080; text-decoration-color: #000080; text-decoration: underline\">Read more on Forbes</span></a>.                                                          <span style=\"color: #008080; text-decoration-color: #008080\">│</span>\n",
       "<span style=\"color: #008080; text-decoration-color: #008080\">│</span> <span style=\"color: #808000; text-decoration-color: #808000; font-weight: bold\"> 2 </span><span style=\"font-weight: bold\">Industries and Skills</span>: AI is reshaping industries, with new opportunities emerging and certain skills        <span style=\"color: #008080; text-decoration-color: #008080\">│</span>\n",
       "<span style=\"color: #008080; text-decoration-color: #008080\">│</span> <span style=\"color: #808000; text-decoration-color: #808000; font-weight: bold\">   </span>becoming essential. Key areas include automation, machine learning, AI-driven healthcare, and edge           <span style=\"color: #008080; text-decoration-color: #008080\">│</span>\n",
       "<span style=\"color: #008080; text-decoration-color: #008080\">│</span> <span style=\"color: #808000; text-decoration-color: #808000; font-weight: bold\">   </span>computing. <a href=\"https://www.analyticsinsight.net/artificial-intelligence/ai-job-market-trends-opportunities-and-key-skills-for-2025\" target=\"_blank\"><span style=\"color: #000080; text-decoration-color: #000080; text-decoration: underline\">Explore more on Analytics Insight</span></a>.                                                                <span style=\"color: #008080; text-decoration-color: #008080\">│</span>\n",
       "<span style=\"color: #008080; text-decoration-color: #008080\">│</span> <span style=\"color: #808000; text-decoration-color: #808000; font-weight: bold\"> 3 </span><span style=\"font-weight: bold\">Global Impact</span>: The AI Jobs Barometer by PwC examines AI's global impact on jobs, wages, skills, and          <span style=\"color: #008080; text-decoration-color: #008080\">│</span>\n",
       "<span style=\"color: #008080; text-decoration-color: #008080\">│</span> <span style=\"color: #808000; text-decoration-color: #808000; font-weight: bold\">   </span>productivity, analyzing job ads from six continents. <a href=\"https://www.pwc.com/gx/en/issues/artificial-intelligence/job-barometer/aijb-2025-united-states-analysis.pdf\" target=\"_blank\"><span style=\"color: #000080; text-decoration-color: #000080; text-decoration: underline\">Check the PwC report</span></a>.                                   <span style=\"color: #008080; text-decoration-color: #008080\">│</span>\n",
       "<span style=\"color: #008080; text-decoration-color: #008080\">│</span> <span style=\"color: #808000; text-decoration-color: #808000; font-weight: bold\"> 4 </span><span style=\"font-weight: bold\">Future Workforce Trends</span>: AI will reshape jobs, leading to AI-driven displacement and the creation of new     <span style=\"color: #008080; text-decoration-color: #008080\">│</span>\n",
       "<span style=\"color: #008080; text-decoration-color: #008080\">│</span> <span style=\"color: #808000; text-decoration-color: #808000; font-weight: bold\">   </span>roles. Understanding these trends and acquiring must-have skills will be crucial for thriving in the         <span style=\"color: #008080; text-decoration-color: #008080\">│</span>\n",
       "<span style=\"color: #008080; text-decoration-color: #008080\">│</span> <span style=\"color: #808000; text-decoration-color: #808000; font-weight: bold\">   </span>evolving workforce. <a href=\"https://www.cognitivetoday.com/2025/03/ai-job-market-impact-on-employment-future-workforce-trends/\" target=\"_blank\"><span style=\"color: #000080; text-decoration-color: #000080; text-decoration: underline\">Learn more on Cognitive Today</span></a>.                                                           <span style=\"color: #008080; text-decoration-color: #008080\">│</span>\n",
       "<span style=\"color: #008080; text-decoration-color: #008080\">│</span> <span style=\"color: #808000; text-decoration-color: #808000; font-weight: bold\"> 5 </span><span style=\"font-weight: bold\">Hiring Data Insights</span>: Insights into the latest AI job trends, including top industries hiring and emerging   <span style=\"color: #008080; text-decoration-color: #008080\">│</span>\n",
       "<span style=\"color: #008080; text-decoration-color: #008080\">│</span> <span style=\"color: #808000; text-decoration-color: #808000; font-weight: bold\">   </span>roles, can be found in various reports and analyses. <a href=\"https://blog.getaura.ai/ai-job-trends-2025\" target=\"_blank\"><span style=\"color: #000080; text-decoration-color: #000080; text-decoration: underline\">Read more on GetAura</span></a>.                                   <span style=\"color: #008080; text-decoration-color: #008080\">│</span>\n",
       "<span style=\"color: #008080; text-decoration-color: #008080\">│</span>                                                                                                                 <span style=\"color: #008080; text-decoration-color: #008080\">│</span>\n",
       "<span style=\"color: #008080; text-decoration-color: #008080\">│</span> These resources provide a comprehensive overview of the anticipated changes and opportunities in the AI job     <span style=\"color: #008080; text-decoration-color: #008080\">│</span>\n",
       "<span style=\"color: #008080; text-decoration-color: #008080\">│</span> market by 2025.                                                                                                 <span style=\"color: #008080; text-decoration-color: #008080\">│</span>\n",
       "<span style=\"color: #008080; text-decoration-color: #008080\">╰─────────────────────────────────────────────────────────────────────────────────────────────────────────────────╯</span>\n",
       "</pre>\n"
      ],
      "text/plain": [
       "\u001b[36m╭─\u001b[0m\u001b[36m──────────────────────────────────────────────────\u001b[0m\u001b[36m Response \u001b[0m\u001b[36m───────────────────────────────────────────────────\u001b[0m\u001b[36m─╮\u001b[0m\n",
       "\u001b[36m│\u001b[0m Here are some insights into AI job trends for 2025:                                                             \u001b[36m│\u001b[0m\n",
       "\u001b[36m│\u001b[0m                                                                                                                 \u001b[36m│\u001b[0m\n",
       "\u001b[36m│\u001b[0m \u001b[1;33m 1 \u001b[0m\u001b[1mTop AI Jobs and Roles\u001b[0m: The AI job market in 2025 is expected to feature roles such as Machine Learning       \u001b[36m│\u001b[0m\n",
       "\u001b[36m│\u001b[0m \u001b[1;33m   \u001b[0mEngineers, NLP Specialists, and other positions offering six-figure salaries. These roles are in high demand \u001b[36m│\u001b[0m\n",
       "\u001b[36m│\u001b[0m \u001b[1;33m   \u001b[0mas the tech landscape evolves. \u001b]8;id=1080;https://www.forbes.com/sites/bryanrobinson/2025/01/17/10-hottest-ai-jobs-of-2025-paying-six-figure-salaries/\u001b\\\u001b[4;34mRead more on Forbes\u001b[0m\u001b]8;;\u001b\\.                                                          \u001b[36m│\u001b[0m\n",
       "\u001b[36m│\u001b[0m \u001b[1;33m 2 \u001b[0m\u001b[1mIndustries and Skills\u001b[0m: AI is reshaping industries, with new opportunities emerging and certain skills        \u001b[36m│\u001b[0m\n",
       "\u001b[36m│\u001b[0m \u001b[1;33m   \u001b[0mbecoming essential. Key areas include automation, machine learning, AI-driven healthcare, and edge           \u001b[36m│\u001b[0m\n",
       "\u001b[36m│\u001b[0m \u001b[1;33m   \u001b[0mcomputing. \u001b]8;id=337875;https://www.analyticsinsight.net/artificial-intelligence/ai-job-market-trends-opportunities-and-key-skills-for-2025\u001b\\\u001b[4;34mExplore more on Analytics Insight\u001b[0m\u001b]8;;\u001b\\.                                                                \u001b[36m│\u001b[0m\n",
       "\u001b[36m│\u001b[0m \u001b[1;33m 3 \u001b[0m\u001b[1mGlobal Impact\u001b[0m: The AI Jobs Barometer by PwC examines AI's global impact on jobs, wages, skills, and          \u001b[36m│\u001b[0m\n",
       "\u001b[36m│\u001b[0m \u001b[1;33m   \u001b[0mproductivity, analyzing job ads from six continents. \u001b]8;id=455296;https://www.pwc.com/gx/en/issues/artificial-intelligence/job-barometer/aijb-2025-united-states-analysis.pdf\u001b\\\u001b[4;34mCheck the PwC report\u001b[0m\u001b]8;;\u001b\\.                                   \u001b[36m│\u001b[0m\n",
       "\u001b[36m│\u001b[0m \u001b[1;33m 4 \u001b[0m\u001b[1mFuture Workforce Trends\u001b[0m: AI will reshape jobs, leading to AI-driven displacement and the creation of new     \u001b[36m│\u001b[0m\n",
       "\u001b[36m│\u001b[0m \u001b[1;33m   \u001b[0mroles. Understanding these trends and acquiring must-have skills will be crucial for thriving in the         \u001b[36m│\u001b[0m\n",
       "\u001b[36m│\u001b[0m \u001b[1;33m   \u001b[0mevolving workforce. \u001b]8;id=772466;https://www.cognitivetoday.com/2025/03/ai-job-market-impact-on-employment-future-workforce-trends/\u001b\\\u001b[4;34mLearn more on Cognitive Today\u001b[0m\u001b]8;;\u001b\\.                                                           \u001b[36m│\u001b[0m\n",
       "\u001b[36m│\u001b[0m \u001b[1;33m 5 \u001b[0m\u001b[1mHiring Data Insights\u001b[0m: Insights into the latest AI job trends, including top industries hiring and emerging   \u001b[36m│\u001b[0m\n",
       "\u001b[36m│\u001b[0m \u001b[1;33m   \u001b[0mroles, can be found in various reports and analyses. \u001b]8;id=262366;https://blog.getaura.ai/ai-job-trends-2025\u001b\\\u001b[4;34mRead more on GetAura\u001b[0m\u001b]8;;\u001b\\.                                   \u001b[36m│\u001b[0m\n",
       "\u001b[36m│\u001b[0m                                                                                                                 \u001b[36m│\u001b[0m\n",
       "\u001b[36m│\u001b[0m These resources provide a comprehensive overview of the anticipated changes and opportunities in the AI job     \u001b[36m│\u001b[0m\n",
       "\u001b[36m│\u001b[0m market by 2025.                                                                                                 \u001b[36m│\u001b[0m\n",
       "\u001b[36m╰─────────────────────────────────────────────────────────────────────────────────────────────────────────────────╯\u001b[0m\n"
      ]
     },
     "metadata": {},
     "output_type": "display_data"
    },
    {
     "name": "stdout",
     "output_type": "stream",
     "text": [
      "Response:\n",
      "Here are some insights into AI job trends for 2025:\n",
      "\n",
      "1. **Top AI Jobs and Roles**: The AI job market in 2025 is expected to feature roles such as Machine Learning Engineers, NLP Specialists, and other positions offering six-figure salaries. These roles are in high demand as the tech landscape evolves. [Read more on Forbes](https://www.forbes.com/sites/bryanrobinson/2025/01/17/10-hottest-ai-jobs-of-2025-paying-six-figure-salaries/).\n",
      "\n",
      "2. **Industries and Skills**: AI is reshaping industries, with new opportunities emerging and certain skills becoming essential. Key areas include automation, machine learning, AI-driven healthcare, and edge computing. [Explore more on Analytics Insight](https://www.analyticsinsight.net/artificial-intelligence/ai-job-market-trends-opportunities-and-key-skills-for-2025).\n",
      "\n",
      "3. **Global Impact**: The AI Jobs Barometer by PwC examines AI's global impact on jobs, wages, skills, and productivity, analyzing job ads from six continents. [Check the PwC report](https://www.pwc.com/gx/en/issues/artificial-intelligence/job-barometer/aijb-2025-united-states-analysis.pdf).\n",
      "\n",
      "4. **Future Workforce Trends**: AI will reshape jobs, leading to AI-driven displacement and the creation of new roles. Understanding these trends and acquiring must-have skills will be crucial for thriving in the evolving workforce. [Learn more on Cognitive Today](https://www.cognitivetoday.com/2025/03/ai-job-market-impact-on-employment-future-workforce-trends/).\n",
      "\n",
      "5. **Hiring Data Insights**: Insights into the latest AI job trends, including top industries hiring and emerging roles, can be found in various reports and analyses. [Read more on GetAura](https://blog.getaura.ai/ai-job-trends-2025).\n",
      "\n",
      "These resources provide a comprehensive overview of the anticipated changes and opportunities in the AI job market by 2025.\n"
     ]
    }
   ],
   "source": [
    "from praisonaiagents import Agent\n",
    "\n",
    "agent = Agent(\n",
    "    instructions=\"You are an AI assistant with internet search capabilities.\",\n",
    "    tools=[internet_search_tool]\n",
    ")\n",
    "\n",
    "# Main: Ask a question\n",
    "query = 'AI job trends in 2025'  # You can change this prompt\n",
    "response = agent.start(query)\n",
    "print('Response:')\n",
    "print(response)"
   ]
  }
 ],
 "metadata": {
  "colab": {
   "provenance": []
  },
  "kernelspec": {
   "display_name": "Python 3",
   "name": "python3"
  },
  "language_info": {
   "name": "python"
  }
 },
 "nbformat": 4,
 "nbformat_minor": 0
}
