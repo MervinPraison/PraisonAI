{
 "cells": [
  {
   "cell_type": "markdown",
   "id": "c417d47b",
   "metadata": {
    "id": "c417d47b"
   },
   "source": [
    "# YouTube Influencer Intelligence Agent\n",
    "\n",
    "Analyzes YouTube influencers for marketing or collaboration purposes."
   ]
  },
  {
   "cell_type": "markdown",
   "id": "xox_eBaJg4rq",
   "metadata": {
    "id": "xox_eBaJg4rq"
   },
   "source": [
    "[![Open in Colab](https://colab.research.google.com/assets/colab-badge.svg)](https://colab.research.google.com/github/DhivyaBharathy-web/PraisonAI/blob/main/examples/cookbooks/YouTube_Influencer_Intelligence_Agent.ipynb)"
   ]
  },
  {
   "cell_type": "markdown",
   "id": "jsaqhbElgHza",
   "metadata": {
    "id": "jsaqhbElgHza"
   },
   "source": [
    "# Dependencies"
   ]
  },
  {
   "cell_type": "code",
   "execution_count": 1,
   "id": "324febba",
   "metadata": {
    "colab": {
     "base_uri": "https://localhost:8080/"
    },
    "id": "324febba",
    "outputId": "148556a5-fd5e-44ee-e4e1-56ae68709464"
   },
   "outputs": [
    {
     "name": "stdout",
     "output_type": "stream",
     "text": [
      "\u001b[?25l   \u001b[90m━━━━━━━━━━━━━━━━━━━━━━━━━━━━━━━━━━━━━━━━\u001b[0m \u001b[32m0.0/176.8 kB\u001b[0m \u001b[31m?\u001b[0m eta \u001b[36m-:--:--\u001b[0m\r",
      "\u001b[2K   \u001b[90m━━━━━━━━━━━━━━━━━━━━━━━━━━━━━━━━━━━━━━━━\u001b[0m \u001b[32m176.8/176.8 kB\u001b[0m \u001b[31m6.7 MB/s\u001b[0m eta \u001b[36m0:00:00\u001b[0m\n",
      "\u001b[2K   \u001b[90m━━━━━━━━━━━━━━━━━━━━━━━━━━━━━━━━━━━━━━━━\u001b[0m \u001b[32m130.2/130.2 kB\u001b[0m \u001b[31m5.7 MB/s\u001b[0m eta \u001b[36m0:00:00\u001b[0m\n",
      "\u001b[2K   \u001b[90m━━━━━━━━━━━━━━━━━━━━━━━━━━━━━━━━━━━━━━━━\u001b[0m \u001b[32m105.4/105.4 kB\u001b[0m \u001b[31m5.0 MB/s\u001b[0m eta \u001b[36m0:00:00\u001b[0m\n",
      "\u001b[2K   \u001b[90m━━━━━━━━━━━━━━━━━━━━━━━━━━━━━━━━━━━━━━━━\u001b[0m \u001b[32m3.3/3.3 MB\u001b[0m \u001b[31m41.0 MB/s\u001b[0m eta \u001b[36m0:00:00\u001b[0m\n",
      "\u001b[2K   \u001b[90m━━━━━━━━━━━━━━━━━━━━━━━━━━━━━━━━━━━━━━━━\u001b[0m \u001b[32m45.2/45.2 kB\u001b[0m \u001b[31m3.4 MB/s\u001b[0m eta \u001b[36m0:00:00\u001b[0m\n",
      "\u001b[?25h"
     ]
    }
   ],
   "source": [
    "!pip install -q praisonaiagents openai duckduckgo_search"
   ]
  },
  {
   "cell_type": "markdown",
   "id": "pnILL4wigO--",
   "metadata": {
    "id": "pnILL4wigO--"
   },
   "source": [
    "# Set OpenAI API Key"
   ]
  },
  {
   "cell_type": "code",
   "execution_count": 2,
   "id": "2997709c",
   "metadata": {
    "colab": {
     "base_uri": "https://localhost:8080/"
    },
    "id": "2997709c",
    "outputId": "c6369f33-76c5-4b23-fd68-ed1ec92eec0e"
   },
   "outputs": [
    {
     "name": "stdout",
     "output_type": "stream",
     "text": [
      "Enter your OpenAI API key: ··········\n"
     ]
    }
   ],
   "source": [
    "import os\n",
    "from getpass import getpass\n",
    "\n",
    "# 🔑 Securely input your API key\n",
    "os.environ[\"OPENAI_API_KEY\"] = getpass(\"Enter your OpenAI API key: \")\n",
    "import openai\n",
    "openai.api_key = os.getenv(\"OPENAI_API_KEY\")\n"
   ]
  },
  {
   "cell_type": "markdown",
   "id": "fhuSmjHFgW8t",
   "metadata": {
    "id": "fhuSmjHFgW8t"
   },
   "source": [
    "# Import PraisonAI Agents"
   ]
  },
  {
   "cell_type": "code",
   "execution_count": 3,
   "id": "1c01dc84",
   "metadata": {
    "id": "1c01dc84"
   },
   "outputs": [],
   "source": [
    "from praisonaiagents import Agent, Task, PraisonAIAgents"
   ]
  },
  {
   "cell_type": "markdown",
   "id": "49a41cdd",
   "metadata": {
    "id": "49a41cdd"
   },
   "source": [
    "# YAML Prompt"
   ]
  },
  {
   "cell_type": "code",
   "execution_count": 4,
   "id": "0b3a6096",
   "metadata": {
    "id": "0b3a6096"
   },
   "outputs": [],
   "source": [
    "yaml_prompt = \"\"\"\n",
    "name: YouTubeInfluencerIntelligence\n",
    "role: YouTube Channel Analysis and Strategy Expert\n",
    "goal: Analyze YouTube influencers and channels to provide strategic insights, trends, and content suggestions.\n",
    "backstory: You are a YouTube analytics expert trained in identifying trends, engagement metrics, and content strategies.\n",
    "skills:\n",
    "  - Analyze subscriber and engagement data\n",
    "  - Spot content patterns and trends\n",
    "  - Recommend growth strategies\n",
    "  - Detect potential monetization methods\n",
    "llm: gpt-5-mini\n",
    "verbosity: true\n",
    "format: markdown\n",
    "\"\"\"\n"
   ]
  },
  {
   "cell_type": "markdown",
   "id": "dQ0vQrsggiqt",
   "metadata": {
    "id": "dQ0vQrsggiqt"
   },
   "source": [
    "# Define the Intelligence Agent"
   ]
  },
  {
   "cell_type": "code",
   "execution_count": 5,
   "id": "f293e64e",
   "metadata": {
    "id": "f293e64e"
   },
   "outputs": [],
   "source": [
    "yt_agent = Agent(\n",
    "    name=\"YouTubeInfluencerIntel\",\n",
    "    instructions=\"\"\"\n",
    "You are a YouTube intelligence analyst. Your job is to research a specific channel, niche, or influencer topic.\n",
    "Provide growth recommendations, engagement analysis, trending strategies, and monetization tips. Format in markdown.\n",
    "\"\"\",\n",
    "    llm=\"gpt-5-mini\",\n",
    "    verbose=True,\n",
    "    markdown=True\n",
    ")\n"
   ]
  },
  {
   "cell_type": "markdown",
   "id": "ULFepw5ggoRY",
   "metadata": {
    "id": "ULFepw5ggoRY"
   },
   "source": [
    "# Define the Task"
   ]
  },
  {
   "cell_type": "code",
   "execution_count": 6,
   "id": "pplhgO0WglsY",
   "metadata": {
    "id": "pplhgO0WglsY"
   },
   "outputs": [],
   "source": [
    "yt_task = Task(\n",
    "    name=\"AnalyzeInfluencerChannel\",\n",
    "    description=\"Analyze the growth strategy of the YouTube channel 'Ali Abdaal' and suggest content ideas for a new productivity creator.\",\n",
    "    expected_output=\"A markdown report with channel strengths, content patterns, audience engagement tips, and content ideas.\",\n",
    "    agent=yt_agent\n",
    ")\n"
   ]
  },
  {
   "cell_type": "markdown",
   "id": "JCLR8cZEguUV",
   "metadata": {
    "id": "JCLR8cZEguUV"
   },
   "source": [
    "# Create Agent System"
   ]
  },
  {
   "cell_type": "code",
   "execution_count": 7,
   "id": "DT34DDBmgqbk",
   "metadata": {
    "id": "DT34DDBmgqbk"
   },
   "outputs": [],
   "source": [
    "yt_intel_system = PraisonAIAgents(\n",
    "    agents=[yt_agent],\n",
    "    tasks=[yt_task],\n",
    "    process=\"sequential\",\n",
    "    verbose=True\n",
    ")\n"
   ]
  },
  {
   "cell_type": "markdown",
   "id": "N1gjbZ33gzzN",
   "metadata": {
    "id": "N1gjbZ33gzzN"
   },
   "source": [
    "# Run the Agent"
   ]
  },
  {
   "cell_type": "code",
   "execution_count": 8,
   "id": "yjM_e2rQgw2h",
   "metadata": {
    "colab": {
     "base_uri": "https://localhost:8080/",
     "height": 1000,
     "referenced_widgets": [
      "b04f460c5c974d6b9360a8bea97ab662",
      "f464ceb8423c4e4484b6fd5318cca4c6"
     ]
    },
    "id": "yjM_e2rQgw2h",
    "outputId": "90bb00e7-5829-4f53-ef90-ca9df38a3e23"
   },
   "outputs": [
    {
     "data": {
      "text/html": [
       "<pre style=\"white-space:pre;overflow-x:auto;line-height:normal;font-family:Menlo,'DejaVu Sans Mono',consolas,'Courier New',monospace\"><span style=\"color: #d2e3c8; text-decoration-color: #d2e3c8\">╭─ </span><span style=\"color: #d2e3c8; text-decoration-color: #d2e3c8; font-weight: bold\">Agent Info</span><span style=\"color: #d2e3c8; text-decoration-color: #d2e3c8\"> ────────────────────────────────────────────────────────────────────────────────────────────────────╮</span>\n",
       "<span style=\"color: #d2e3c8; text-decoration-color: #d2e3c8\">│</span>                                                                                                                 <span style=\"color: #d2e3c8; text-decoration-color: #d2e3c8\">│</span>\n",
       "<span style=\"color: #d2e3c8; text-decoration-color: #d2e3c8\">│</span>  <span style=\"color: #ff9b9b; text-decoration-color: #ff9b9b; font-weight: bold\">👤 Agent:</span> <span style=\"color: #ffe5e5; text-decoration-color: #ffe5e5\">YouTubeInfluencerIntel</span>                                                                               <span style=\"color: #d2e3c8; text-decoration-color: #d2e3c8\">│</span>\n",
       "<span style=\"color: #d2e3c8; text-decoration-color: #d2e3c8\">│</span>  <span style=\"color: #b4b4b3; text-decoration-color: #b4b4b3; font-weight: bold\">Role:</span> <span style=\"color: #ffe5e5; text-decoration-color: #ffe5e5\">Assistant</span>                                                                                                <span style=\"color: #d2e3c8; text-decoration-color: #d2e3c8\">│</span>\n",
       "<span style=\"color: #d2e3c8; text-decoration-color: #d2e3c8\">│</span>                                                                                                                 <span style=\"color: #d2e3c8; text-decoration-color: #d2e3c8\">│</span>\n",
       "<span style=\"color: #d2e3c8; text-decoration-color: #d2e3c8\">╰─────────────────────────────────────────────────────────────────────────────────────────────────────────────────╯</span>\n",
       "</pre>\n"
      ],
      "text/plain": [
       "\u001b[38;2;210;227;200m╭─\u001b[0m\u001b[38;2;210;227;200m \u001b[0m\u001b[1;38;2;210;227;200mAgent Info\u001b[0m\u001b[38;2;210;227;200m \u001b[0m\u001b[38;2;210;227;200m───────────────────────────────────────────────────────────────────────────────────────────────────\u001b[0m\u001b[38;2;210;227;200m─╮\u001b[0m\n",
       "\u001b[38;2;210;227;200m│\u001b[0m                                                                                                                 \u001b[38;2;210;227;200m│\u001b[0m\n",
       "\u001b[38;2;210;227;200m│\u001b[0m  \u001b[1;38;2;255;155;155m👤 Agent:\u001b[0m \u001b[38;2;255;229;229mYouTubeInfluencerIntel\u001b[0m                                                                               \u001b[38;2;210;227;200m│\u001b[0m\n",
       "\u001b[38;2;210;227;200m│\u001b[0m  \u001b[1;38;2;180;180;179mRole:\u001b[0m \u001b[38;2;255;229;229mAssistant\u001b[0m                                                                                                \u001b[38;2;210;227;200m│\u001b[0m\n",
       "\u001b[38;2;210;227;200m│\u001b[0m                                                                                                                 \u001b[38;2;210;227;200m│\u001b[0m\n",
       "\u001b[38;2;210;227;200m╰─────────────────────────────────────────────────────────────────────────────────────────────────────────────────╯\u001b[0m\n"
      ]
     },
     "metadata": {},
     "output_type": "display_data"
    },
    {
     "data": {
      "application/vnd.jupyter.widget-view+json": {
       "model_id": "b04f460c5c974d6b9360a8bea97ab662",
       "version_major": 2,
       "version_minor": 0
      },
      "text/plain": [
       "Output()"
      ]
     },
     "metadata": {},
     "output_type": "display_data"
    },
    {
     "data": {
      "text/html": [
       "<pre style=\"white-space:pre;overflow-x:auto;line-height:normal;font-family:Menlo,'DejaVu Sans Mono',consolas,'Courier New',monospace\"></pre>\n"
      ],
      "text/plain": []
     },
     "metadata": {},
     "output_type": "display_data"
    },
    {
     "data": {
      "text/html": [
       "<pre style=\"white-space:pre;overflow-x:auto;line-height:normal;font-family:Menlo,'DejaVu Sans Mono',consolas,'Courier New',monospace\">\n",
       "</pre>\n"
      ],
      "text/plain": [
       "\n"
      ]
     },
     "metadata": {},
     "output_type": "display_data"
    },
    {
     "data": {
      "text/html": [
       "<pre style=\"white-space:pre;overflow-x:auto;line-height:normal;font-family:Menlo,'DejaVu Sans Mono',consolas,'Courier New',monospace\"><span style=\"color: #7f7f7f; text-decoration-color: #7f7f7f\">Response generated in 12.5s</span>\n",
       "</pre>\n"
      ],
      "text/plain": [
       "\u001b[2mResponse generated in 12.5s\u001b[0m\n"
      ]
     },
     "metadata": {},
     "output_type": "display_data"
    },
    {
     "data": {
      "text/html": [
       "<pre style=\"white-space:pre;overflow-x:auto;line-height:normal;font-family:Menlo,'DejaVu Sans Mono',consolas,'Courier New',monospace\"><span style=\"color: #008080; text-decoration-color: #008080\">╭───────────────────────────────────────────────────── Task ──────────────────────────────────────────────────────╮</span>\n",
       "<span style=\"color: #008080; text-decoration-color: #008080\">│</span> You need to do the following task: Analyze the growth strategy of the YouTube channel 'Ali Abdaal' and suggest  <span style=\"color: #008080; text-decoration-color: #008080\">│</span>\n",
       "<span style=\"color: #008080; text-decoration-color: #008080\">│</span> content ideas for a new productivity creator.. Expected Output: A markdown report with channel strengths,       <span style=\"color: #008080; text-decoration-color: #008080\">│</span>\n",
       "<span style=\"color: #008080; text-decoration-color: #008080\">│</span> content patterns, audience engagement tips, and content ideas.. Please provide only the final result of your    <span style=\"color: #008080; text-decoration-color: #008080\">│</span>\n",
       "<span style=\"color: #008080; text-decoration-color: #008080\">│</span> work. Do not add any conversation or extra explanation.                                                         <span style=\"color: #008080; text-decoration-color: #008080\">│</span>\n",
       "<span style=\"color: #008080; text-decoration-color: #008080\">╰─────────────────────────────────────────────────────────────────────────────────────────────────────────────────╯</span>\n",
       "</pre>\n"
      ],
      "text/plain": [
       "\u001b[36m╭─\u001b[0m\u001b[36m────────────────────────────────────────────────────\u001b[0m\u001b[36m Task \u001b[0m\u001b[36m─────────────────────────────────────────────────────\u001b[0m\u001b[36m─╮\u001b[0m\n",
       "\u001b[36m│\u001b[0m You need to do the following task: Analyze the growth strategy of the YouTube channel 'Ali Abdaal' and suggest  \u001b[36m│\u001b[0m\n",
       "\u001b[36m│\u001b[0m content ideas for a new productivity creator.. Expected Output: A markdown report with channel strengths,       \u001b[36m│\u001b[0m\n",
       "\u001b[36m│\u001b[0m content patterns, audience engagement tips, and content ideas.. Please provide only the final result of your    \u001b[36m│\u001b[0m\n",
       "\u001b[36m│\u001b[0m work. Do not add any conversation or extra explanation.                                                         \u001b[36m│\u001b[0m\n",
       "\u001b[36m╰─────────────────────────────────────────────────────────────────────────────────────────────────────────────────╯\u001b[0m\n"
      ]
     },
     "metadata": {},
     "output_type": "display_data"
    },
    {
     "data": {
      "text/html": [
       "<pre style=\"white-space:pre;overflow-x:auto;line-height:normal;font-family:Menlo,'DejaVu Sans Mono',consolas,'Courier New',monospace\"><span style=\"color: #008080; text-decoration-color: #008080\">╭─────────────────────────────────────────────────── Response ────────────────────────────────────────────────────╮</span>\n",
       "<span style=\"color: #008080; text-decoration-color: #008080\">│</span> ┏━━━━━━━━━━━━━━━━━━━━━━━━━━━━━━━━━━━━━━━━━━━━━━━━━━━━━━━━━━━━━━━━━━━━━━━━━━━━━━━━━━━━━━━━━━━━━━━━━━━━━━━━━━━━━┓ <span style=\"color: #008080; text-decoration-color: #008080\">│</span>\n",
       "<span style=\"color: #008080; text-decoration-color: #008080\">│</span> ┃                                    <span style=\"font-weight: bold\">YouTube Channel Analysis: Ali Abdaal</span>                                     ┃ <span style=\"color: #008080; text-decoration-color: #008080\">│</span>\n",
       "<span style=\"color: #008080; text-decoration-color: #008080\">│</span> ┗━━━━━━━━━━━━━━━━━━━━━━━━━━━━━━━━━━━━━━━━━━━━━━━━━━━━━━━━━━━━━━━━━━━━━━━━━━━━━━━━━━━━━━━━━━━━━━━━━━━━━━━━━━━━━┛ <span style=\"color: #008080; text-decoration-color: #008080\">│</span>\n",
       "<span style=\"color: #008080; text-decoration-color: #008080\">│</span>                                                                                                                 <span style=\"color: #008080; text-decoration-color: #008080\">│</span>\n",
       "<span style=\"color: #008080; text-decoration-color: #008080\">│</span>                                                                                                                 <span style=\"color: #008080; text-decoration-color: #008080\">│</span>\n",
       "<span style=\"color: #008080; text-decoration-color: #008080\">│</span>                                                <span style=\"font-weight: bold; text-decoration: underline\">Channel Strengths</span>                                                <span style=\"color: #008080; text-decoration-color: #008080\">│</span>\n",
       "<span style=\"color: #008080; text-decoration-color: #008080\">│</span>                                                                                                                 <span style=\"color: #008080; text-decoration-color: #008080\">│</span>\n",
       "<span style=\"color: #008080; text-decoration-color: #008080\">│</span> <span style=\"color: #808000; text-decoration-color: #808000; font-weight: bold\"> • </span><span style=\"font-weight: bold\">Educational Content</span>: Ali Abdaal is known for his informative and educational content, focusing on            <span style=\"color: #008080; text-decoration-color: #008080\">│</span>\n",
       "<span style=\"color: #008080; text-decoration-color: #008080\">│</span> <span style=\"color: #808000; text-decoration-color: #808000; font-weight: bold\">   </span>productivity, personal development, and tech reviews.                                                        <span style=\"color: #008080; text-decoration-color: #008080\">│</span>\n",
       "<span style=\"color: #008080; text-decoration-color: #008080\">│</span> <span style=\"color: #808000; text-decoration-color: #808000; font-weight: bold\"> • </span><span style=\"font-weight: bold\">Authenticity</span>: His genuine and relatable personality helps build trust with his audience.                     <span style=\"color: #008080; text-decoration-color: #008080\">│</span>\n",
       "<span style=\"color: #008080; text-decoration-color: #008080\">│</span> <span style=\"color: #808000; text-decoration-color: #808000; font-weight: bold\"> • </span><span style=\"font-weight: bold\">Consistency</span>: Regular uploads and a consistent content schedule keep the audience engaged.                    <span style=\"color: #008080; text-decoration-color: #008080\">│</span>\n",
       "<span style=\"color: #008080; text-decoration-color: #008080\">│</span> <span style=\"color: #808000; text-decoration-color: #808000; font-weight: bold\"> • </span><span style=\"font-weight: bold\">High-Quality Production</span>: Professional video and audio quality enhance viewer experience.                     <span style=\"color: #008080; text-decoration-color: #008080\">│</span>\n",
       "<span style=\"color: #008080; text-decoration-color: #008080\">│</span> <span style=\"color: #808000; text-decoration-color: #808000; font-weight: bold\"> • </span><span style=\"font-weight: bold\">Diverse Content Formats</span>: Utilizes a mix of long-form videos, vlogs, and shorts to cater to different         <span style=\"color: #008080; text-decoration-color: #008080\">│</span>\n",
       "<span style=\"color: #008080; text-decoration-color: #008080\">│</span> <span style=\"color: #808000; text-decoration-color: #808000; font-weight: bold\">   </span>audience preferences.                                                                                        <span style=\"color: #008080; text-decoration-color: #008080\">│</span>\n",
       "<span style=\"color: #008080; text-decoration-color: #008080\">│</span>                                                                                                                 <span style=\"color: #008080; text-decoration-color: #008080\">│</span>\n",
       "<span style=\"color: #008080; text-decoration-color: #008080\">│</span>                                                                                                                 <span style=\"color: #008080; text-decoration-color: #008080\">│</span>\n",
       "<span style=\"color: #008080; text-decoration-color: #008080\">│</span>                                                <span style=\"font-weight: bold; text-decoration: underline\">Content Patterns</span>                                                 <span style=\"color: #008080; text-decoration-color: #008080\">│</span>\n",
       "<span style=\"color: #008080; text-decoration-color: #008080\">│</span>                                                                                                                 <span style=\"color: #008080; text-decoration-color: #008080\">│</span>\n",
       "<span style=\"color: #008080; text-decoration-color: #008080\">│</span> <span style=\"color: #808000; text-decoration-color: #808000; font-weight: bold\"> • </span><span style=\"font-weight: bold\">Productivity Tips</span>: Videos often focus on productivity hacks, study techniques, and time management.          <span style=\"color: #008080; text-decoration-color: #008080\">│</span>\n",
       "<span style=\"color: #008080; text-decoration-color: #008080\">│</span> <span style=\"color: #808000; text-decoration-color: #808000; font-weight: bold\"> • </span><span style=\"font-weight: bold\">Book Reviews and Summaries</span>: Regularly shares insights from books, appealing to an audience interested in     <span style=\"color: #008080; text-decoration-color: #008080\">│</span>\n",
       "<span style=\"color: #008080; text-decoration-color: #008080\">│</span> <span style=\"color: #808000; text-decoration-color: #808000; font-weight: bold\">   </span>self-improvement.                                                                                            <span style=\"color: #008080; text-decoration-color: #008080\">│</span>\n",
       "<span style=\"color: #008080; text-decoration-color: #008080\">│</span> <span style=\"color: #808000; text-decoration-color: #808000; font-weight: bold\"> • </span><span style=\"font-weight: bold\">Tech and Tools</span>: Reviews and recommendations of productivity tools and tech gadgets.                          <span style=\"color: #008080; text-decoration-color: #008080\">│</span>\n",
       "<span style=\"color: #008080; text-decoration-color: #008080\">│</span> <span style=\"color: #808000; text-decoration-color: #808000; font-weight: bold\"> • </span><span style=\"font-weight: bold\">Personal Development</span>: Content on habits, routines, and personal growth strategies.                           <span style=\"color: #008080; text-decoration-color: #008080\">│</span>\n",
       "<span style=\"color: #008080; text-decoration-color: #008080\">│</span> <span style=\"color: #808000; text-decoration-color: #808000; font-weight: bold\"> • </span><span style=\"font-weight: bold\">Collaborations</span>: Features interviews and collaborations with other influencers and experts.                   <span style=\"color: #008080; text-decoration-color: #008080\">│</span>\n",
       "<span style=\"color: #008080; text-decoration-color: #008080\">│</span>                                                                                                                 <span style=\"color: #008080; text-decoration-color: #008080\">│</span>\n",
       "<span style=\"color: #008080; text-decoration-color: #008080\">│</span>                                                                                                                 <span style=\"color: #008080; text-decoration-color: #008080\">│</span>\n",
       "<span style=\"color: #008080; text-decoration-color: #008080\">│</span>                                            <span style=\"font-weight: bold; text-decoration: underline\">Audience Engagement Tips</span>                                             <span style=\"color: #008080; text-decoration-color: #008080\">│</span>\n",
       "<span style=\"color: #008080; text-decoration-color: #008080\">│</span>                                                                                                                 <span style=\"color: #008080; text-decoration-color: #008080\">│</span>\n",
       "<span style=\"color: #008080; text-decoration-color: #008080\">│</span> <span style=\"color: #808000; text-decoration-color: #808000; font-weight: bold\"> • </span><span style=\"font-weight: bold\">Community Building</span>: Encourage viewer interaction through comments, polls, and Q&amp;A sessions.                  <span style=\"color: #008080; text-decoration-color: #008080\">│</span>\n",
       "<span style=\"color: #008080; text-decoration-color: #008080\">│</span> <span style=\"color: #808000; text-decoration-color: #808000; font-weight: bold\"> • </span><span style=\"font-weight: bold\">Feedback Loop</span>: Regularly ask for audience feedback to tailor content to viewer preferences.                  <span style=\"color: #008080; text-decoration-color: #008080\">│</span>\n",
       "<span style=\"color: #008080; text-decoration-color: #008080\">│</span> <span style=\"color: #808000; text-decoration-color: #808000; font-weight: bold\"> • </span><span style=\"font-weight: bold\">Live Streams</span>: Host live sessions to engage with the audience in real-time and build a stronger community.    <span style=\"color: #008080; text-decoration-color: #008080\">│</span>\n",
       "<span style=\"color: #008080; text-decoration-color: #008080\">│</span> <span style=\"color: #808000; text-decoration-color: #808000; font-weight: bold\"> • </span><span style=\"font-weight: bold\">Social Media Integration</span>: Use platforms like Instagram and Twitter to engage with the audience outside of    <span style=\"color: #008080; text-decoration-color: #008080\">│</span>\n",
       "<span style=\"color: #008080; text-decoration-color: #008080\">│</span> <span style=\"color: #808000; text-decoration-color: #808000; font-weight: bold\">   </span>YouTube.                                                                                                     <span style=\"color: #008080; text-decoration-color: #008080\">│</span>\n",
       "<span style=\"color: #008080; text-decoration-color: #008080\">│</span>                                                                                                                 <span style=\"color: #008080; text-decoration-color: #008080\">│</span>\n",
       "<span style=\"color: #008080; text-decoration-color: #008080\">│</span>                                                                                                                 <span style=\"color: #008080; text-decoration-color: #008080\">│</span>\n",
       "<span style=\"color: #008080; text-decoration-color: #008080\">│</span>                                  <span style=\"font-weight: bold; text-decoration: underline\">Content Ideas for a New Productivity Creator</span>                                   <span style=\"color: #008080; text-decoration-color: #008080\">│</span>\n",
       "<span style=\"color: #008080; text-decoration-color: #008080\">│</span>                                                                                                                 <span style=\"color: #008080; text-decoration-color: #008080\">│</span>\n",
       "<span style=\"color: #008080; text-decoration-color: #008080\">│</span> <span style=\"color: #808000; text-decoration-color: #808000; font-weight: bold\"> 1 </span><span style=\"font-weight: bold\">Daily Routine Vlogs</span>: Share a day-in-the-life video focusing on productivity habits and routines.             <span style=\"color: #008080; text-decoration-color: #008080\">│</span>\n",
       "<span style=\"color: #008080; text-decoration-color: #008080\">│</span> <span style=\"color: #808000; text-decoration-color: #808000; font-weight: bold\"> 2 </span><span style=\"font-weight: bold\">Productivity Challenges</span>: Create a series where you try different productivity techniques for a week and      <span style=\"color: #008080; text-decoration-color: #008080\">│</span>\n",
       "<span style=\"color: #008080; text-decoration-color: #008080\">│</span> <span style=\"color: #808000; text-decoration-color: #808000; font-weight: bold\">   </span>share results.                                                                                               <span style=\"color: #008080; text-decoration-color: #008080\">│</span>\n",
       "<span style=\"color: #008080; text-decoration-color: #008080\">│</span> <span style=\"color: #808000; text-decoration-color: #808000; font-weight: bold\"> 3 </span><span style=\"font-weight: bold\">Tool Comparisons</span>: Compare popular productivity tools and apps, providing pros and cons for each.             <span style=\"color: #008080; text-decoration-color: #008080\">│</span>\n",
       "<span style=\"color: #008080; text-decoration-color: #008080\">│</span> <span style=\"color: #808000; text-decoration-color: #808000; font-weight: bold\"> 4 </span><span style=\"font-weight: bold\">Case Studies</span>: Analyze the productivity habits of successful individuals and extract actionable insights.     <span style=\"color: #008080; text-decoration-color: #008080\">│</span>\n",
       "<span style=\"color: #008080; text-decoration-color: #008080\">│</span> <span style=\"color: #808000; text-decoration-color: #808000; font-weight: bold\"> 5 </span><span style=\"font-weight: bold\">Interactive Workshops</span>: Host virtual workshops on productivity topics, encouraging viewer participation.      <span style=\"color: #008080; text-decoration-color: #008080\">│</span>\n",
       "<span style=\"color: #008080; text-decoration-color: #008080\">│</span> <span style=\"color: #808000; text-decoration-color: #808000; font-weight: bold\"> 6 </span><span style=\"font-weight: bold\">Behind-the-Scenes</span>: Offer a glimpse into your content creation process and how you stay productive.           <span style=\"color: #008080; text-decoration-color: #008080\">│</span>\n",
       "<span style=\"color: #008080; text-decoration-color: #008080\">│</span> <span style=\"color: #808000; text-decoration-color: #808000; font-weight: bold\"> 7 </span><span style=\"font-weight: bold\">Book Club</span>: Start a monthly book club focusing on productivity and personal development books.                <span style=\"color: #008080; text-decoration-color: #008080\">│</span>\n",
       "<span style=\"color: #008080; text-decoration-color: #008080\">│</span> <span style=\"color: #808000; text-decoration-color: #808000; font-weight: bold\"> 8 </span><span style=\"font-weight: bold\">Myth Busting</span>: Debunk common productivity myths and provide evidence-based alternatives.                      <span style=\"color: #008080; text-decoration-color: #008080\">│</span>\n",
       "<span style=\"color: #008080; text-decoration-color: #008080\">│</span>                                                                                                                 <span style=\"color: #008080; text-decoration-color: #008080\">│</span>\n",
       "<span style=\"color: #008080; text-decoration-color: #008080\">│</span>                                                                                                                 <span style=\"color: #008080; text-decoration-color: #008080\">│</span>\n",
       "<span style=\"color: #008080; text-decoration-color: #008080\">│</span>                                               <span style=\"font-weight: bold; text-decoration: underline\">Trending Strategies</span>                                               <span style=\"color: #008080; text-decoration-color: #008080\">│</span>\n",
       "<span style=\"color: #008080; text-decoration-color: #008080\">│</span>                                                                                                                 <span style=\"color: #008080; text-decoration-color: #008080\">│</span>\n",
       "<span style=\"color: #008080; text-decoration-color: #008080\">│</span> <span style=\"color: #808000; text-decoration-color: #808000; font-weight: bold\"> • </span><span style=\"font-weight: bold\">Short-Form Content</span>: Leverage YouTube Shorts to capture attention with quick, impactful productivity tips.    <span style=\"color: #008080; text-decoration-color: #008080\">│</span>\n",
       "<span style=\"color: #008080; text-decoration-color: #008080\">│</span> <span style=\"color: #808000; text-decoration-color: #808000; font-weight: bold\"> • </span><span style=\"font-weight: bold\">SEO Optimization</span>: Use relevant keywords and tags to improve video discoverability.                           <span style=\"color: #008080; text-decoration-color: #008080\">│</span>\n",
       "<span style=\"color: #008080; text-decoration-color: #008080\">│</span> <span style=\"color: #808000; text-decoration-color: #808000; font-weight: bold\"> • </span><span style=\"font-weight: bold\">Cross-Promotion</span>: Collaborate with other creators in the productivity niche to reach new audiences.           <span style=\"color: #008080; text-decoration-color: #008080\">│</span>\n",
       "<span style=\"color: #008080; text-decoration-color: #008080\">│</span> <span style=\"color: #808000; text-decoration-color: #808000; font-weight: bold\"> • </span><span style=\"font-weight: bold\">Series Format</span>: Develop a series around a specific productivity theme to encourage binge-watching.            <span style=\"color: #008080; text-decoration-color: #008080\">│</span>\n",
       "<span style=\"color: #008080; text-decoration-color: #008080\">│</span>                                                                                                                 <span style=\"color: #008080; text-decoration-color: #008080\">│</span>\n",
       "<span style=\"color: #008080; text-decoration-color: #008080\">│</span>                                                                                                                 <span style=\"color: #008080; text-decoration-color: #008080\">│</span>\n",
       "<span style=\"color: #008080; text-decoration-color: #008080\">│</span>                                                <span style=\"font-weight: bold; text-decoration: underline\">Monetization Tips</span>                                                <span style=\"color: #008080; text-decoration-color: #008080\">│</span>\n",
       "<span style=\"color: #008080; text-decoration-color: #008080\">│</span>                                                                                                                 <span style=\"color: #008080; text-decoration-color: #008080\">│</span>\n",
       "<span style=\"color: #008080; text-decoration-color: #008080\">│</span> <span style=\"color: #808000; text-decoration-color: #808000; font-weight: bold\"> • </span><span style=\"font-weight: bold\">Affiliate Marketing</span>: Promote productivity tools and books with affiliate links.                              <span style=\"color: #008080; text-decoration-color: #008080\">│</span>\n",
       "<span style=\"color: #008080; text-decoration-color: #008080\">│</span> <span style=\"color: #808000; text-decoration-color: #808000; font-weight: bold\"> • </span><span style=\"font-weight: bold\">Online Courses</span>: Develop and sell courses on productivity and personal development.                           <span style=\"color: #008080; text-decoration-color: #008080\">│</span>\n",
       "<span style=\"color: #008080; text-decoration-color: #008080\">│</span> <span style=\"color: #808000; text-decoration-color: #808000; font-weight: bold\"> • </span><span style=\"font-weight: bold\">Merchandise</span>: Create branded merchandise related to productivity themes.                                      <span style=\"color: #008080; text-decoration-color: #008080\">│</span>\n",
       "<span style=\"color: #008080; text-decoration-color: #008080\">│</span> <span style=\"color: #808000; text-decoration-color: #808000; font-weight: bold\"> • </span><span style=\"font-weight: bold\">Sponsorships</span>: Partner with brands that align with your content and audience interests.                       <span style=\"color: #008080; text-decoration-color: #008080\">│</span>\n",
       "<span style=\"color: #008080; text-decoration-color: #008080\">│</span> <span style=\"color: #808000; text-decoration-color: #808000; font-weight: bold\"> • </span><span style=\"font-weight: bold\">Memberships</span>: Offer exclusive content and perks through YouTube memberships or Patreon.                       <span style=\"color: #008080; text-decoration-color: #008080\">│</span>\n",
       "<span style=\"color: #008080; text-decoration-color: #008080\">│</span>                                                                                                                 <span style=\"color: #008080; text-decoration-color: #008080\">│</span>\n",
       "<span style=\"color: #008080; text-decoration-color: #008080\">│</span> By leveraging these insights and strategies, a new productivity creator can effectively grow their channel and  <span style=\"color: #008080; text-decoration-color: #008080\">│</span>\n",
       "<span style=\"color: #008080; text-decoration-color: #008080\">│</span> engage with their audience.                                                                                     <span style=\"color: #008080; text-decoration-color: #008080\">│</span>\n",
       "<span style=\"color: #008080; text-decoration-color: #008080\">╰─────────────────────────────────────────────────────────────────────────────────────────────────────────────────╯</span>\n",
       "</pre>\n"
      ],
      "text/plain": [
       "\u001b[36m╭─\u001b[0m\u001b[36m──────────────────────────────────────────────────\u001b[0m\u001b[36m Response \u001b[0m\u001b[36m───────────────────────────────────────────────────\u001b[0m\u001b[36m─╮\u001b[0m\n",
       "\u001b[36m│\u001b[0m ┏━━━━━━━━━━━━━━━━━━━━━━━━━━━━━━━━━━━━━━━━━━━━━━━━━━━━━━━━━━━━━━━━━━━━━━━━━━━━━━━━━━━━━━━━━━━━━━━━━━━━━━━━━━━━━┓ \u001b[36m│\u001b[0m\n",
       "\u001b[36m│\u001b[0m ┃                                    \u001b[1mYouTube Channel Analysis: Ali Abdaal\u001b[0m                                     ┃ \u001b[36m│\u001b[0m\n",
       "\u001b[36m│\u001b[0m ┗━━━━━━━━━━━━━━━━━━━━━━━━━━━━━━━━━━━━━━━━━━━━━━━━━━━━━━━━━━━━━━━━━━━━━━━━━━━━━━━━━━━━━━━━━━━━━━━━━━━━━━━━━━━━━┛ \u001b[36m│\u001b[0m\n",
       "\u001b[36m│\u001b[0m                                                                                                                 \u001b[36m│\u001b[0m\n",
       "\u001b[36m│\u001b[0m                                                                                                                 \u001b[36m│\u001b[0m\n",
       "\u001b[36m│\u001b[0m                                                \u001b[1;4mChannel Strengths\u001b[0m                                                \u001b[36m│\u001b[0m\n",
       "\u001b[36m│\u001b[0m                                                                                                                 \u001b[36m│\u001b[0m\n",
       "\u001b[36m│\u001b[0m \u001b[1;33m • \u001b[0m\u001b[1mEducational Content\u001b[0m: Ali Abdaal is known for his informative and educational content, focusing on            \u001b[36m│\u001b[0m\n",
       "\u001b[36m│\u001b[0m \u001b[1;33m   \u001b[0mproductivity, personal development, and tech reviews.                                                        \u001b[36m│\u001b[0m\n",
       "\u001b[36m│\u001b[0m \u001b[1;33m • \u001b[0m\u001b[1mAuthenticity\u001b[0m: His genuine and relatable personality helps build trust with his audience.                     \u001b[36m│\u001b[0m\n",
       "\u001b[36m│\u001b[0m \u001b[1;33m • \u001b[0m\u001b[1mConsistency\u001b[0m: Regular uploads and a consistent content schedule keep the audience engaged.                    \u001b[36m│\u001b[0m\n",
       "\u001b[36m│\u001b[0m \u001b[1;33m • \u001b[0m\u001b[1mHigh-Quality Production\u001b[0m: Professional video and audio quality enhance viewer experience.                     \u001b[36m│\u001b[0m\n",
       "\u001b[36m│\u001b[0m \u001b[1;33m • \u001b[0m\u001b[1mDiverse Content Formats\u001b[0m: Utilizes a mix of long-form videos, vlogs, and shorts to cater to different         \u001b[36m│\u001b[0m\n",
       "\u001b[36m│\u001b[0m \u001b[1;33m   \u001b[0maudience preferences.                                                                                        \u001b[36m│\u001b[0m\n",
       "\u001b[36m│\u001b[0m                                                                                                                 \u001b[36m│\u001b[0m\n",
       "\u001b[36m│\u001b[0m                                                                                                                 \u001b[36m│\u001b[0m\n",
       "\u001b[36m│\u001b[0m                                                \u001b[1;4mContent Patterns\u001b[0m                                                 \u001b[36m│\u001b[0m\n",
       "\u001b[36m│\u001b[0m                                                                                                                 \u001b[36m│\u001b[0m\n",
       "\u001b[36m│\u001b[0m \u001b[1;33m • \u001b[0m\u001b[1mProductivity Tips\u001b[0m: Videos often focus on productivity hacks, study techniques, and time management.          \u001b[36m│\u001b[0m\n",
       "\u001b[36m│\u001b[0m \u001b[1;33m • \u001b[0m\u001b[1mBook Reviews and Summaries\u001b[0m: Regularly shares insights from books, appealing to an audience interested in     \u001b[36m│\u001b[0m\n",
       "\u001b[36m│\u001b[0m \u001b[1;33m   \u001b[0mself-improvement.                                                                                            \u001b[36m│\u001b[0m\n",
       "\u001b[36m│\u001b[0m \u001b[1;33m • \u001b[0m\u001b[1mTech and Tools\u001b[0m: Reviews and recommendations of productivity tools and tech gadgets.                          \u001b[36m│\u001b[0m\n",
       "\u001b[36m│\u001b[0m \u001b[1;33m • \u001b[0m\u001b[1mPersonal Development\u001b[0m: Content on habits, routines, and personal growth strategies.                           \u001b[36m│\u001b[0m\n",
       "\u001b[36m│\u001b[0m \u001b[1;33m • \u001b[0m\u001b[1mCollaborations\u001b[0m: Features interviews and collaborations with other influencers and experts.                   \u001b[36m│\u001b[0m\n",
       "\u001b[36m│\u001b[0m                                                                                                                 \u001b[36m│\u001b[0m\n",
       "\u001b[36m│\u001b[0m                                                                                                                 \u001b[36m│\u001b[0m\n",
       "\u001b[36m│\u001b[0m                                            \u001b[1;4mAudience Engagement Tips\u001b[0m                                             \u001b[36m│\u001b[0m\n",
       "\u001b[36m│\u001b[0m                                                                                                                 \u001b[36m│\u001b[0m\n",
       "\u001b[36m│\u001b[0m \u001b[1;33m • \u001b[0m\u001b[1mCommunity Building\u001b[0m: Encourage viewer interaction through comments, polls, and Q&A sessions.                  \u001b[36m│\u001b[0m\n",
       "\u001b[36m│\u001b[0m \u001b[1;33m • \u001b[0m\u001b[1mFeedback Loop\u001b[0m: Regularly ask for audience feedback to tailor content to viewer preferences.                  \u001b[36m│\u001b[0m\n",
       "\u001b[36m│\u001b[0m \u001b[1;33m • \u001b[0m\u001b[1mLive Streams\u001b[0m: Host live sessions to engage with the audience in real-time and build a stronger community.    \u001b[36m│\u001b[0m\n",
       "\u001b[36m│\u001b[0m \u001b[1;33m • \u001b[0m\u001b[1mSocial Media Integration\u001b[0m: Use platforms like Instagram and Twitter to engage with the audience outside of    \u001b[36m│\u001b[0m\n",
       "\u001b[36m│\u001b[0m \u001b[1;33m   \u001b[0mYouTube.                                                                                                     \u001b[36m│\u001b[0m\n",
       "\u001b[36m│\u001b[0m                                                                                                                 \u001b[36m│\u001b[0m\n",
       "\u001b[36m│\u001b[0m                                                                                                                 \u001b[36m│\u001b[0m\n",
       "\u001b[36m│\u001b[0m                                  \u001b[1;4mContent Ideas for a New Productivity Creator\u001b[0m                                   \u001b[36m│\u001b[0m\n",
       "\u001b[36m│\u001b[0m                                                                                                                 \u001b[36m│\u001b[0m\n",
       "\u001b[36m│\u001b[0m \u001b[1;33m 1 \u001b[0m\u001b[1mDaily Routine Vlogs\u001b[0m: Share a day-in-the-life video focusing on productivity habits and routines.             \u001b[36m│\u001b[0m\n",
       "\u001b[36m│\u001b[0m \u001b[1;33m 2 \u001b[0m\u001b[1mProductivity Challenges\u001b[0m: Create a series where you try different productivity techniques for a week and      \u001b[36m│\u001b[0m\n",
       "\u001b[36m│\u001b[0m \u001b[1;33m   \u001b[0mshare results.                                                                                               \u001b[36m│\u001b[0m\n",
       "\u001b[36m│\u001b[0m \u001b[1;33m 3 \u001b[0m\u001b[1mTool Comparisons\u001b[0m: Compare popular productivity tools and apps, providing pros and cons for each.             \u001b[36m│\u001b[0m\n",
       "\u001b[36m│\u001b[0m \u001b[1;33m 4 \u001b[0m\u001b[1mCase Studies\u001b[0m: Analyze the productivity habits of successful individuals and extract actionable insights.     \u001b[36m│\u001b[0m\n",
       "\u001b[36m│\u001b[0m \u001b[1;33m 5 \u001b[0m\u001b[1mInteractive Workshops\u001b[0m: Host virtual workshops on productivity topics, encouraging viewer participation.      \u001b[36m│\u001b[0m\n",
       "\u001b[36m│\u001b[0m \u001b[1;33m 6 \u001b[0m\u001b[1mBehind-the-Scenes\u001b[0m: Offer a glimpse into your content creation process and how you stay productive.           \u001b[36m│\u001b[0m\n",
       "\u001b[36m│\u001b[0m \u001b[1;33m 7 \u001b[0m\u001b[1mBook Club\u001b[0m: Start a monthly book club focusing on productivity and personal development books.                \u001b[36m│\u001b[0m\n",
       "\u001b[36m│\u001b[0m \u001b[1;33m 8 \u001b[0m\u001b[1mMyth Busting\u001b[0m: Debunk common productivity myths and provide evidence-based alternatives.                      \u001b[36m│\u001b[0m\n",
       "\u001b[36m│\u001b[0m                                                                                                                 \u001b[36m│\u001b[0m\n",
       "\u001b[36m│\u001b[0m                                                                                                                 \u001b[36m│\u001b[0m\n",
       "\u001b[36m│\u001b[0m                                               \u001b[1;4mTrending Strategies\u001b[0m                                               \u001b[36m│\u001b[0m\n",
       "\u001b[36m│\u001b[0m                                                                                                                 \u001b[36m│\u001b[0m\n",
       "\u001b[36m│\u001b[0m \u001b[1;33m • \u001b[0m\u001b[1mShort-Form Content\u001b[0m: Leverage YouTube Shorts to capture attention with quick, impactful productivity tips.    \u001b[36m│\u001b[0m\n",
       "\u001b[36m│\u001b[0m \u001b[1;33m • \u001b[0m\u001b[1mSEO Optimization\u001b[0m: Use relevant keywords and tags to improve video discoverability.                           \u001b[36m│\u001b[0m\n",
       "\u001b[36m│\u001b[0m \u001b[1;33m • \u001b[0m\u001b[1mCross-Promotion\u001b[0m: Collaborate with other creators in the productivity niche to reach new audiences.           \u001b[36m│\u001b[0m\n",
       "\u001b[36m│\u001b[0m \u001b[1;33m • \u001b[0m\u001b[1mSeries Format\u001b[0m: Develop a series around a specific productivity theme to encourage binge-watching.            \u001b[36m│\u001b[0m\n",
       "\u001b[36m│\u001b[0m                                                                                                                 \u001b[36m│\u001b[0m\n",
       "\u001b[36m│\u001b[0m                                                                                                                 \u001b[36m│\u001b[0m\n",
       "\u001b[36m│\u001b[0m                                                \u001b[1;4mMonetization Tips\u001b[0m                                                \u001b[36m│\u001b[0m\n",
       "\u001b[36m│\u001b[0m                                                                                                                 \u001b[36m│\u001b[0m\n",
       "\u001b[36m│\u001b[0m \u001b[1;33m • \u001b[0m\u001b[1mAffiliate Marketing\u001b[0m: Promote productivity tools and books with affiliate links.                              \u001b[36m│\u001b[0m\n",
       "\u001b[36m│\u001b[0m \u001b[1;33m • \u001b[0m\u001b[1mOnline Courses\u001b[0m: Develop and sell courses on productivity and personal development.                           \u001b[36m│\u001b[0m\n",
       "\u001b[36m│\u001b[0m \u001b[1;33m • \u001b[0m\u001b[1mMerchandise\u001b[0m: Create branded merchandise related to productivity themes.                                      \u001b[36m│\u001b[0m\n",
       "\u001b[36m│\u001b[0m \u001b[1;33m • \u001b[0m\u001b[1mSponsorships\u001b[0m: Partner with brands that align with your content and audience interests.                       \u001b[36m│\u001b[0m\n",
       "\u001b[36m│\u001b[0m \u001b[1;33m • \u001b[0m\u001b[1mMemberships\u001b[0m: Offer exclusive content and perks through YouTube memberships or Patreon.                       \u001b[36m│\u001b[0m\n",
       "\u001b[36m│\u001b[0m                                                                                                                 \u001b[36m│\u001b[0m\n",
       "\u001b[36m│\u001b[0m By leveraging these insights and strategies, a new productivity creator can effectively grow their channel and  \u001b[36m│\u001b[0m\n",
       "\u001b[36m│\u001b[0m engage with their audience.                                                                                     \u001b[36m│\u001b[0m\n",
       "\u001b[36m╰─────────────────────────────────────────────────────────────────────────────────────────────────────────────────╯\u001b[0m\n"
      ]
     },
     "metadata": {},
     "output_type": "display_data"
    },
    {
     "name": "stdout",
     "output_type": "stream",
     "text": [
      "🎥 YouTube Intelligence Report:\n",
      " # YouTube Channel Analysis: Ali Abdaal\n",
      "\n",
      "## Channel Strengths\n",
      "- **Educational Content**: Ali Abdaal is known for his informative and educational content, focusing on productivity, personal development, and tech reviews.\n",
      "- **Authenticity**: His genuine and relatable personality helps build trust with his audience.\n",
      "- **Consistency**: Regular uploads and a consistent content schedule keep the audience engaged.\n",
      "- **High-Quality Production**: Professional video and audio quality enhance viewer experience.\n",
      "- **Diverse Content Formats**: Utilizes a mix of long-form videos, vlogs, and shorts to cater to different audience preferences.\n",
      "\n",
      "## Content Patterns\n",
      "- **Productivity Tips**: Videos often focus on productivity hacks, study techniques, and time management.\n",
      "- **Book Reviews and Summaries**: Regularly shares insights from books, appealing to an audience interested in self-improvement.\n",
      "- **Tech and Tools**: Reviews and recommendations of productivity tools and tech gadgets.\n",
      "- **Personal Development**: Content on habits, routines, and personal growth strategies.\n",
      "- **Collaborations**: Features interviews and collaborations with other influencers and experts.\n",
      "\n",
      "## Audience Engagement Tips\n",
      "- **Community Building**: Encourage viewer interaction through comments, polls, and Q&A sessions.\n",
      "- **Feedback Loop**: Regularly ask for audience feedback to tailor content to viewer preferences.\n",
      "- **Live Streams**: Host live sessions to engage with the audience in real-time and build a stronger community.\n",
      "- **Social Media Integration**: Use platforms like Instagram and Twitter to engage with the audience outside of YouTube.\n",
      "\n",
      "## Content Ideas for a New Productivity Creator\n",
      "1. **Daily Routine Vlogs**: Share a day-in-the-life video focusing on productivity habits and routines.\n",
      "2. **Productivity Challenges**: Create a series where you try different productivity techniques for a week and share results.\n",
      "3. **Tool Comparisons**: Compare popular productivity tools and apps, providing pros and cons for each.\n",
      "4. **Case Studies**: Analyze the productivity habits of successful individuals and extract actionable insights.\n",
      "5. **Interactive Workshops**: Host virtual workshops on productivity topics, encouraging viewer participation.\n",
      "6. **Behind-the-Scenes**: Offer a glimpse into your content creation process and how you stay productive.\n",
      "7. **Book Club**: Start a monthly book club focusing on productivity and personal development books.\n",
      "8. **Myth Busting**: Debunk common productivity myths and provide evidence-based alternatives.\n",
      "\n",
      "## Trending Strategies\n",
      "- **Short-Form Content**: Leverage YouTube Shorts to capture attention with quick, impactful productivity tips.\n",
      "- **SEO Optimization**: Use relevant keywords and tags to improve video discoverability.\n",
      "- **Cross-Promotion**: Collaborate with other creators in the productivity niche to reach new audiences.\n",
      "- **Series Format**: Develop a series around a specific productivity theme to encourage binge-watching.\n",
      "\n",
      "## Monetization Tips\n",
      "- **Affiliate Marketing**: Promote productivity tools and books with affiliate links.\n",
      "- **Online Courses**: Develop and sell courses on productivity and personal development.\n",
      "- **Merchandise**: Create branded merchandise related to productivity themes.\n",
      "- **Sponsorships**: Partner with brands that align with your content and audience interests.\n",
      "- **Memberships**: Offer exclusive content and perks through YouTube memberships or Patreon.\n",
      "\n",
      "By leveraging these insights and strategies, a new productivity creator can effectively grow their channel and engage with their audience.\n"
     ]
    }
   ],
   "source": [
    "query = \"Study the YouTube channel 'Ali Abdaal'. What makes it grow? Give tips for new productivity YouTubers.\"\n",
    "output = yt_intel_system.start(input=query)\n",
    "\n",
    "# 🎬 Output\n",
    "print(\"🎥 YouTube Intelligence Report:\\n\", output)\n"
   ]
  }
 ],
 "metadata": {
  "colab": {
   "provenance": []
  },
  "kernelspec": {
   "display_name": "Python 3",
   "name": "python3"
  }
 },
 "nbformat": 4,
 "nbformat_minor": 5
}
