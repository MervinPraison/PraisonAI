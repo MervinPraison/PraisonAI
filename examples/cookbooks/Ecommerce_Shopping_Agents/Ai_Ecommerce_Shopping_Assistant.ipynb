{
 "cells": [
  {
   "cell_type": "markdown",
   "metadata": {
    "id": "eG-fO9k49doe"
   },
   "source": [
    "# AI E-commerce Shopping Assistant"
   ]
  },
  {
   "cell_type": "markdown",
   "metadata": {
    "id": "jDkp3k8y-pCw"
   },
   "source": [
    "AI E-commerce Shopping Assistant using PraisonAI - A conversational commerce agent that helps customers discover products, create orders, and manage"
   ]
  },
  {
   "cell_type": "markdown",
   "metadata": {
    "id": "1WucJveu-v_H"
   },
   "source": [
    "[![Open in Colab](https://colab.research.google.com/assets/colab-badge.svg)](https://colab.research.google.com/github/DhivyaBharathy-web/PraisonAI/blob/main/examples/cookbooks/ai_ecommerce_shopping_assistant.ipynb)\n"
   ]
  },
  {
   "cell_type": "code",
   "execution_count": 1,
   "metadata": {
    "colab": {
     "base_uri": "https://localhost:8080/"
    },
    "id": "8zvr4N4p9tD6",
    "outputId": "9c392ec5-da7a-4693-dc69-759fd5638e56"
   },
   "outputs": [
    {
     "name": "stdout",
     "output_type": "stream",
     "text": [
      "\u001b[2K     \u001b[90m━━━━━━━━━━━━━━━━━━━━━━━━━━━━━━━━━━━━━━━━\u001b[0m \u001b[32m40.1/40.1 kB\u001b[0m \u001b[31m1.8 MB/s\u001b[0m eta \u001b[36m0:00:00\u001b[0m\n",
      "\u001b[2K   \u001b[90m━━━━━━━━━━━━━━━━━━━━━━━━━━━━━━━━━━━━━━━━\u001b[0m \u001b[32m178.2/178.2 kB\u001b[0m \u001b[31m6.6 MB/s\u001b[0m eta \u001b[36m0:00:00\u001b[0m\n",
      "\u001b[2K   \u001b[90m━━━━━━━━━━━━━━━━━━━━━━━━━━━━━━━━━━━━━━━━\u001b[0m \u001b[32m150.9/150.9 kB\u001b[0m \u001b[31m11.9 MB/s\u001b[0m eta \u001b[36m0:00:00\u001b[0m\n",
      "\u001b[2K   \u001b[90m━━━━━━━━━━━━━━━━━━━━━━━━━━━━━━━━━━━━━━━━\u001b[0m \u001b[32m104.9/104.9 kB\u001b[0m \u001b[31m8.8 MB/s\u001b[0m eta \u001b[36m0:00:00\u001b[0m\n",
      "\u001b[2K   \u001b[90m━━━━━━━━━━━━━━━━━━━━━━━━━━━━━━━━━━━━━━━━\u001b[0m \u001b[32m3.3/3.3 MB\u001b[0m \u001b[31m57.3 MB/s\u001b[0m eta \u001b[36m0:00:00\u001b[0m\n",
      "\u001b[2K   \u001b[90m━━━━━━━━━━━━━━━━━━━━━━━━━━━━━━━━━━━━━━━━\u001b[0m \u001b[32m45.2/45.2 kB\u001b[0m \u001b[31m3.1 MB/s\u001b[0m eta \u001b[36m0:00:00\u001b[0m\n",
      "\u001b[?25h📦 Dependencies installed!\n",
      "🔄 Using PraisonAI Framework\n",
      "🛒 E-commerce shopping agent ready!\n"
     ]
    }
   ],
   "source": [
    "# @title **📦 Installation & Dependencies**\n",
    "\n",
    "# Install required packages\n",
    "!pip install praisonaiagents openai python-dotenv duckduckgo-search -q\n",
    "\n",
    "# Basic imports\n",
    "import os\n",
    "import json\n",
    "import time\n",
    "from typing import Dict, List, Any\n",
    "from datetime import datetime\n",
    "import getpass\n",
    "\n",
    "print(\"📦 Dependencies installed!\")\n",
    "print(\"🔄 Using PraisonAI Framework\")\n",
    "print(\"🛒 E-commerce shopping agent ready!\")"
   ]
  },
  {
   "cell_type": "code",
   "execution_count": 6,
   "metadata": {
    "colab": {
     "base_uri": "https://localhost:8080/"
    },
    "id": "dtRBdCKg901_",
    "outputId": "5184d2cb-fb25-4871-abb4-ab2644d415b2"
   },
   "outputs": [
    {
     "name": "stdout",
     "output_type": "stream",
     "text": [
      "🔑 Enter your OpenAI API Key: ··········\n",
      "✅ OpenAI API Key configured!\n",
      "✅ PraisonAI imported successfully!\n",
      "🛒 Ready to create shopping assistant!\n"
     ]
    }
   ],
   "source": [
    "# @title **🔑 API Key Configuration**\n",
    "\n",
    "# Set OpenAI API key (REQUIRED before importing praisonaiagents)\n",
    "openai_api_key = getpass.getpass(\"🔑 Enter your OpenAI API Key: \")\n",
    "os.environ[\"OPENAI_API_KEY\"] = openai_api_key\n",
    "\n",
    "# Verify API key is set\n",
    "if not os.environ.get(\"OPENAI_API_KEY\"):\n",
    "    raise ValueError(\"❌ OpenAI API Key is required!\")\n",
    "\n",
    "print(\"✅ OpenAI API Key configured!\")\n",
    "\n",
    "# Now import PraisonAI (after API key is set)\n",
    "from praisonaiagents import Agent, Task, PraisonAIAgents\n",
    "\n",
    "print(\"✅ PraisonAI imported successfully!\")\n",
    "print(\"🛒 Ready to create shopping assistant!\")"
   ]
  },
  {
   "cell_type": "code",
   "execution_count": 5,
   "metadata": {
    "colab": {
     "base_uri": "https://localhost:8080/"
    },
    "id": "zMv-kguW96h7",
    "outputId": "c6f15c4b-8e58-4951-8baf-1a6bf34f0108"
   },
   "outputs": [
    {
     "name": "stdout",
     "output_type": "stream",
     "text": [
      "🛍️ E-commerce tools initialized!\n",
      "   📦 Product management\n",
      "   🛒 Order processing\n",
      "   💳 Payment link generation\n",
      "   🤝 Customer support booking\n"
     ]
    }
   ],
   "source": [
    "# @title **🛍️ E-commerce Tools (Demo Database)**\n",
    "\n",
    "class EcommerceDatabase:\n",
    "    \"\"\"Demo e-commerce database for shopping assistant\"\"\"\n",
    "\n",
    "    def __init__(self):\n",
    "        self.products = [\n",
    "            {\n",
    "                \"id\": \"1\",\n",
    "                \"name\": \"Premium Wireless Headphones\",\n",
    "                \"price\": 199.99,\n",
    "                \"category\": \"electronics\",\n",
    "                \"description\": \"High-quality wireless headphones with noise cancellation\",\n",
    "                \"stock\": 25,\n",
    "                \"brand\": \"TechPro\"\n",
    "            },\n",
    "            {\n",
    "                \"id\": \"2\",\n",
    "                \"name\": \"Organic Coffee Blend\",\n",
    "                \"price\": 24.99,\n",
    "                \"category\": \"food\",\n",
    "                \"description\": \"Fair trade organic coffee beans, medium roast\",\n",
    "                \"stock\": 50,\n",
    "                \"weight\": \"500g\"\n",
    "            },\n",
    "            {\n",
    "                \"id\": \"3\",\n",
    "                \"name\": \"Fitness Tracker Watch\",\n",
    "                \"price\": 129.99,\n",
    "                \"category\": \"electronics\",\n",
    "                \"description\": \"Smart fitness tracker with heart rate monitor\",\n",
    "                \"stock\": 15,\n",
    "                \"brand\": \"FitLife\"\n",
    "            },\n",
    "            {\n",
    "                \"id\": \"4\",\n",
    "                \"name\": \"Eco-Friendly Water Bottle\",\n",
    "                \"price\": 29.99,\n",
    "                \"category\": \"lifestyle\",\n",
    "                \"description\": \"Stainless steel water bottle, keeps drinks cold for 24hrs\",\n",
    "                \"stock\": 40,\n",
    "                \"capacity\": \"750ml\"\n",
    "            },\n",
    "            {\n",
    "                \"id\": \"5\",\n",
    "                \"name\": \"Premium Tea Collection\",\n",
    "                \"price\": 34.99,\n",
    "                \"category\": \"food\",\n",
    "                \"description\": \"Assorted premium teas from around the world\",\n",
    "                \"stock\": 30,\n",
    "                \"items\": \"12 tea bags\"\n",
    "            }\n",
    "        ]\n",
    "\n",
    "        self.orders = []\n",
    "        self.order_counter = 1\n",
    "\n",
    "    def get_all_products(self):\n",
    "        \"\"\"Get all available products\"\"\"\n",
    "        return json.dumps(self.products, indent=2)\n",
    "\n",
    "    def get_product_by_id(self, product_id: str):\n",
    "        \"\"\"Get specific product by ID\"\"\"\n",
    "        for product in self.products:\n",
    "            if product[\"id\"] == product_id:\n",
    "                return json.dumps(product, indent=2)\n",
    "        return json.dumps({\"error\": \"Product not found\"})\n",
    "\n",
    "    def search_products(self, category: str = None, name: str = None):\n",
    "        \"\"\"Search products by category or name\"\"\"\n",
    "        results = self.products\n",
    "\n",
    "        if category:\n",
    "            results = [p for p in results if category.lower() in p[\"category\"].lower()]\n",
    "\n",
    "        if name:\n",
    "            results = [p for p in results if name.lower() in p[\"name\"].lower()]\n",
    "\n",
    "        return json.dumps(results, indent=2)\n",
    "\n",
    "    def create_order(self, products: List[Dict], customer_name: str, customer_email: str):\n",
    "        \"\"\"Create a new order\"\"\"\n",
    "        order_items = []\n",
    "        total_amount = 0\n",
    "\n",
    "        for item in products:\n",
    "            product_id = item.get(\"productId\")\n",
    "            quantity = item.get(\"quantity\", 1)\n",
    "\n",
    "            # Find product\n",
    "            product = None\n",
    "            for p in self.products:\n",
    "                if p[\"id\"] == product_id:\n",
    "                    product = p\n",
    "                    break\n",
    "\n",
    "            if not product:\n",
    "                return json.dumps({\"error\": f\"Product {product_id} not found\"})\n",
    "\n",
    "            if product[\"stock\"] < quantity:\n",
    "                return json.dumps({\"error\": f\"Insufficient stock for {product['name']}\"})\n",
    "\n",
    "            item_total = product[\"price\"] * quantity\n",
    "            total_amount += item_total\n",
    "\n",
    "            order_items.append({\n",
    "                \"productId\": product_id,\n",
    "                \"productName\": product[\"name\"],\n",
    "                \"quantity\": quantity,\n",
    "                \"price\": product[\"price\"],\n",
    "                \"total\": item_total\n",
    "            })\n",
    "\n",
    "            # Update stock\n",
    "            product[\"stock\"] -= quantity\n",
    "\n",
    "        order = {\n",
    "            \"orderId\": str(self.order_counter),\n",
    "            \"customer\": {\n",
    "                \"name\": customer_name,\n",
    "                \"email\": customer_email\n",
    "            },\n",
    "            \"items\": order_items,\n",
    "            \"totalAmount\": total_amount,\n",
    "            \"status\": \"pending\",\n",
    "            \"paymentLink\": f\"https://payments.store.com/pay/{self.order_counter}\",\n",
    "            \"createdAt\": datetime.now().isoformat()\n",
    "        }\n",
    "\n",
    "        self.orders.append(order)\n",
    "        self.order_counter += 1\n",
    "\n",
    "        return json.dumps(order, indent=2)\n",
    "\n",
    "    def get_orders(self, customer_email: str = None):\n",
    "        \"\"\"Get orders, optionally filtered by customer\"\"\"\n",
    "        if customer_email:\n",
    "            filtered_orders = [o for o in self.orders if o[\"customer\"][\"email\"] == customer_email]\n",
    "            return json.dumps(filtered_orders, indent=2)\n",
    "        return json.dumps(self.orders, indent=2)\n",
    "\n",
    "# Initialize e-commerce database\n",
    "ecommerce_db = EcommerceDatabase()\n",
    "\n",
    "# Define tool functions for PraisonAI\n",
    "def get_products() -> str:\n",
    "    \"\"\"Get all available products from the online store\"\"\"\n",
    "    return ecommerce_db.get_all_products()\n",
    "\n",
    "def get_product(product_id: str) -> str:\n",
    "    \"\"\"Get specific product details by ID\"\"\"\n",
    "    return ecommerce_db.get_product_by_id(product_id)\n",
    "\n",
    "def search_products(category: str = None, name: str = None) -> str:\n",
    "    \"\"\"Search products by category or name\"\"\"\n",
    "    return ecommerce_db.search_products(category, name)\n",
    "\n",
    "def create_order(products: List[Dict[str, Any]], customer_name: str, customer_email: str) -> str:\n",
    "    \"\"\"\n",
    "    Create a new order with payment link.\n",
    "\n",
    "    Args:\n",
    "        products: List of {\"productId\": \"1\", \"quantity\": 2}\n",
    "        customer_name: Customer's full name\n",
    "        customer_email: Customer's email address\n",
    "    \"\"\"\n",
    "    return ecommerce_db.create_order(products, customer_name, customer_email)\n",
    "\n",
    "def get_customer_orders(customer_email: str) -> str:\n",
    "    \"\"\"Get all orders for a specific customer\"\"\"\n",
    "    return ecommerce_db.get_orders(customer_email)\n",
    "\n",
    "def book_meeting() -> str:\n",
    "    \"\"\"Provide meeting booking information for customer support\"\"\"\n",
    "    return json.dumps({\n",
    "        \"message\": \"To speak with a human representative, you can book a meeting here:\",\n",
    "        \"meeting_link\": \"https://calendly.com/customer-support\",\n",
    "        \"availability\": \"Monday-Friday, 9 AM - 6 PM EST\",\n",
    "        \"response_time\": \"We'll respond within 24 hours\"\n",
    "    })\n",
    "\n",
    "print(\"🛍️ E-commerce tools initialized!\")\n",
    "print(\"   📦 Product management\")\n",
    "print(\"   🛒 Order processing\")\n",
    "print(\"   💳 Payment link generation\")\n",
    "print(\"   🤝 Customer support booking\")"
   ]
  },
  {
   "cell_type": "code",
   "execution_count": 7,
   "metadata": {
    "colab": {
     "base_uri": "https://localhost:8080/"
    },
    "id": "bDCDJtCi-HpU",
    "outputId": "27b17b02-59d1-48cf-f532-f58f434b5136"
   },
   "outputs": [
    {
     "name": "stdout",
     "output_type": "stream",
     "text": [
      "🤖 Shopping Assistant Agent Created!\n",
      "   🛒 Ready to assist with shopping\n",
      "   📦 Product discovery and recommendations\n",
      "   💳 Order creation and payment processing\n",
      "   🤝 Customer support integration\n"
     ]
    }
   ],
   "source": [
    "# @title **🤖 AI Shopping Assistant Agent**\n",
    "\n",
    "def create_shopping_agent():\n",
    "    \"\"\"Create the AI shopping assistant agent\"\"\"\n",
    "\n",
    "    shopping_assistant = Agent(\n",
    "        name=\"Shopping Assistant\",\n",
    "        role=\"AI E-commerce Assistant\",\n",
    "        goal=\"Help customers discover products, manage orders, and provide excellent shopping experience through natural conversation\",\n",
    "        backstory=f\"\"\"You are a friendly AI shopping assistant for an online store that offers\n",
    "        a variety of products including electronics, food items, and lifestyle products.\n",
    "\n",
    "        You help customers find products, create orders, and provide customer support through\n",
    "        natural conversation. You are knowledgeable about all products in the store and can\n",
    "        make recommendations based on customer needs.\n",
    "\n",
    "        Available product categories:\n",
    "        - Electronics (headphones, fitness trackers, tech gadgets)\n",
    "        - Food & Beverages (coffee, tea, organic products)\n",
    "        - Lifestyle (water bottles, eco-friendly products)\n",
    "\n",
    "        You are helpful, conversational, and always guide customers through their shopping\n",
    "        journey with clear next steps. Today is {datetime.now().strftime('%B %d, %Y')}.\n",
    "\n",
    "        Key responsibilities:\n",
    "        1. Help customers discover products that match their needs\n",
    "        2. Provide detailed product information and recommendations\n",
    "        3. Create orders and generate secure payment links\n",
    "        4. Track existing orders and provide status updates\n",
    "        5. Connect customers with human support when needed\n",
    "\n",
    "        Always be friendly, helpful, and clear in your communication.\"\"\",\n",
    "\n",
    "        tools=[\n",
    "            get_products,\n",
    "            get_product,\n",
    "            search_products,\n",
    "            create_order,\n",
    "            get_customer_orders,\n",
    "            book_meeting\n",
    "        ],\n",
    "\n",
    "        verbose=True,\n",
    "        allow_delegation=False\n",
    "    )\n",
    "\n",
    "    return shopping_assistant\n",
    "\n",
    "# Create shopping assistant agent\n",
    "shopping_agent = create_shopping_agent()\n",
    "\n",
    "print(\"🤖 Shopping Assistant Agent Created!\")\n",
    "print(\"   🛒 Ready to assist with shopping\")\n",
    "print(\"   📦 Product discovery and recommendations\")\n",
    "print(\"   💳 Order creation and payment processing\")\n",
    "print(\"   🤝 Customer support integration\")"
   ]
  },
  {
   "cell_type": "code",
   "execution_count": 8,
   "metadata": {
    "colab": {
     "base_uri": "https://localhost:8080/"
    },
    "id": "PnT6zaCo-J7J",
    "outputId": "6de82ba0-3bab-48f5-e168-ced6a06f3f5d"
   },
   "outputs": [
    {
     "name": "stdout",
     "output_type": "stream",
     "text": [
      "📋 Shopping Tasks Created!\n",
      "   📊 Total Tasks: 3\n",
      "   🔍 Product Discovery\n",
      "   🛒 Order Management\n",
      "   🤝 Customer Support\n"
     ]
    }
   ],
   "source": [
    "# @title **📋 Shopping Assistant Tasks**\n",
    "\n",
    "def create_shopping_tasks():\n",
    "    \"\"\"Create tasks for the shopping assistant\"\"\"\n",
    "\n",
    "    tasks = []\n",
    "\n",
    "    # Product Discovery Task\n",
    "    tasks.append(Task(\n",
    "        description=\"\"\"Help a customer discover products in the online store.\n",
    "        Show available products, provide recommendations based on preferences,\n",
    "        and explain product details including prices and descriptions.\n",
    "\n",
    "        Example interactions:\n",
    "        - \"What electronics do you have?\"\n",
    "        - \"Show me coffee products\"\n",
    "        - \"I need a gift for someone who likes tech\"\n",
    "        \"\"\",\n",
    "        agent=shopping_agent,\n",
    "        expected_output=\"Product recommendations with details, prices, and helpful information\"\n",
    "    ))\n",
    "\n",
    "    # Order Management Task\n",
    "    tasks.append(Task(\n",
    "        description=\"\"\"Assist customers with creating orders and managing their purchases.\n",
    "        Guide them through the ordering process, collect necessary information,\n",
    "        and generate payment links for secure checkout.\n",
    "\n",
    "        Example interactions:\n",
    "        - \"I want to order 2 wireless headphones\"\n",
    "        - \"Create an order for Jane Doe, jane@email.com\"\n",
    "        - \"Check my order status\"\n",
    "        \"\"\",\n",
    "        agent=shopping_agent,\n",
    "        expected_output=\"Successfully created orders with payment links or order status information\"\n",
    "    ))\n",
    "\n",
    "    # Customer Support Task\n",
    "    tasks.append(Task(\n",
    "        description=\"\"\"Provide excellent customer support including answering questions\n",
    "        about the store, helping with product inquiries, and connecting customers\n",
    "        with human representatives when needed.\n",
    "\n",
    "        Example interactions:\n",
    "        - \"Tell me about your store\"\n",
    "        - \"I need to speak with someone\"\n",
    "        - \"What's your return policy?\"\n",
    "        \"\"\",\n",
    "        agent=shopping_agent,\n",
    "        expected_output=\"Helpful customer support responses and meeting booking information when requested\"\n",
    "    ))\n",
    "\n",
    "    return tasks\n",
    "\n",
    "# Create shopping tasks\n",
    "shopping_tasks = create_shopping_tasks()\n",
    "\n",
    "print(\"📋 Shopping Tasks Created!\")\n",
    "print(f\"   📊 Total Tasks: {len(shopping_tasks)}\")\n",
    "print(\"   🔍 Product Discovery\")\n",
    "print(\"   🛒 Order Management\")\n",
    "print(\"   🤝 Customer Support\")"
   ]
  },
  {
   "cell_type": "code",
   "execution_count": 9,
   "metadata": {
    "colab": {
     "base_uri": "https://localhost:8080/",
     "height": 1000,
     "referenced_widgets": [
      "6cc5f37cf7b64008ac5edb7841fcf738",
      "dda3837b995849d7bb59ace5ac237f49",
      "680368bd3bb64286a5c9b29a0eb02c6d",
      "401f115cc12b44c2a47963f589bbe56c",
      "b7a2825e639f48f293109808a8b3b944",
      "fc71390cc70f4833aee84bb0a036e97c"
     ]
    },
    "id": "UtrbqVGu-MM8",
    "outputId": "106a7e78-b576-4b88-9826-c7b7a564881f"
   },
   "outputs": [
    {
     "name": "stdout",
     "output_type": "stream",
     "text": [
      "🛒 Starting AI Shopping Assistant...\n",
      "==================================================\n",
      "🤖 Activating Shopping Assistant...\n"
     ]
    },
    {
     "data": {
      "text/html": [
       "<pre style=\"white-space:pre;overflow-x:auto;line-height:normal;font-family:Menlo,'DejaVu Sans Mono',consolas,'Courier New',monospace\"><span style=\"color: #d2e3c8; text-decoration-color: #d2e3c8\">╭─ </span><span style=\"color: #d2e3c8; text-decoration-color: #d2e3c8; font-weight: bold\">Agent Info</span><span style=\"color: #d2e3c8; text-decoration-color: #d2e3c8\"> ────────────────────────────────────────────────────────────────────────────────────────────────────╮</span>\n",
       "<span style=\"color: #d2e3c8; text-decoration-color: #d2e3c8\">│</span>                                                                                                                 <span style=\"color: #d2e3c8; text-decoration-color: #d2e3c8\">│</span>\n",
       "<span style=\"color: #d2e3c8; text-decoration-color: #d2e3c8\">│</span>  <span style=\"color: #ff9b9b; text-decoration-color: #ff9b9b; font-weight: bold\">👤 Agent:</span> <span style=\"color: #ffe5e5; text-decoration-color: #ffe5e5\">Shopping Assistant</span>                                                                                   <span style=\"color: #d2e3c8; text-decoration-color: #d2e3c8\">│</span>\n",
       "<span style=\"color: #d2e3c8; text-decoration-color: #d2e3c8\">│</span>  <span style=\"color: #b4b4b3; text-decoration-color: #b4b4b3; font-weight: bold\">Role:</span> <span style=\"color: #ffe5e5; text-decoration-color: #ffe5e5\">AI E-commerce Assistant</span>                                                                                  <span style=\"color: #d2e3c8; text-decoration-color: #d2e3c8\">│</span>\n",
       "<span style=\"color: #d2e3c8; text-decoration-color: #d2e3c8\">│</span>  <span style=\"color: #86a789; text-decoration-color: #86a789; font-weight: bold\">Tools:</span> <span style=\"color: #b4d4ff; text-decoration-color: #b4d4ff; font-style: italic\">get_products</span>, <span style=\"color: #b4d4ff; text-decoration-color: #b4d4ff; font-style: italic\">get_product</span>, <span style=\"color: #b4d4ff; text-decoration-color: #b4d4ff; font-style: italic\">search_products</span>, <span style=\"color: #b4d4ff; text-decoration-color: #b4d4ff; font-style: italic\">create_order</span>, <span style=\"color: #b4d4ff; text-decoration-color: #b4d4ff; font-style: italic\">get_customer_orders</span>, <span style=\"color: #b4d4ff; text-decoration-color: #b4d4ff; font-style: italic\">book_meeting</span>             <span style=\"color: #d2e3c8; text-decoration-color: #d2e3c8\">│</span>\n",
       "<span style=\"color: #d2e3c8; text-decoration-color: #d2e3c8\">│</span>                                                                                                                 <span style=\"color: #d2e3c8; text-decoration-color: #d2e3c8\">│</span>\n",
       "<span style=\"color: #d2e3c8; text-decoration-color: #d2e3c8\">╰─────────────────────────────────────────────────────────────────────────────────────────────────────────────────╯</span>\n",
       "</pre>\n"
      ],
      "text/plain": [
       "\u001b[38;2;210;227;200m╭─\u001b[0m\u001b[38;2;210;227;200m \u001b[0m\u001b[1;38;2;210;227;200mAgent Info\u001b[0m\u001b[38;2;210;227;200m \u001b[0m\u001b[38;2;210;227;200m───────────────────────────────────────────────────────────────────────────────────────────────────\u001b[0m\u001b[38;2;210;227;200m─╮\u001b[0m\n",
       "\u001b[38;2;210;227;200m│\u001b[0m                                                                                                                 \u001b[38;2;210;227;200m│\u001b[0m\n",
       "\u001b[38;2;210;227;200m│\u001b[0m  \u001b[1;38;2;255;155;155m👤 Agent:\u001b[0m \u001b[38;2;255;229;229mShopping Assistant\u001b[0m                                                                                   \u001b[38;2;210;227;200m│\u001b[0m\n",
       "\u001b[38;2;210;227;200m│\u001b[0m  \u001b[1;38;2;180;180;179mRole:\u001b[0m \u001b[38;2;255;229;229mAI E-commerce Assistant\u001b[0m                                                                                  \u001b[38;2;210;227;200m│\u001b[0m\n",
       "\u001b[38;2;210;227;200m│\u001b[0m  \u001b[1;38;2;134;167;137mTools:\u001b[0m \u001b[3;38;2;180;212;255mget_products\u001b[0m, \u001b[3;38;2;180;212;255mget_product\u001b[0m, \u001b[3;38;2;180;212;255msearch_products\u001b[0m, \u001b[3;38;2;180;212;255mcreate_order\u001b[0m, \u001b[3;38;2;180;212;255mget_customer_orders\u001b[0m, \u001b[3;38;2;180;212;255mbook_meeting\u001b[0m             \u001b[38;2;210;227;200m│\u001b[0m\n",
       "\u001b[38;2;210;227;200m│\u001b[0m                                                                                                                 \u001b[38;2;210;227;200m│\u001b[0m\n",
       "\u001b[38;2;210;227;200m╰─────────────────────────────────────────────────────────────────────────────────────────────────────────────────╯\u001b[0m\n"
      ]
     },
     "metadata": {},
     "output_type": "display_data"
    },
    {
     "data": {
      "text/html": [
       "<pre style=\"white-space:pre;overflow-x:auto;line-height:normal;font-family:Menlo,'DejaVu Sans Mono',consolas,'Courier New',monospace\"></pre>\n"
      ],
      "text/plain": []
     },
     "metadata": {},
     "output_type": "display_data"
    },
    {
     "data": {
      "text/html": [
       "<pre style=\"white-space:pre;overflow-x:auto;line-height:normal;font-family:Menlo,'DejaVu Sans Mono',consolas,'Courier New',monospace\">\n",
       "</pre>\n"
      ],
      "text/plain": [
       "\n"
      ]
     },
     "metadata": {},
     "output_type": "display_data"
    },
    {
     "data": {
      "text/html": [
       "<pre style=\"white-space:pre;overflow-x:auto;line-height:normal;font-family:Menlo,'DejaVu Sans Mono',consolas,'Courier New',monospace\"><span style=\"color: #008000; text-decoration-color: #008000\">╭────────────────────────────────── Tool Call ───────────────────────────────────╮</span>\n",
       "<span style=\"color: #008000; text-decoration-color: #008000\">│</span> <span style=\"color: #008080; text-decoration-color: #008080; font-weight: bold\">Agent Shopping Assistant is calling function 'get_products' with arguments: {}</span> <span style=\"color: #008000; text-decoration-color: #008000\">│</span>\n",
       "<span style=\"color: #008000; text-decoration-color: #008000\">╰────────────────────────────────────────────────────────────────────────────────╯</span>\n",
       "</pre>\n"
      ],
      "text/plain": [
       "\u001b[32m╭─\u001b[0m\u001b[32m─────────────────────────────────\u001b[0m\u001b[32m Tool Call \u001b[0m\u001b[32m──────────────────────────────────\u001b[0m\u001b[32m─╮\u001b[0m\n",
       "\u001b[32m│\u001b[0m \u001b[1;36mAgent Shopping Assistant is calling function 'get_products' with arguments: {}\u001b[0m \u001b[32m│\u001b[0m\n",
       "\u001b[32m╰────────────────────────────────────────────────────────────────────────────────╯\u001b[0m\n"
      ]
     },
     "metadata": {},
     "output_type": "display_data"
    },
    {
     "data": {
      "text/html": [
       "<pre style=\"white-space:pre;overflow-x:auto;line-height:normal;font-family:Menlo,'DejaVu Sans Mono',consolas,'Courier New',monospace\"><span style=\"color: #008000; text-decoration-color: #008000\">╭─────────────────────────────────────────────────── Tool Call ───────────────────────────────────────────────────╮</span>\n",
       "<span style=\"color: #008000; text-decoration-color: #008000\">│</span> <span style=\"color: #008080; text-decoration-color: #008080; font-weight: bold\">Function 'get_products' returned: \"[\\n  {\\n    \\\"id\\\": \\\"1\\\",\\n    \\\"name\\\": \\\"Premium Wireless Headphones\\\",\\n</span> <span style=\"color: #008000; text-decoration-color: #008000\">│</span>\n",
       "<span style=\"color: #008000; text-decoration-color: #008000\">│</span> <span style=\"color: #008080; text-decoration-color: #008080; font-weight: bold\">\\\"price\\\": 199.99,\\n    \\\"category\\\": \\\"electronics\\\",\\n    \\\"description\\\": \\\"High-quality wireless headphones</span> <span style=\"color: #008000; text-decoration-color: #008000\">│</span>\n",
       "<span style=\"color: #008000; text-decoration-color: #008000\">│</span> <span style=\"color: #008080; text-decoration-color: #008080; font-weight: bold\">with noise cancellation\\\",\\n    \\\"stock\\\": 25,\\n    \\\"brand\\\": \\\"TechPro\\\"\\n  },\\n  {\\n    \\\"id\\\": \\\"2\\\",\\n    </span> <span style=\"color: #008000; text-decoration-color: #008000\">│</span>\n",
       "<span style=\"color: #008000; text-decoration-color: #008000\">│</span> <span style=\"color: #008080; text-decoration-color: #008080; font-weight: bold\">\\\"name\\\": \\\"Organic Coffee Blend\\\",\\n    \\\"price\\\": 24.99,\\n    \\\"category\\\": \\\"food\\\",\\n    \\\"description\\\": </span>  <span style=\"color: #008000; text-decoration-color: #008000\">│</span>\n",
       "<span style=\"color: #008000; text-decoration-color: #008000\">│</span> <span style=\"color: #008080; text-decoration-color: #008080; font-weight: bold\">\\\"Fair trade organic coffee beans, medium roast\\\",\\n    \\\"stock\\\": 50,\\n    \\\"weight\\\": \\\"500g\\\"\\n  },\\n  {\\n  </span> <span style=\"color: #008000; text-decoration-color: #008000\">│</span>\n",
       "<span style=\"color: #008000; text-decoration-color: #008000\">│</span> <span style=\"color: #008080; text-decoration-color: #008080; font-weight: bold\">\\\"id\\\": \\\"3\\\",\\n    \\\"name\\\": \\\"Fitness Tracker Watch\\\",\\n    \\\"price\\\": 129.99,\\n    \\\"category\\\": </span>            <span style=\"color: #008000; text-decoration-color: #008000\">│</span>\n",
       "<span style=\"color: #008000; text-decoration-color: #008000\">│</span> <span style=\"color: #008080; text-decoration-color: #008080; font-weight: bold\">\\\"electronics\\\",\\n    \\\"description\\\": \\\"Smart fitness tracker with heart rate monitor\\\",\\n    \\\"stock\\\": 15,\\n</span> <span style=\"color: #008000; text-decoration-color: #008000\">│</span>\n",
       "<span style=\"color: #008000; text-decoration-color: #008000\">│</span> <span style=\"color: #008080; text-decoration-color: #008080; font-weight: bold\">\\\"brand\\\": \\\"FitLife\\\"\\n  },\\n  {\\n    \\\"id\\\": \\\"4\\\",\\n    \\\"name\\\": \\\"Eco-Friendly Water Bottle\\\",\\n    </span>       <span style=\"color: #008000; text-decoration-color: #008000\">│</span>\n",
       "<span style=\"color: #008000; text-decoration-color: #008000\">│</span> <span style=\"color: #008080; text-decoration-color: #008080; font-weight: bold\">\\\"price\\\": 29.99,\\n    \\\"category\\\": \\\"lifestyle\\\",\\n    \\\"description\\\": \\\"Stainless steel water bottle, keeps</span> <span style=\"color: #008000; text-decoration-color: #008000\">│</span>\n",
       "<span style=\"color: #008000; text-decoration-color: #008000\">│</span> <span style=\"color: #008080; text-decoration-color: #008080; font-weight: bold\">drinks cold for 24hrs\\\",\\n    \\\"stock\\\": 40,\\n    \\\"capacity\\\": \\\"750ml\\\"\\n  },\\n  {\\n    \\\"id\\\": \\\"5\\\",\\n    </span>  <span style=\"color: #008000; text-decoration-color: #008000\">│</span>\n",
       "<span style=\"color: #008000; text-decoration-color: #008000\">│</span> <span style=\"color: #008080; text-decoration-color: #008080; font-weight: bold\">\\\"name\\\": \\\"Premium Tea Collection\\\",\\n    \\\"price\\\": 34.99,\\n    \\\"category\\\": \\\"food\\\",\\n    \\\"description\\\":</span> <span style=\"color: #008000; text-decoration-color: #008000\">│</span>\n",
       "<span style=\"color: #008000; text-decoration-color: #008000\">│</span> <span style=\"color: #008080; text-decoration-color: #008080; font-weight: bold\">\\\"Assorted premium teas from around the world\\\",\\n    \\\"stock\\\": 30,\\n    \\\"items\\\": \\\"12 tea bags\\\"\\n  }\\n]\"</span>   <span style=\"color: #008000; text-decoration-color: #008000\">│</span>\n",
       "<span style=\"color: #008000; text-decoration-color: #008000\">╰─────────────────────────────────────────────────────────────────────────────────────────────────────────────────╯</span>\n",
       "</pre>\n"
      ],
      "text/plain": [
       "\u001b[32m╭─\u001b[0m\u001b[32m──────────────────────────────────────────────────\u001b[0m\u001b[32m Tool Call \u001b[0m\u001b[32m──────────────────────────────────────────────────\u001b[0m\u001b[32m─╮\u001b[0m\n",
       "\u001b[32m│\u001b[0m \u001b[1;36mFunction 'get_products' returned: \"[\\n  {\\n    \\\"id\\\": \\\"1\\\",\\n    \\\"name\\\": \\\"Premium Wireless Headphones\\\",\\n\u001b[0m \u001b[32m│\u001b[0m\n",
       "\u001b[32m│\u001b[0m \u001b[1;36m\\\"price\\\": 199.99,\\n    \\\"category\\\": \\\"electronics\\\",\\n    \\\"description\\\": \\\"High-quality wireless headphones\u001b[0m \u001b[32m│\u001b[0m\n",
       "\u001b[32m│\u001b[0m \u001b[1;36mwith noise cancellation\\\",\\n    \\\"stock\\\": 25,\\n    \\\"brand\\\": \\\"TechPro\\\"\\n  },\\n  {\\n    \\\"id\\\": \\\"2\\\",\\n    \u001b[0m \u001b[32m│\u001b[0m\n",
       "\u001b[32m│\u001b[0m \u001b[1;36m\\\"name\\\": \\\"Organic Coffee Blend\\\",\\n    \\\"price\\\": 24.99,\\n    \\\"category\\\": \\\"food\\\",\\n    \\\"description\\\": \u001b[0m  \u001b[32m│\u001b[0m\n",
       "\u001b[32m│\u001b[0m \u001b[1;36m\\\"Fair trade organic coffee beans, medium roast\\\",\\n    \\\"stock\\\": 50,\\n    \\\"weight\\\": \\\"500g\\\"\\n  },\\n  {\\n  \u001b[0m \u001b[32m│\u001b[0m\n",
       "\u001b[32m│\u001b[0m \u001b[1;36m\\\"id\\\": \\\"3\\\",\\n    \\\"name\\\": \\\"Fitness Tracker Watch\\\",\\n    \\\"price\\\": 129.99,\\n    \\\"category\\\": \u001b[0m            \u001b[32m│\u001b[0m\n",
       "\u001b[32m│\u001b[0m \u001b[1;36m\\\"electronics\\\",\\n    \\\"description\\\": \\\"Smart fitness tracker with heart rate monitor\\\",\\n    \\\"stock\\\": 15,\\n\u001b[0m \u001b[32m│\u001b[0m\n",
       "\u001b[32m│\u001b[0m \u001b[1;36m\\\"brand\\\": \\\"FitLife\\\"\\n  },\\n  {\\n    \\\"id\\\": \\\"4\\\",\\n    \\\"name\\\": \\\"Eco-Friendly Water Bottle\\\",\\n    \u001b[0m       \u001b[32m│\u001b[0m\n",
       "\u001b[32m│\u001b[0m \u001b[1;36m\\\"price\\\": 29.99,\\n    \\\"category\\\": \\\"lifestyle\\\",\\n    \\\"description\\\": \\\"Stainless steel water bottle, keeps\u001b[0m \u001b[32m│\u001b[0m\n",
       "\u001b[32m│\u001b[0m \u001b[1;36mdrinks cold for 24hrs\\\",\\n    \\\"stock\\\": 40,\\n    \\\"capacity\\\": \\\"750ml\\\"\\n  },\\n  {\\n    \\\"id\\\": \\\"5\\\",\\n    \u001b[0m  \u001b[32m│\u001b[0m\n",
       "\u001b[32m│\u001b[0m \u001b[1;36m\\\"name\\\": \\\"Premium Tea Collection\\\",\\n    \\\"price\\\": 34.99,\\n    \\\"category\\\": \\\"food\\\",\\n    \\\"description\\\":\u001b[0m \u001b[32m│\u001b[0m\n",
       "\u001b[32m│\u001b[0m \u001b[1;36m\\\"Assorted premium teas from around the world\\\",\\n    \\\"stock\\\": 30,\\n    \\\"items\\\": \\\"12 tea bags\\\"\\n  }\\n]\"\u001b[0m   \u001b[32m│\u001b[0m\n",
       "\u001b[32m╰─────────────────────────────────────────────────────────────────────────────────────────────────────────────────╯\u001b[0m\n"
      ]
     },
     "metadata": {},
     "output_type": "display_data"
    },
    {
     "data": {
      "application/vnd.jupyter.widget-view+json": {
       "model_id": "6cc5f37cf7b64008ac5edb7841fcf738",
       "version_major": 2,
       "version_minor": 0
      },
      "text/plain": [
       "Output()"
      ]
     },
     "metadata": {},
     "output_type": "display_data"
    },
    {
     "data": {
      "text/html": [
       "<pre style=\"white-space:pre;overflow-x:auto;line-height:normal;font-family:Menlo,'DejaVu Sans Mono',consolas,'Courier New',monospace\"></pre>\n"
      ],
      "text/plain": []
     },
     "metadata": {},
     "output_type": "display_data"
    },
    {
     "data": {
      "text/html": [
       "<pre style=\"white-space:pre;overflow-x:auto;line-height:normal;font-family:Menlo,'DejaVu Sans Mono',consolas,'Courier New',monospace\">\n",
       "</pre>\n"
      ],
      "text/plain": [
       "\n"
      ]
     },
     "metadata": {},
     "output_type": "display_data"
    },
    {
     "data": {
      "text/html": [
       "<pre style=\"white-space:pre;overflow-x:auto;line-height:normal;font-family:Menlo,'DejaVu Sans Mono',consolas,'Courier New',monospace\"><span style=\"color: #7f7f7f; text-decoration-color: #7f7f7f\">Response generated in 7.5s</span>\n",
       "</pre>\n"
      ],
      "text/plain": [
       "\u001b[2mResponse generated in 7.5s\u001b[0m\n"
      ]
     },
     "metadata": {},
     "output_type": "display_data"
    },
    {
     "data": {
      "text/html": [
       "<pre style=\"white-space:pre;overflow-x:auto;line-height:normal;font-family:Menlo,'DejaVu Sans Mono',consolas,'Courier New',monospace\"><span style=\"color: #008080; text-decoration-color: #008080\">╭───────────────────────────────────────────────────── Task ──────────────────────────────────────────────────────╮</span>\n",
       "<span style=\"color: #008080; text-decoration-color: #008080\">│</span> You need to do the following task: Help a customer discover products in the online store. Show available        <span style=\"color: #008080; text-decoration-color: #008080\">│</span>\n",
       "<span style=\"color: #008080; text-decoration-color: #008080\">│</span> products, provide recommendations based on preferences, and explain product details including prices and        <span style=\"color: #008080; text-decoration-color: #008080\">│</span>\n",
       "<span style=\"color: #008080; text-decoration-color: #008080\">│</span> descriptions.                                                                                                   <span style=\"color: #008080; text-decoration-color: #008080\">│</span>\n",
       "<span style=\"color: #008080; text-decoration-color: #008080\">│</span>                                                                                                                 <span style=\"color: #008080; text-decoration-color: #008080\">│</span>\n",
       "<span style=\"color: #008080; text-decoration-color: #008080\">│</span> <span style=\"background-color: #272822\">                                                                                                               </span> <span style=\"color: #008080; text-decoration-color: #008080\">│</span>\n",
       "<span style=\"color: #008080; text-decoration-color: #008080\">│</span> <span style=\"background-color: #272822\"> </span><span style=\"color: #f8f8f2; text-decoration-color: #f8f8f2; background-color: #272822\">    Example interactions:</span><span style=\"background-color: #272822\">                                                                                     </span> <span style=\"color: #008080; text-decoration-color: #008080\">│</span>\n",
       "<span style=\"color: #008080; text-decoration-color: #008080\">│</span> <span style=\"background-color: #272822\"> </span><span style=\"color: #f8f8f2; text-decoration-color: #f8f8f2; background-color: #272822\">    - \"What electronics do you have?\"</span><span style=\"background-color: #272822\">                                                                         </span> <span style=\"color: #008080; text-decoration-color: #008080\">│</span>\n",
       "<span style=\"color: #008080; text-decoration-color: #008080\">│</span> <span style=\"background-color: #272822\"> </span><span style=\"color: #f8f8f2; text-decoration-color: #f8f8f2; background-color: #272822\">    - \"Show me coffee products\"</span><span style=\"background-color: #272822\">                                                                               </span> <span style=\"color: #008080; text-decoration-color: #008080\">│</span>\n",
       "<span style=\"color: #008080; text-decoration-color: #008080\">│</span> <span style=\"background-color: #272822\"> </span><span style=\"color: #f8f8f2; text-decoration-color: #f8f8f2; background-color: #272822\">    - \"I need a gift for someone who likes tech\"</span><span style=\"background-color: #272822\">                                                              </span> <span style=\"color: #008080; text-decoration-color: #008080\">│</span>\n",
       "<span style=\"color: #008080; text-decoration-color: #008080\">│</span> <span style=\"background-color: #272822\"> </span><span style=\"color: #f8f8f2; text-decoration-color: #f8f8f2; background-color: #272822\">    .</span><span style=\"background-color: #272822\">                                                                                                         </span> <span style=\"color: #008080; text-decoration-color: #008080\">│</span>\n",
       "<span style=\"color: #008080; text-decoration-color: #008080\">│</span> <span style=\"background-color: #272822\">                                                                                                               </span> <span style=\"color: #008080; text-decoration-color: #008080\">│</span>\n",
       "<span style=\"color: #008080; text-decoration-color: #008080\">│</span>                                                                                                                 <span style=\"color: #008080; text-decoration-color: #008080\">│</span>\n",
       "<span style=\"color: #008080; text-decoration-color: #008080\">│</span> Expected Output: Product recommendations with details, prices, and helpful information. Please provide only the <span style=\"color: #008080; text-decoration-color: #008080\">│</span>\n",
       "<span style=\"color: #008080; text-decoration-color: #008080\">│</span> final result of your work. Do not add any conversation or extra explanation.                                    <span style=\"color: #008080; text-decoration-color: #008080\">│</span>\n",
       "<span style=\"color: #008080; text-decoration-color: #008080\">╰─────────────────────────────────────────────────────────────────────────────────────────────────────────────────╯</span>\n",
       "</pre>\n"
      ],
      "text/plain": [
       "\u001b[36m╭─\u001b[0m\u001b[36m────────────────────────────────────────────────────\u001b[0m\u001b[36m Task \u001b[0m\u001b[36m─────────────────────────────────────────────────────\u001b[0m\u001b[36m─╮\u001b[0m\n",
       "\u001b[36m│\u001b[0m You need to do the following task: Help a customer discover products in the online store. Show available        \u001b[36m│\u001b[0m\n",
       "\u001b[36m│\u001b[0m products, provide recommendations based on preferences, and explain product details including prices and        \u001b[36m│\u001b[0m\n",
       "\u001b[36m│\u001b[0m descriptions.                                                                                                   \u001b[36m│\u001b[0m\n",
       "\u001b[36m│\u001b[0m                                                                                                                 \u001b[36m│\u001b[0m\n",
       "\u001b[36m│\u001b[0m \u001b[48;2;39;40;34m                                                                                                               \u001b[0m \u001b[36m│\u001b[0m\n",
       "\u001b[36m│\u001b[0m \u001b[48;2;39;40;34m \u001b[0m\u001b[38;2;248;248;242;48;2;39;40;34m    Example interactions:\u001b[0m\u001b[48;2;39;40;34m                                                                                    \u001b[0m\u001b[48;2;39;40;34m \u001b[0m \u001b[36m│\u001b[0m\n",
       "\u001b[36m│\u001b[0m \u001b[48;2;39;40;34m \u001b[0m\u001b[38;2;248;248;242;48;2;39;40;34m    - \"What electronics do you have?\"\u001b[0m\u001b[48;2;39;40;34m                                                                        \u001b[0m\u001b[48;2;39;40;34m \u001b[0m \u001b[36m│\u001b[0m\n",
       "\u001b[36m│\u001b[0m \u001b[48;2;39;40;34m \u001b[0m\u001b[38;2;248;248;242;48;2;39;40;34m    - \"Show me coffee products\"\u001b[0m\u001b[48;2;39;40;34m                                                                              \u001b[0m\u001b[48;2;39;40;34m \u001b[0m \u001b[36m│\u001b[0m\n",
       "\u001b[36m│\u001b[0m \u001b[48;2;39;40;34m \u001b[0m\u001b[38;2;248;248;242;48;2;39;40;34m    - \"I need a gift for someone who likes tech\"\u001b[0m\u001b[48;2;39;40;34m                                                             \u001b[0m\u001b[48;2;39;40;34m \u001b[0m \u001b[36m│\u001b[0m\n",
       "\u001b[36m│\u001b[0m \u001b[48;2;39;40;34m \u001b[0m\u001b[38;2;248;248;242;48;2;39;40;34m    .\u001b[0m\u001b[48;2;39;40;34m                                                                                                        \u001b[0m\u001b[48;2;39;40;34m \u001b[0m \u001b[36m│\u001b[0m\n",
       "\u001b[36m│\u001b[0m \u001b[48;2;39;40;34m                                                                                                               \u001b[0m \u001b[36m│\u001b[0m\n",
       "\u001b[36m│\u001b[0m                                                                                                                 \u001b[36m│\u001b[0m\n",
       "\u001b[36m│\u001b[0m Expected Output: Product recommendations with details, prices, and helpful information. Please provide only the \u001b[36m│\u001b[0m\n",
       "\u001b[36m│\u001b[0m final result of your work. Do not add any conversation or extra explanation.                                    \u001b[36m│\u001b[0m\n",
       "\u001b[36m╰─────────────────────────────────────────────────────────────────────────────────────────────────────────────────╯\u001b[0m\n"
      ]
     },
     "metadata": {},
     "output_type": "display_data"
    },
    {
     "data": {
      "text/html": [
       "<pre style=\"white-space:pre;overflow-x:auto;line-height:normal;font-family:Menlo,'DejaVu Sans Mono',consolas,'Courier New',monospace\"><span style=\"color: #008080; text-decoration-color: #008080\">╭─────────────────────────────────────────────────── Response ────────────────────────────────────────────────────╮</span>\n",
       "<span style=\"color: #008080; text-decoration-color: #008080\">│</span> <span style=\"font-weight: bold\">Product Recommendations:</span>                                                                                        <span style=\"color: #008080; text-decoration-color: #008080\">│</span>\n",
       "<span style=\"color: #008080; text-decoration-color: #008080\">│</span>                                                                                                                 <span style=\"color: #008080; text-decoration-color: #008080\">│</span>\n",
       "<span style=\"color: #008080; text-decoration-color: #008080\">│</span> <span style=\"font-weight: bold\">Electronics:</span>                                                                                                    <span style=\"color: #008080; text-decoration-color: #008080\">│</span>\n",
       "<span style=\"color: #008080; text-decoration-color: #008080\">│</span>                                                                                                                 <span style=\"color: #008080; text-decoration-color: #008080\">│</span>\n",
       "<span style=\"color: #008080; text-decoration-color: #008080\">│</span> <span style=\"color: #808000; text-decoration-color: #808000; font-weight: bold\"> 1 </span><span style=\"font-weight: bold\">Premium Wireless Headphones</span>                                                                                  <span style=\"color: #008080; text-decoration-color: #008080\">│</span>\n",
       "<span style=\"color: #008080; text-decoration-color: #008080\">│</span> <span style=\"color: #808000; text-decoration-color: #808000; font-weight: bold\">    • </span><span style=\"font-weight: bold\">Price:</span> $199.99                                                                                            <span style=\"color: #008080; text-decoration-color: #008080\">│</span>\n",
       "<span style=\"color: #008080; text-decoration-color: #008080\">│</span> <span style=\"color: #808000; text-decoration-color: #808000; font-weight: bold\">    • </span><span style=\"font-weight: bold\">Description:</span> High-quality wireless headphones with noise cancellation.                                    <span style=\"color: #008080; text-decoration-color: #008080\">│</span>\n",
       "<span style=\"color: #008080; text-decoration-color: #008080\">│</span> <span style=\"color: #808000; text-decoration-color: #808000; font-weight: bold\">    • </span><span style=\"font-weight: bold\">Brand:</span> TechPro                                                                                            <span style=\"color: #008080; text-decoration-color: #008080\">│</span>\n",
       "<span style=\"color: #008080; text-decoration-color: #008080\">│</span> <span style=\"color: #808000; text-decoration-color: #808000; font-weight: bold\"> 2 </span><span style=\"font-weight: bold\">Fitness Tracker Watch</span>                                                                                        <span style=\"color: #008080; text-decoration-color: #008080\">│</span>\n",
       "<span style=\"color: #008080; text-decoration-color: #008080\">│</span> <span style=\"color: #808000; text-decoration-color: #808000; font-weight: bold\">    • </span><span style=\"font-weight: bold\">Price:</span> $129.99                                                                                            <span style=\"color: #008080; text-decoration-color: #008080\">│</span>\n",
       "<span style=\"color: #008080; text-decoration-color: #008080\">│</span> <span style=\"color: #808000; text-decoration-color: #808000; font-weight: bold\">    • </span><span style=\"font-weight: bold\">Description:</span> Smart fitness tracker with heart rate monitor.                                               <span style=\"color: #008080; text-decoration-color: #008080\">│</span>\n",
       "<span style=\"color: #008080; text-decoration-color: #008080\">│</span> <span style=\"color: #808000; text-decoration-color: #808000; font-weight: bold\">    • </span><span style=\"font-weight: bold\">Brand:</span> FitLife                                                                                            <span style=\"color: #008080; text-decoration-color: #008080\">│</span>\n",
       "<span style=\"color: #008080; text-decoration-color: #008080\">│</span>                                                                                                                 <span style=\"color: #008080; text-decoration-color: #008080\">│</span>\n",
       "<span style=\"color: #008080; text-decoration-color: #008080\">│</span> <span style=\"font-weight: bold\">Food &amp; Beverages:</span>                                                                                               <span style=\"color: #008080; text-decoration-color: #008080\">│</span>\n",
       "<span style=\"color: #008080; text-decoration-color: #008080\">│</span>                                                                                                                 <span style=\"color: #008080; text-decoration-color: #008080\">│</span>\n",
       "<span style=\"color: #008080; text-decoration-color: #008080\">│</span> <span style=\"color: #808000; text-decoration-color: #808000; font-weight: bold\"> 1 </span><span style=\"font-weight: bold\">Organic Coffee Blend</span>                                                                                         <span style=\"color: #008080; text-decoration-color: #008080\">│</span>\n",
       "<span style=\"color: #008080; text-decoration-color: #008080\">│</span> <span style=\"color: #808000; text-decoration-color: #808000; font-weight: bold\">    • </span><span style=\"font-weight: bold\">Price:</span> $24.99                                                                                             <span style=\"color: #008080; text-decoration-color: #008080\">│</span>\n",
       "<span style=\"color: #008080; text-decoration-color: #008080\">│</span> <span style=\"color: #808000; text-decoration-color: #808000; font-weight: bold\">    • </span><span style=\"font-weight: bold\">Description:</span> Fair trade organic coffee beans, medium roast.                                               <span style=\"color: #008080; text-decoration-color: #008080\">│</span>\n",
       "<span style=\"color: #008080; text-decoration-color: #008080\">│</span> <span style=\"color: #808000; text-decoration-color: #808000; font-weight: bold\">    • </span><span style=\"font-weight: bold\">Weight:</span> 500g                                                                                              <span style=\"color: #008080; text-decoration-color: #008080\">│</span>\n",
       "<span style=\"color: #008080; text-decoration-color: #008080\">│</span> <span style=\"color: #808000; text-decoration-color: #808000; font-weight: bold\"> 2 </span><span style=\"font-weight: bold\">Premium Tea Collection</span>                                                                                       <span style=\"color: #008080; text-decoration-color: #008080\">│</span>\n",
       "<span style=\"color: #008080; text-decoration-color: #008080\">│</span> <span style=\"color: #808000; text-decoration-color: #808000; font-weight: bold\">    • </span><span style=\"font-weight: bold\">Price:</span> $34.99                                                                                             <span style=\"color: #008080; text-decoration-color: #008080\">│</span>\n",
       "<span style=\"color: #008080; text-decoration-color: #008080\">│</span> <span style=\"color: #808000; text-decoration-color: #808000; font-weight: bold\">    • </span><span style=\"font-weight: bold\">Description:</span> Assorted premium teas from around the world.                                                 <span style=\"color: #008080; text-decoration-color: #008080\">│</span>\n",
       "<span style=\"color: #008080; text-decoration-color: #008080\">│</span> <span style=\"color: #808000; text-decoration-color: #808000; font-weight: bold\">    • </span><span style=\"font-weight: bold\">Items:</span> 12 tea bags                                                                                        <span style=\"color: #008080; text-decoration-color: #008080\">│</span>\n",
       "<span style=\"color: #008080; text-decoration-color: #008080\">│</span>                                                                                                                 <span style=\"color: #008080; text-decoration-color: #008080\">│</span>\n",
       "<span style=\"color: #008080; text-decoration-color: #008080\">│</span> <span style=\"font-weight: bold\">Lifestyle:</span>                                                                                                      <span style=\"color: #008080; text-decoration-color: #008080\">│</span>\n",
       "<span style=\"color: #008080; text-decoration-color: #008080\">│</span>                                                                                                                 <span style=\"color: #008080; text-decoration-color: #008080\">│</span>\n",
       "<span style=\"color: #008080; text-decoration-color: #008080\">│</span> <span style=\"color: #808000; text-decoration-color: #808000; font-weight: bold\"> 1 </span><span style=\"font-weight: bold\">Eco-Friendly Water Bottle</span>                                                                                    <span style=\"color: #008080; text-decoration-color: #008080\">│</span>\n",
       "<span style=\"color: #008080; text-decoration-color: #008080\">│</span> <span style=\"color: #808000; text-decoration-color: #808000; font-weight: bold\">    • </span><span style=\"font-weight: bold\">Price:</span> $29.99                                                                                             <span style=\"color: #008080; text-decoration-color: #008080\">│</span>\n",
       "<span style=\"color: #008080; text-decoration-color: #008080\">│</span> <span style=\"color: #808000; text-decoration-color: #808000; font-weight: bold\">    • </span><span style=\"font-weight: bold\">Description:</span> Stainless steel water bottle, keeps drinks cold for 24hrs.                                   <span style=\"color: #008080; text-decoration-color: #008080\">│</span>\n",
       "<span style=\"color: #008080; text-decoration-color: #008080\">│</span> <span style=\"color: #808000; text-decoration-color: #808000; font-weight: bold\">    • </span><span style=\"font-weight: bold\">Capacity:</span> 750ml                                                                                           <span style=\"color: #008080; text-decoration-color: #008080\">│</span>\n",
       "<span style=\"color: #008080; text-decoration-color: #008080\">│</span>                                                                                                                 <span style=\"color: #008080; text-decoration-color: #008080\">│</span>\n",
       "<span style=\"color: #008080; text-decoration-color: #008080\">│</span> These products offer a variety of options across different categories, perfect for personal use or as           <span style=\"color: #008080; text-decoration-color: #008080\">│</span>\n",
       "<span style=\"color: #008080; text-decoration-color: #008080\">│</span> thoughtful gifts.                                                                                               <span style=\"color: #008080; text-decoration-color: #008080\">│</span>\n",
       "<span style=\"color: #008080; text-decoration-color: #008080\">╰─────────────────────────────────────────────────────────────────────────────────────────────────────────────────╯</span>\n",
       "</pre>\n"
      ],
      "text/plain": [
       "\u001b[36m╭─\u001b[0m\u001b[36m──────────────────────────────────────────────────\u001b[0m\u001b[36m Response \u001b[0m\u001b[36m───────────────────────────────────────────────────\u001b[0m\u001b[36m─╮\u001b[0m\n",
       "\u001b[36m│\u001b[0m \u001b[1mProduct Recommendations:\u001b[0m                                                                                        \u001b[36m│\u001b[0m\n",
       "\u001b[36m│\u001b[0m                                                                                                                 \u001b[36m│\u001b[0m\n",
       "\u001b[36m│\u001b[0m \u001b[1mElectronics:\u001b[0m                                                                                                    \u001b[36m│\u001b[0m\n",
       "\u001b[36m│\u001b[0m                                                                                                                 \u001b[36m│\u001b[0m\n",
       "\u001b[36m│\u001b[0m \u001b[1;33m 1 \u001b[0m\u001b[1mPremium Wireless Headphones\u001b[0m                                                                                  \u001b[36m│\u001b[0m\n",
       "\u001b[36m│\u001b[0m \u001b[1;33m   \u001b[0m\u001b[1;33m • \u001b[0m\u001b[1mPrice:\u001b[0m $199.99                                                                                            \u001b[36m│\u001b[0m\n",
       "\u001b[36m│\u001b[0m \u001b[1;33m   \u001b[0m\u001b[1;33m • \u001b[0m\u001b[1mDescription:\u001b[0m High-quality wireless headphones with noise cancellation.                                    \u001b[36m│\u001b[0m\n",
       "\u001b[36m│\u001b[0m \u001b[1;33m   \u001b[0m\u001b[1;33m • \u001b[0m\u001b[1mBrand:\u001b[0m TechPro                                                                                            \u001b[36m│\u001b[0m\n",
       "\u001b[36m│\u001b[0m \u001b[1;33m 2 \u001b[0m\u001b[1mFitness Tracker Watch\u001b[0m                                                                                        \u001b[36m│\u001b[0m\n",
       "\u001b[36m│\u001b[0m \u001b[1;33m   \u001b[0m\u001b[1;33m • \u001b[0m\u001b[1mPrice:\u001b[0m $129.99                                                                                            \u001b[36m│\u001b[0m\n",
       "\u001b[36m│\u001b[0m \u001b[1;33m   \u001b[0m\u001b[1;33m • \u001b[0m\u001b[1mDescription:\u001b[0m Smart fitness tracker with heart rate monitor.                                               \u001b[36m│\u001b[0m\n",
       "\u001b[36m│\u001b[0m \u001b[1;33m   \u001b[0m\u001b[1;33m • \u001b[0m\u001b[1mBrand:\u001b[0m FitLife                                                                                            \u001b[36m│\u001b[0m\n",
       "\u001b[36m│\u001b[0m                                                                                                                 \u001b[36m│\u001b[0m\n",
       "\u001b[36m│\u001b[0m \u001b[1mFood & Beverages:\u001b[0m                                                                                               \u001b[36m│\u001b[0m\n",
       "\u001b[36m│\u001b[0m                                                                                                                 \u001b[36m│\u001b[0m\n",
       "\u001b[36m│\u001b[0m \u001b[1;33m 1 \u001b[0m\u001b[1mOrganic Coffee Blend\u001b[0m                                                                                         \u001b[36m│\u001b[0m\n",
       "\u001b[36m│\u001b[0m \u001b[1;33m   \u001b[0m\u001b[1;33m • \u001b[0m\u001b[1mPrice:\u001b[0m $24.99                                                                                             \u001b[36m│\u001b[0m\n",
       "\u001b[36m│\u001b[0m \u001b[1;33m   \u001b[0m\u001b[1;33m • \u001b[0m\u001b[1mDescription:\u001b[0m Fair trade organic coffee beans, medium roast.                                               \u001b[36m│\u001b[0m\n",
       "\u001b[36m│\u001b[0m \u001b[1;33m   \u001b[0m\u001b[1;33m • \u001b[0m\u001b[1mWeight:\u001b[0m 500g                                                                                              \u001b[36m│\u001b[0m\n",
       "\u001b[36m│\u001b[0m \u001b[1;33m 2 \u001b[0m\u001b[1mPremium Tea Collection\u001b[0m                                                                                       \u001b[36m│\u001b[0m\n",
       "\u001b[36m│\u001b[0m \u001b[1;33m   \u001b[0m\u001b[1;33m • \u001b[0m\u001b[1mPrice:\u001b[0m $34.99                                                                                             \u001b[36m│\u001b[0m\n",
       "\u001b[36m│\u001b[0m \u001b[1;33m   \u001b[0m\u001b[1;33m • \u001b[0m\u001b[1mDescription:\u001b[0m Assorted premium teas from around the world.                                                 \u001b[36m│\u001b[0m\n",
       "\u001b[36m│\u001b[0m \u001b[1;33m   \u001b[0m\u001b[1;33m • \u001b[0m\u001b[1mItems:\u001b[0m 12 tea bags                                                                                        \u001b[36m│\u001b[0m\n",
       "\u001b[36m│\u001b[0m                                                                                                                 \u001b[36m│\u001b[0m\n",
       "\u001b[36m│\u001b[0m \u001b[1mLifestyle:\u001b[0m                                                                                                      \u001b[36m│\u001b[0m\n",
       "\u001b[36m│\u001b[0m                                                                                                                 \u001b[36m│\u001b[0m\n",
       "\u001b[36m│\u001b[0m \u001b[1;33m 1 \u001b[0m\u001b[1mEco-Friendly Water Bottle\u001b[0m                                                                                    \u001b[36m│\u001b[0m\n",
       "\u001b[36m│\u001b[0m \u001b[1;33m   \u001b[0m\u001b[1;33m • \u001b[0m\u001b[1mPrice:\u001b[0m $29.99                                                                                             \u001b[36m│\u001b[0m\n",
       "\u001b[36m│\u001b[0m \u001b[1;33m   \u001b[0m\u001b[1;33m • \u001b[0m\u001b[1mDescription:\u001b[0m Stainless steel water bottle, keeps drinks cold for 24hrs.                                   \u001b[36m│\u001b[0m\n",
       "\u001b[36m│\u001b[0m \u001b[1;33m   \u001b[0m\u001b[1;33m • \u001b[0m\u001b[1mCapacity:\u001b[0m 750ml                                                                                           \u001b[36m│\u001b[0m\n",
       "\u001b[36m│\u001b[0m                                                                                                                 \u001b[36m│\u001b[0m\n",
       "\u001b[36m│\u001b[0m These products offer a variety of options across different categories, perfect for personal use or as           \u001b[36m│\u001b[0m\n",
       "\u001b[36m│\u001b[0m thoughtful gifts.                                                                                               \u001b[36m│\u001b[0m\n",
       "\u001b[36m╰─────────────────────────────────────────────────────────────────────────────────────────────────────────────────╯\u001b[0m\n"
      ]
     },
     "metadata": {},
     "output_type": "display_data"
    },
    {
     "data": {
      "text/html": [
       "<pre style=\"white-space:pre;overflow-x:auto;line-height:normal;font-family:Menlo,'DejaVu Sans Mono',consolas,'Courier New',monospace\"><span style=\"color: #d2e3c8; text-decoration-color: #d2e3c8\">╭─ </span><span style=\"color: #d2e3c8; text-decoration-color: #d2e3c8; font-weight: bold\">Agent Info</span><span style=\"color: #d2e3c8; text-decoration-color: #d2e3c8\"> ────────────────────────────────────────────────────────────────────────────────────────────────────╮</span>\n",
       "<span style=\"color: #d2e3c8; text-decoration-color: #d2e3c8\">│</span>                                                                                                                 <span style=\"color: #d2e3c8; text-decoration-color: #d2e3c8\">│</span>\n",
       "<span style=\"color: #d2e3c8; text-decoration-color: #d2e3c8\">│</span>  <span style=\"color: #ff9b9b; text-decoration-color: #ff9b9b; font-weight: bold\">👤 Agent:</span> <span style=\"color: #ffe5e5; text-decoration-color: #ffe5e5\">Shopping Assistant</span>                                                                                   <span style=\"color: #d2e3c8; text-decoration-color: #d2e3c8\">│</span>\n",
       "<span style=\"color: #d2e3c8; text-decoration-color: #d2e3c8\">│</span>  <span style=\"color: #b4b4b3; text-decoration-color: #b4b4b3; font-weight: bold\">Role:</span> <span style=\"color: #ffe5e5; text-decoration-color: #ffe5e5\">AI E-commerce Assistant</span>                                                                                  <span style=\"color: #d2e3c8; text-decoration-color: #d2e3c8\">│</span>\n",
       "<span style=\"color: #d2e3c8; text-decoration-color: #d2e3c8\">│</span>  <span style=\"color: #86a789; text-decoration-color: #86a789; font-weight: bold\">Tools:</span> <span style=\"color: #b4d4ff; text-decoration-color: #b4d4ff; font-style: italic\">get_products</span>, <span style=\"color: #b4d4ff; text-decoration-color: #b4d4ff; font-style: italic\">get_product</span>, <span style=\"color: #b4d4ff; text-decoration-color: #b4d4ff; font-style: italic\">search_products</span>, <span style=\"color: #b4d4ff; text-decoration-color: #b4d4ff; font-style: italic\">create_order</span>, <span style=\"color: #b4d4ff; text-decoration-color: #b4d4ff; font-style: italic\">get_customer_orders</span>, <span style=\"color: #b4d4ff; text-decoration-color: #b4d4ff; font-style: italic\">book_meeting</span>             <span style=\"color: #d2e3c8; text-decoration-color: #d2e3c8\">│</span>\n",
       "<span style=\"color: #d2e3c8; text-decoration-color: #d2e3c8\">│</span>                                                                                                                 <span style=\"color: #d2e3c8; text-decoration-color: #d2e3c8\">│</span>\n",
       "<span style=\"color: #d2e3c8; text-decoration-color: #d2e3c8\">╰─────────────────────────────────────────────────────────────────────────────────────────────────────────────────╯</span>\n",
       "</pre>\n"
      ],
      "text/plain": [
       "\u001b[38;2;210;227;200m╭─\u001b[0m\u001b[38;2;210;227;200m \u001b[0m\u001b[1;38;2;210;227;200mAgent Info\u001b[0m\u001b[38;2;210;227;200m \u001b[0m\u001b[38;2;210;227;200m───────────────────────────────────────────────────────────────────────────────────────────────────\u001b[0m\u001b[38;2;210;227;200m─╮\u001b[0m\n",
       "\u001b[38;2;210;227;200m│\u001b[0m                                                                                                                 \u001b[38;2;210;227;200m│\u001b[0m\n",
       "\u001b[38;2;210;227;200m│\u001b[0m  \u001b[1;38;2;255;155;155m👤 Agent:\u001b[0m \u001b[38;2;255;229;229mShopping Assistant\u001b[0m                                                                                   \u001b[38;2;210;227;200m│\u001b[0m\n",
       "\u001b[38;2;210;227;200m│\u001b[0m  \u001b[1;38;2;180;180;179mRole:\u001b[0m \u001b[38;2;255;229;229mAI E-commerce Assistant\u001b[0m                                                                                  \u001b[38;2;210;227;200m│\u001b[0m\n",
       "\u001b[38;2;210;227;200m│\u001b[0m  \u001b[1;38;2;134;167;137mTools:\u001b[0m \u001b[3;38;2;180;212;255mget_products\u001b[0m, \u001b[3;38;2;180;212;255mget_product\u001b[0m, \u001b[3;38;2;180;212;255msearch_products\u001b[0m, \u001b[3;38;2;180;212;255mcreate_order\u001b[0m, \u001b[3;38;2;180;212;255mget_customer_orders\u001b[0m, \u001b[3;38;2;180;212;255mbook_meeting\u001b[0m             \u001b[38;2;210;227;200m│\u001b[0m\n",
       "\u001b[38;2;210;227;200m│\u001b[0m                                                                                                                 \u001b[38;2;210;227;200m│\u001b[0m\n",
       "\u001b[38;2;210;227;200m╰─────────────────────────────────────────────────────────────────────────────────────────────────────────────────╯\u001b[0m\n"
      ]
     },
     "metadata": {},
     "output_type": "display_data"
    },
    {
     "data": {
      "application/vnd.jupyter.widget-view+json": {
       "model_id": "680368bd3bb64286a5c9b29a0eb02c6d",
       "version_major": 2,
       "version_minor": 0
      },
      "text/plain": [
       "Output()"
      ]
     },
     "metadata": {},
     "output_type": "display_data"
    },
    {
     "data": {
      "text/html": [
       "<pre style=\"white-space:pre;overflow-x:auto;line-height:normal;font-family:Menlo,'DejaVu Sans Mono',consolas,'Courier New',monospace\"></pre>\n"
      ],
      "text/plain": []
     },
     "metadata": {},
     "output_type": "display_data"
    },
    {
     "data": {
      "text/html": [
       "<pre style=\"white-space:pre;overflow-x:auto;line-height:normal;font-family:Menlo,'DejaVu Sans Mono',consolas,'Courier New',monospace\">\n",
       "</pre>\n"
      ],
      "text/plain": [
       "\n"
      ]
     },
     "metadata": {},
     "output_type": "display_data"
    },
    {
     "data": {
      "text/html": [
       "<pre style=\"white-space:pre;overflow-x:auto;line-height:normal;font-family:Menlo,'DejaVu Sans Mono',consolas,'Courier New',monospace\"><span style=\"color: #7f7f7f; text-decoration-color: #7f7f7f\">Response generated in 3.2s</span>\n",
       "</pre>\n"
      ],
      "text/plain": [
       "\u001b[2mResponse generated in 3.2s\u001b[0m\n"
      ]
     },
     "metadata": {},
     "output_type": "display_data"
    },
    {
     "data": {
      "text/html": [
       "<pre style=\"white-space:pre;overflow-x:auto;line-height:normal;font-family:Menlo,'DejaVu Sans Mono',consolas,'Courier New',monospace\"><span style=\"color: #008080; text-decoration-color: #008080\">╭───────────────────────────────────────────────────── Task ──────────────────────────────────────────────────────╮</span>\n",
       "<span style=\"color: #008080; text-decoration-color: #008080\">│</span> You need to do the following task: Assist customers with creating orders and managing their purchases. Guide    <span style=\"color: #008080; text-decoration-color: #008080\">│</span>\n",
       "<span style=\"color: #008080; text-decoration-color: #008080\">│</span> them through the ordering process, collect necessary information, and generate payment links for secure         <span style=\"color: #008080; text-decoration-color: #008080\">│</span>\n",
       "<span style=\"color: #008080; text-decoration-color: #008080\">│</span> checkout.                                                                                                       <span style=\"color: #008080; text-decoration-color: #008080\">│</span>\n",
       "<span style=\"color: #008080; text-decoration-color: #008080\">│</span>                                                                                                                 <span style=\"color: #008080; text-decoration-color: #008080\">│</span>\n",
       "<span style=\"color: #008080; text-decoration-color: #008080\">│</span> <span style=\"background-color: #272822\">                                                                                                               </span> <span style=\"color: #008080; text-decoration-color: #008080\">│</span>\n",
       "<span style=\"color: #008080; text-decoration-color: #008080\">│</span> <span style=\"background-color: #272822\"> </span><span style=\"color: #f8f8f2; text-decoration-color: #f8f8f2; background-color: #272822\">    Example interactions:</span><span style=\"background-color: #272822\">                                                                                     </span> <span style=\"color: #008080; text-decoration-color: #008080\">│</span>\n",
       "<span style=\"color: #008080; text-decoration-color: #008080\">│</span> <span style=\"background-color: #272822\"> </span><span style=\"color: #f8f8f2; text-decoration-color: #f8f8f2; background-color: #272822\">    - \"I want to order 2 wireless headphones\"</span><span style=\"background-color: #272822\">                                                                 </span> <span style=\"color: #008080; text-decoration-color: #008080\">│</span>\n",
       "<span style=\"color: #008080; text-decoration-color: #008080\">│</span> <span style=\"background-color: #272822\"> </span><span style=\"color: #f8f8f2; text-decoration-color: #f8f8f2; background-color: #272822\">    - \"Create an order for Jane Doe, jane@email.com\"</span><span style=\"background-color: #272822\">                                                          </span> <span style=\"color: #008080; text-decoration-color: #008080\">│</span>\n",
       "<span style=\"color: #008080; text-decoration-color: #008080\">│</span> <span style=\"background-color: #272822\"> </span><span style=\"color: #f8f8f2; text-decoration-color: #f8f8f2; background-color: #272822\">    - \"Check my order status\"</span><span style=\"background-color: #272822\">                                                                                 </span> <span style=\"color: #008080; text-decoration-color: #008080\">│</span>\n",
       "<span style=\"color: #008080; text-decoration-color: #008080\">│</span> <span style=\"background-color: #272822\"> </span><span style=\"color: #f8f8f2; text-decoration-color: #f8f8f2; background-color: #272822\">    .</span><span style=\"background-color: #272822\">                                                                                                         </span> <span style=\"color: #008080; text-decoration-color: #008080\">│</span>\n",
       "<span style=\"color: #008080; text-decoration-color: #008080\">│</span> <span style=\"background-color: #272822\">                                                                                                               </span> <span style=\"color: #008080; text-decoration-color: #008080\">│</span>\n",
       "<span style=\"color: #008080; text-decoration-color: #008080\">│</span>                                                                                                                 <span style=\"color: #008080; text-decoration-color: #008080\">│</span>\n",
       "<span style=\"color: #008080; text-decoration-color: #008080\">│</span> Expected Output: Successfully created orders with payment links or order status information.                    <span style=\"color: #008080; text-decoration-color: #008080\">│</span>\n",
       "<span style=\"color: #008080; text-decoration-color: #008080\">│</span>                                                                                                                 <span style=\"color: #008080; text-decoration-color: #008080\">│</span>\n",
       "<span style=\"color: #008080; text-decoration-color: #008080\">│</span> Context:                                                                                                        <span style=\"color: #008080; text-decoration-color: #008080\">│</span>\n",
       "<span style=\"color: #008080; text-decoration-color: #008080\">│</span>                                                                                                                 <span style=\"color: #008080; text-decoration-color: #008080\">│</span>\n",
       "<span style=\"color: #008080; text-decoration-color: #008080\">│</span> Result of previous task Help a customer discover products in the online store. Show available products, provide <span style=\"color: #008080; text-decoration-color: #008080\">│</span>\n",
       "<span style=\"color: #008080; text-decoration-color: #008080\">│</span> recommendations based on preferences, and explain product details including prices and descriptions.            <span style=\"color: #008080; text-decoration-color: #008080\">│</span>\n",
       "<span style=\"color: #008080; text-decoration-color: #008080\">│</span>                                                                                                                 <span style=\"color: #008080; text-decoration-color: #008080\">│</span>\n",
       "<span style=\"color: #008080; text-decoration-color: #008080\">│</span> <span style=\"background-color: #272822\">                                                                                                               </span> <span style=\"color: #008080; text-decoration-color: #008080\">│</span>\n",
       "<span style=\"color: #008080; text-decoration-color: #008080\">│</span> <span style=\"background-color: #272822\"> </span><span style=\"color: #f8f8f2; text-decoration-color: #f8f8f2; background-color: #272822\">    Example interactions:</span><span style=\"background-color: #272822\">                                                                                     </span> <span style=\"color: #008080; text-decoration-color: #008080\">│</span>\n",
       "<span style=\"color: #008080; text-decoration-color: #008080\">│</span> <span style=\"background-color: #272822\"> </span><span style=\"color: #f8f8f2; text-decoration-color: #f8f8f2; background-color: #272822\">    - \"What electronics do you have?\"</span><span style=\"background-color: #272822\">                                                                         </span> <span style=\"color: #008080; text-decoration-color: #008080\">│</span>\n",
       "<span style=\"color: #008080; text-decoration-color: #008080\">│</span> <span style=\"background-color: #272822\"> </span><span style=\"color: #f8f8f2; text-decoration-color: #f8f8f2; background-color: #272822\">    - \"Show me coffee products\"</span><span style=\"background-color: #272822\">                                                                               </span> <span style=\"color: #008080; text-decoration-color: #008080\">│</span>\n",
       "<span style=\"color: #008080; text-decoration-color: #008080\">│</span> <span style=\"background-color: #272822\"> </span><span style=\"color: #f8f8f2; text-decoration-color: #f8f8f2; background-color: #272822\">    - \"I need a gift for someone who likes tech\"</span><span style=\"background-color: #272822\">                                                              </span> <span style=\"color: #008080; text-decoration-color: #008080\">│</span>\n",
       "<span style=\"color: #008080; text-decoration-color: #008080\">│</span> <span style=\"background-color: #272822\"> </span><span style=\"color: #f8f8f2; text-decoration-color: #f8f8f2; background-color: #272822\">    :</span><span style=\"background-color: #272822\">                                                                                                         </span> <span style=\"color: #008080; text-decoration-color: #008080\">│</span>\n",
       "<span style=\"color: #008080; text-decoration-color: #008080\">│</span> <span style=\"background-color: #272822\">                                                                                                               </span> <span style=\"color: #008080; text-decoration-color: #008080\">│</span>\n",
       "<span style=\"color: #008080; text-decoration-color: #008080\">│</span>                                                                                                                 <span style=\"color: #008080; text-decoration-color: #008080\">│</span>\n",
       "<span style=\"color: #008080; text-decoration-color: #008080\">│</span> <span style=\"font-weight: bold\">Product Recommendations:</span>                                                                                        <span style=\"color: #008080; text-decoration-color: #008080\">│</span>\n",
       "<span style=\"color: #008080; text-decoration-color: #008080\">│</span>                                                                                                                 <span style=\"color: #008080; text-decoration-color: #008080\">│</span>\n",
       "<span style=\"color: #008080; text-decoration-color: #008080\">│</span> <span style=\"font-weight: bold\">Electronics:</span>                                                                                                    <span style=\"color: #008080; text-decoration-color: #008080\">│</span>\n",
       "<span style=\"color: #008080; text-decoration-color: #008080\">│</span>                                                                                                                 <span style=\"color: #008080; text-decoration-color: #008080\">│</span>\n",
       "<span style=\"color: #008080; text-decoration-color: #008080\">│</span> <span style=\"color: #808000; text-decoration-color: #808000; font-weight: bold\"> 1 </span><span style=\"font-weight: bold\">Premium Wireless Headphones</span>                                                                                  <span style=\"color: #008080; text-decoration-color: #008080\">│</span>\n",
       "<span style=\"color: #008080; text-decoration-color: #008080\">│</span> <span style=\"color: #808000; text-decoration-color: #808000; font-weight: bold\">    • </span><span style=\"font-weight: bold\">Price:</span> $199.99                                                                                            <span style=\"color: #008080; text-decoration-color: #008080\">│</span>\n",
       "<span style=\"color: #008080; text-decoration-color: #008080\">│</span> <span style=\"color: #808000; text-decoration-color: #808000; font-weight: bold\">    • </span><span style=\"font-weight: bold\">Description:</span> High-quality wireless headphones with noise cancellation.                                    <span style=\"color: #008080; text-decoration-color: #008080\">│</span>\n",
       "<span style=\"color: #008080; text-decoration-color: #008080\">│</span> <span style=\"color: #808000; text-decoration-color: #808000; font-weight: bold\">    • </span><span style=\"font-weight: bold\">Brand:</span> TechPro                                                                                            <span style=\"color: #008080; text-decoration-color: #008080\">│</span>\n",
       "<span style=\"color: #008080; text-decoration-color: #008080\">│</span> <span style=\"color: #808000; text-decoration-color: #808000; font-weight: bold\"> 2 </span><span style=\"font-weight: bold\">Fitness Tracker Watch</span>                                                                                        <span style=\"color: #008080; text-decoration-color: #008080\">│</span>\n",
       "<span style=\"color: #008080; text-decoration-color: #008080\">│</span> <span style=\"color: #808000; text-decoration-color: #808000; font-weight: bold\">    • </span><span style=\"font-weight: bold\">Price:</span> $129.99                                                                                            <span style=\"color: #008080; text-decoration-color: #008080\">│</span>\n",
       "<span style=\"color: #008080; text-decoration-color: #008080\">│</span> <span style=\"color: #808000; text-decoration-color: #808000; font-weight: bold\">    • </span><span style=\"font-weight: bold\">Description:</span> Smart fitness tracker with heart rate monitor.                                               <span style=\"color: #008080; text-decoration-color: #008080\">│</span>\n",
       "<span style=\"color: #008080; text-decoration-color: #008080\">│</span> <span style=\"color: #808000; text-decoration-color: #808000; font-weight: bold\">    • </span><span style=\"font-weight: bold\">Brand:</span> FitLife                                                                                            <span style=\"color: #008080; text-decoration-color: #008080\">│</span>\n",
       "<span style=\"color: #008080; text-decoration-color: #008080\">│</span>                                                                                                                 <span style=\"color: #008080; text-decoration-color: #008080\">│</span>\n",
       "<span style=\"color: #008080; text-decoration-color: #008080\">│</span> <span style=\"font-weight: bold\">Food &amp; Beverages:</span>                                                                                               <span style=\"color: #008080; text-decoration-color: #008080\">│</span>\n",
       "<span style=\"color: #008080; text-decoration-color: #008080\">│</span>                                                                                                                 <span style=\"color: #008080; text-decoration-color: #008080\">│</span>\n",
       "<span style=\"color: #008080; text-decoration-color: #008080\">│</span> <span style=\"color: #808000; text-decoration-color: #808000; font-weight: bold\"> 1 </span><span style=\"font-weight: bold\">Organic Coffee Blend</span>                                                                                         <span style=\"color: #008080; text-decoration-color: #008080\">│</span>\n",
       "<span style=\"color: #008080; text-decoration-color: #008080\">│</span> <span style=\"color: #808000; text-decoration-color: #808000; font-weight: bold\">    • </span><span style=\"font-weight: bold\">Price:</span> $24.99                                                                                             <span style=\"color: #008080; text-decoration-color: #008080\">│</span>\n",
       "<span style=\"color: #008080; text-decoration-color: #008080\">│</span> <span style=\"color: #808000; text-decoration-color: #808000; font-weight: bold\">    • </span><span style=\"font-weight: bold\">Description:</span> Fair trade organic coffee beans, medium roast.                                               <span style=\"color: #008080; text-decoration-color: #008080\">│</span>\n",
       "<span style=\"color: #008080; text-decoration-color: #008080\">│</span> <span style=\"color: #808000; text-decoration-color: #808000; font-weight: bold\">    • </span><span style=\"font-weight: bold\">Weight:</span> 500g                                                                                              <span style=\"color: #008080; text-decoration-color: #008080\">│</span>\n",
       "<span style=\"color: #008080; text-decoration-color: #008080\">│</span> <span style=\"color: #808000; text-decoration-color: #808000; font-weight: bold\"> 2 </span><span style=\"font-weight: bold\">Premium Tea Collection</span>                                                                                       <span style=\"color: #008080; text-decoration-color: #008080\">│</span>\n",
       "<span style=\"color: #008080; text-decoration-color: #008080\">│</span> <span style=\"color: #808000; text-decoration-color: #808000; font-weight: bold\">    • </span><span style=\"font-weight: bold\">Price:</span> $34.99                                                                                             <span style=\"color: #008080; text-decoration-color: #008080\">│</span>\n",
       "<span style=\"color: #008080; text-decoration-color: #008080\">│</span> <span style=\"color: #808000; text-decoration-color: #808000; font-weight: bold\">    • </span><span style=\"font-weight: bold\">Description:</span> Assorted premium teas from around the world.                                                 <span style=\"color: #008080; text-decoration-color: #008080\">│</span>\n",
       "<span style=\"color: #008080; text-decoration-color: #008080\">│</span> <span style=\"color: #808000; text-decoration-color: #808000; font-weight: bold\">    • </span><span style=\"font-weight: bold\">Items:</span> 12 tea bags                                                                                        <span style=\"color: #008080; text-decoration-color: #008080\">│</span>\n",
       "<span style=\"color: #008080; text-decoration-color: #008080\">│</span>                                                                                                                 <span style=\"color: #008080; text-decoration-color: #008080\">│</span>\n",
       "<span style=\"color: #008080; text-decoration-color: #008080\">│</span> <span style=\"font-weight: bold\">Lifestyle:</span>                                                                                                      <span style=\"color: #008080; text-decoration-color: #008080\">│</span>\n",
       "<span style=\"color: #008080; text-decoration-color: #008080\">│</span>                                                                                                                 <span style=\"color: #008080; text-decoration-color: #008080\">│</span>\n",
       "<span style=\"color: #008080; text-decoration-color: #008080\">│</span> <span style=\"color: #808000; text-decoration-color: #808000; font-weight: bold\"> 1 </span><span style=\"font-weight: bold\">Eco-Friendly Water Bottle</span>                                                                                    <span style=\"color: #008080; text-decoration-color: #008080\">│</span>\n",
       "<span style=\"color: #008080; text-decoration-color: #008080\">│</span> <span style=\"color: #808000; text-decoration-color: #808000; font-weight: bold\">    • </span><span style=\"font-weight: bold\">Price:</span> $29.99                                                                                             <span style=\"color: #008080; text-decoration-color: #008080\">│</span>\n",
       "<span style=\"color: #008080; text-decoration-color: #008080\">│</span> <span style=\"color: #808000; text-decoration-color: #808000; font-weight: bold\">    • </span><span style=\"font-weight: bold\">Description:</span> Stainless steel water bottle, keeps drinks cold for 24hrs.                                   <span style=\"color: #008080; text-decoration-color: #008080\">│</span>\n",
       "<span style=\"color: #008080; text-decoration-color: #008080\">│</span> <span style=\"color: #808000; text-decoration-color: #808000; font-weight: bold\">    • </span><span style=\"font-weight: bold\">Capacity:</span> 750ml                                                                                           <span style=\"color: #008080; text-decoration-color: #008080\">│</span>\n",
       "<span style=\"color: #008080; text-decoration-color: #008080\">│</span>                                                                                                                 <span style=\"color: #008080; text-decoration-color: #008080\">│</span>\n",
       "<span style=\"color: #008080; text-decoration-color: #008080\">│</span> These products offer a variety of options across different categories, perfect for personal use or as           <span style=\"color: #008080; text-decoration-color: #008080\">│</span>\n",
       "<span style=\"color: #008080; text-decoration-color: #008080\">│</span> thoughtful gifts. Please provide only the final result of your work. Do not add any conversation or extra       <span style=\"color: #008080; text-decoration-color: #008080\">│</span>\n",
       "<span style=\"color: #008080; text-decoration-color: #008080\">│</span> explanation.                                                                                                    <span style=\"color: #008080; text-decoration-color: #008080\">│</span>\n",
       "<span style=\"color: #008080; text-decoration-color: #008080\">╰─────────────────────────────────────────────────────────────────────────────────────────────────────────────────╯</span>\n",
       "</pre>\n"
      ],
      "text/plain": [
       "\u001b[36m╭─\u001b[0m\u001b[36m────────────────────────────────────────────────────\u001b[0m\u001b[36m Task \u001b[0m\u001b[36m─────────────────────────────────────────────────────\u001b[0m\u001b[36m─╮\u001b[0m\n",
       "\u001b[36m│\u001b[0m You need to do the following task: Assist customers with creating orders and managing their purchases. Guide    \u001b[36m│\u001b[0m\n",
       "\u001b[36m│\u001b[0m them through the ordering process, collect necessary information, and generate payment links for secure         \u001b[36m│\u001b[0m\n",
       "\u001b[36m│\u001b[0m checkout.                                                                                                       \u001b[36m│\u001b[0m\n",
       "\u001b[36m│\u001b[0m                                                                                                                 \u001b[36m│\u001b[0m\n",
       "\u001b[36m│\u001b[0m \u001b[48;2;39;40;34m                                                                                                               \u001b[0m \u001b[36m│\u001b[0m\n",
       "\u001b[36m│\u001b[0m \u001b[48;2;39;40;34m \u001b[0m\u001b[38;2;248;248;242;48;2;39;40;34m    Example interactions:\u001b[0m\u001b[48;2;39;40;34m                                                                                    \u001b[0m\u001b[48;2;39;40;34m \u001b[0m \u001b[36m│\u001b[0m\n",
       "\u001b[36m│\u001b[0m \u001b[48;2;39;40;34m \u001b[0m\u001b[38;2;248;248;242;48;2;39;40;34m    - \"I want to order 2 wireless headphones\"\u001b[0m\u001b[48;2;39;40;34m                                                                \u001b[0m\u001b[48;2;39;40;34m \u001b[0m \u001b[36m│\u001b[0m\n",
       "\u001b[36m│\u001b[0m \u001b[48;2;39;40;34m \u001b[0m\u001b[38;2;248;248;242;48;2;39;40;34m    - \"Create an order for Jane Doe, jane@email.com\"\u001b[0m\u001b[48;2;39;40;34m                                                         \u001b[0m\u001b[48;2;39;40;34m \u001b[0m \u001b[36m│\u001b[0m\n",
       "\u001b[36m│\u001b[0m \u001b[48;2;39;40;34m \u001b[0m\u001b[38;2;248;248;242;48;2;39;40;34m    - \"Check my order status\"\u001b[0m\u001b[48;2;39;40;34m                                                                                \u001b[0m\u001b[48;2;39;40;34m \u001b[0m \u001b[36m│\u001b[0m\n",
       "\u001b[36m│\u001b[0m \u001b[48;2;39;40;34m \u001b[0m\u001b[38;2;248;248;242;48;2;39;40;34m    .\u001b[0m\u001b[48;2;39;40;34m                                                                                                        \u001b[0m\u001b[48;2;39;40;34m \u001b[0m \u001b[36m│\u001b[0m\n",
       "\u001b[36m│\u001b[0m \u001b[48;2;39;40;34m                                                                                                               \u001b[0m \u001b[36m│\u001b[0m\n",
       "\u001b[36m│\u001b[0m                                                                                                                 \u001b[36m│\u001b[0m\n",
       "\u001b[36m│\u001b[0m Expected Output: Successfully created orders with payment links or order status information.                    \u001b[36m│\u001b[0m\n",
       "\u001b[36m│\u001b[0m                                                                                                                 \u001b[36m│\u001b[0m\n",
       "\u001b[36m│\u001b[0m Context:                                                                                                        \u001b[36m│\u001b[0m\n",
       "\u001b[36m│\u001b[0m                                                                                                                 \u001b[36m│\u001b[0m\n",
       "\u001b[36m│\u001b[0m Result of previous task Help a customer discover products in the online store. Show available products, provide \u001b[36m│\u001b[0m\n",
       "\u001b[36m│\u001b[0m recommendations based on preferences, and explain product details including prices and descriptions.            \u001b[36m│\u001b[0m\n",
       "\u001b[36m│\u001b[0m                                                                                                                 \u001b[36m│\u001b[0m\n",
       "\u001b[36m│\u001b[0m \u001b[48;2;39;40;34m                                                                                                               \u001b[0m \u001b[36m│\u001b[0m\n",
       "\u001b[36m│\u001b[0m \u001b[48;2;39;40;34m \u001b[0m\u001b[38;2;248;248;242;48;2;39;40;34m    Example interactions:\u001b[0m\u001b[48;2;39;40;34m                                                                                    \u001b[0m\u001b[48;2;39;40;34m \u001b[0m \u001b[36m│\u001b[0m\n",
       "\u001b[36m│\u001b[0m \u001b[48;2;39;40;34m \u001b[0m\u001b[38;2;248;248;242;48;2;39;40;34m    - \"What electronics do you have?\"\u001b[0m\u001b[48;2;39;40;34m                                                                        \u001b[0m\u001b[48;2;39;40;34m \u001b[0m \u001b[36m│\u001b[0m\n",
       "\u001b[36m│\u001b[0m \u001b[48;2;39;40;34m \u001b[0m\u001b[38;2;248;248;242;48;2;39;40;34m    - \"Show me coffee products\"\u001b[0m\u001b[48;2;39;40;34m                                                                              \u001b[0m\u001b[48;2;39;40;34m \u001b[0m \u001b[36m│\u001b[0m\n",
       "\u001b[36m│\u001b[0m \u001b[48;2;39;40;34m \u001b[0m\u001b[38;2;248;248;242;48;2;39;40;34m    - \"I need a gift for someone who likes tech\"\u001b[0m\u001b[48;2;39;40;34m                                                             \u001b[0m\u001b[48;2;39;40;34m \u001b[0m \u001b[36m│\u001b[0m\n",
       "\u001b[36m│\u001b[0m \u001b[48;2;39;40;34m \u001b[0m\u001b[38;2;248;248;242;48;2;39;40;34m    :\u001b[0m\u001b[48;2;39;40;34m                                                                                                        \u001b[0m\u001b[48;2;39;40;34m \u001b[0m \u001b[36m│\u001b[0m\n",
       "\u001b[36m│\u001b[0m \u001b[48;2;39;40;34m                                                                                                               \u001b[0m \u001b[36m│\u001b[0m\n",
       "\u001b[36m│\u001b[0m                                                                                                                 \u001b[36m│\u001b[0m\n",
       "\u001b[36m│\u001b[0m \u001b[1mProduct Recommendations:\u001b[0m                                                                                        \u001b[36m│\u001b[0m\n",
       "\u001b[36m│\u001b[0m                                                                                                                 \u001b[36m│\u001b[0m\n",
       "\u001b[36m│\u001b[0m \u001b[1mElectronics:\u001b[0m                                                                                                    \u001b[36m│\u001b[0m\n",
       "\u001b[36m│\u001b[0m                                                                                                                 \u001b[36m│\u001b[0m\n",
       "\u001b[36m│\u001b[0m \u001b[1;33m 1 \u001b[0m\u001b[1mPremium Wireless Headphones\u001b[0m                                                                                  \u001b[36m│\u001b[0m\n",
       "\u001b[36m│\u001b[0m \u001b[1;33m   \u001b[0m\u001b[1;33m • \u001b[0m\u001b[1mPrice:\u001b[0m $199.99                                                                                            \u001b[36m│\u001b[0m\n",
       "\u001b[36m│\u001b[0m \u001b[1;33m   \u001b[0m\u001b[1;33m • \u001b[0m\u001b[1mDescription:\u001b[0m High-quality wireless headphones with noise cancellation.                                    \u001b[36m│\u001b[0m\n",
       "\u001b[36m│\u001b[0m \u001b[1;33m   \u001b[0m\u001b[1;33m • \u001b[0m\u001b[1mBrand:\u001b[0m TechPro                                                                                            \u001b[36m│\u001b[0m\n",
       "\u001b[36m│\u001b[0m \u001b[1;33m 2 \u001b[0m\u001b[1mFitness Tracker Watch\u001b[0m                                                                                        \u001b[36m│\u001b[0m\n",
       "\u001b[36m│\u001b[0m \u001b[1;33m   \u001b[0m\u001b[1;33m • \u001b[0m\u001b[1mPrice:\u001b[0m $129.99                                                                                            \u001b[36m│\u001b[0m\n",
       "\u001b[36m│\u001b[0m \u001b[1;33m   \u001b[0m\u001b[1;33m • \u001b[0m\u001b[1mDescription:\u001b[0m Smart fitness tracker with heart rate monitor.                                               \u001b[36m│\u001b[0m\n",
       "\u001b[36m│\u001b[0m \u001b[1;33m   \u001b[0m\u001b[1;33m • \u001b[0m\u001b[1mBrand:\u001b[0m FitLife                                                                                            \u001b[36m│\u001b[0m\n",
       "\u001b[36m│\u001b[0m                                                                                                                 \u001b[36m│\u001b[0m\n",
       "\u001b[36m│\u001b[0m \u001b[1mFood & Beverages:\u001b[0m                                                                                               \u001b[36m│\u001b[0m\n",
       "\u001b[36m│\u001b[0m                                                                                                                 \u001b[36m│\u001b[0m\n",
       "\u001b[36m│\u001b[0m \u001b[1;33m 1 \u001b[0m\u001b[1mOrganic Coffee Blend\u001b[0m                                                                                         \u001b[36m│\u001b[0m\n",
       "\u001b[36m│\u001b[0m \u001b[1;33m   \u001b[0m\u001b[1;33m • \u001b[0m\u001b[1mPrice:\u001b[0m $24.99                                                                                             \u001b[36m│\u001b[0m\n",
       "\u001b[36m│\u001b[0m \u001b[1;33m   \u001b[0m\u001b[1;33m • \u001b[0m\u001b[1mDescription:\u001b[0m Fair trade organic coffee beans, medium roast.                                               \u001b[36m│\u001b[0m\n",
       "\u001b[36m│\u001b[0m \u001b[1;33m   \u001b[0m\u001b[1;33m • \u001b[0m\u001b[1mWeight:\u001b[0m 500g                                                                                              \u001b[36m│\u001b[0m\n",
       "\u001b[36m│\u001b[0m \u001b[1;33m 2 \u001b[0m\u001b[1mPremium Tea Collection\u001b[0m                                                                                       \u001b[36m│\u001b[0m\n",
       "\u001b[36m│\u001b[0m \u001b[1;33m   \u001b[0m\u001b[1;33m • \u001b[0m\u001b[1mPrice:\u001b[0m $34.99                                                                                             \u001b[36m│\u001b[0m\n",
       "\u001b[36m│\u001b[0m \u001b[1;33m   \u001b[0m\u001b[1;33m • \u001b[0m\u001b[1mDescription:\u001b[0m Assorted premium teas from around the world.                                                 \u001b[36m│\u001b[0m\n",
       "\u001b[36m│\u001b[0m \u001b[1;33m   \u001b[0m\u001b[1;33m • \u001b[0m\u001b[1mItems:\u001b[0m 12 tea bags                                                                                        \u001b[36m│\u001b[0m\n",
       "\u001b[36m│\u001b[0m                                                                                                                 \u001b[36m│\u001b[0m\n",
       "\u001b[36m│\u001b[0m \u001b[1mLifestyle:\u001b[0m                                                                                                      \u001b[36m│\u001b[0m\n",
       "\u001b[36m│\u001b[0m                                                                                                                 \u001b[36m│\u001b[0m\n",
       "\u001b[36m│\u001b[0m \u001b[1;33m 1 \u001b[0m\u001b[1mEco-Friendly Water Bottle\u001b[0m                                                                                    \u001b[36m│\u001b[0m\n",
       "\u001b[36m│\u001b[0m \u001b[1;33m   \u001b[0m\u001b[1;33m • \u001b[0m\u001b[1mPrice:\u001b[0m $29.99                                                                                             \u001b[36m│\u001b[0m\n",
       "\u001b[36m│\u001b[0m \u001b[1;33m   \u001b[0m\u001b[1;33m • \u001b[0m\u001b[1mDescription:\u001b[0m Stainless steel water bottle, keeps drinks cold for 24hrs.                                   \u001b[36m│\u001b[0m\n",
       "\u001b[36m│\u001b[0m \u001b[1;33m   \u001b[0m\u001b[1;33m • \u001b[0m\u001b[1mCapacity:\u001b[0m 750ml                                                                                           \u001b[36m│\u001b[0m\n",
       "\u001b[36m│\u001b[0m                                                                                                                 \u001b[36m│\u001b[0m\n",
       "\u001b[36m│\u001b[0m These products offer a variety of options across different categories, perfect for personal use or as           \u001b[36m│\u001b[0m\n",
       "\u001b[36m│\u001b[0m thoughtful gifts. Please provide only the final result of your work. Do not add any conversation or extra       \u001b[36m│\u001b[0m\n",
       "\u001b[36m│\u001b[0m explanation.                                                                                                    \u001b[36m│\u001b[0m\n",
       "\u001b[36m╰─────────────────────────────────────────────────────────────────────────────────────────────────────────────────╯\u001b[0m\n"
      ]
     },
     "metadata": {},
     "output_type": "display_data"
    },
    {
     "data": {
      "text/html": [
       "<pre style=\"white-space:pre;overflow-x:auto;line-height:normal;font-family:Menlo,'DejaVu Sans Mono',consolas,'Courier New',monospace\"><span style=\"color: #008080; text-decoration-color: #008080\">╭─────────────────────────────────────────────────── Response ────────────────────────────────────────────────────╮</span>\n",
       "<span style=\"color: #008080; text-decoration-color: #008080\">│</span> To proceed with creating an order, I need the following information:                                            <span style=\"color: #008080; text-decoration-color: #008080\">│</span>\n",
       "<span style=\"color: #008080; text-decoration-color: #008080\">│</span>                                                                                                                 <span style=\"color: #008080; text-decoration-color: #008080\">│</span>\n",
       "<span style=\"color: #008080; text-decoration-color: #008080\">│</span> <span style=\"color: #808000; text-decoration-color: #808000; font-weight: bold\"> 1 </span>Product(s) you wish to order along with the quantity.                                                        <span style=\"color: #008080; text-decoration-color: #008080\">│</span>\n",
       "<span style=\"color: #008080; text-decoration-color: #008080\">│</span> <span style=\"color: #808000; text-decoration-color: #808000; font-weight: bold\"> 2 </span>Customer's full name.                                                                                        <span style=\"color: #008080; text-decoration-color: #008080\">│</span>\n",
       "<span style=\"color: #008080; text-decoration-color: #008080\">│</span> <span style=\"color: #808000; text-decoration-color: #808000; font-weight: bold\"> 3 </span>Customer's email address.                                                                                    <span style=\"color: #008080; text-decoration-color: #008080\">│</span>\n",
       "<span style=\"color: #008080; text-decoration-color: #008080\">│</span>                                                                                                                 <span style=\"color: #008080; text-decoration-color: #008080\">│</span>\n",
       "<span style=\"color: #008080; text-decoration-color: #008080\">│</span> Once I have this information, I can generate a secure payment link for you.                                     <span style=\"color: #008080; text-decoration-color: #008080\">│</span>\n",
       "<span style=\"color: #008080; text-decoration-color: #008080\">╰─────────────────────────────────────────────────────────────────────────────────────────────────────────────────╯</span>\n",
       "</pre>\n"
      ],
      "text/plain": [
       "\u001b[36m╭─\u001b[0m\u001b[36m──────────────────────────────────────────────────\u001b[0m\u001b[36m Response \u001b[0m\u001b[36m───────────────────────────────────────────────────\u001b[0m\u001b[36m─╮\u001b[0m\n",
       "\u001b[36m│\u001b[0m To proceed with creating an order, I need the following information:                                            \u001b[36m│\u001b[0m\n",
       "\u001b[36m│\u001b[0m                                                                                                                 \u001b[36m│\u001b[0m\n",
       "\u001b[36m│\u001b[0m \u001b[1;33m 1 \u001b[0mProduct(s) you wish to order along with the quantity.                                                        \u001b[36m│\u001b[0m\n",
       "\u001b[36m│\u001b[0m \u001b[1;33m 2 \u001b[0mCustomer's full name.                                                                                        \u001b[36m│\u001b[0m\n",
       "\u001b[36m│\u001b[0m \u001b[1;33m 3 \u001b[0mCustomer's email address.                                                                                    \u001b[36m│\u001b[0m\n",
       "\u001b[36m│\u001b[0m                                                                                                                 \u001b[36m│\u001b[0m\n",
       "\u001b[36m│\u001b[0m Once I have this information, I can generate a secure payment link for you.                                     \u001b[36m│\u001b[0m\n",
       "\u001b[36m╰─────────────────────────────────────────────────────────────────────────────────────────────────────────────────╯\u001b[0m\n"
      ]
     },
     "metadata": {},
     "output_type": "display_data"
    },
    {
     "data": {
      "text/html": [
       "<pre style=\"white-space:pre;overflow-x:auto;line-height:normal;font-family:Menlo,'DejaVu Sans Mono',consolas,'Courier New',monospace\"><span style=\"color: #d2e3c8; text-decoration-color: #d2e3c8\">╭─ </span><span style=\"color: #d2e3c8; text-decoration-color: #d2e3c8; font-weight: bold\">Agent Info</span><span style=\"color: #d2e3c8; text-decoration-color: #d2e3c8\"> ────────────────────────────────────────────────────────────────────────────────────────────────────╮</span>\n",
       "<span style=\"color: #d2e3c8; text-decoration-color: #d2e3c8\">│</span>                                                                                                                 <span style=\"color: #d2e3c8; text-decoration-color: #d2e3c8\">│</span>\n",
       "<span style=\"color: #d2e3c8; text-decoration-color: #d2e3c8\">│</span>  <span style=\"color: #ff9b9b; text-decoration-color: #ff9b9b; font-weight: bold\">👤 Agent:</span> <span style=\"color: #ffe5e5; text-decoration-color: #ffe5e5\">Shopping Assistant</span>                                                                                   <span style=\"color: #d2e3c8; text-decoration-color: #d2e3c8\">│</span>\n",
       "<span style=\"color: #d2e3c8; text-decoration-color: #d2e3c8\">│</span>  <span style=\"color: #b4b4b3; text-decoration-color: #b4b4b3; font-weight: bold\">Role:</span> <span style=\"color: #ffe5e5; text-decoration-color: #ffe5e5\">AI E-commerce Assistant</span>                                                                                  <span style=\"color: #d2e3c8; text-decoration-color: #d2e3c8\">│</span>\n",
       "<span style=\"color: #d2e3c8; text-decoration-color: #d2e3c8\">│</span>  <span style=\"color: #86a789; text-decoration-color: #86a789; font-weight: bold\">Tools:</span> <span style=\"color: #b4d4ff; text-decoration-color: #b4d4ff; font-style: italic\">get_products</span>, <span style=\"color: #b4d4ff; text-decoration-color: #b4d4ff; font-style: italic\">get_product</span>, <span style=\"color: #b4d4ff; text-decoration-color: #b4d4ff; font-style: italic\">search_products</span>, <span style=\"color: #b4d4ff; text-decoration-color: #b4d4ff; font-style: italic\">create_order</span>, <span style=\"color: #b4d4ff; text-decoration-color: #b4d4ff; font-style: italic\">get_customer_orders</span>, <span style=\"color: #b4d4ff; text-decoration-color: #b4d4ff; font-style: italic\">book_meeting</span>             <span style=\"color: #d2e3c8; text-decoration-color: #d2e3c8\">│</span>\n",
       "<span style=\"color: #d2e3c8; text-decoration-color: #d2e3c8\">│</span>                                                                                                                 <span style=\"color: #d2e3c8; text-decoration-color: #d2e3c8\">│</span>\n",
       "<span style=\"color: #d2e3c8; text-decoration-color: #d2e3c8\">╰─────────────────────────────────────────────────────────────────────────────────────────────────────────────────╯</span>\n",
       "</pre>\n"
      ],
      "text/plain": [
       "\u001b[38;2;210;227;200m╭─\u001b[0m\u001b[38;2;210;227;200m \u001b[0m\u001b[1;38;2;210;227;200mAgent Info\u001b[0m\u001b[38;2;210;227;200m \u001b[0m\u001b[38;2;210;227;200m───────────────────────────────────────────────────────────────────────────────────────────────────\u001b[0m\u001b[38;2;210;227;200m─╮\u001b[0m\n",
       "\u001b[38;2;210;227;200m│\u001b[0m                                                                                                                 \u001b[38;2;210;227;200m│\u001b[0m\n",
       "\u001b[38;2;210;227;200m│\u001b[0m  \u001b[1;38;2;255;155;155m👤 Agent:\u001b[0m \u001b[38;2;255;229;229mShopping Assistant\u001b[0m                                                                                   \u001b[38;2;210;227;200m│\u001b[0m\n",
       "\u001b[38;2;210;227;200m│\u001b[0m  \u001b[1;38;2;180;180;179mRole:\u001b[0m \u001b[38;2;255;229;229mAI E-commerce Assistant\u001b[0m                                                                                  \u001b[38;2;210;227;200m│\u001b[0m\n",
       "\u001b[38;2;210;227;200m│\u001b[0m  \u001b[1;38;2;134;167;137mTools:\u001b[0m \u001b[3;38;2;180;212;255mget_products\u001b[0m, \u001b[3;38;2;180;212;255mget_product\u001b[0m, \u001b[3;38;2;180;212;255msearch_products\u001b[0m, \u001b[3;38;2;180;212;255mcreate_order\u001b[0m, \u001b[3;38;2;180;212;255mget_customer_orders\u001b[0m, \u001b[3;38;2;180;212;255mbook_meeting\u001b[0m             \u001b[38;2;210;227;200m│\u001b[0m\n",
       "\u001b[38;2;210;227;200m│\u001b[0m                                                                                                                 \u001b[38;2;210;227;200m│\u001b[0m\n",
       "\u001b[38;2;210;227;200m╰─────────────────────────────────────────────────────────────────────────────────────────────────────────────────╯\u001b[0m\n"
      ]
     },
     "metadata": {},
     "output_type": "display_data"
    },
    {
     "data": {
      "application/vnd.jupyter.widget-view+json": {
       "model_id": "b7a2825e639f48f293109808a8b3b944",
       "version_major": 2,
       "version_minor": 0
      },
      "text/plain": [
       "Output()"
      ]
     },
     "metadata": {},
     "output_type": "display_data"
    },
    {
     "data": {
      "text/html": [
       "<pre style=\"white-space:pre;overflow-x:auto;line-height:normal;font-family:Menlo,'DejaVu Sans Mono',consolas,'Courier New',monospace\"></pre>\n"
      ],
      "text/plain": []
     },
     "metadata": {},
     "output_type": "display_data"
    },
    {
     "data": {
      "text/html": [
       "<pre style=\"white-space:pre;overflow-x:auto;line-height:normal;font-family:Menlo,'DejaVu Sans Mono',consolas,'Courier New',monospace\">\n",
       "</pre>\n"
      ],
      "text/plain": [
       "\n"
      ]
     },
     "metadata": {},
     "output_type": "display_data"
    },
    {
     "data": {
      "text/html": [
       "<pre style=\"white-space:pre;overflow-x:auto;line-height:normal;font-family:Menlo,'DejaVu Sans Mono',consolas,'Courier New',monospace\"><span style=\"color: #7f7f7f; text-decoration-color: #7f7f7f\">Response generated in 4.4s</span>\n",
       "</pre>\n"
      ],
      "text/plain": [
       "\u001b[2mResponse generated in 4.4s\u001b[0m\n"
      ]
     },
     "metadata": {},
     "output_type": "display_data"
    },
    {
     "data": {
      "text/html": [
       "<pre style=\"white-space:pre;overflow-x:auto;line-height:normal;font-family:Menlo,'DejaVu Sans Mono',consolas,'Courier New',monospace\"><span style=\"color: #008080; text-decoration-color: #008080\">╭───────────────────────────────────────────────────── Task ──────────────────────────────────────────────────────╮</span>\n",
       "<span style=\"color: #008080; text-decoration-color: #008080\">│</span> You need to do the following task: Provide excellent customer support including answering questions about the   <span style=\"color: #008080; text-decoration-color: #008080\">│</span>\n",
       "<span style=\"color: #008080; text-decoration-color: #008080\">│</span> store, helping with product inquiries, and connecting customers with human representatives when needed.         <span style=\"color: #008080; text-decoration-color: #008080\">│</span>\n",
       "<span style=\"color: #008080; text-decoration-color: #008080\">│</span>                                                                                                                 <span style=\"color: #008080; text-decoration-color: #008080\">│</span>\n",
       "<span style=\"color: #008080; text-decoration-color: #008080\">│</span> <span style=\"background-color: #272822\">                                                                                                               </span> <span style=\"color: #008080; text-decoration-color: #008080\">│</span>\n",
       "<span style=\"color: #008080; text-decoration-color: #008080\">│</span> <span style=\"background-color: #272822\"> </span><span style=\"color: #f8f8f2; text-decoration-color: #f8f8f2; background-color: #272822\">    Example interactions:</span><span style=\"background-color: #272822\">                                                                                     </span> <span style=\"color: #008080; text-decoration-color: #008080\">│</span>\n",
       "<span style=\"color: #008080; text-decoration-color: #008080\">│</span> <span style=\"background-color: #272822\"> </span><span style=\"color: #f8f8f2; text-decoration-color: #f8f8f2; background-color: #272822\">    - \"Tell me about your store\"</span><span style=\"background-color: #272822\">                                                                              </span> <span style=\"color: #008080; text-decoration-color: #008080\">│</span>\n",
       "<span style=\"color: #008080; text-decoration-color: #008080\">│</span> <span style=\"background-color: #272822\"> </span><span style=\"color: #f8f8f2; text-decoration-color: #f8f8f2; background-color: #272822\">    - \"I need to speak with someone\"</span><span style=\"background-color: #272822\">                                                                          </span> <span style=\"color: #008080; text-decoration-color: #008080\">│</span>\n",
       "<span style=\"color: #008080; text-decoration-color: #008080\">│</span> <span style=\"background-color: #272822\"> </span><span style=\"color: #f8f8f2; text-decoration-color: #f8f8f2; background-color: #272822\">    - \"What's your return policy?\"</span><span style=\"background-color: #272822\">                                                                            </span> <span style=\"color: #008080; text-decoration-color: #008080\">│</span>\n",
       "<span style=\"color: #008080; text-decoration-color: #008080\">│</span> <span style=\"background-color: #272822\"> </span><span style=\"color: #f8f8f2; text-decoration-color: #f8f8f2; background-color: #272822\">    .</span><span style=\"background-color: #272822\">                                                                                                         </span> <span style=\"color: #008080; text-decoration-color: #008080\">│</span>\n",
       "<span style=\"color: #008080; text-decoration-color: #008080\">│</span> <span style=\"background-color: #272822\">                                                                                                               </span> <span style=\"color: #008080; text-decoration-color: #008080\">│</span>\n",
       "<span style=\"color: #008080; text-decoration-color: #008080\">│</span>                                                                                                                 <span style=\"color: #008080; text-decoration-color: #008080\">│</span>\n",
       "<span style=\"color: #008080; text-decoration-color: #008080\">│</span> Expected Output: Helpful customer support responses and meeting booking information when requested.             <span style=\"color: #008080; text-decoration-color: #008080\">│</span>\n",
       "<span style=\"color: #008080; text-decoration-color: #008080\">│</span>                                                                                                                 <span style=\"color: #008080; text-decoration-color: #008080\">│</span>\n",
       "<span style=\"color: #008080; text-decoration-color: #008080\">│</span> Context:                                                                                                        <span style=\"color: #008080; text-decoration-color: #008080\">│</span>\n",
       "<span style=\"color: #008080; text-decoration-color: #008080\">│</span>                                                                                                                 <span style=\"color: #008080; text-decoration-color: #008080\">│</span>\n",
       "<span style=\"color: #008080; text-decoration-color: #008080\">│</span> Result of previous task Assist customers with creating orders and managing their purchases. Guide them through  <span style=\"color: #008080; text-decoration-color: #008080\">│</span>\n",
       "<span style=\"color: #008080; text-decoration-color: #008080\">│</span> the ordering process, collect necessary information, and generate payment links for secure checkout.            <span style=\"color: #008080; text-decoration-color: #008080\">│</span>\n",
       "<span style=\"color: #008080; text-decoration-color: #008080\">│</span>                                                                                                                 <span style=\"color: #008080; text-decoration-color: #008080\">│</span>\n",
       "<span style=\"color: #008080; text-decoration-color: #008080\">│</span> <span style=\"background-color: #272822\">                                                                                                               </span> <span style=\"color: #008080; text-decoration-color: #008080\">│</span>\n",
       "<span style=\"color: #008080; text-decoration-color: #008080\">│</span> <span style=\"background-color: #272822\"> </span><span style=\"color: #f8f8f2; text-decoration-color: #f8f8f2; background-color: #272822\">    Example interactions:</span><span style=\"background-color: #272822\">                                                                                     </span> <span style=\"color: #008080; text-decoration-color: #008080\">│</span>\n",
       "<span style=\"color: #008080; text-decoration-color: #008080\">│</span> <span style=\"background-color: #272822\"> </span><span style=\"color: #f8f8f2; text-decoration-color: #f8f8f2; background-color: #272822\">    - \"I want to order 2 wireless headphones\"</span><span style=\"background-color: #272822\">                                                                 </span> <span style=\"color: #008080; text-decoration-color: #008080\">│</span>\n",
       "<span style=\"color: #008080; text-decoration-color: #008080\">│</span> <span style=\"background-color: #272822\"> </span><span style=\"color: #f8f8f2; text-decoration-color: #f8f8f2; background-color: #272822\">    - \"Create an order for Jane Doe, jane@email.com\"</span><span style=\"background-color: #272822\">                                                          </span> <span style=\"color: #008080; text-decoration-color: #008080\">│</span>\n",
       "<span style=\"color: #008080; text-decoration-color: #008080\">│</span> <span style=\"background-color: #272822\"> </span><span style=\"color: #f8f8f2; text-decoration-color: #f8f8f2; background-color: #272822\">    - \"Check my order status\"</span><span style=\"background-color: #272822\">                                                                                 </span> <span style=\"color: #008080; text-decoration-color: #008080\">│</span>\n",
       "<span style=\"color: #008080; text-decoration-color: #008080\">│</span> <span style=\"background-color: #272822\"> </span><span style=\"color: #f8f8f2; text-decoration-color: #f8f8f2; background-color: #272822\">    :</span><span style=\"background-color: #272822\">                                                                                                         </span> <span style=\"color: #008080; text-decoration-color: #008080\">│</span>\n",
       "<span style=\"color: #008080; text-decoration-color: #008080\">│</span> <span style=\"background-color: #272822\">                                                                                                               </span> <span style=\"color: #008080; text-decoration-color: #008080\">│</span>\n",
       "<span style=\"color: #008080; text-decoration-color: #008080\">│</span>                                                                                                                 <span style=\"color: #008080; text-decoration-color: #008080\">│</span>\n",
       "<span style=\"color: #008080; text-decoration-color: #008080\">│</span> To proceed with creating an order, I need the following information:                                            <span style=\"color: #008080; text-decoration-color: #008080\">│</span>\n",
       "<span style=\"color: #008080; text-decoration-color: #008080\">│</span>                                                                                                                 <span style=\"color: #008080; text-decoration-color: #008080\">│</span>\n",
       "<span style=\"color: #008080; text-decoration-color: #008080\">│</span> <span style=\"color: #808000; text-decoration-color: #808000; font-weight: bold\"> 1 </span>Product(s) you wish to order along with the quantity.                                                        <span style=\"color: #008080; text-decoration-color: #008080\">│</span>\n",
       "<span style=\"color: #008080; text-decoration-color: #008080\">│</span> <span style=\"color: #808000; text-decoration-color: #808000; font-weight: bold\"> 2 </span>Customer's full name.                                                                                        <span style=\"color: #008080; text-decoration-color: #008080\">│</span>\n",
       "<span style=\"color: #008080; text-decoration-color: #008080\">│</span> <span style=\"color: #808000; text-decoration-color: #808000; font-weight: bold\"> 3 </span>Customer's email address.                                                                                    <span style=\"color: #008080; text-decoration-color: #008080\">│</span>\n",
       "<span style=\"color: #008080; text-decoration-color: #008080\">│</span>                                                                                                                 <span style=\"color: #008080; text-decoration-color: #008080\">│</span>\n",
       "<span style=\"color: #008080; text-decoration-color: #008080\">│</span> Once I have this information, I can generate a secure payment link for you. Please provide only the final       <span style=\"color: #008080; text-decoration-color: #008080\">│</span>\n",
       "<span style=\"color: #008080; text-decoration-color: #008080\">│</span> result of your work. Do not add any conversation or extra explanation.                                          <span style=\"color: #008080; text-decoration-color: #008080\">│</span>\n",
       "<span style=\"color: #008080; text-decoration-color: #008080\">╰─────────────────────────────────────────────────────────────────────────────────────────────────────────────────╯</span>\n",
       "</pre>\n"
      ],
      "text/plain": [
       "\u001b[36m╭─\u001b[0m\u001b[36m────────────────────────────────────────────────────\u001b[0m\u001b[36m Task \u001b[0m\u001b[36m─────────────────────────────────────────────────────\u001b[0m\u001b[36m─╮\u001b[0m\n",
       "\u001b[36m│\u001b[0m You need to do the following task: Provide excellent customer support including answering questions about the   \u001b[36m│\u001b[0m\n",
       "\u001b[36m│\u001b[0m store, helping with product inquiries, and connecting customers with human representatives when needed.         \u001b[36m│\u001b[0m\n",
       "\u001b[36m│\u001b[0m                                                                                                                 \u001b[36m│\u001b[0m\n",
       "\u001b[36m│\u001b[0m \u001b[48;2;39;40;34m                                                                                                               \u001b[0m \u001b[36m│\u001b[0m\n",
       "\u001b[36m│\u001b[0m \u001b[48;2;39;40;34m \u001b[0m\u001b[38;2;248;248;242;48;2;39;40;34m    Example interactions:\u001b[0m\u001b[48;2;39;40;34m                                                                                    \u001b[0m\u001b[48;2;39;40;34m \u001b[0m \u001b[36m│\u001b[0m\n",
       "\u001b[36m│\u001b[0m \u001b[48;2;39;40;34m \u001b[0m\u001b[38;2;248;248;242;48;2;39;40;34m    - \"Tell me about your store\"\u001b[0m\u001b[48;2;39;40;34m                                                                             \u001b[0m\u001b[48;2;39;40;34m \u001b[0m \u001b[36m│\u001b[0m\n",
       "\u001b[36m│\u001b[0m \u001b[48;2;39;40;34m \u001b[0m\u001b[38;2;248;248;242;48;2;39;40;34m    - \"I need to speak with someone\"\u001b[0m\u001b[48;2;39;40;34m                                                                         \u001b[0m\u001b[48;2;39;40;34m \u001b[0m \u001b[36m│\u001b[0m\n",
       "\u001b[36m│\u001b[0m \u001b[48;2;39;40;34m \u001b[0m\u001b[38;2;248;248;242;48;2;39;40;34m    - \"What's your return policy?\"\u001b[0m\u001b[48;2;39;40;34m                                                                           \u001b[0m\u001b[48;2;39;40;34m \u001b[0m \u001b[36m│\u001b[0m\n",
       "\u001b[36m│\u001b[0m \u001b[48;2;39;40;34m \u001b[0m\u001b[38;2;248;248;242;48;2;39;40;34m    .\u001b[0m\u001b[48;2;39;40;34m                                                                                                        \u001b[0m\u001b[48;2;39;40;34m \u001b[0m \u001b[36m│\u001b[0m\n",
       "\u001b[36m│\u001b[0m \u001b[48;2;39;40;34m                                                                                                               \u001b[0m \u001b[36m│\u001b[0m\n",
       "\u001b[36m│\u001b[0m                                                                                                                 \u001b[36m│\u001b[0m\n",
       "\u001b[36m│\u001b[0m Expected Output: Helpful customer support responses and meeting booking information when requested.             \u001b[36m│\u001b[0m\n",
       "\u001b[36m│\u001b[0m                                                                                                                 \u001b[36m│\u001b[0m\n",
       "\u001b[36m│\u001b[0m Context:                                                                                                        \u001b[36m│\u001b[0m\n",
       "\u001b[36m│\u001b[0m                                                                                                                 \u001b[36m│\u001b[0m\n",
       "\u001b[36m│\u001b[0m Result of previous task Assist customers with creating orders and managing their purchases. Guide them through  \u001b[36m│\u001b[0m\n",
       "\u001b[36m│\u001b[0m the ordering process, collect necessary information, and generate payment links for secure checkout.            \u001b[36m│\u001b[0m\n",
       "\u001b[36m│\u001b[0m                                                                                                                 \u001b[36m│\u001b[0m\n",
       "\u001b[36m│\u001b[0m \u001b[48;2;39;40;34m                                                                                                               \u001b[0m \u001b[36m│\u001b[0m\n",
       "\u001b[36m│\u001b[0m \u001b[48;2;39;40;34m \u001b[0m\u001b[38;2;248;248;242;48;2;39;40;34m    Example interactions:\u001b[0m\u001b[48;2;39;40;34m                                                                                    \u001b[0m\u001b[48;2;39;40;34m \u001b[0m \u001b[36m│\u001b[0m\n",
       "\u001b[36m│\u001b[0m \u001b[48;2;39;40;34m \u001b[0m\u001b[38;2;248;248;242;48;2;39;40;34m    - \"I want to order 2 wireless headphones\"\u001b[0m\u001b[48;2;39;40;34m                                                                \u001b[0m\u001b[48;2;39;40;34m \u001b[0m \u001b[36m│\u001b[0m\n",
       "\u001b[36m│\u001b[0m \u001b[48;2;39;40;34m \u001b[0m\u001b[38;2;248;248;242;48;2;39;40;34m    - \"Create an order for Jane Doe, jane@email.com\"\u001b[0m\u001b[48;2;39;40;34m                                                         \u001b[0m\u001b[48;2;39;40;34m \u001b[0m \u001b[36m│\u001b[0m\n",
       "\u001b[36m│\u001b[0m \u001b[48;2;39;40;34m \u001b[0m\u001b[38;2;248;248;242;48;2;39;40;34m    - \"Check my order status\"\u001b[0m\u001b[48;2;39;40;34m                                                                                \u001b[0m\u001b[48;2;39;40;34m \u001b[0m \u001b[36m│\u001b[0m\n",
       "\u001b[36m│\u001b[0m \u001b[48;2;39;40;34m \u001b[0m\u001b[38;2;248;248;242;48;2;39;40;34m    :\u001b[0m\u001b[48;2;39;40;34m                                                                                                        \u001b[0m\u001b[48;2;39;40;34m \u001b[0m \u001b[36m│\u001b[0m\n",
       "\u001b[36m│\u001b[0m \u001b[48;2;39;40;34m                                                                                                               \u001b[0m \u001b[36m│\u001b[0m\n",
       "\u001b[36m│\u001b[0m                                                                                                                 \u001b[36m│\u001b[0m\n",
       "\u001b[36m│\u001b[0m To proceed with creating an order, I need the following information:                                            \u001b[36m│\u001b[0m\n",
       "\u001b[36m│\u001b[0m                                                                                                                 \u001b[36m│\u001b[0m\n",
       "\u001b[36m│\u001b[0m \u001b[1;33m 1 \u001b[0mProduct(s) you wish to order along with the quantity.                                                        \u001b[36m│\u001b[0m\n",
       "\u001b[36m│\u001b[0m \u001b[1;33m 2 \u001b[0mCustomer's full name.                                                                                        \u001b[36m│\u001b[0m\n",
       "\u001b[36m│\u001b[0m \u001b[1;33m 3 \u001b[0mCustomer's email address.                                                                                    \u001b[36m│\u001b[0m\n",
       "\u001b[36m│\u001b[0m                                                                                                                 \u001b[36m│\u001b[0m\n",
       "\u001b[36m│\u001b[0m Once I have this information, I can generate a secure payment link for you. Please provide only the final       \u001b[36m│\u001b[0m\n",
       "\u001b[36m│\u001b[0m result of your work. Do not add any conversation or extra explanation.                                          \u001b[36m│\u001b[0m\n",
       "\u001b[36m╰─────────────────────────────────────────────────────────────────────────────────────────────────────────────────╯\u001b[0m\n"
      ]
     },
     "metadata": {},
     "output_type": "display_data"
    },
    {
     "data": {
      "text/html": [
       "<pre style=\"white-space:pre;overflow-x:auto;line-height:normal;font-family:Menlo,'DejaVu Sans Mono',consolas,'Courier New',monospace\"><span style=\"color: #008080; text-decoration-color: #008080\">╭─────────────────────────────────────────────────── Response ────────────────────────────────────────────────────╮</span>\n",
       "<span style=\"color: #008080; text-decoration-color: #008080\">│</span> <span style=\"font-weight: bold\">Customer Support Responses:</span>                                                                                     <span style=\"color: #008080; text-decoration-color: #008080\">│</span>\n",
       "<span style=\"color: #008080; text-decoration-color: #008080\">│</span>                                                                                                                 <span style=\"color: #008080; text-decoration-color: #008080\">│</span>\n",
       "<span style=\"color: #008080; text-decoration-color: #008080\">│</span> <span style=\"color: #808000; text-decoration-color: #808000; font-weight: bold\"> 1 </span><span style=\"font-weight: bold\">About Our Store:</span>                                                                                             <span style=\"color: #008080; text-decoration-color: #008080\">│</span>\n",
       "<span style=\"color: #008080; text-decoration-color: #008080\">│</span> <span style=\"color: #808000; text-decoration-color: #808000; font-weight: bold\">    • </span>We are an online store offering a wide range of products in electronics, food &amp; beverages, and lifestyle  <span style=\"color: #008080; text-decoration-color: #008080\">│</span>\n",
       "<span style=\"color: #008080; text-decoration-color: #008080\">│</span> <span style=\"color: #808000; text-decoration-color: #808000; font-weight: bold\">      </span>categories. Our mission is to provide high-quality products with excellent customer service.              <span style=\"color: #008080; text-decoration-color: #008080\">│</span>\n",
       "<span style=\"color: #008080; text-decoration-color: #008080\">│</span> <span style=\"color: #808000; text-decoration-color: #808000; font-weight: bold\"> 2 </span><span style=\"font-weight: bold\">Speaking with a Representative:</span>                                                                              <span style=\"color: #008080; text-decoration-color: #008080\">│</span>\n",
       "<span style=\"color: #008080; text-decoration-color: #008080\">│</span> <span style=\"color: #808000; text-decoration-color: #808000; font-weight: bold\">    • </span>If you need to speak with a human representative, I can help you book a meeting for personalized          <span style=\"color: #008080; text-decoration-color: #008080\">│</span>\n",
       "<span style=\"color: #008080; text-decoration-color: #008080\">│</span> <span style=\"color: #808000; text-decoration-color: #808000; font-weight: bold\">      </span>assistance.                                                                                               <span style=\"color: #008080; text-decoration-color: #008080\">│</span>\n",
       "<span style=\"color: #008080; text-decoration-color: #008080\">│</span> <span style=\"color: #808000; text-decoration-color: #808000; font-weight: bold\"> 3 </span><span style=\"font-weight: bold\">Return Policy:</span>                                                                                               <span style=\"color: #008080; text-decoration-color: #008080\">│</span>\n",
       "<span style=\"color: #008080; text-decoration-color: #008080\">│</span> <span style=\"color: #808000; text-decoration-color: #808000; font-weight: bold\">    • </span>We offer a 30-day return policy for most products. Items must be returned in their original condition     <span style=\"color: #008080; text-decoration-color: #008080\">│</span>\n",
       "<span style=\"color: #008080; text-decoration-color: #008080\">│</span> <span style=\"color: #808000; text-decoration-color: #808000; font-weight: bold\">      </span>with proof of purchase. Please contact our support team for further assistance with returns.              <span style=\"color: #008080; text-decoration-color: #008080\">│</span>\n",
       "<span style=\"color: #008080; text-decoration-color: #008080\">│</span>                                                                                                                 <span style=\"color: #008080; text-decoration-color: #008080\">│</span>\n",
       "<span style=\"color: #008080; text-decoration-color: #008080\">│</span> <span style=\"font-weight: bold\">Meeting Booking Information:</span>                                                                                    <span style=\"color: #008080; text-decoration-color: #008080\">│</span>\n",
       "<span style=\"color: #008080; text-decoration-color: #008080\">│</span>                                                                                                                 <span style=\"color: #008080; text-decoration-color: #008080\">│</span>\n",
       "<span style=\"color: #008080; text-decoration-color: #008080\">│</span> <span style=\"color: #808000; text-decoration-color: #808000; font-weight: bold\"> • </span>To book a meeting with a customer support representative, please let me know your preferred date and time,   <span style=\"color: #008080; text-decoration-color: #008080\">│</span>\n",
       "<span style=\"color: #008080; text-decoration-color: #008080\">│</span> <span style=\"color: #808000; text-decoration-color: #808000; font-weight: bold\">   </span>and I will arrange it for you.                                                                               <span style=\"color: #008080; text-decoration-color: #008080\">│</span>\n",
       "<span style=\"color: #008080; text-decoration-color: #008080\">╰─────────────────────────────────────────────────────────────────────────────────────────────────────────────────╯</span>\n",
       "</pre>\n"
      ],
      "text/plain": [
       "\u001b[36m╭─\u001b[0m\u001b[36m──────────────────────────────────────────────────\u001b[0m\u001b[36m Response \u001b[0m\u001b[36m───────────────────────────────────────────────────\u001b[0m\u001b[36m─╮\u001b[0m\n",
       "\u001b[36m│\u001b[0m \u001b[1mCustomer Support Responses:\u001b[0m                                                                                     \u001b[36m│\u001b[0m\n",
       "\u001b[36m│\u001b[0m                                                                                                                 \u001b[36m│\u001b[0m\n",
       "\u001b[36m│\u001b[0m \u001b[1;33m 1 \u001b[0m\u001b[1mAbout Our Store:\u001b[0m                                                                                             \u001b[36m│\u001b[0m\n",
       "\u001b[36m│\u001b[0m \u001b[1;33m   \u001b[0m\u001b[1;33m • \u001b[0mWe are an online store offering a wide range of products in electronics, food & beverages, and lifestyle  \u001b[36m│\u001b[0m\n",
       "\u001b[36m│\u001b[0m \u001b[1;33m   \u001b[0m\u001b[1;33m   \u001b[0mcategories. Our mission is to provide high-quality products with excellent customer service.              \u001b[36m│\u001b[0m\n",
       "\u001b[36m│\u001b[0m \u001b[1;33m 2 \u001b[0m\u001b[1mSpeaking with a Representative:\u001b[0m                                                                              \u001b[36m│\u001b[0m\n",
       "\u001b[36m│\u001b[0m \u001b[1;33m   \u001b[0m\u001b[1;33m • \u001b[0mIf you need to speak with a human representative, I can help you book a meeting for personalized          \u001b[36m│\u001b[0m\n",
       "\u001b[36m│\u001b[0m \u001b[1;33m   \u001b[0m\u001b[1;33m   \u001b[0massistance.                                                                                               \u001b[36m│\u001b[0m\n",
       "\u001b[36m│\u001b[0m \u001b[1;33m 3 \u001b[0m\u001b[1mReturn Policy:\u001b[0m                                                                                               \u001b[36m│\u001b[0m\n",
       "\u001b[36m│\u001b[0m \u001b[1;33m   \u001b[0m\u001b[1;33m • \u001b[0mWe offer a 30-day return policy for most products. Items must be returned in their original condition     \u001b[36m│\u001b[0m\n",
       "\u001b[36m│\u001b[0m \u001b[1;33m   \u001b[0m\u001b[1;33m   \u001b[0mwith proof of purchase. Please contact our support team for further assistance with returns.              \u001b[36m│\u001b[0m\n",
       "\u001b[36m│\u001b[0m                                                                                                                 \u001b[36m│\u001b[0m\n",
       "\u001b[36m│\u001b[0m \u001b[1mMeeting Booking Information:\u001b[0m                                                                                    \u001b[36m│\u001b[0m\n",
       "\u001b[36m│\u001b[0m                                                                                                                 \u001b[36m│\u001b[0m\n",
       "\u001b[36m│\u001b[0m \u001b[1;33m • \u001b[0mTo book a meeting with a customer support representative, please let me know your preferred date and time,   \u001b[36m│\u001b[0m\n",
       "\u001b[36m│\u001b[0m \u001b[1;33m   \u001b[0mand I will arrange it for you.                                                                               \u001b[36m│\u001b[0m\n",
       "\u001b[36m╰─────────────────────────────────────────────────────────────────────────────────────────────────────────────────╯\u001b[0m\n"
      ]
     },
     "metadata": {},
     "output_type": "display_data"
    },
    {
     "name": "stdout",
     "output_type": "stream",
     "text": [
      "==================================================\n",
      "✅ AI Shopping Assistant Ready!\n",
      "⏱️ Startup Time: 15.13 seconds\n",
      "🛒 Online Store: ACTIVE\n",
      "🤖 Agent Status: READY\n",
      "\n",
      "🎊 AI SHOPPING ASSISTANT ACTIVE!\n",
      "🛒 Ready to help customers with natural language shopping\n",
      "🤖 Powered by PraisonAI + OpenAI gpt-5-nano\n"
     ]
    }
   ],
   "source": [
    "# @title **🚀 Launch AI Shopping Assistant**\n",
    "\n",
    "def run_shopping_assistant():\n",
    "    \"\"\"Launch the AI shopping assistant\"\"\"\n",
    "\n",
    "    print(\"🛒 Starting AI Shopping Assistant...\")\n",
    "    print(\"=\" * 50)\n",
    "\n",
    "    # Initialize PraisonAI system\n",
    "    shopping_system = PraisonAIAgents(\n",
    "        agents=[shopping_agent],\n",
    "        tasks=shopping_tasks,\n",
    "        verbose=True,\n",
    "        process=\"sequential\"\n",
    "    )\n",
    "\n",
    "    # Execute the shopping assistant\n",
    "    start_time = time.time()\n",
    "\n",
    "    print(\"🤖 Activating Shopping Assistant...\")\n",
    "    result = shopping_system.start()\n",
    "\n",
    "    end_time = time.time()\n",
    "    duration = end_time - start_time\n",
    "\n",
    "    print(\"=\" * 50)\n",
    "    print(f\"✅ AI Shopping Assistant Ready!\")\n",
    "    print(f\"⏱️ Startup Time: {duration:.2f} seconds\")\n",
    "    print(f\"🛒 Online Store: ACTIVE\")\n",
    "    print(f\"🤖 Agent Status: READY\")\n",
    "\n",
    "    return result\n",
    "\n",
    "# Launch shopping assistant\n",
    "shopping_result = run_shopping_assistant()\n",
    "\n",
    "print(\"\\n🎊 AI SHOPPING ASSISTANT ACTIVE!\")\n",
    "print(\"🛒 Ready to help customers with natural language shopping\")\n",
    "print(\"🤖 Powered by PraisonAI + OpenAI gpt-5-nano\")"
   ]
  },
  {
   "cell_type": "code",
   "execution_count": 10,
   "metadata": {
    "colab": {
     "base_uri": "https://localhost:8080/"
    },
    "id": "SvpJbPbr-Tb7",
    "outputId": "403a7a42-725a-4aeb-a80a-d9a8fe7f1900"
   },
   "outputs": [
    {
     "name": "stdout",
     "output_type": "stream",
     "text": [
      "🎮 AI SHOPPING ASSISTANT DEMO\n",
      "========================================\n",
      "\n",
      "1. 👤 Customer: Hi! What electronics do you have?\n",
      "   🤖 AI Action: product_discovery\n",
      "   📦 Showing electronics products...\n",
      "\n",
      "2. 👤 Customer: I want to order 1 fitness tracker for Alice Johnson, alice@email.com\n",
      "   🤖 AI Action: order_creation\n",
      "   🛒 Order created with payment link!\n",
      "\n",
      "3. 👤 Customer: Can I speak with a human representative?\n",
      "   🤖 AI Action: customer_support\n",
      "   🤝 Meeting booking information provided!\n",
      "\n",
      "✅ Demo completed successfully!\n",
      "🛒 AI can handle: Product discovery, Order creation, Customer support\n",
      "\n",
      "📊 STORE STATUS:\n",
      "   📦 Products Available: 5\n",
      "   🛒 Orders Created: 1\n",
      "   💰 Store Status: ONLINE\n",
      "\n",
      "==================================================\n",
      "🎊 AI SHOPPING ASSISTANT DEMO COMPLETE!\n",
      "🛒 Conversational E-commerce Agent\n",
      "🤖 Powered by PraisonAI + OpenAI\n",
      "✨ Ready for Real-World E-commerce!\n",
      "==================================================\n"
     ]
    }
   ],
   "source": [
    "# @title **🎮 Interactive Shopping Demo**\n",
    "\n",
    "def demo_shopping_conversation():\n",
    "    \"\"\"Demonstrate AI shopping assistant capabilities\"\"\"\n",
    "\n",
    "    print(\"🎮 AI SHOPPING ASSISTANT DEMO\")\n",
    "    print(\"=\" * 40)\n",
    "\n",
    "    # Simulate customer interactions\n",
    "    demo_conversations = [\n",
    "        {\n",
    "            \"customer\": \"Hi! What electronics do you have?\",\n",
    "            \"action\": \"product_discovery\"\n",
    "        },\n",
    "        {\n",
    "            \"customer\": \"I want to order 1 fitness tracker for Alice Johnson, alice@email.com\",\n",
    "            \"action\": \"order_creation\"\n",
    "        },\n",
    "        {\n",
    "            \"customer\": \"Can I speak with a human representative?\",\n",
    "            \"action\": \"customer_support\"\n",
    "        }\n",
    "    ]\n",
    "\n",
    "    for i, conversation in enumerate(demo_conversations, 1):\n",
    "        print(f\"\\n{i}. 👤 Customer: {conversation['customer']}\")\n",
    "        print(f\"   🤖 AI Action: {conversation['action']}\")\n",
    "\n",
    "        if conversation['action'] == 'product_discovery':\n",
    "            products = search_products(category=\"electronics\")\n",
    "            print(\"   📦 Showing electronics products...\")\n",
    "\n",
    "        elif conversation['action'] == 'order_creation':\n",
    "            sample_order = create_order(\n",
    "                [{\"productId\": \"3\", \"quantity\": 1}],\n",
    "                \"Alice Johnson\",\n",
    "                \"alice@email.com\"\n",
    "            )\n",
    "            print(\"   🛒 Order created with payment link!\")\n",
    "\n",
    "        elif conversation['action'] == 'customer_support':\n",
    "            support_info = book_meeting()\n",
    "            print(\"   🤝 Meeting booking information provided!\")\n",
    "\n",
    "    print(f\"\\n✅ Demo completed successfully!\")\n",
    "    print(\"🛒 AI can handle: Product discovery, Order creation, Customer support\")\n",
    "\n",
    "    # Show current store status\n",
    "    print(f\"\\n📊 STORE STATUS:\")\n",
    "    print(f\"   📦 Products Available: {len(ecommerce_db.products)}\")\n",
    "    print(f\"   🛒 Orders Created: {len(ecommerce_db.orders)}\")\n",
    "    print(f\"   💰 Store Status: ONLINE\")\n",
    "\n",
    "# Run demo\n",
    "demo_shopping_conversation()\n",
    "\n",
    "print(\"\\n\" + \"=\" * 50)\n",
    "print(\"🎊 AI SHOPPING ASSISTANT DEMO COMPLETE!\")\n",
    "print(\"🛒 Conversational E-commerce Agent\")\n",
    "print(\"🤖 Powered by PraisonAI + OpenAI\")\n",
    "print(\"✨ Ready for Real-World E-commerce!\")\n",
    "print(\"=\" * 50)"
   ]
  }
 ],
 "metadata": {
  "colab": {
   "provenance": []
  },
  "kernelspec": {
   "display_name": "Python 3",
   "name": "python3"
  },
  "language_info": {
   "name": "python"
  }
 },
 "nbformat": 4,
 "nbformat_minor": 0
}
