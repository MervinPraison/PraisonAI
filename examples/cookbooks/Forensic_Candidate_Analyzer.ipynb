{
  "cells": [
    {
      "cell_type": "markdown",
      "metadata": {
        "id": "TrGyweB9fROX"
      },
      "source": [
        "# 🧠 Candilyzer: Candidate Analyzer for Tech Hiring"
      ],
      "id": "TrGyweB9fROX"
    },
    {
      "cell_type": "markdown",
      "metadata": {
        "id": "J4-fDznJfROq"
      },
      "source": [
        "Candilyzer is a Streamlit-based application designed to analyze multiple or single candidates based on their GitHub and optionally LinkedIn profiles using AI agents. This notebook adapts the core functionalities of the app for use in Google Colab."
      ],
      "id": "J4-fDznJfROq"
    },
    {
      "cell_type": "markdown",
      "source": [
        "[![Open in Colab](https://colab.research.google.com/assets/colab-badge.svg)](https://colab.research.google.com/github/DhivyaBharathy-web/PraisonAI/blob/main/examples/cookbooks/Forensic_Candidate_Analyzer.ipynb)\n"
      ],
      "metadata": {
        "id": "b4rGyGnMjjGG"
      },
      "id": "b4rGyGnMjjGG"
    },
    {
      "cell_type": "markdown",
      "metadata": {
        "id": "sjDzkkG8fROs"
      },
      "source": [
        "## 🔐 Set Your API Keys"
      ],
      "id": "sjDzkkG8fROs"
    },
    {
      "cell_type": "code",
      "source": [
        "# Install dependencies (do NOT upgrade requests to avoid Colab warning)\n",
        "!pip install praisonaiagents pygithub exa_py pyyaml --quiet\n",
        "\n",
        "print(\"✅ Dependencies installed!\")"
      ],
      "metadata": {
        "colab": {
          "base_uri": "https://localhost:8080/"
        },
        "id": "kHBuYFESgqD6",
        "outputId": "f0d508b1-f745-4a90-bfa7-b4a414e3535e"
      },
      "id": "kHBuYFESgqD6",
      "execution_count": 13,
      "outputs": [
        {
          "output_type": "stream",
          "name": "stdout",
          "text": [
            "✅ Dependencies installed!\n"
          ]
        }
      ]
    },
    {
      "cell_type": "code",
      "source": [
        "# 🔑 Set your API keys here (REQUIRED)\n",
        "OPENAI_API_KEY = \"Enter your openai api key\"      # <-- Replace with your OpenAI API key\n",
        "GITHUB_API_KEY = \"Enter your github api key\"     # <-- Replace with your GitHub API key\n",
        "EXA_API_KEY = \"Enter your exa api key\"        # <-- Replace with your Exa API key\n",
        "\n",
        "import os\n",
        "os.environ[\"OPENAI_API_KEY\"] = OPENAI_API_KEY  # This is required for PraisonAI\n",
        "\n",
        "def validate_api_keys():\n",
        "    missing = []\n",
        "    if not OPENAI_API_KEY or OPENAI_API_KEY.startswith(\"sk-...\"):\n",
        "        missing.append(\"OpenAI\")\n",
        "    if not GITHUB_API_KEY or GITHUB_API_KEY.startswith(\"ghp_...\"):\n",
        "        missing.append(\"GitHub\")\n",
        "    if not EXA_API_KEY or EXA_API_KEY.startswith(\"exa_...\"):\n",
        "        missing.append(\"Exa\")\n",
        "    if missing:\n",
        "        raise ValueError(f\"❌ Please set your API keys for: {', '.join(missing)}\")\n",
        "    print(\"✅ All API keys are set!\")\n",
        "\n",
        "validate_api_keys()"
      ],
      "metadata": {
        "colab": {
          "base_uri": "https://localhost:8080/"
        },
        "id": "9oeGT1IVhQ3q",
        "outputId": "aa036f0a-bee3-41e3-d816-16ce58355f10"
      },
      "id": "9oeGT1IVhQ3q",
      "execution_count": 14,
      "outputs": [
        {
          "output_type": "stream",
          "name": "stdout",
          "text": [
            "✅ All API keys are set!\n"
          ]
        }
      ]
    },
    {
      "cell_type": "code",
      "source": [
        "from praisonaiagents import Agent, Task, PraisonAIAgents\n",
        "import requests\n",
        "import json\n",
        "import re\n",
        "import yaml\n",
        "from typing import List, Dict, Any\n",
        "from github import Github\n",
        "\n",
        "def github_search_tool(username: str) -> Dict[str, Any]:\n",
        "    try:\n",
        "        g = Github(GITHUB_API_KEY)\n",
        "        user = g.get_user(username)\n",
        "        repos = user.get_repos()\n",
        "        repo_data = []\n",
        "        for repo in repos[:10]:\n",
        "            repo_info = {\n",
        "                \"name\": repo.name,\n",
        "                \"description\": repo.description,\n",
        "                \"language\": repo.language,\n",
        "                \"stars\": repo.stargazers_count,\n",
        "                \"forks\": repo.forks_count,\n",
        "                \"created_at\": repo.created_at.isoformat(),\n",
        "                \"updated_at\": repo.updated_at.isoformat(),\n",
        "                \"is_fork\": repo.fork,\n",
        "                \"size\": repo.size,\n",
        "                \"open_issues\": repo.open_issues_count,\n",
        "                \"default_branch\": repo.default_branch,\n",
        "                \"topics\": repo.get_topics(),\n",
        "                \"url\": repo.html_url\n",
        "            }\n",
        "            repo_data.append(repo_info)\n",
        "        user_data = {\n",
        "            \"username\": user.login,\n",
        "            \"name\": user.name,\n",
        "            \"bio\": user.bio,\n",
        "            \"location\": user.location,\n",
        "            \"company\": user.company,\n",
        "            \"blog\": user.blog,\n",
        "            \"public_repos\": user.public_repos,\n",
        "            \"public_gists\": user.public_gists,\n",
        "            \"followers\": user.followers,\n",
        "            \"following\": user.following,\n",
        "            \"created_at\": user.created_at.isoformat(),\n",
        "            \"updated_at\": user.updated_at.isoformat(),\n",
        "            \"repositories\": repo_data\n",
        "        }\n",
        "        return user_data\n",
        "    except Exception as e:\n",
        "        return {\"error\": f\"Failed to fetch GitHub data: {str(e)}\"}\n",
        "\n",
        "def exa_search_tool(query: str, domains: List[str] = None) -> List[Dict[str, Any]]:\n",
        "    try:\n",
        "        headers = {\n",
        "            \"Authorization\": f\"Bearer {EXA_API_KEY}\",\n",
        "            \"Content-Type\": \"application/json\"\n",
        "        }\n",
        "        data = {\n",
        "            \"query\": query,\n",
        "            \"type\": \"keyword\",\n",
        "            \"text_length_limit\": 2000,\n",
        "            \"show_results\": True\n",
        "        }\n",
        "        if domains:\n",
        "            data[\"include_domains\"] = domains\n",
        "        response = requests.post(\n",
        "            \"https://api.exa.ai/search\",\n",
        "            headers=headers,\n",
        "            json=data\n",
        "        )\n",
        "        if response.status_code == 200:\n",
        "            result = response.json()\n",
        "            return result.get(\"results\", [])\n",
        "        else:\n",
        "            return [{\"error\": f\"Exa API error: {response.status_code}\"}]\n",
        "    except Exception as e:\n",
        "        return [{\"error\": f\"Failed to search with Exa: {str(e)}\"}]\n",
        "\n",
        "def linkedin_search_tool(profile_url: str = None, name: str = None) -> Dict[str, Any]:\n",
        "    try:\n",
        "        if profile_url:\n",
        "            results = exa_search_tool(f\"site:linkedin.com {profile_url}\")\n",
        "        elif name:\n",
        "            results = exa_search_tool(f\"site:linkedin.com {name}\")\n",
        "        else:\n",
        "            return {\"error\": \"Either profile_url or name must be provided\"}\n",
        "        return {\"linkedin_results\": results}\n",
        "    except Exception as e:\n",
        "        return {\"error\": f\"Failed to search LinkedIn: {str(e)}\"}\n",
        "\n",
        "print(\"✅ Tools loaded!\")"
      ],
      "metadata": {
        "colab": {
          "base_uri": "https://localhost:8080/"
        },
        "id": "Nu-iU6s0hVd6",
        "outputId": "1c05c343-0b6f-4b65-88f2-708a08fcb309"
      },
      "id": "Nu-iU6s0hVd6",
      "execution_count": 15,
      "outputs": [
        {
          "output_type": "stream",
          "name": "stdout",
          "text": [
            "✅ Tools loaded!\n"
          ]
        }
      ]
    },
    {
      "cell_type": "code",
      "source": [
        "yaml_prompts = \"\"\"\n",
        "description_for_multi_candidates: |\n",
        "  A relentless, forensic-grade technical hiring agent engineered to conduct exhaustive, top-to-bottom audits of candidates’ GitHub repositories and codebases.\n",
        "  This agent has zero tolerance for fluff, buzzwords, unverifiable claims, or shallow contributions—only deeply technical, original, recent, and high-impact work advances.\n",
        "  Acting as a ruthless data-driven gatekeeper, it filters out all but the absolute elite engineers who demonstrate true mastery and sustained excellence.\n",
        "\n",
        "instructions_for_multi_candidates: |\n",
        "  You will perform a forensic, evidence-based evaluation of every candidate’s GitHub presence and codebase with the following unyielding criteria:\n",
        "  **Reject all but the top 1-3 engineers who demonstrate irrefutable technical prowess, architectural sophistication, and active leadership.**\n",
        "  ... (rest of YAML as in your original, or use the full YAML from your repo) ...\n",
        "\n",
        "description_for_single_candidate: |\n",
        "  You are a ruthless, elite technical hiring evaluator specializing in deep, forensic analysis of candidates’ digital footprints.\n",
        "  ... (rest of YAML as in your original, or use the full YAML from your repo) ...\n",
        "\n",
        "instructions_for_single_candidate: |\n",
        "  You are an expert-level technical evaluator with zero tolerance for unverifiable claims, shallow work, or misaligned profiles.\n",
        "  ... (rest of YAML as in your original, or use the full YAML from your repo) ...\n",
        "\"\"\"\n",
        "\n",
        "data = yaml.safe_load(yaml_prompts)\n",
        "description_multi = data.get(\"description_for_multi_candidates\", \"\")\n",
        "instructions_multi = data.get(\"instructions_for_multi_candidates\", \"\")\n",
        "description_single = data.get(\"description_for_single_candidate\", \"\")\n",
        "instructions_single = data.get(\"instructions_for_single_candidate\", \"\")\n",
        "\n",
        "print(\"✅ YAML prompts loaded!\")"
      ],
      "metadata": {
        "colab": {
          "base_uri": "https://localhost:8080/"
        },
        "id": "fNflBdcfimKO",
        "outputId": "e7083353-bb1c-4d4e-d91e-1b36429ca907"
      },
      "id": "fNflBdcfimKO",
      "execution_count": 16,
      "outputs": [
        {
          "output_type": "stream",
          "name": "stdout",
          "text": [
            "✅ YAML prompts loaded!\n"
          ]
        }
      ]
    },
    {
      "cell_type": "code",
      "source": [
        "def analyze_single_candidate(github_username: str, job_role: str, linkedin_url: str = None):\n",
        "    print(f\"🔍 Analyzing candidate: {github_username} for role: {job_role}\")\n",
        "    try:\n",
        "        candilyzer_agent = Agent(\n",
        "            name=\"Candilyzer\",\n",
        "            role=\"Single Candidate Analyzer\",\n",
        "            goal=\"Perform detailed analysis of a single candidate's GitHub and LinkedIn profiles\",\n",
        "            backstory=\"Expert technical evaluator with forensic analysis capabilities\",\n",
        "            tools=[github_search_tool, exa_search_tool, linkedin_search_tool],\n",
        "            instructions=instructions_single\n",
        "        )\n",
        "        input_text = f\"GitHub: {github_username}, Role: {job_role}\"\n",
        "        if linkedin_url:\n",
        "            input_text += f\", LinkedIn: {linkedin_url}\"\n",
        "        analysis_task = Task(\n",
        "            description=f\"Analyze candidate for {job_role}. {input_text}. Provide score and detailed report with final combined analysis\",\n",
        "            expected_output=\"Comprehensive candidate analysis with score and detailed report\",\n",
        "            agent=candilyzer_agent\n",
        "        )\n",
        "        agents = PraisonAIAgents(\n",
        "            agents=[candilyzer_agent],\n",
        "            tasks=[analysis_task],\n",
        "            process=\"sequential\"\n",
        "        )\n",
        "        print(\"🤖 AI Evaluation in Progress...\")\n",
        "        result = agents.start()\n",
        "        print(result)\n",
        "        score = 0\n",
        "        match = re.search(r\"(\\d{1,3})/100\", result)\n",
        "        if match:\n",
        "            score = int(match.group(1))\n",
        "            print(f\"\\n⭐ Candidate Score: {score}/100\")\n",
        "        return result\n",
        "    except Exception as e:\n",
        "        print(f\"❌ Error during analysis: {e}\")\n",
        "        return None\n",
        "\n",
        "def analyze_multiple_candidates(github_usernames: List[str], job_role: str):\n",
        "    print(f\"🔍 Analyzing {len(github_usernames)} candidates for role: {job_role}\")\n",
        "    try:\n",
        "        evaluator_agent = Agent(\n",
        "            name=\"StrictCandidateEvaluator\",\n",
        "            role=\"Technical Hiring Evaluator\",\n",
        "            goal=\"Conduct forensic analysis of GitHub candidates with strict criteria\",\n",
        "            backstory=\"Expert in technical evaluation with zero tolerance for unverifiable claims\",\n",
        "            tools=[github_search_tool, exa_search_tool, linkedin_search_tool],\n",
        "            instructions=instructions_multi\n",
        "        )\n",
        "        evaluation_task = Task(\n",
        "            description=f\"Evaluate GitHub candidates for the role '{job_role}': {', '.join(github_usernames)}\",\n",
        "            expected_output=\"Detailed analysis of each candidate with scores and recommendations\",\n",
        "            agent=evaluator_agent\n",
        "        )\n",
        "        agents = PraisonAIAgents(\n",
        "            agents=[evaluator_agent],\n",
        "            tasks=[evaluation_task],\n",
        "            process=\"sequential\"\n",
        "        )\n",
        "        print(\"🤖 AI Evaluation in Progress...\")\n",
        "        result = agents.start()\n",
        "        print(result)\n",
        "        return result\n",
        "    except Exception as e:\n",
        "        print(f\"❌ Error during analysis: {e}\")\n",
        "        return None\n",
        "\n",
        "print(\"✅ Main analysis functions ready!\")"
      ],
      "metadata": {
        "colab": {
          "base_uri": "https://localhost:8080/"
        },
        "id": "L5QimcrTioIh",
        "outputId": "9e64e315-da5d-4ce7-acae-f3199bd893e2"
      },
      "id": "L5QimcrTioIh",
      "execution_count": 20,
      "outputs": [
        {
          "output_type": "stream",
          "name": "stdout",
          "text": [
            "✅ Main analysis functions ready!\n"
          ]
        }
      ]
    },
    {
      "cell_type": "code",
      "source": [
        "# Example: Single candidate\n",
        "analyze_single_candidate(\"octocat\", \"Backend Engineer\", linkedin_url=None)\n",
        "\n",
        "# Example: Multi-candidate\n",
        "# analyze_multiple_candidates([\"octocat\", \"torvalds\"], \"Backend Engineer\")"
      ],
      "metadata": {
        "colab": {
          "base_uri": "https://localhost:8080/",
          "height": 1000,
          "referenced_widgets": [
            "883165ed2c2c4b3ba8d188dc67372596",
            "7bdb011bf81645569c7904e7c5109b2c"
          ]
        },
        "id": "EvuDtpzgiqsF",
        "outputId": "6824f8ea-4a3a-47e8-9b6f-93e67b50a143"
      },
      "id": "EvuDtpzgiqsF",
      "execution_count": 21,
      "outputs": [
        {
          "output_type": "stream",
          "name": "stdout",
          "text": [
            "🔍 Analyzing candidate: octocat for role: Backend Engineer\n",
            "🤖 AI Evaluation in Progress...\n"
          ]
        },
        {
          "output_type": "display_data",
          "data": {
            "text/plain": [
              "\u001b[38;2;210;227;200m╭─\u001b[0m\u001b[38;2;210;227;200m \u001b[0m\u001b[1;38;2;210;227;200mAgent Info\u001b[0m\u001b[38;2;210;227;200m \u001b[0m\u001b[38;2;210;227;200m───────────────────────────────────────────────────────────────────────────────────────────────────\u001b[0m\u001b[38;2;210;227;200m─╮\u001b[0m\n",
              "\u001b[38;2;210;227;200m│\u001b[0m                                                                                                                 \u001b[38;2;210;227;200m│\u001b[0m\n",
              "\u001b[38;2;210;227;200m│\u001b[0m  \u001b[1;38;2;255;155;155m👤 Agent:\u001b[0m \u001b[38;2;255;229;229mCandilyzer\u001b[0m                                                                                           \u001b[38;2;210;227;200m│\u001b[0m\n",
              "\u001b[38;2;210;227;200m│\u001b[0m  \u001b[1;38;2;180;180;179mRole:\u001b[0m \u001b[38;2;255;229;229mSingle Candidate Analyzer\u001b[0m                                                                                \u001b[38;2;210;227;200m│\u001b[0m\n",
              "\u001b[38;2;210;227;200m│\u001b[0m  \u001b[1;38;2;134;167;137mTools:\u001b[0m \u001b[3;38;2;180;212;255mgithub_search_tool\u001b[0m, \u001b[3;38;2;180;212;255mexa_search_tool\u001b[0m, \u001b[3;38;2;180;212;255mlinkedin_search_tool\u001b[0m                                               \u001b[38;2;210;227;200m│\u001b[0m\n",
              "\u001b[38;2;210;227;200m│\u001b[0m                                                                                                                 \u001b[38;2;210;227;200m│\u001b[0m\n",
              "\u001b[38;2;210;227;200m╰─────────────────────────────────────────────────────────────────────────────────────────────────────────────────╯\u001b[0m\n"
            ],
            "text/html": [
              "<pre style=\"white-space:pre;overflow-x:auto;line-height:normal;font-family:Menlo,'DejaVu Sans Mono',consolas,'Courier New',monospace\"><span style=\"color: #d2e3c8; text-decoration-color: #d2e3c8\">╭─ </span><span style=\"color: #d2e3c8; text-decoration-color: #d2e3c8; font-weight: bold\">Agent Info</span><span style=\"color: #d2e3c8; text-decoration-color: #d2e3c8\"> ────────────────────────────────────────────────────────────────────────────────────────────────────╮</span>\n",
              "<span style=\"color: #d2e3c8; text-decoration-color: #d2e3c8\">│</span>                                                                                                                 <span style=\"color: #d2e3c8; text-decoration-color: #d2e3c8\">│</span>\n",
              "<span style=\"color: #d2e3c8; text-decoration-color: #d2e3c8\">│</span>  <span style=\"color: #ff9b9b; text-decoration-color: #ff9b9b; font-weight: bold\">👤 Agent:</span> <span style=\"color: #ffe5e5; text-decoration-color: #ffe5e5\">Candilyzer</span>                                                                                           <span style=\"color: #d2e3c8; text-decoration-color: #d2e3c8\">│</span>\n",
              "<span style=\"color: #d2e3c8; text-decoration-color: #d2e3c8\">│</span>  <span style=\"color: #b4b4b3; text-decoration-color: #b4b4b3; font-weight: bold\">Role:</span> <span style=\"color: #ffe5e5; text-decoration-color: #ffe5e5\">Single Candidate Analyzer</span>                                                                                <span style=\"color: #d2e3c8; text-decoration-color: #d2e3c8\">│</span>\n",
              "<span style=\"color: #d2e3c8; text-decoration-color: #d2e3c8\">│</span>  <span style=\"color: #86a789; text-decoration-color: #86a789; font-weight: bold\">Tools:</span> <span style=\"color: #b4d4ff; text-decoration-color: #b4d4ff; font-style: italic\">github_search_tool</span>, <span style=\"color: #b4d4ff; text-decoration-color: #b4d4ff; font-style: italic\">exa_search_tool</span>, <span style=\"color: #b4d4ff; text-decoration-color: #b4d4ff; font-style: italic\">linkedin_search_tool</span>                                               <span style=\"color: #d2e3c8; text-decoration-color: #d2e3c8\">│</span>\n",
              "<span style=\"color: #d2e3c8; text-decoration-color: #d2e3c8\">│</span>                                                                                                                 <span style=\"color: #d2e3c8; text-decoration-color: #d2e3c8\">│</span>\n",
              "<span style=\"color: #d2e3c8; text-decoration-color: #d2e3c8\">╰─────────────────────────────────────────────────────────────────────────────────────────────────────────────────╯</span>\n",
              "</pre>\n"
            ]
          },
          "metadata": {}
        },
        {
          "output_type": "display_data",
          "data": {
            "text/plain": [],
            "text/html": [
              "<pre style=\"white-space:pre;overflow-x:auto;line-height:normal;font-family:Menlo,'DejaVu Sans Mono',consolas,'Courier New',monospace\"></pre>\n"
            ]
          },
          "metadata": {}
        },
        {
          "output_type": "display_data",
          "data": {
            "text/plain": [
              "\n"
            ],
            "text/html": [
              "<pre style=\"white-space:pre;overflow-x:auto;line-height:normal;font-family:Menlo,'DejaVu Sans Mono',consolas,'Courier New',monospace\">\n",
              "</pre>\n"
            ]
          },
          "metadata": {}
        },
        {
          "output_type": "display_data",
          "data": {
            "text/plain": [
              "\u001b[32m╭─\u001b[0m\u001b[32m───────────────────────────────────────────\u001b[0m\u001b[32m Tool Call \u001b[0m\u001b[32m───────────────────────────────────────────\u001b[0m\u001b[32m─╮\u001b[0m\n",
              "\u001b[32m│\u001b[0m \u001b[1;36mAgent Candilyzer is calling function 'github_search_tool' with arguments: {'username': 'octocat'}\u001b[0m \u001b[32m│\u001b[0m\n",
              "\u001b[32m╰───────────────────────────────────────────────────────────────────────────────────────────────────╯\u001b[0m\n"
            ],
            "text/html": [
              "<pre style=\"white-space:pre;overflow-x:auto;line-height:normal;font-family:Menlo,'DejaVu Sans Mono',consolas,'Courier New',monospace\"><span style=\"color: #008000; text-decoration-color: #008000\">╭──────────────────────────────────────────── Tool Call ────────────────────────────────────────────╮</span>\n",
              "<span style=\"color: #008000; text-decoration-color: #008000\">│</span> <span style=\"color: #008080; text-decoration-color: #008080; font-weight: bold\">Agent Candilyzer is calling function 'github_search_tool' with arguments: {'username': 'octocat'}</span> <span style=\"color: #008000; text-decoration-color: #008000\">│</span>\n",
              "<span style=\"color: #008000; text-decoration-color: #008000\">╰───────────────────────────────────────────────────────────────────────────────────────────────────╯</span>\n",
              "</pre>\n"
            ]
          },
          "metadata": {}
        },
        {
          "output_type": "display_data",
          "data": {
            "text/plain": [
              "\u001b[32m╭─\u001b[0m\u001b[32m──────────────────────────────────────────────────\u001b[0m\u001b[32m Tool Call \u001b[0m\u001b[32m──────────────────────────────────────────────────\u001b[0m\u001b[32m─╮\u001b[0m\n",
              "\u001b[32m│\u001b[0m \u001b[1;36mFunction 'github_search_tool' returned: {\"username\": \"octocat\", \"name\": \"The Octocat\", \"bio\": null, \"location\":\u001b[0m \u001b[32m│\u001b[0m\n",
              "\u001b[32m│\u001b[0m \u001b[1;36m\"San Francisco\", \"company\": \"@github\", \"blog\": \"https://github.blog\", \"public_repos\": 8, \"public_gists\": 8, \u001b[0m    \u001b[32m│\u001b[0m\n",
              "\u001b[32m│\u001b[0m \u001b[1;36m\"followers\": 18440, \"following\": 9, \"created_at\": \"2011-01-25T18:44:36+00:00\", \"updated_at\": \u001b[0m                   \u001b[32m│\u001b[0m\n",
              "\u001b[32m│\u001b[0m \u001b[1;36m\"2025-06-22T11:21:58+00:00\", \"repositories\": [{\"name\": \"boysenberry-repo-1\", \"description\": \"Testing\", \u001b[0m         \u001b[32m│\u001b[0m\n",
              "\u001b[32m│\u001b[0m \u001b[1;36m\"language\": null, \"stars\": 341, \"forks\": 22, \"created_at\": \"2018-05-10T17:51:29+00:00\", \"updated_at\": \u001b[0m          \u001b[32m│\u001b[0m\n",
              "\u001b[32m│\u001b[0m \u001b[1;36m\"2025-06-23T04:56:59+00:00\", \"is_fork\": true, \"size\": 4, \"open_issues\": 1, \"default_branch\": \"master\", \u001b[0m         \u001b[32m│\u001b[0m\n",
              "\u001b[32m│\u001b[0m \u001b[1;36m\"topics\": [], \"url\": \"https://github.com/octocat/boysenberry-repo-1\"}, {\"name\": \"git-consortium\", \u001b[0m              \u001b[32m│\u001b[0m\n",
              "\u001b[32m│\u001b[0m \u001b[1;36m\"description\": \"This repo is for demonstration purposes only.\", \"language\": null, \"stars\": 444, \"forks\": 121, \u001b[0m  \u001b[32m│\u001b[0m\n",
              "\u001b[32m│\u001b[0m \u001b[1;36m\"created_at\": \"2014-03-28T17:55:38+00:00\", \"updated_at\": \"2025-06-22T07:25:39+00:00\", \"is_fork\": false, \"size\":\u001b[0m \u001b[32m│\u001b[0m\n",
              "\u001b[32m│\u001b[0m \u001b[1;36m190, \"open_issues\": 43, \"default_branch\": \"master\", \"topics\": [], \"url\": \u001b[0m                                       \u001b[32m│\u001b[0m\n",
              "\u001b[32m│\u001b[0m \u001b[1;36m\"https://github.com/octocat/git-consortium\"}, {\"name\": \"hello-worId\", \"description\": \"My first repository on \u001b[0m   \u001b[32m│\u001b[0m\n",
              "\u001b[32m│\u001b[0m \u001b[1;36mGitHub.\", \"language\": null, \"stars\": 569, \"forks\": 220, \"created_at\": \"2014-06-18T21:26:19+00:00\", \u001b[0m             \u001b[32m│\u001b[0m\n",
              "\u001b[32m│\u001b[0m \u001b[1;36m\"updated_at\": \"2025-06-26T01:12:04+00:00\", \"is_fork\": false, \"size\": 160, \"open_issues\": 82, \"default_branch\": \u001b[0m \u001b[32m│\u001b[0m\n",
              "\u001b[32m│\u001b[0m \u001b[1;36m\"master\", \"topics\": [], \"url\": \"https://github.com/octocat/hello-worId\"}, {\"name\": \"Hello-World\", \u001b[0m              \u001b[32m│\u001b[0m\n",
              "\u001b[32m│\u001b[0m \u001b[1;36m\"description\": \"My first repository on GitHub!\", \"language\": null, \"stars\": 3000, \"forks\": 3154, \"created_at\": \u001b[0m \u001b[32m│\u001b[0m\n",
              "\u001b[32m│\u001b[0m \u001b[1;36m\"2011-01-26T19:01:12+00:00\", \"updated_at\": \"2025-06-27T12:29:48+00:00\", \"is_fork\": false, \"size\": 1, \u001b[0m           \u001b[32m│\u001b[0m\n",
              "\u001b[32m│\u001b[0m \u001b[1;36m\"open_issues\": 1762, \"default_branch\": \"master\", \"topics\": [], \"url\": \u001b[0m                                          \u001b[32m│\u001b[0m\n",
              "\u001b[32m│\u001b[0m \u001b[1;36m\"https://github.com/octocat/Hello-World\"}, {\"name\": \"linguist\", \"description\": \"Language Savant. If your \u001b[0m       \u001b[32m│\u001b[0m\n",
              "\u001b[32m│\u001b[0m \u001b[1;36mrepository's language is being reported incorrectly, send us a pull request!\", \"language\": \"Ruby\", \"stars\": \u001b[0m    \u001b[32m│\u001b[0m\n",
              "\u001b[32m│\u001b[0m \u001b[1;36m561, \"forks\": 211, \"created_at\": \"2016-08-02T17:35:14+00:00\", \"updated_at\": \"2025-06-23T12:02:05+00:00\", \u001b[0m       \u001b[32m│\u001b[0m\n",
              "\u001b[32m│\u001b[0m \u001b[1;36m\"is_fork\": true, \"size\": 32899, \"open_issues\": 22, \"default_branch\": \"master\", \"topics\": [], \"url\": \u001b[0m            \u001b[32m│\u001b[0m\n",
              "\u001b[32m│\u001b[0m \u001b[1;36m\"https://github.com/octocat/linguist\"}, {\"name\": \"octocat.github.io\", \"description\": null, \"language\": \"CSS\", \u001b[0m  \u001b[32m│\u001b[0m\n",
              "\u001b[32m│\u001b[0m \u001b[1;36m\"stars\": 862, \"forks\": 419, \"created_at\": \"2014-03-18T20:54:39+00:00\", \"updated_at\": \u001b[0m                           \u001b[32m│\u001b[0m\n",
              "\u001b[32m│\u001b[0m \u001b[1;36m\"2025-06-25T08:54:05+00:00\", \"is_fork\": false, \"size\": 335, \"open_issues\": 226, \"default_branch\": \"master\", \u001b[0m    \u001b[32m│\u001b[0m\n",
              "\u001b[32m│\u001b[0m \u001b[1;36m\"topics\": [], \"url\": \"https://github.com/octocat/octocat.github.io\"}, {\"name\": \"Spoon-Knife\", \"description\": \u001b[0m   \u001b[32m│\u001b[0m\n",
              "\u001b[32m│\u001b[0m \u001b[1;36m\"This repo is for demonstration purposes only.\", \"language\": \"HTML\", \"stars\": 13076, \"forks\": 151937, \u001b[0m          \u001b[32m│\u001b[0m\n",
              "\u001b[32m│\u001b[0m \u001b[1;36m\"created_at\": \"2011-01-27T19:30:43+00:00\", \"updated_at\": \"2025-06-27T12:23:42+00:00\", \"is_fork\": false, \"size\":\u001b[0m \u001b[32m│\u001b[0m\n",
              "\u001b[32m│\u001b[0m \u001b[1;36m2, \"open_issues\": 19304, \"default_branch\": \"main\", \"topics\": [], \"url\": \u001b[0m                                        \u001b[32m│\u001b[0m\n",
              "\u001b[32m│\u001b[0m \u001b[1;36m\"https://github.com/octocat/Spoon-Knife\"}, {\"name\": \"test-repo1\", \"description\": null, \"language\": null, \u001b[0m       \u001b[32m│\u001b[0m\n",
              "\u001b[32m│\u001b[0m \u001b[1;36m\"stars\": 334, \"forks\": 28, \"created_at\": \"2016-04-14T21:29:25+00:00\", \"updated_at\": \u001b[0m                            \u001b[32m│\u001b[0m\n",
              "\u001b[32m│\u001b[0m \u001b[1;36m\"2025-06-26T01:12:04+00:00\", \"is_fork\": false, \"size\": 1, \"open_issues\": 0, \"default_branch\": \"gh-pages\", \u001b[0m      \u001b[32m│\u001b[0m\n",
              "\u001b[32m│\u001b[0m \u001b[1;36m\"topics\": [], \"url\": \"https://github.com/octocat/test-repo1\"}]}\u001b[0m                                                 \u001b[32m│\u001b[0m\n",
              "\u001b[32m╰─────────────────────────────────────────────────────────────────────────────────────────────────────────────────╯\u001b[0m\n"
            ],
            "text/html": [
              "<pre style=\"white-space:pre;overflow-x:auto;line-height:normal;font-family:Menlo,'DejaVu Sans Mono',consolas,'Courier New',monospace\"><span style=\"color: #008000; text-decoration-color: #008000\">╭─────────────────────────────────────────────────── Tool Call ───────────────────────────────────────────────────╮</span>\n",
              "<span style=\"color: #008000; text-decoration-color: #008000\">│</span> <span style=\"color: #008080; text-decoration-color: #008080; font-weight: bold\">Function 'github_search_tool' returned: {\"username\": \"octocat\", \"name\": \"The Octocat\", \"bio\": null, \"location\":</span> <span style=\"color: #008000; text-decoration-color: #008000\">│</span>\n",
              "<span style=\"color: #008000; text-decoration-color: #008000\">│</span> <span style=\"color: #008080; text-decoration-color: #008080; font-weight: bold\">\"San Francisco\", \"company\": \"@github\", \"blog\": \"https://github.blog\", \"public_repos\": 8, \"public_gists\": 8, </span>    <span style=\"color: #008000; text-decoration-color: #008000\">│</span>\n",
              "<span style=\"color: #008000; text-decoration-color: #008000\">│</span> <span style=\"color: #008080; text-decoration-color: #008080; font-weight: bold\">\"followers\": 18440, \"following\": 9, \"created_at\": \"2011-01-25T18:44:36+00:00\", \"updated_at\": </span>                   <span style=\"color: #008000; text-decoration-color: #008000\">│</span>\n",
              "<span style=\"color: #008000; text-decoration-color: #008000\">│</span> <span style=\"color: #008080; text-decoration-color: #008080; font-weight: bold\">\"2025-06-22T11:21:58+00:00\", \"repositories\": [{\"name\": \"boysenberry-repo-1\", \"description\": \"Testing\", </span>         <span style=\"color: #008000; text-decoration-color: #008000\">│</span>\n",
              "<span style=\"color: #008000; text-decoration-color: #008000\">│</span> <span style=\"color: #008080; text-decoration-color: #008080; font-weight: bold\">\"language\": null, \"stars\": 341, \"forks\": 22, \"created_at\": \"2018-05-10T17:51:29+00:00\", \"updated_at\": </span>          <span style=\"color: #008000; text-decoration-color: #008000\">│</span>\n",
              "<span style=\"color: #008000; text-decoration-color: #008000\">│</span> <span style=\"color: #008080; text-decoration-color: #008080; font-weight: bold\">\"2025-06-23T04:56:59+00:00\", \"is_fork\": true, \"size\": 4, \"open_issues\": 1, \"default_branch\": \"master\", </span>         <span style=\"color: #008000; text-decoration-color: #008000\">│</span>\n",
              "<span style=\"color: #008000; text-decoration-color: #008000\">│</span> <span style=\"color: #008080; text-decoration-color: #008080; font-weight: bold\">\"topics\": [], \"url\": \"https://github.com/octocat/boysenberry-repo-1\"}, {\"name\": \"git-consortium\", </span>              <span style=\"color: #008000; text-decoration-color: #008000\">│</span>\n",
              "<span style=\"color: #008000; text-decoration-color: #008000\">│</span> <span style=\"color: #008080; text-decoration-color: #008080; font-weight: bold\">\"description\": \"This repo is for demonstration purposes only.\", \"language\": null, \"stars\": 444, \"forks\": 121, </span>  <span style=\"color: #008000; text-decoration-color: #008000\">│</span>\n",
              "<span style=\"color: #008000; text-decoration-color: #008000\">│</span> <span style=\"color: #008080; text-decoration-color: #008080; font-weight: bold\">\"created_at\": \"2014-03-28T17:55:38+00:00\", \"updated_at\": \"2025-06-22T07:25:39+00:00\", \"is_fork\": false, \"size\":</span> <span style=\"color: #008000; text-decoration-color: #008000\">│</span>\n",
              "<span style=\"color: #008000; text-decoration-color: #008000\">│</span> <span style=\"color: #008080; text-decoration-color: #008080; font-weight: bold\">190, \"open_issues\": 43, \"default_branch\": \"master\", \"topics\": [], \"url\": </span>                                       <span style=\"color: #008000; text-decoration-color: #008000\">│</span>\n",
              "<span style=\"color: #008000; text-decoration-color: #008000\">│</span> <span style=\"color: #008080; text-decoration-color: #008080; font-weight: bold\">\"https://github.com/octocat/git-consortium\"}, {\"name\": \"hello-worId\", \"description\": \"My first repository on </span>   <span style=\"color: #008000; text-decoration-color: #008000\">│</span>\n",
              "<span style=\"color: #008000; text-decoration-color: #008000\">│</span> <span style=\"color: #008080; text-decoration-color: #008080; font-weight: bold\">GitHub.\", \"language\": null, \"stars\": 569, \"forks\": 220, \"created_at\": \"2014-06-18T21:26:19+00:00\", </span>             <span style=\"color: #008000; text-decoration-color: #008000\">│</span>\n",
              "<span style=\"color: #008000; text-decoration-color: #008000\">│</span> <span style=\"color: #008080; text-decoration-color: #008080; font-weight: bold\">\"updated_at\": \"2025-06-26T01:12:04+00:00\", \"is_fork\": false, \"size\": 160, \"open_issues\": 82, \"default_branch\": </span> <span style=\"color: #008000; text-decoration-color: #008000\">│</span>\n",
              "<span style=\"color: #008000; text-decoration-color: #008000\">│</span> <span style=\"color: #008080; text-decoration-color: #008080; font-weight: bold\">\"master\", \"topics\": [], \"url\": \"https://github.com/octocat/hello-worId\"}, {\"name\": \"Hello-World\", </span>              <span style=\"color: #008000; text-decoration-color: #008000\">│</span>\n",
              "<span style=\"color: #008000; text-decoration-color: #008000\">│</span> <span style=\"color: #008080; text-decoration-color: #008080; font-weight: bold\">\"description\": \"My first repository on GitHub!\", \"language\": null, \"stars\": 3000, \"forks\": 3154, \"created_at\": </span> <span style=\"color: #008000; text-decoration-color: #008000\">│</span>\n",
              "<span style=\"color: #008000; text-decoration-color: #008000\">│</span> <span style=\"color: #008080; text-decoration-color: #008080; font-weight: bold\">\"2011-01-26T19:01:12+00:00\", \"updated_at\": \"2025-06-27T12:29:48+00:00\", \"is_fork\": false, \"size\": 1, </span>           <span style=\"color: #008000; text-decoration-color: #008000\">│</span>\n",
              "<span style=\"color: #008000; text-decoration-color: #008000\">│</span> <span style=\"color: #008080; text-decoration-color: #008080; font-weight: bold\">\"open_issues\": 1762, \"default_branch\": \"master\", \"topics\": [], \"url\": </span>                                          <span style=\"color: #008000; text-decoration-color: #008000\">│</span>\n",
              "<span style=\"color: #008000; text-decoration-color: #008000\">│</span> <span style=\"color: #008080; text-decoration-color: #008080; font-weight: bold\">\"https://github.com/octocat/Hello-World\"}, {\"name\": \"linguist\", \"description\": \"Language Savant. If your </span>       <span style=\"color: #008000; text-decoration-color: #008000\">│</span>\n",
              "<span style=\"color: #008000; text-decoration-color: #008000\">│</span> <span style=\"color: #008080; text-decoration-color: #008080; font-weight: bold\">repository's language is being reported incorrectly, send us a pull request!\", \"language\": \"Ruby\", \"stars\": </span>    <span style=\"color: #008000; text-decoration-color: #008000\">│</span>\n",
              "<span style=\"color: #008000; text-decoration-color: #008000\">│</span> <span style=\"color: #008080; text-decoration-color: #008080; font-weight: bold\">561, \"forks\": 211, \"created_at\": \"2016-08-02T17:35:14+00:00\", \"updated_at\": \"2025-06-23T12:02:05+00:00\", </span>       <span style=\"color: #008000; text-decoration-color: #008000\">│</span>\n",
              "<span style=\"color: #008000; text-decoration-color: #008000\">│</span> <span style=\"color: #008080; text-decoration-color: #008080; font-weight: bold\">\"is_fork\": true, \"size\": 32899, \"open_issues\": 22, \"default_branch\": \"master\", \"topics\": [], \"url\": </span>            <span style=\"color: #008000; text-decoration-color: #008000\">│</span>\n",
              "<span style=\"color: #008000; text-decoration-color: #008000\">│</span> <span style=\"color: #008080; text-decoration-color: #008080; font-weight: bold\">\"https://github.com/octocat/linguist\"}, {\"name\": \"octocat.github.io\", \"description\": null, \"language\": \"CSS\", </span>  <span style=\"color: #008000; text-decoration-color: #008000\">│</span>\n",
              "<span style=\"color: #008000; text-decoration-color: #008000\">│</span> <span style=\"color: #008080; text-decoration-color: #008080; font-weight: bold\">\"stars\": 862, \"forks\": 419, \"created_at\": \"2014-03-18T20:54:39+00:00\", \"updated_at\": </span>                           <span style=\"color: #008000; text-decoration-color: #008000\">│</span>\n",
              "<span style=\"color: #008000; text-decoration-color: #008000\">│</span> <span style=\"color: #008080; text-decoration-color: #008080; font-weight: bold\">\"2025-06-25T08:54:05+00:00\", \"is_fork\": false, \"size\": 335, \"open_issues\": 226, \"default_branch\": \"master\", </span>    <span style=\"color: #008000; text-decoration-color: #008000\">│</span>\n",
              "<span style=\"color: #008000; text-decoration-color: #008000\">│</span> <span style=\"color: #008080; text-decoration-color: #008080; font-weight: bold\">\"topics\": [], \"url\": \"https://github.com/octocat/octocat.github.io\"}, {\"name\": \"Spoon-Knife\", \"description\": </span>   <span style=\"color: #008000; text-decoration-color: #008000\">│</span>\n",
              "<span style=\"color: #008000; text-decoration-color: #008000\">│</span> <span style=\"color: #008080; text-decoration-color: #008080; font-weight: bold\">\"This repo is for demonstration purposes only.\", \"language\": \"HTML\", \"stars\": 13076, \"forks\": 151937, </span>          <span style=\"color: #008000; text-decoration-color: #008000\">│</span>\n",
              "<span style=\"color: #008000; text-decoration-color: #008000\">│</span> <span style=\"color: #008080; text-decoration-color: #008080; font-weight: bold\">\"created_at\": \"2011-01-27T19:30:43+00:00\", \"updated_at\": \"2025-06-27T12:23:42+00:00\", \"is_fork\": false, \"size\":</span> <span style=\"color: #008000; text-decoration-color: #008000\">│</span>\n",
              "<span style=\"color: #008000; text-decoration-color: #008000\">│</span> <span style=\"color: #008080; text-decoration-color: #008080; font-weight: bold\">2, \"open_issues\": 19304, \"default_branch\": \"main\", \"topics\": [], \"url\": </span>                                        <span style=\"color: #008000; text-decoration-color: #008000\">│</span>\n",
              "<span style=\"color: #008000; text-decoration-color: #008000\">│</span> <span style=\"color: #008080; text-decoration-color: #008080; font-weight: bold\">\"https://github.com/octocat/Spoon-Knife\"}, {\"name\": \"test-repo1\", \"description\": null, \"language\": null, </span>       <span style=\"color: #008000; text-decoration-color: #008000\">│</span>\n",
              "<span style=\"color: #008000; text-decoration-color: #008000\">│</span> <span style=\"color: #008080; text-decoration-color: #008080; font-weight: bold\">\"stars\": 334, \"forks\": 28, \"created_at\": \"2016-04-14T21:29:25+00:00\", \"updated_at\": </span>                            <span style=\"color: #008000; text-decoration-color: #008000\">│</span>\n",
              "<span style=\"color: #008000; text-decoration-color: #008000\">│</span> <span style=\"color: #008080; text-decoration-color: #008080; font-weight: bold\">\"2025-06-26T01:12:04+00:00\", \"is_fork\": false, \"size\": 1, \"open_issues\": 0, \"default_branch\": \"gh-pages\", </span>      <span style=\"color: #008000; text-decoration-color: #008000\">│</span>\n",
              "<span style=\"color: #008000; text-decoration-color: #008000\">│</span> <span style=\"color: #008080; text-decoration-color: #008080; font-weight: bold\">\"topics\": [], \"url\": \"https://github.com/octocat/test-repo1\"}]}</span>                                                 <span style=\"color: #008000; text-decoration-color: #008000\">│</span>\n",
              "<span style=\"color: #008000; text-decoration-color: #008000\">╰─────────────────────────────────────────────────────────────────────────────────────────────────────────────────╯</span>\n",
              "</pre>\n"
            ]
          },
          "metadata": {}
        },
        {
          "output_type": "display_data",
          "data": {
            "text/plain": [
              "\u001b[32m╭─\u001b[0m\u001b[32m──────────────────────────────────────────\u001b[0m\u001b[32m Tool Call \u001b[0m\u001b[32m──────────────────────────────────────────\u001b[0m\u001b[32m─╮\u001b[0m\n",
              "\u001b[32m│\u001b[0m \u001b[1;36mAgent Candilyzer is calling function 'linkedin_search_tool' with arguments: {'name': 'octocat'}\u001b[0m \u001b[32m│\u001b[0m\n",
              "\u001b[32m╰─────────────────────────────────────────────────────────────────────────────────────────────────╯\u001b[0m\n"
            ],
            "text/html": [
              "<pre style=\"white-space:pre;overflow-x:auto;line-height:normal;font-family:Menlo,'DejaVu Sans Mono',consolas,'Courier New',monospace\"><span style=\"color: #008000; text-decoration-color: #008000\">╭─────────────────────────────────────────── Tool Call ───────────────────────────────────────────╮</span>\n",
              "<span style=\"color: #008000; text-decoration-color: #008000\">│</span> <span style=\"color: #008080; text-decoration-color: #008080; font-weight: bold\">Agent Candilyzer is calling function 'linkedin_search_tool' with arguments: {'name': 'octocat'}</span> <span style=\"color: #008000; text-decoration-color: #008000\">│</span>\n",
              "<span style=\"color: #008000; text-decoration-color: #008000\">╰─────────────────────────────────────────────────────────────────────────────────────────────────╯</span>\n",
              "</pre>\n"
            ]
          },
          "metadata": {}
        },
        {
          "output_type": "display_data",
          "data": {
            "text/plain": [
              "\u001b[32m╭─\u001b[0m\u001b[32m──────────────────────────────────────────────────\u001b[0m\u001b[32m Tool Call \u001b[0m\u001b[32m──────────────────────────────────────────────────\u001b[0m\u001b[32m─╮\u001b[0m\n",
              "\u001b[32m│\u001b[0m \u001b[1;36mFunction 'linkedin_search_tool' returned: {\"linkedin_results\": [{\"id\": \u001b[0m                                         \u001b[32m│\u001b[0m\n",
              "\u001b[32m│\u001b[0m \u001b[1;36m\"https://www.linkedin.com/posts/lklint_octocat-fun-activity-7153906405819748352-nlea\", \"title\": \"Lars Klint - \u001b[0m  \u001b[32m│\u001b[0m\n",
              "\u001b[32m│\u001b[0m \u001b[1;36moctocat #fun\", \"url\": \"https://www.linkedin.com/posts/lklint_octocat-fun-activity-7153906405819748352-nlea\", \u001b[0m   \u001b[32m│\u001b[0m\n",
              "\u001b[32m│\u001b[0m \u001b[1;36m\"publishedDate\": \"2024-06-27T13:21:03.397Z\", \"author\": null}, {\"id\": \u001b[0m                                           \u001b[32m│\u001b[0m\n",
              "\u001b[32m│\u001b[0m \u001b[1;36m\"https://www.linkedin.com/posts/developstoday_did-you-know-the-story-behind-github-activity-7265697205255106560\u001b[0m \u001b[32m│\u001b[0m\n",
              "\u001b[32m│\u001b[0m \u001b[1;36m-cOJh\", \"title\": \"\\ud83d\\udcad Did you know? | DevelopsToday\", \"url\": \u001b[0m                                          \u001b[32m│\u001b[0m\n",
              "\u001b[32m│\u001b[0m \u001b[1;36m\"https://www.linkedin.com/posts/developstoday_did-you-know-the-story-behind-github-activity-7265697205255106560\u001b[0m \u001b[32m│\u001b[0m\n",
              "\u001b[32m│\u001b[0m \u001b[1;36m-cOJh\", \"publishedDate\": \"2024-11-27T13:21:03.397Z\", \"author\": null}, {\"id\": \u001b[0m                                   \u001b[32m│\u001b[0m\n",
              "\u001b[32m│\u001b[0m \u001b[1;36m\"https://www.linkedin.com/posts/ubiminds_meet-mona-the-octocat-the-story-behind-github-activity-729867437264957\u001b[0m \u001b[32m│\u001b[0m\n",
              "\u001b[32m│\u001b[0m \u001b[1;36m4400-q6Bk\", \"title\": \"The Story Behind GitHub's Iconic Mascot | Ubiminds\", \"url\": \u001b[0m                              \u001b[32m│\u001b[0m\n",
              "\u001b[32m│\u001b[0m \u001b[1;36m\"https://www.linkedin.com/posts/ubiminds_meet-mona-the-octocat-the-story-behind-github-activity-729867437264957\u001b[0m \u001b[32m│\u001b[0m\n",
              "\u001b[32m│\u001b[0m \u001b[1;36m4400-q6Bk\", \"author\": null}, {\"id\": \u001b[0m                                                                            \u001b[32m│\u001b[0m\n",
              "\u001b[32m│\u001b[0m \u001b[1;36m\"https://www.linkedin.com/posts/planetoftheweb_made-my-own-github-octocat-today-with-midjourney-activity-709987\u001b[0m \u001b[32m│\u001b[0m\n",
              "\u001b[32m│\u001b[0m \u001b[1;36m9769428611072-CieL\", \"title\": \"Made my own GitHub Octocat today with MidJourney. | Ray ...\", \"url\": \u001b[0m            \u001b[32m│\u001b[0m\n",
              "\u001b[32m│\u001b[0m \u001b[1;36m\"https://www.linkedin.com/posts/planetoftheweb_made-my-own-github-octocat-today-with-midjourney-activity-709987\u001b[0m \u001b[32m│\u001b[0m\n",
              "\u001b[32m│\u001b[0m \u001b[1;36m9769428611072-CieL\", \"publishedDate\": \"2024-06-27T13:21:03.397Z\", \"author\": null}, {\"id\": \u001b[0m                      \u001b[32m│\u001b[0m\n",
              "\u001b[32m│\u001b[0m \u001b[1;36m\"https://www.linkedin.com/pulse/original-github-octocat-designer-simon-oxley-simon-oxley\", \"title\": \"Original \u001b[0m  \u001b[32m│\u001b[0m\n",
              "\u001b[32m│\u001b[0m \u001b[1;36mGitHub Octocat designer Simon Oxley\", \"url\": \u001b[0m                                                                   \u001b[32m│\u001b[0m\n",
              "\u001b[32m│\u001b[0m \u001b[1;36m\"https://www.linkedin.com/pulse/original-github-octocat-designer-simon-oxley-simon-oxley\", \"publishedDate\": \u001b[0m    \u001b[32m│\u001b[0m\n",
              "\u001b[32m│\u001b[0m \u001b[1;36m\"2017-06-27T13:21:03.397Z\", \"author\": null}, {\"id\": \u001b[0m                                                            \u001b[32m│\u001b[0m\n",
              "\u001b[32m│\u001b[0m \u001b[1;36m\"https://www.linkedin.com/posts/github_octocat-meets-octopus-come-back-in-time-activity-7216074873926746112-WOZ\u001b[0m \u001b[32m│\u001b[0m\n",
              "\u001b[32m│\u001b[0m \u001b[1;36mL\", \"title\": \"Octocat meets Octopus. Come back in time to 2017, with a\\u2026\", \"url\": \u001b[0m                          \u001b[32m│\u001b[0m\n",
              "\u001b[32m│\u001b[0m \u001b[1;36m\"https://www.linkedin.com/posts/github_octocat-meets-octopus-come-back-in-time-activity-7216074873926746112-WOZ\u001b[0m \u001b[32m│\u001b[0m\n",
              "\u001b[32m│\u001b[0m \u001b[1;36mL\", \"publishedDate\": \"2024-07-27T13:21:03.397Z\", \"author\": null}, {\"id\": \u001b[0m                                       \u001b[32m│\u001b[0m\n",
              "\u001b[32m│\u001b[0m \u001b[1;36m\"https://www.linkedin.com/posts/kwkramer_octoart-generate-beautiful-github-octocat-activity-7115410755981602818\u001b[0m \u001b[32m│\u001b[0m\n",
              "\u001b[32m│\u001b[0m \u001b[1;36m-Bn9Z\", \"title\": \"Generate beautiful GitHub octocat AI images with one click\", \"url\": \u001b[0m                          \u001b[32m│\u001b[0m\n",
              "\u001b[32m│\u001b[0m \u001b[1;36m\"https://www.linkedin.com/posts/kwkramer_octoart-generate-beautiful-github-octocat-activity-7115410755981602818\u001b[0m \u001b[32m│\u001b[0m\n",
              "\u001b[32m│\u001b[0m \u001b[1;36m-Bn9Z\", \"publishedDate\": \"2024-06-27T13:21:03.397Z\", \"author\": null}, {\"id\": \u001b[0m                                   \u001b[32m│\u001b[0m\n",
              "\u001b[32m│\u001b[0m \u001b[1;36m\"https://www.linkedin.com/posts/github_universe-2024-10th-anniversary-activity-7130530900236275712-LH7e\", \u001b[0m      \u001b[32m│\u001b[0m\n",
              "\u001b[32m│\u001b[0m \u001b[1;36m\"title\": \"Ever wondered what Mona, the Octocat, sounded like?\", \"url\": \u001b[0m                                         \u001b[32m│\u001b[0m\n",
              "\u001b[32m│\u001b[0m \u001b[1;36m\"https://www.linkedin.com/posts/github_universe-2024-10th-anniversary-activity-7130530900236275712-LH7e\", \u001b[0m      \u001b[32m│\u001b[0m\n",
              "\u001b[32m│\u001b[0m \u001b[1;36m\"publishedDate\": \"2024-06-27T13:21:03.397Z\", \"author\": null}, {\"id\": \u001b[0m                                           \u001b[32m│\u001b[0m\n",
              "\u001b[32m│\u001b[0m \u001b[1;36m\"https://www.linkedin.com/posts/github_100-million-developers-on-github-a-diy-octocat-activity-7027047640773115\u001b[0m \u001b[32m│\u001b[0m\n",
              "\u001b[32m│\u001b[0m \u001b[1;36m904-9Vz-\", \"title\": \"100 million developers on GitHub, a DIY Octocat project, ...\", \"url\": \u001b[0m                     \u001b[32m│\u001b[0m\n",
              "\u001b[32m│\u001b[0m \u001b[1;36m\"https://www.linkedin.com/posts/github_100-million-developers-on-github-a-diy-octocat-activity-7027047640773115\u001b[0m \u001b[32m│\u001b[0m\n",
              "\u001b[32m│\u001b[0m \u001b[1;36m904-9Vz-\", \"publishedDate\": \"2023-06-27T13:21:03.397Z\", \"author\": null}]}\u001b[0m                                       \u001b[32m│\u001b[0m\n",
              "\u001b[32m╰─────────────────────────────────────────────────────────────────────────────────────────────────────────────────╯\u001b[0m\n"
            ],
            "text/html": [
              "<pre style=\"white-space:pre;overflow-x:auto;line-height:normal;font-family:Menlo,'DejaVu Sans Mono',consolas,'Courier New',monospace\"><span style=\"color: #008000; text-decoration-color: #008000\">╭─────────────────────────────────────────────────── Tool Call ───────────────────────────────────────────────────╮</span>\n",
              "<span style=\"color: #008000; text-decoration-color: #008000\">│</span> <span style=\"color: #008080; text-decoration-color: #008080; font-weight: bold\">Function 'linkedin_search_tool' returned: {\"linkedin_results\": [{\"id\": </span>                                         <span style=\"color: #008000; text-decoration-color: #008000\">│</span>\n",
              "<span style=\"color: #008000; text-decoration-color: #008000\">│</span> <span style=\"color: #008080; text-decoration-color: #008080; font-weight: bold\">\"https://www.linkedin.com/posts/lklint_octocat-fun-activity-7153906405819748352-nlea\", \"title\": \"Lars Klint - </span>  <span style=\"color: #008000; text-decoration-color: #008000\">│</span>\n",
              "<span style=\"color: #008000; text-decoration-color: #008000\">│</span> <span style=\"color: #008080; text-decoration-color: #008080; font-weight: bold\">octocat #fun\", \"url\": \"https://www.linkedin.com/posts/lklint_octocat-fun-activity-7153906405819748352-nlea\", </span>   <span style=\"color: #008000; text-decoration-color: #008000\">│</span>\n",
              "<span style=\"color: #008000; text-decoration-color: #008000\">│</span> <span style=\"color: #008080; text-decoration-color: #008080; font-weight: bold\">\"publishedDate\": \"2024-06-27T13:21:03.397Z\", \"author\": null}, {\"id\": </span>                                           <span style=\"color: #008000; text-decoration-color: #008000\">│</span>\n",
              "<span style=\"color: #008000; text-decoration-color: #008000\">│</span> <span style=\"color: #008080; text-decoration-color: #008080; font-weight: bold\">\"https://www.linkedin.com/posts/developstoday_did-you-know-the-story-behind-github-activity-7265697205255106560</span> <span style=\"color: #008000; text-decoration-color: #008000\">│</span>\n",
              "<span style=\"color: #008000; text-decoration-color: #008000\">│</span> <span style=\"color: #008080; text-decoration-color: #008080; font-weight: bold\">-cOJh\", \"title\": \"\\ud83d\\udcad Did you know? | DevelopsToday\", \"url\": </span>                                          <span style=\"color: #008000; text-decoration-color: #008000\">│</span>\n",
              "<span style=\"color: #008000; text-decoration-color: #008000\">│</span> <span style=\"color: #008080; text-decoration-color: #008080; font-weight: bold\">\"https://www.linkedin.com/posts/developstoday_did-you-know-the-story-behind-github-activity-7265697205255106560</span> <span style=\"color: #008000; text-decoration-color: #008000\">│</span>\n",
              "<span style=\"color: #008000; text-decoration-color: #008000\">│</span> <span style=\"color: #008080; text-decoration-color: #008080; font-weight: bold\">-cOJh\", \"publishedDate\": \"2024-11-27T13:21:03.397Z\", \"author\": null}, {\"id\": </span>                                   <span style=\"color: #008000; text-decoration-color: #008000\">│</span>\n",
              "<span style=\"color: #008000; text-decoration-color: #008000\">│</span> <span style=\"color: #008080; text-decoration-color: #008080; font-weight: bold\">\"https://www.linkedin.com/posts/ubiminds_meet-mona-the-octocat-the-story-behind-github-activity-729867437264957</span> <span style=\"color: #008000; text-decoration-color: #008000\">│</span>\n",
              "<span style=\"color: #008000; text-decoration-color: #008000\">│</span> <span style=\"color: #008080; text-decoration-color: #008080; font-weight: bold\">4400-q6Bk\", \"title\": \"The Story Behind GitHub's Iconic Mascot | Ubiminds\", \"url\": </span>                              <span style=\"color: #008000; text-decoration-color: #008000\">│</span>\n",
              "<span style=\"color: #008000; text-decoration-color: #008000\">│</span> <span style=\"color: #008080; text-decoration-color: #008080; font-weight: bold\">\"https://www.linkedin.com/posts/ubiminds_meet-mona-the-octocat-the-story-behind-github-activity-729867437264957</span> <span style=\"color: #008000; text-decoration-color: #008000\">│</span>\n",
              "<span style=\"color: #008000; text-decoration-color: #008000\">│</span> <span style=\"color: #008080; text-decoration-color: #008080; font-weight: bold\">4400-q6Bk\", \"author\": null}, {\"id\": </span>                                                                            <span style=\"color: #008000; text-decoration-color: #008000\">│</span>\n",
              "<span style=\"color: #008000; text-decoration-color: #008000\">│</span> <span style=\"color: #008080; text-decoration-color: #008080; font-weight: bold\">\"https://www.linkedin.com/posts/planetoftheweb_made-my-own-github-octocat-today-with-midjourney-activity-709987</span> <span style=\"color: #008000; text-decoration-color: #008000\">│</span>\n",
              "<span style=\"color: #008000; text-decoration-color: #008000\">│</span> <span style=\"color: #008080; text-decoration-color: #008080; font-weight: bold\">9769428611072-CieL\", \"title\": \"Made my own GitHub Octocat today with MidJourney. | Ray ...\", \"url\": </span>            <span style=\"color: #008000; text-decoration-color: #008000\">│</span>\n",
              "<span style=\"color: #008000; text-decoration-color: #008000\">│</span> <span style=\"color: #008080; text-decoration-color: #008080; font-weight: bold\">\"https://www.linkedin.com/posts/planetoftheweb_made-my-own-github-octocat-today-with-midjourney-activity-709987</span> <span style=\"color: #008000; text-decoration-color: #008000\">│</span>\n",
              "<span style=\"color: #008000; text-decoration-color: #008000\">│</span> <span style=\"color: #008080; text-decoration-color: #008080; font-weight: bold\">9769428611072-CieL\", \"publishedDate\": \"2024-06-27T13:21:03.397Z\", \"author\": null}, {\"id\": </span>                      <span style=\"color: #008000; text-decoration-color: #008000\">│</span>\n",
              "<span style=\"color: #008000; text-decoration-color: #008000\">│</span> <span style=\"color: #008080; text-decoration-color: #008080; font-weight: bold\">\"https://www.linkedin.com/pulse/original-github-octocat-designer-simon-oxley-simon-oxley\", \"title\": \"Original </span>  <span style=\"color: #008000; text-decoration-color: #008000\">│</span>\n",
              "<span style=\"color: #008000; text-decoration-color: #008000\">│</span> <span style=\"color: #008080; text-decoration-color: #008080; font-weight: bold\">GitHub Octocat designer Simon Oxley\", \"url\": </span>                                                                   <span style=\"color: #008000; text-decoration-color: #008000\">│</span>\n",
              "<span style=\"color: #008000; text-decoration-color: #008000\">│</span> <span style=\"color: #008080; text-decoration-color: #008080; font-weight: bold\">\"https://www.linkedin.com/pulse/original-github-octocat-designer-simon-oxley-simon-oxley\", \"publishedDate\": </span>    <span style=\"color: #008000; text-decoration-color: #008000\">│</span>\n",
              "<span style=\"color: #008000; text-decoration-color: #008000\">│</span> <span style=\"color: #008080; text-decoration-color: #008080; font-weight: bold\">\"2017-06-27T13:21:03.397Z\", \"author\": null}, {\"id\": </span>                                                            <span style=\"color: #008000; text-decoration-color: #008000\">│</span>\n",
              "<span style=\"color: #008000; text-decoration-color: #008000\">│</span> <span style=\"color: #008080; text-decoration-color: #008080; font-weight: bold\">\"https://www.linkedin.com/posts/github_octocat-meets-octopus-come-back-in-time-activity-7216074873926746112-WOZ</span> <span style=\"color: #008000; text-decoration-color: #008000\">│</span>\n",
              "<span style=\"color: #008000; text-decoration-color: #008000\">│</span> <span style=\"color: #008080; text-decoration-color: #008080; font-weight: bold\">L\", \"title\": \"Octocat meets Octopus. Come back in time to 2017, with a\\u2026\", \"url\": </span>                          <span style=\"color: #008000; text-decoration-color: #008000\">│</span>\n",
              "<span style=\"color: #008000; text-decoration-color: #008000\">│</span> <span style=\"color: #008080; text-decoration-color: #008080; font-weight: bold\">\"https://www.linkedin.com/posts/github_octocat-meets-octopus-come-back-in-time-activity-7216074873926746112-WOZ</span> <span style=\"color: #008000; text-decoration-color: #008000\">│</span>\n",
              "<span style=\"color: #008000; text-decoration-color: #008000\">│</span> <span style=\"color: #008080; text-decoration-color: #008080; font-weight: bold\">L\", \"publishedDate\": \"2024-07-27T13:21:03.397Z\", \"author\": null}, {\"id\": </span>                                       <span style=\"color: #008000; text-decoration-color: #008000\">│</span>\n",
              "<span style=\"color: #008000; text-decoration-color: #008000\">│</span> <span style=\"color: #008080; text-decoration-color: #008080; font-weight: bold\">\"https://www.linkedin.com/posts/kwkramer_octoart-generate-beautiful-github-octocat-activity-7115410755981602818</span> <span style=\"color: #008000; text-decoration-color: #008000\">│</span>\n",
              "<span style=\"color: #008000; text-decoration-color: #008000\">│</span> <span style=\"color: #008080; text-decoration-color: #008080; font-weight: bold\">-Bn9Z\", \"title\": \"Generate beautiful GitHub octocat AI images with one click\", \"url\": </span>                          <span style=\"color: #008000; text-decoration-color: #008000\">│</span>\n",
              "<span style=\"color: #008000; text-decoration-color: #008000\">│</span> <span style=\"color: #008080; text-decoration-color: #008080; font-weight: bold\">\"https://www.linkedin.com/posts/kwkramer_octoart-generate-beautiful-github-octocat-activity-7115410755981602818</span> <span style=\"color: #008000; text-decoration-color: #008000\">│</span>\n",
              "<span style=\"color: #008000; text-decoration-color: #008000\">│</span> <span style=\"color: #008080; text-decoration-color: #008080; font-weight: bold\">-Bn9Z\", \"publishedDate\": \"2024-06-27T13:21:03.397Z\", \"author\": null}, {\"id\": </span>                                   <span style=\"color: #008000; text-decoration-color: #008000\">│</span>\n",
              "<span style=\"color: #008000; text-decoration-color: #008000\">│</span> <span style=\"color: #008080; text-decoration-color: #008080; font-weight: bold\">\"https://www.linkedin.com/posts/github_universe-2024-10th-anniversary-activity-7130530900236275712-LH7e\", </span>      <span style=\"color: #008000; text-decoration-color: #008000\">│</span>\n",
              "<span style=\"color: #008000; text-decoration-color: #008000\">│</span> <span style=\"color: #008080; text-decoration-color: #008080; font-weight: bold\">\"title\": \"Ever wondered what Mona, the Octocat, sounded like?\", \"url\": </span>                                         <span style=\"color: #008000; text-decoration-color: #008000\">│</span>\n",
              "<span style=\"color: #008000; text-decoration-color: #008000\">│</span> <span style=\"color: #008080; text-decoration-color: #008080; font-weight: bold\">\"https://www.linkedin.com/posts/github_universe-2024-10th-anniversary-activity-7130530900236275712-LH7e\", </span>      <span style=\"color: #008000; text-decoration-color: #008000\">│</span>\n",
              "<span style=\"color: #008000; text-decoration-color: #008000\">│</span> <span style=\"color: #008080; text-decoration-color: #008080; font-weight: bold\">\"publishedDate\": \"2024-06-27T13:21:03.397Z\", \"author\": null}, {\"id\": </span>                                           <span style=\"color: #008000; text-decoration-color: #008000\">│</span>\n",
              "<span style=\"color: #008000; text-decoration-color: #008000\">│</span> <span style=\"color: #008080; text-decoration-color: #008080; font-weight: bold\">\"https://www.linkedin.com/posts/github_100-million-developers-on-github-a-diy-octocat-activity-7027047640773115</span> <span style=\"color: #008000; text-decoration-color: #008000\">│</span>\n",
              "<span style=\"color: #008000; text-decoration-color: #008000\">│</span> <span style=\"color: #008080; text-decoration-color: #008080; font-weight: bold\">904-9Vz-\", \"title\": \"100 million developers on GitHub, a DIY Octocat project, ...\", \"url\": </span>                     <span style=\"color: #008000; text-decoration-color: #008000\">│</span>\n",
              "<span style=\"color: #008000; text-decoration-color: #008000\">│</span> <span style=\"color: #008080; text-decoration-color: #008080; font-weight: bold\">\"https://www.linkedin.com/posts/github_100-million-developers-on-github-a-diy-octocat-activity-7027047640773115</span> <span style=\"color: #008000; text-decoration-color: #008000\">│</span>\n",
              "<span style=\"color: #008000; text-decoration-color: #008000\">│</span> <span style=\"color: #008080; text-decoration-color: #008080; font-weight: bold\">904-9Vz-\", \"publishedDate\": \"2023-06-27T13:21:03.397Z\", \"author\": null}]}</span>                                       <span style=\"color: #008000; text-decoration-color: #008000\">│</span>\n",
              "<span style=\"color: #008000; text-decoration-color: #008000\">╰─────────────────────────────────────────────────────────────────────────────────────────────────────────────────╯</span>\n",
              "</pre>\n"
            ]
          },
          "metadata": {}
        },
        {
          "output_type": "display_data",
          "data": {
            "text/plain": [
              "Output()"
            ],
            "application/vnd.jupyter.widget-view+json": {
              "version_major": 2,
              "version_minor": 0,
              "model_id": "883165ed2c2c4b3ba8d188dc67372596"
            }
          },
          "metadata": {}
        },
        {
          "output_type": "display_data",
          "data": {
            "text/plain": [],
            "text/html": [
              "<pre style=\"white-space:pre;overflow-x:auto;line-height:normal;font-family:Menlo,'DejaVu Sans Mono',consolas,'Courier New',monospace\"></pre>\n"
            ]
          },
          "metadata": {}
        },
        {
          "output_type": "display_data",
          "data": {
            "text/plain": [
              "\n"
            ],
            "text/html": [
              "<pre style=\"white-space:pre;overflow-x:auto;line-height:normal;font-family:Menlo,'DejaVu Sans Mono',consolas,'Courier New',monospace\">\n",
              "</pre>\n"
            ]
          },
          "metadata": {}
        },
        {
          "output_type": "display_data",
          "data": {
            "text/plain": [
              "\u001b[2mResponse generated in 26.6s\u001b[0m\n"
            ],
            "text/html": [
              "<pre style=\"white-space:pre;overflow-x:auto;line-height:normal;font-family:Menlo,'DejaVu Sans Mono',consolas,'Courier New',monospace\"><span style=\"color: #7f7f7f; text-decoration-color: #7f7f7f\">Response generated in 26.6s</span>\n",
              "</pre>\n"
            ]
          },
          "metadata": {}
        },
        {
          "output_type": "display_data",
          "data": {
            "text/plain": [
              "\u001b[36m╭─\u001b[0m\u001b[36m────────────────────────────────────────────────────\u001b[0m\u001b[36m Task \u001b[0m\u001b[36m─────────────────────────────────────────────────────\u001b[0m\u001b[36m─╮\u001b[0m\n",
              "\u001b[36m│\u001b[0m You need to do the following task: Analyze candidate for Backend Engineer. GitHub: octocat, Role: Backend       \u001b[36m│\u001b[0m\n",
              "\u001b[36m│\u001b[0m Engineer. Provide score and detailed report with final combined analysis. Expected Output: Comprehensive        \u001b[36m│\u001b[0m\n",
              "\u001b[36m│\u001b[0m candidate analysis with score and detailed report. Please provide only the final result of your work. Do not    \u001b[36m│\u001b[0m\n",
              "\u001b[36m│\u001b[0m add any conversation or extra explanation.                                                                      \u001b[36m│\u001b[0m\n",
              "\u001b[36m╰─────────────────────────────────────────────────────────────────────────────────────────────────────────────────╯\u001b[0m\n"
            ],
            "text/html": [
              "<pre style=\"white-space:pre;overflow-x:auto;line-height:normal;font-family:Menlo,'DejaVu Sans Mono',consolas,'Courier New',monospace\"><span style=\"color: #008080; text-decoration-color: #008080\">╭───────────────────────────────────────────────────── Task ──────────────────────────────────────────────────────╮</span>\n",
              "<span style=\"color: #008080; text-decoration-color: #008080\">│</span> You need to do the following task: Analyze candidate for Backend Engineer. GitHub: octocat, Role: Backend       <span style=\"color: #008080; text-decoration-color: #008080\">│</span>\n",
              "<span style=\"color: #008080; text-decoration-color: #008080\">│</span> Engineer. Provide score and detailed report with final combined analysis. Expected Output: Comprehensive        <span style=\"color: #008080; text-decoration-color: #008080\">│</span>\n",
              "<span style=\"color: #008080; text-decoration-color: #008080\">│</span> candidate analysis with score and detailed report. Please provide only the final result of your work. Do not    <span style=\"color: #008080; text-decoration-color: #008080\">│</span>\n",
              "<span style=\"color: #008080; text-decoration-color: #008080\">│</span> add any conversation or extra explanation.                                                                      <span style=\"color: #008080; text-decoration-color: #008080\">│</span>\n",
              "<span style=\"color: #008080; text-decoration-color: #008080\">╰─────────────────────────────────────────────────────────────────────────────────────────────────────────────────╯</span>\n",
              "</pre>\n"
            ]
          },
          "metadata": {}
        },
        {
          "output_type": "display_data",
          "data": {
            "text/plain": [
              "\u001b[36m╭─\u001b[0m\u001b[36m──────────────────────────────────────────────────\u001b[0m\u001b[36m Response \u001b[0m\u001b[36m───────────────────────────────────────────────────\u001b[0m\u001b[36m─╮\u001b[0m\n",
              "\u001b[36m│\u001b[0m \u001b[1mComprehensive Candidate Analysis for Backend Engineer Role\u001b[0m                                                      \u001b[36m│\u001b[0m\n",
              "\u001b[36m│\u001b[0m                                                                                                                 \u001b[36m│\u001b[0m\n",
              "\u001b[36m│\u001b[0m \u001b[1mGitHub Profile Analysis:\u001b[0m                                                                                        \u001b[36m│\u001b[0m\n",
              "\u001b[36m│\u001b[0m                                                                                                                 \u001b[36m│\u001b[0m\n",
              "\u001b[36m│\u001b[0m \u001b[1;33m • \u001b[0m\u001b[1mUsername:\u001b[0m octocat                                                                                            \u001b[36m│\u001b[0m\n",
              "\u001b[36m│\u001b[0m \u001b[1;33m • \u001b[0m\u001b[1mLocation:\u001b[0m San Francisco                                                                                      \u001b[36m│\u001b[0m\n",
              "\u001b[36m│\u001b[0m \u001b[1;33m • \u001b[0m\u001b[1mCompany:\u001b[0m GitHub                                                                                              \u001b[36m│\u001b[0m\n",
              "\u001b[36m│\u001b[0m \u001b[1;33m • \u001b[0m\u001b[1mPublic Repositories:\u001b[0m 8                                                                                       \u001b[36m│\u001b[0m\n",
              "\u001b[36m│\u001b[0m \u001b[1;33m • \u001b[0m\u001b[1mFollowers:\u001b[0m 18,440                                                                                            \u001b[36m│\u001b[0m\n",
              "\u001b[36m│\u001b[0m \u001b[1;33m • \u001b[0m\u001b[1mFollowing:\u001b[0m 9                                                                                                 \u001b[36m│\u001b[0m\n",
              "\u001b[36m│\u001b[0m \u001b[1;33m • \u001b[0m\u001b[1mGitHub Member Since:\u001b[0m January 25, 2011                                                                        \u001b[36m│\u001b[0m\n",
              "\u001b[36m│\u001b[0m                                                                                                                 \u001b[36m│\u001b[0m\n",
              "\u001b[36m│\u001b[0m \u001b[1mNotable Repositories:\u001b[0m                                                                                           \u001b[36m│\u001b[0m\n",
              "\u001b[36m│\u001b[0m                                                                                                                 \u001b[36m│\u001b[0m\n",
              "\u001b[36m│\u001b[0m \u001b[1;33m 1 \u001b[0m\u001b[1mHello-World\u001b[0m                                                                                                  \u001b[36m│\u001b[0m\n",
              "\u001b[36m│\u001b[0m \u001b[1;33m   \u001b[0m\u001b[1;33m • \u001b[0m\u001b[1mStars:\u001b[0m 3,000                                                                                              \u001b[36m│\u001b[0m\n",
              "\u001b[36m│\u001b[0m \u001b[1;33m   \u001b[0m\u001b[1;33m • \u001b[0m\u001b[1mForks:\u001b[0m 3,154                                                                                              \u001b[36m│\u001b[0m\n",
              "\u001b[36m│\u001b[0m \u001b[1;33m   \u001b[0m\u001b[1;33m • \u001b[0m\u001b[1mOpen Issues:\u001b[0m 1,762                                                                                        \u001b[36m│\u001b[0m\n",
              "\u001b[36m│\u001b[0m \u001b[1;33m   \u001b[0m\u001b[1;33m • \u001b[0m\u001b[1mDescription:\u001b[0m My first repository on GitHub!                                                               \u001b[36m│\u001b[0m\n",
              "\u001b[36m│\u001b[0m \u001b[1;33m   \u001b[0m\u001b[1;33m • \u001b[0m\u001b[1mURL:\u001b[0m \u001b]8;id=179930;https://github.com/octocat/Hello-World\u001b\\\u001b[4;34mHello-World\u001b[0m\u001b]8;;\u001b\\                                                                                          \u001b[36m│\u001b[0m\n",
              "\u001b[36m│\u001b[0m \u001b[1;33m 2 \u001b[0m\u001b[1mSpoon-Knife\u001b[0m                                                                                                  \u001b[36m│\u001b[0m\n",
              "\u001b[36m│\u001b[0m \u001b[1;33m   \u001b[0m\u001b[1;33m • \u001b[0m\u001b[1mStars:\u001b[0m 13,076                                                                                             \u001b[36m│\u001b[0m\n",
              "\u001b[36m│\u001b[0m \u001b[1;33m   \u001b[0m\u001b[1;33m • \u001b[0m\u001b[1mForks:\u001b[0m 151,937                                                                                            \u001b[36m│\u001b[0m\n",
              "\u001b[36m│\u001b[0m \u001b[1;33m   \u001b[0m\u001b[1;33m • \u001b[0m\u001b[1mOpen Issues:\u001b[0m 19,304                                                                                       \u001b[36m│\u001b[0m\n",
              "\u001b[36m│\u001b[0m \u001b[1;33m   \u001b[0m\u001b[1;33m • \u001b[0m\u001b[1mDescription:\u001b[0m This repo is for demonstration purposes only.                                                \u001b[36m│\u001b[0m\n",
              "\u001b[36m│\u001b[0m \u001b[1;33m   \u001b[0m\u001b[1;33m • \u001b[0m\u001b[1mURL:\u001b[0m \u001b]8;id=996807;https://github.com/octocat/Spoon-Knife\u001b\\\u001b[4;34mSpoon-Knife\u001b[0m\u001b]8;;\u001b\\                                                                                          \u001b[36m│\u001b[0m\n",
              "\u001b[36m│\u001b[0m \u001b[1;33m 3 \u001b[0m\u001b[1moctocat.github.io\u001b[0m                                                                                            \u001b[36m│\u001b[0m\n",
              "\u001b[36m│\u001b[0m \u001b[1;33m   \u001b[0m\u001b[1;33m • \u001b[0m\u001b[1mStars:\u001b[0m 862                                                                                                \u001b[36m│\u001b[0m\n",
              "\u001b[36m│\u001b[0m \u001b[1;33m   \u001b[0m\u001b[1;33m • \u001b[0m\u001b[1mForks:\u001b[0m 419                                                                                                \u001b[36m│\u001b[0m\n",
              "\u001b[36m│\u001b[0m \u001b[1;33m   \u001b[0m\u001b[1;33m • \u001b[0m\u001b[1mOpen Issues:\u001b[0m 226                                                                                          \u001b[36m│\u001b[0m\n",
              "\u001b[36m│\u001b[0m \u001b[1;33m   \u001b[0m\u001b[1;33m • \u001b[0m\u001b[1mDescription:\u001b[0m Personal GitHub Pages site.                                                                  \u001b[36m│\u001b[0m\n",
              "\u001b[36m│\u001b[0m \u001b[1;33m   \u001b[0m\u001b[1;33m • \u001b[0m\u001b[1mURL:\u001b[0m \u001b]8;id=422254;https://github.com/octocat/octocat.github.io\u001b\\\u001b[4;34moctocat.github.io\u001b[0m\u001b]8;;\u001b\\                                                                                    \u001b[36m│\u001b[0m\n",
              "\u001b[36m│\u001b[0m \u001b[1;33m 4 \u001b[0m\u001b[1mlinguist\u001b[0m                                                                                                     \u001b[36m│\u001b[0m\n",
              "\u001b[36m│\u001b[0m \u001b[1;33m   \u001b[0m\u001b[1;33m • \u001b[0m\u001b[1mStars:\u001b[0m 561                                                                                                \u001b[36m│\u001b[0m\n",
              "\u001b[36m│\u001b[0m \u001b[1;33m   \u001b[0m\u001b[1;33m • \u001b[0m\u001b[1mForks:\u001b[0m 211                                                                                                \u001b[36m│\u001b[0m\n",
              "\u001b[36m│\u001b[0m \u001b[1;33m   \u001b[0m\u001b[1;33m • \u001b[0m\u001b[1mOpen Issues:\u001b[0m 22                                                                                           \u001b[36m│\u001b[0m\n",
              "\u001b[36m│\u001b[0m \u001b[1;33m   \u001b[0m\u001b[1;33m • \u001b[0m\u001b[1mDescription:\u001b[0m Language Savant. If your repository's language is being reported incorrectly, send us a pull \u001b[36m│\u001b[0m\n",
              "\u001b[36m│\u001b[0m \u001b[1;33m   \u001b[0m\u001b[1;33m   \u001b[0mrequest!                                                                                                  \u001b[36m│\u001b[0m\n",
              "\u001b[36m│\u001b[0m \u001b[1;33m   \u001b[0m\u001b[1;33m • \u001b[0m\u001b[1mURL:\u001b[0m \u001b]8;id=318347;https://github.com/octocat/linguist\u001b\\\u001b[4;34mlinguist\u001b[0m\u001b]8;;\u001b\\                                                                                             \u001b[36m│\u001b[0m\n",
              "\u001b[36m│\u001b[0m                                                                                                                 \u001b[36m│\u001b[0m\n",
              "\u001b[36m│\u001b[0m \u001b[1mGitHub Activity:\u001b[0m                                                                                                \u001b[36m│\u001b[0m\n",
              "\u001b[36m│\u001b[0m                                                                                                                 \u001b[36m│\u001b[0m\n",
              "\u001b[36m│\u001b[0m \u001b[1;33m • \u001b[0mThe candidate has a strong presence on GitHub with a significant number of followers and contributions to    \u001b[36m│\u001b[0m\n",
              "\u001b[36m│\u001b[0m \u001b[1;33m   \u001b[0mpopular repositories.                                                                                        \u001b[36m│\u001b[0m\n",
              "\u001b[36m│\u001b[0m \u001b[1;33m • \u001b[0mThe repositories demonstrate a variety of interests and skills, including web development and language       \u001b[36m│\u001b[0m\n",
              "\u001b[36m│\u001b[0m \u001b[1;33m   \u001b[0mprocessing.                                                                                                  \u001b[36m│\u001b[0m\n",
              "\u001b[36m│\u001b[0m                                                                                                                 \u001b[36m│\u001b[0m\n",
              "\u001b[36m│\u001b[0m \u001b[1mLinkedIn Profile Analysis:\u001b[0m                                                                                      \u001b[36m│\u001b[0m\n",
              "\u001b[36m│\u001b[0m                                                                                                                 \u001b[36m│\u001b[0m\n",
              "\u001b[36m│\u001b[0m \u001b[1;33m • \u001b[0m\u001b[1mLinkedIn Activity:\u001b[0m The candidate's LinkedIn presence includes various posts related to GitHub and its        \u001b[36m│\u001b[0m\n",
              "\u001b[36m│\u001b[0m \u001b[1;33m   \u001b[0mmascot, the Octocat. However, there is no direct professional profile or detailed work experience available. \u001b[36m│\u001b[0m\n",
              "\u001b[36m│\u001b[0m \u001b[1;33m • \u001b[0m\u001b[1mNotable Mentions:\u001b[0m The candidate is frequently mentioned in posts related to GitHub's culture and community   \u001b[36m│\u001b[0m\n",
              "\u001b[36m│\u001b[0m \u001b[1;33m   \u001b[0mevents.                                                                                                      \u001b[36m│\u001b[0m\n",
              "\u001b[36m│\u001b[0m                                                                                                                 \u001b[36m│\u001b[0m\n",
              "\u001b[36m│\u001b[0m \u001b[1mOverall Assessment:\u001b[0m                                                                                             \u001b[36m│\u001b[0m\n",
              "\u001b[36m│\u001b[0m                                                                                                                 \u001b[36m│\u001b[0m\n",
              "\u001b[36m│\u001b[0m \u001b[1;33m • \u001b[0m\u001b[1mTechnical Skills:\u001b[0m The candidate exhibits strong technical skills in web development and open-source          \u001b[36m│\u001b[0m\n",
              "\u001b[36m│\u001b[0m \u001b[1;33m   \u001b[0mcontributions, as evidenced by their GitHub repositories.                                                    \u001b[36m│\u001b[0m\n",
              "\u001b[36m│\u001b[0m \u001b[1;33m • \u001b[0m\u001b[1mCommunity Engagement:\u001b[0m High level of engagement within the GitHub community, with numerous followers and      \u001b[36m│\u001b[0m\n",
              "\u001b[36m│\u001b[0m \u001b[1;33m   \u001b[0mactive participation in repository management.                                                               \u001b[36m│\u001b[0m\n",
              "\u001b[36m│\u001b[0m \u001b[1;33m • \u001b[0m\u001b[1mProfessional Presence:\u001b[0m While the GitHub profile is robust, the LinkedIn presence lacks detailed professional \u001b[36m│\u001b[0m\n",
              "\u001b[36m│\u001b[0m \u001b[1;33m   \u001b[0mexperience or endorsements related to backend engineering.                                                   \u001b[36m│\u001b[0m\n",
              "\u001b[36m│\u001b[0m                                                                                                                 \u001b[36m│\u001b[0m\n",
              "\u001b[36m│\u001b[0m \u001b[1mScore: 8/10\u001b[0m                                                                                                     \u001b[36m│\u001b[0m\n",
              "\u001b[36m│\u001b[0m                                                                                                                 \u001b[36m│\u001b[0m\n",
              "\u001b[36m│\u001b[0m \u001b[1mConclusion:\u001b[0m The candidate demonstrates excellent technical capabilities and community involvement on GitHub,    \u001b[36m│\u001b[0m\n",
              "\u001b[36m│\u001b[0m making them a strong contender for a Backend Engineer role. However, the lack of detailed professional          \u001b[36m│\u001b[0m\n",
              "\u001b[36m│\u001b[0m experience on LinkedIn suggests a need for further verification of work history and specific backend            \u001b[36m│\u001b[0m\n",
              "\u001b[36m│\u001b[0m engineering projects.                                                                                           \u001b[36m│\u001b[0m\n",
              "\u001b[36m╰─────────────────────────────────────────────────────────────────────────────────────────────────────────────────╯\u001b[0m\n"
            ],
            "text/html": [
              "<pre style=\"white-space:pre;overflow-x:auto;line-height:normal;font-family:Menlo,'DejaVu Sans Mono',consolas,'Courier New',monospace\"><span style=\"color: #008080; text-decoration-color: #008080\">╭─────────────────────────────────────────────────── Response ────────────────────────────────────────────────────╮</span>\n",
              "<span style=\"color: #008080; text-decoration-color: #008080\">│</span> <span style=\"font-weight: bold\">Comprehensive Candidate Analysis for Backend Engineer Role</span>                                                      <span style=\"color: #008080; text-decoration-color: #008080\">│</span>\n",
              "<span style=\"color: #008080; text-decoration-color: #008080\">│</span>                                                                                                                 <span style=\"color: #008080; text-decoration-color: #008080\">│</span>\n",
              "<span style=\"color: #008080; text-decoration-color: #008080\">│</span> <span style=\"font-weight: bold\">GitHub Profile Analysis:</span>                                                                                        <span style=\"color: #008080; text-decoration-color: #008080\">│</span>\n",
              "<span style=\"color: #008080; text-decoration-color: #008080\">│</span>                                                                                                                 <span style=\"color: #008080; text-decoration-color: #008080\">│</span>\n",
              "<span style=\"color: #008080; text-decoration-color: #008080\">│</span> <span style=\"color: #808000; text-decoration-color: #808000; font-weight: bold\"> • </span><span style=\"font-weight: bold\">Username:</span> octocat                                                                                            <span style=\"color: #008080; text-decoration-color: #008080\">│</span>\n",
              "<span style=\"color: #008080; text-decoration-color: #008080\">│</span> <span style=\"color: #808000; text-decoration-color: #808000; font-weight: bold\"> • </span><span style=\"font-weight: bold\">Location:</span> San Francisco                                                                                      <span style=\"color: #008080; text-decoration-color: #008080\">│</span>\n",
              "<span style=\"color: #008080; text-decoration-color: #008080\">│</span> <span style=\"color: #808000; text-decoration-color: #808000; font-weight: bold\"> • </span><span style=\"font-weight: bold\">Company:</span> GitHub                                                                                              <span style=\"color: #008080; text-decoration-color: #008080\">│</span>\n",
              "<span style=\"color: #008080; text-decoration-color: #008080\">│</span> <span style=\"color: #808000; text-decoration-color: #808000; font-weight: bold\"> • </span><span style=\"font-weight: bold\">Public Repositories:</span> 8                                                                                       <span style=\"color: #008080; text-decoration-color: #008080\">│</span>\n",
              "<span style=\"color: #008080; text-decoration-color: #008080\">│</span> <span style=\"color: #808000; text-decoration-color: #808000; font-weight: bold\"> • </span><span style=\"font-weight: bold\">Followers:</span> 18,440                                                                                            <span style=\"color: #008080; text-decoration-color: #008080\">│</span>\n",
              "<span style=\"color: #008080; text-decoration-color: #008080\">│</span> <span style=\"color: #808000; text-decoration-color: #808000; font-weight: bold\"> • </span><span style=\"font-weight: bold\">Following:</span> 9                                                                                                 <span style=\"color: #008080; text-decoration-color: #008080\">│</span>\n",
              "<span style=\"color: #008080; text-decoration-color: #008080\">│</span> <span style=\"color: #808000; text-decoration-color: #808000; font-weight: bold\"> • </span><span style=\"font-weight: bold\">GitHub Member Since:</span> January 25, 2011                                                                        <span style=\"color: #008080; text-decoration-color: #008080\">│</span>\n",
              "<span style=\"color: #008080; text-decoration-color: #008080\">│</span>                                                                                                                 <span style=\"color: #008080; text-decoration-color: #008080\">│</span>\n",
              "<span style=\"color: #008080; text-decoration-color: #008080\">│</span> <span style=\"font-weight: bold\">Notable Repositories:</span>                                                                                           <span style=\"color: #008080; text-decoration-color: #008080\">│</span>\n",
              "<span style=\"color: #008080; text-decoration-color: #008080\">│</span>                                                                                                                 <span style=\"color: #008080; text-decoration-color: #008080\">│</span>\n",
              "<span style=\"color: #008080; text-decoration-color: #008080\">│</span> <span style=\"color: #808000; text-decoration-color: #808000; font-weight: bold\"> 1 </span><span style=\"font-weight: bold\">Hello-World</span>                                                                                                  <span style=\"color: #008080; text-decoration-color: #008080\">│</span>\n",
              "<span style=\"color: #008080; text-decoration-color: #008080\">│</span> <span style=\"color: #808000; text-decoration-color: #808000; font-weight: bold\">    • </span><span style=\"font-weight: bold\">Stars:</span> 3,000                                                                                              <span style=\"color: #008080; text-decoration-color: #008080\">│</span>\n",
              "<span style=\"color: #008080; text-decoration-color: #008080\">│</span> <span style=\"color: #808000; text-decoration-color: #808000; font-weight: bold\">    • </span><span style=\"font-weight: bold\">Forks:</span> 3,154                                                                                              <span style=\"color: #008080; text-decoration-color: #008080\">│</span>\n",
              "<span style=\"color: #008080; text-decoration-color: #008080\">│</span> <span style=\"color: #808000; text-decoration-color: #808000; font-weight: bold\">    • </span><span style=\"font-weight: bold\">Open Issues:</span> 1,762                                                                                        <span style=\"color: #008080; text-decoration-color: #008080\">│</span>\n",
              "<span style=\"color: #008080; text-decoration-color: #008080\">│</span> <span style=\"color: #808000; text-decoration-color: #808000; font-weight: bold\">    • </span><span style=\"font-weight: bold\">Description:</span> My first repository on GitHub!                                                               <span style=\"color: #008080; text-decoration-color: #008080\">│</span>\n",
              "<span style=\"color: #008080; text-decoration-color: #008080\">│</span> <span style=\"color: #808000; text-decoration-color: #808000; font-weight: bold\">    • </span><span style=\"font-weight: bold\">URL:</span> <a href=\"https://github.com/octocat/Hello-World\" target=\"_blank\"><span style=\"color: #000080; text-decoration-color: #000080; text-decoration: underline\">Hello-World</span></a>                                                                                          <span style=\"color: #008080; text-decoration-color: #008080\">│</span>\n",
              "<span style=\"color: #008080; text-decoration-color: #008080\">│</span> <span style=\"color: #808000; text-decoration-color: #808000; font-weight: bold\"> 2 </span><span style=\"font-weight: bold\">Spoon-Knife</span>                                                                                                  <span style=\"color: #008080; text-decoration-color: #008080\">│</span>\n",
              "<span style=\"color: #008080; text-decoration-color: #008080\">│</span> <span style=\"color: #808000; text-decoration-color: #808000; font-weight: bold\">    • </span><span style=\"font-weight: bold\">Stars:</span> 13,076                                                                                             <span style=\"color: #008080; text-decoration-color: #008080\">│</span>\n",
              "<span style=\"color: #008080; text-decoration-color: #008080\">│</span> <span style=\"color: #808000; text-decoration-color: #808000; font-weight: bold\">    • </span><span style=\"font-weight: bold\">Forks:</span> 151,937                                                                                            <span style=\"color: #008080; text-decoration-color: #008080\">│</span>\n",
              "<span style=\"color: #008080; text-decoration-color: #008080\">│</span> <span style=\"color: #808000; text-decoration-color: #808000; font-weight: bold\">    • </span><span style=\"font-weight: bold\">Open Issues:</span> 19,304                                                                                       <span style=\"color: #008080; text-decoration-color: #008080\">│</span>\n",
              "<span style=\"color: #008080; text-decoration-color: #008080\">│</span> <span style=\"color: #808000; text-decoration-color: #808000; font-weight: bold\">    • </span><span style=\"font-weight: bold\">Description:</span> This repo is for demonstration purposes only.                                                <span style=\"color: #008080; text-decoration-color: #008080\">│</span>\n",
              "<span style=\"color: #008080; text-decoration-color: #008080\">│</span> <span style=\"color: #808000; text-decoration-color: #808000; font-weight: bold\">    • </span><span style=\"font-weight: bold\">URL:</span> <a href=\"https://github.com/octocat/Spoon-Knife\" target=\"_blank\"><span style=\"color: #000080; text-decoration-color: #000080; text-decoration: underline\">Spoon-Knife</span></a>                                                                                          <span style=\"color: #008080; text-decoration-color: #008080\">│</span>\n",
              "<span style=\"color: #008080; text-decoration-color: #008080\">│</span> <span style=\"color: #808000; text-decoration-color: #808000; font-weight: bold\"> 3 </span><span style=\"font-weight: bold\">octocat.github.io</span>                                                                                            <span style=\"color: #008080; text-decoration-color: #008080\">│</span>\n",
              "<span style=\"color: #008080; text-decoration-color: #008080\">│</span> <span style=\"color: #808000; text-decoration-color: #808000; font-weight: bold\">    • </span><span style=\"font-weight: bold\">Stars:</span> 862                                                                                                <span style=\"color: #008080; text-decoration-color: #008080\">│</span>\n",
              "<span style=\"color: #008080; text-decoration-color: #008080\">│</span> <span style=\"color: #808000; text-decoration-color: #808000; font-weight: bold\">    • </span><span style=\"font-weight: bold\">Forks:</span> 419                                                                                                <span style=\"color: #008080; text-decoration-color: #008080\">│</span>\n",
              "<span style=\"color: #008080; text-decoration-color: #008080\">│</span> <span style=\"color: #808000; text-decoration-color: #808000; font-weight: bold\">    • </span><span style=\"font-weight: bold\">Open Issues:</span> 226                                                                                          <span style=\"color: #008080; text-decoration-color: #008080\">│</span>\n",
              "<span style=\"color: #008080; text-decoration-color: #008080\">│</span> <span style=\"color: #808000; text-decoration-color: #808000; font-weight: bold\">    • </span><span style=\"font-weight: bold\">Description:</span> Personal GitHub Pages site.                                                                  <span style=\"color: #008080; text-decoration-color: #008080\">│</span>\n",
              "<span style=\"color: #008080; text-decoration-color: #008080\">│</span> <span style=\"color: #808000; text-decoration-color: #808000; font-weight: bold\">    • </span><span style=\"font-weight: bold\">URL:</span> <a href=\"https://github.com/octocat/octocat.github.io\" target=\"_blank\"><span style=\"color: #000080; text-decoration-color: #000080; text-decoration: underline\">octocat.github.io</span></a>                                                                                    <span style=\"color: #008080; text-decoration-color: #008080\">│</span>\n",
              "<span style=\"color: #008080; text-decoration-color: #008080\">│</span> <span style=\"color: #808000; text-decoration-color: #808000; font-weight: bold\"> 4 </span><span style=\"font-weight: bold\">linguist</span>                                                                                                     <span style=\"color: #008080; text-decoration-color: #008080\">│</span>\n",
              "<span style=\"color: #008080; text-decoration-color: #008080\">│</span> <span style=\"color: #808000; text-decoration-color: #808000; font-weight: bold\">    • </span><span style=\"font-weight: bold\">Stars:</span> 561                                                                                                <span style=\"color: #008080; text-decoration-color: #008080\">│</span>\n",
              "<span style=\"color: #008080; text-decoration-color: #008080\">│</span> <span style=\"color: #808000; text-decoration-color: #808000; font-weight: bold\">    • </span><span style=\"font-weight: bold\">Forks:</span> 211                                                                                                <span style=\"color: #008080; text-decoration-color: #008080\">│</span>\n",
              "<span style=\"color: #008080; text-decoration-color: #008080\">│</span> <span style=\"color: #808000; text-decoration-color: #808000; font-weight: bold\">    • </span><span style=\"font-weight: bold\">Open Issues:</span> 22                                                                                           <span style=\"color: #008080; text-decoration-color: #008080\">│</span>\n",
              "<span style=\"color: #008080; text-decoration-color: #008080\">│</span> <span style=\"color: #808000; text-decoration-color: #808000; font-weight: bold\">    • </span><span style=\"font-weight: bold\">Description:</span> Language Savant. If your repository's language is being reported incorrectly, send us a pull <span style=\"color: #008080; text-decoration-color: #008080\">│</span>\n",
              "<span style=\"color: #008080; text-decoration-color: #008080\">│</span> <span style=\"color: #808000; text-decoration-color: #808000; font-weight: bold\">      </span>request!                                                                                                  <span style=\"color: #008080; text-decoration-color: #008080\">│</span>\n",
              "<span style=\"color: #008080; text-decoration-color: #008080\">│</span> <span style=\"color: #808000; text-decoration-color: #808000; font-weight: bold\">    • </span><span style=\"font-weight: bold\">URL:</span> <a href=\"https://github.com/octocat/linguist\" target=\"_blank\"><span style=\"color: #000080; text-decoration-color: #000080; text-decoration: underline\">linguist</span></a>                                                                                             <span style=\"color: #008080; text-decoration-color: #008080\">│</span>\n",
              "<span style=\"color: #008080; text-decoration-color: #008080\">│</span>                                                                                                                 <span style=\"color: #008080; text-decoration-color: #008080\">│</span>\n",
              "<span style=\"color: #008080; text-decoration-color: #008080\">│</span> <span style=\"font-weight: bold\">GitHub Activity:</span>                                                                                                <span style=\"color: #008080; text-decoration-color: #008080\">│</span>\n",
              "<span style=\"color: #008080; text-decoration-color: #008080\">│</span>                                                                                                                 <span style=\"color: #008080; text-decoration-color: #008080\">│</span>\n",
              "<span style=\"color: #008080; text-decoration-color: #008080\">│</span> <span style=\"color: #808000; text-decoration-color: #808000; font-weight: bold\"> • </span>The candidate has a strong presence on GitHub with a significant number of followers and contributions to    <span style=\"color: #008080; text-decoration-color: #008080\">│</span>\n",
              "<span style=\"color: #008080; text-decoration-color: #008080\">│</span> <span style=\"color: #808000; text-decoration-color: #808000; font-weight: bold\">   </span>popular repositories.                                                                                        <span style=\"color: #008080; text-decoration-color: #008080\">│</span>\n",
              "<span style=\"color: #008080; text-decoration-color: #008080\">│</span> <span style=\"color: #808000; text-decoration-color: #808000; font-weight: bold\"> • </span>The repositories demonstrate a variety of interests and skills, including web development and language       <span style=\"color: #008080; text-decoration-color: #008080\">│</span>\n",
              "<span style=\"color: #008080; text-decoration-color: #008080\">│</span> <span style=\"color: #808000; text-decoration-color: #808000; font-weight: bold\">   </span>processing.                                                                                                  <span style=\"color: #008080; text-decoration-color: #008080\">│</span>\n",
              "<span style=\"color: #008080; text-decoration-color: #008080\">│</span>                                                                                                                 <span style=\"color: #008080; text-decoration-color: #008080\">│</span>\n",
              "<span style=\"color: #008080; text-decoration-color: #008080\">│</span> <span style=\"font-weight: bold\">LinkedIn Profile Analysis:</span>                                                                                      <span style=\"color: #008080; text-decoration-color: #008080\">│</span>\n",
              "<span style=\"color: #008080; text-decoration-color: #008080\">│</span>                                                                                                                 <span style=\"color: #008080; text-decoration-color: #008080\">│</span>\n",
              "<span style=\"color: #008080; text-decoration-color: #008080\">│</span> <span style=\"color: #808000; text-decoration-color: #808000; font-weight: bold\"> • </span><span style=\"font-weight: bold\">LinkedIn Activity:</span> The candidate's LinkedIn presence includes various posts related to GitHub and its        <span style=\"color: #008080; text-decoration-color: #008080\">│</span>\n",
              "<span style=\"color: #008080; text-decoration-color: #008080\">│</span> <span style=\"color: #808000; text-decoration-color: #808000; font-weight: bold\">   </span>mascot, the Octocat. However, there is no direct professional profile or detailed work experience available. <span style=\"color: #008080; text-decoration-color: #008080\">│</span>\n",
              "<span style=\"color: #008080; text-decoration-color: #008080\">│</span> <span style=\"color: #808000; text-decoration-color: #808000; font-weight: bold\"> • </span><span style=\"font-weight: bold\">Notable Mentions:</span> The candidate is frequently mentioned in posts related to GitHub's culture and community   <span style=\"color: #008080; text-decoration-color: #008080\">│</span>\n",
              "<span style=\"color: #008080; text-decoration-color: #008080\">│</span> <span style=\"color: #808000; text-decoration-color: #808000; font-weight: bold\">   </span>events.                                                                                                      <span style=\"color: #008080; text-decoration-color: #008080\">│</span>\n",
              "<span style=\"color: #008080; text-decoration-color: #008080\">│</span>                                                                                                                 <span style=\"color: #008080; text-decoration-color: #008080\">│</span>\n",
              "<span style=\"color: #008080; text-decoration-color: #008080\">│</span> <span style=\"font-weight: bold\">Overall Assessment:</span>                                                                                             <span style=\"color: #008080; text-decoration-color: #008080\">│</span>\n",
              "<span style=\"color: #008080; text-decoration-color: #008080\">│</span>                                                                                                                 <span style=\"color: #008080; text-decoration-color: #008080\">│</span>\n",
              "<span style=\"color: #008080; text-decoration-color: #008080\">│</span> <span style=\"color: #808000; text-decoration-color: #808000; font-weight: bold\"> • </span><span style=\"font-weight: bold\">Technical Skills:</span> The candidate exhibits strong technical skills in web development and open-source          <span style=\"color: #008080; text-decoration-color: #008080\">│</span>\n",
              "<span style=\"color: #008080; text-decoration-color: #008080\">│</span> <span style=\"color: #808000; text-decoration-color: #808000; font-weight: bold\">   </span>contributions, as evidenced by their GitHub repositories.                                                    <span style=\"color: #008080; text-decoration-color: #008080\">│</span>\n",
              "<span style=\"color: #008080; text-decoration-color: #008080\">│</span> <span style=\"color: #808000; text-decoration-color: #808000; font-weight: bold\"> • </span><span style=\"font-weight: bold\">Community Engagement:</span> High level of engagement within the GitHub community, with numerous followers and      <span style=\"color: #008080; text-decoration-color: #008080\">│</span>\n",
              "<span style=\"color: #008080; text-decoration-color: #008080\">│</span> <span style=\"color: #808000; text-decoration-color: #808000; font-weight: bold\">   </span>active participation in repository management.                                                               <span style=\"color: #008080; text-decoration-color: #008080\">│</span>\n",
              "<span style=\"color: #008080; text-decoration-color: #008080\">│</span> <span style=\"color: #808000; text-decoration-color: #808000; font-weight: bold\"> • </span><span style=\"font-weight: bold\">Professional Presence:</span> While the GitHub profile is robust, the LinkedIn presence lacks detailed professional <span style=\"color: #008080; text-decoration-color: #008080\">│</span>\n",
              "<span style=\"color: #008080; text-decoration-color: #008080\">│</span> <span style=\"color: #808000; text-decoration-color: #808000; font-weight: bold\">   </span>experience or endorsements related to backend engineering.                                                   <span style=\"color: #008080; text-decoration-color: #008080\">│</span>\n",
              "<span style=\"color: #008080; text-decoration-color: #008080\">│</span>                                                                                                                 <span style=\"color: #008080; text-decoration-color: #008080\">│</span>\n",
              "<span style=\"color: #008080; text-decoration-color: #008080\">│</span> <span style=\"font-weight: bold\">Score: 8/10</span>                                                                                                     <span style=\"color: #008080; text-decoration-color: #008080\">│</span>\n",
              "<span style=\"color: #008080; text-decoration-color: #008080\">│</span>                                                                                                                 <span style=\"color: #008080; text-decoration-color: #008080\">│</span>\n",
              "<span style=\"color: #008080; text-decoration-color: #008080\">│</span> <span style=\"font-weight: bold\">Conclusion:</span> The candidate demonstrates excellent technical capabilities and community involvement on GitHub,    <span style=\"color: #008080; text-decoration-color: #008080\">│</span>\n",
              "<span style=\"color: #008080; text-decoration-color: #008080\">│</span> making them a strong contender for a Backend Engineer role. However, the lack of detailed professional          <span style=\"color: #008080; text-decoration-color: #008080\">│</span>\n",
              "<span style=\"color: #008080; text-decoration-color: #008080\">│</span> experience on LinkedIn suggests a need for further verification of work history and specific backend            <span style=\"color: #008080; text-decoration-color: #008080\">│</span>\n",
              "<span style=\"color: #008080; text-decoration-color: #008080\">│</span> engineering projects.                                                                                           <span style=\"color: #008080; text-decoration-color: #008080\">│</span>\n",
              "<span style=\"color: #008080; text-decoration-color: #008080\">╰─────────────────────────────────────────────────────────────────────────────────────────────────────────────────╯</span>\n",
              "</pre>\n"
            ]
          },
          "metadata": {}
        },
        {
          "output_type": "stream",
          "name": "stdout",
          "text": [
            "**Comprehensive Candidate Analysis for Backend Engineer Role**\n",
            "\n",
            "**GitHub Profile Analysis:**\n",
            "\n",
            "- **Username:** octocat\n",
            "- **Location:** San Francisco\n",
            "- **Company:** GitHub\n",
            "- **Public Repositories:** 8\n",
            "- **Followers:** 18,440\n",
            "- **Following:** 9\n",
            "- **GitHub Member Since:** January 25, 2011\n",
            "\n",
            "**Notable Repositories:**\n",
            "\n",
            "1. **Hello-World**\n",
            "   - **Stars:** 3,000\n",
            "   - **Forks:** 3,154\n",
            "   - **Open Issues:** 1,762\n",
            "   - **Description:** My first repository on GitHub!\n",
            "   - **URL:** [Hello-World](https://github.com/octocat/Hello-World)\n",
            "\n",
            "2. **Spoon-Knife**\n",
            "   - **Stars:** 13,076\n",
            "   - **Forks:** 151,937\n",
            "   - **Open Issues:** 19,304\n",
            "   - **Description:** This repo is for demonstration purposes only.\n",
            "   - **URL:** [Spoon-Knife](https://github.com/octocat/Spoon-Knife)\n",
            "\n",
            "3. **octocat.github.io**\n",
            "   - **Stars:** 862\n",
            "   - **Forks:** 419\n",
            "   - **Open Issues:** 226\n",
            "   - **Description:** Personal GitHub Pages site.\n",
            "   - **URL:** [octocat.github.io](https://github.com/octocat/octocat.github.io)\n",
            "\n",
            "4. **linguist**\n",
            "   - **Stars:** 561\n",
            "   - **Forks:** 211\n",
            "   - **Open Issues:** 22\n",
            "   - **Description:** Language Savant. If your repository's language is being reported incorrectly, send us a pull request!\n",
            "   - **URL:** [linguist](https://github.com/octocat/linguist)\n",
            "\n",
            "**GitHub Activity:**\n",
            "- The candidate has a strong presence on GitHub with a significant number of followers and contributions to popular repositories.\n",
            "- The repositories demonstrate a variety of interests and skills, including web development and language processing.\n",
            "\n",
            "**LinkedIn Profile Analysis:**\n",
            "\n",
            "- **LinkedIn Activity:** The candidate's LinkedIn presence includes various posts related to GitHub and its mascot, the Octocat. However, there is no direct professional profile or detailed work experience available.\n",
            "- **Notable Mentions:** The candidate is frequently mentioned in posts related to GitHub's culture and community events.\n",
            "\n",
            "**Overall Assessment:**\n",
            "\n",
            "- **Technical Skills:** The candidate exhibits strong technical skills in web development and open-source contributions, as evidenced by their GitHub repositories.\n",
            "- **Community Engagement:** High level of engagement within the GitHub community, with numerous followers and active participation in repository management.\n",
            "- **Professional Presence:** While the GitHub profile is robust, the LinkedIn presence lacks detailed professional experience or endorsements related to backend engineering.\n",
            "\n",
            "**Score: 8/10**\n",
            "\n",
            "**Conclusion:**\n",
            "The candidate demonstrates excellent technical capabilities and community involvement on GitHub, making them a strong contender for a Backend Engineer role. However, the lack of detailed professional experience on LinkedIn suggests a need for further verification of work history and specific backend engineering projects.\n"
          ]
        },
        {
          "output_type": "execute_result",
          "data": {
            "text/plain": [
              "\"**Comprehensive Candidate Analysis for Backend Engineer Role**\\n\\n**GitHub Profile Analysis:**\\n\\n- **Username:** octocat\\n- **Location:** San Francisco\\n- **Company:** GitHub\\n- **Public Repositories:** 8\\n- **Followers:** 18,440\\n- **Following:** 9\\n- **GitHub Member Since:** January 25, 2011\\n\\n**Notable Repositories:**\\n\\n1. **Hello-World**\\n   - **Stars:** 3,000\\n   - **Forks:** 3,154\\n   - **Open Issues:** 1,762\\n   - **Description:** My first repository on GitHub!\\n   - **URL:** [Hello-World](https://github.com/octocat/Hello-World)\\n\\n2. **Spoon-Knife**\\n   - **Stars:** 13,076\\n   - **Forks:** 151,937\\n   - **Open Issues:** 19,304\\n   - **Description:** This repo is for demonstration purposes only.\\n   - **URL:** [Spoon-Knife](https://github.com/octocat/Spoon-Knife)\\n\\n3. **octocat.github.io**\\n   - **Stars:** 862\\n   - **Forks:** 419\\n   - **Open Issues:** 226\\n   - **Description:** Personal GitHub Pages site.\\n   - **URL:** [octocat.github.io](https://github.com/octocat/octocat.github.io)\\n\\n4. **linguist**\\n   - **Stars:** 561\\n   - **Forks:** 211\\n   - **Open Issues:** 22\\n   - **Description:** Language Savant. If your repository's language is being reported incorrectly, send us a pull request!\\n   - **URL:** [linguist](https://github.com/octocat/linguist)\\n\\n**GitHub Activity:**\\n- The candidate has a strong presence on GitHub with a significant number of followers and contributions to popular repositories.\\n- The repositories demonstrate a variety of interests and skills, including web development and language processing.\\n\\n**LinkedIn Profile Analysis:**\\n\\n- **LinkedIn Activity:** The candidate's LinkedIn presence includes various posts related to GitHub and its mascot, the Octocat. However, there is no direct professional profile or detailed work experience available.\\n- **Notable Mentions:** The candidate is frequently mentioned in posts related to GitHub's culture and community events.\\n\\n**Overall Assessment:**\\n\\n- **Technical Skills:** The candidate exhibits strong technical skills in web development and open-source contributions, as evidenced by their GitHub repositories.\\n- **Community Engagement:** High level of engagement within the GitHub community, with numerous followers and active participation in repository management.\\n- **Professional Presence:** While the GitHub profile is robust, the LinkedIn presence lacks detailed professional experience or endorsements related to backend engineering.\\n\\n**Score: 8/10**\\n\\n**Conclusion:**\\nThe candidate demonstrates excellent technical capabilities and community involvement on GitHub, making them a strong contender for a Backend Engineer role. However, the lack of detailed professional experience on LinkedIn suggests a need for further verification of work history and specific backend engineering projects.\""
            ],
            "application/vnd.google.colaboratory.intrinsic+json": {
              "type": "string"
            }
          },
          "metadata": {},
          "execution_count": 21
        }
      ]
    }
  ],
  "metadata": {
    "kernelspec": {
      "display_name": "Python 3",
      "language": "python",
      "name": "python3"
    },
    "language_info": {
      "name": "python",
      "version": "3.10"
    },
    "colab": {
      "provenance": []
    },
    "widgets": {
      "application/vnd.jupyter.widget-state+json": {
        "883165ed2c2c4b3ba8d188dc67372596": {
          "model_module": "@jupyter-widgets/output",
          "model_name": "OutputModel",
          "model_module_version": "1.0.0",
          "state": {
            "_dom_classes": [],
            "_model_module": "@jupyter-widgets/output",
            "_model_module_version": "1.0.0",
            "_model_name": "OutputModel",
            "_view_count": null,
            "_view_module": "@jupyter-widgets/output",
            "_view_module_version": "1.0.0",
            "_view_name": "OutputView",
            "layout": "IPY_MODEL_7bdb011bf81645569c7904e7c5109b2c",
            "msg_id": "",
            "outputs": [
              {
                "output_type": "display_data",
                "data": {
                  "text/plain": "\u001b[32m╭─\u001b[0m\u001b[32m─────────────────────────────────────────────\u001b[0m\u001b[32m Generating... 26.5s \u001b[0m\u001b[32m─────────────────────────────────────────────\u001b[0m\u001b[32m─╮\u001b[0m\n\u001b[32m│\u001b[0m \u001b[1mComprehensive Candidate Analysis for Backend Engineer Role\u001b[0m                                                      \u001b[32m│\u001b[0m\n\u001b[32m│\u001b[0m                                                                                                                 \u001b[32m│\u001b[0m\n\u001b[32m│\u001b[0m \u001b[1mGitHub Profile Analysis:\u001b[0m                                                                                        \u001b[32m│\u001b[0m\n\u001b[32m│\u001b[0m                                                                                                                 \u001b[32m│\u001b[0m\n\u001b[32m│\u001b[0m \u001b[1;33m • \u001b[0m\u001b[1mUsername:\u001b[0m octocat                                                                                            \u001b[32m│\u001b[0m\n\u001b[32m│\u001b[0m \u001b[1;33m • \u001b[0m\u001b[1mLocation:\u001b[0m San Francisco                                                                                      \u001b[32m│\u001b[0m\n\u001b[32m│\u001b[0m \u001b[1;33m • \u001b[0m\u001b[1mCompany:\u001b[0m GitHub                                                                                              \u001b[32m│\u001b[0m\n\u001b[32m│\u001b[0m \u001b[1;33m • \u001b[0m\u001b[1mPublic Repositories:\u001b[0m 8                                                                                       \u001b[32m│\u001b[0m\n\u001b[32m│\u001b[0m \u001b[1;33m • \u001b[0m\u001b[1mFollowers:\u001b[0m 18,440                                                                                            \u001b[32m│\u001b[0m\n\u001b[32m│\u001b[0m \u001b[1;33m • \u001b[0m\u001b[1mFollowing:\u001b[0m 9                                                                                                 \u001b[32m│\u001b[0m\n\u001b[32m│\u001b[0m \u001b[1;33m • \u001b[0m\u001b[1mGitHub Member Since:\u001b[0m January 25, 2011                                                                        \u001b[32m│\u001b[0m\n\u001b[32m│\u001b[0m                                                                                                                 \u001b[32m│\u001b[0m\n\u001b[32m│\u001b[0m \u001b[1mNotable Repositories:\u001b[0m                                                                                           \u001b[32m│\u001b[0m\n\u001b[32m│\u001b[0m                                                                                                                 \u001b[32m│\u001b[0m\n\u001b[32m│\u001b[0m \u001b[1;33m 1 \u001b[0m\u001b[1mHello-World\u001b[0m                                                                                                  \u001b[32m│\u001b[0m\n\u001b[32m│\u001b[0m \u001b[1;33m   \u001b[0m\u001b[1;33m • \u001b[0m\u001b[1mStars:\u001b[0m 3,000                                                                                              \u001b[32m│\u001b[0m\n\u001b[32m│\u001b[0m \u001b[1;33m   \u001b[0m\u001b[1;33m • \u001b[0m\u001b[1mForks:\u001b[0m 3,154                                                                                              \u001b[32m│\u001b[0m\n\u001b[32m│\u001b[0m \u001b[1;33m   \u001b[0m\u001b[1;33m • \u001b[0m\u001b[1mOpen Issues:\u001b[0m 1,762                                                                                        \u001b[32m│\u001b[0m\n\u001b[32m│\u001b[0m \u001b[1;33m   \u001b[0m\u001b[1;33m • \u001b[0m\u001b[1mDescription:\u001b[0m My first repository on GitHub!                                                               \u001b[32m│\u001b[0m\n\u001b[32m│\u001b[0m \u001b[1;33m   \u001b[0m\u001b[1;33m • \u001b[0m\u001b[1mURL:\u001b[0m \u001b]8;id=322953;https://github.com/octocat/Hello-World\u001b\\\u001b[4;34mHello-World\u001b[0m\u001b]8;;\u001b\\                                                                                          \u001b[32m│\u001b[0m\n\u001b[32m│\u001b[0m \u001b[1;33m 2 \u001b[0m\u001b[1mSpoon-Knife\u001b[0m                                                                                                  \u001b[32m│\u001b[0m\n\u001b[32m│\u001b[0m \u001b[1;33m   \u001b[0m\u001b[1;33m • \u001b[0m\u001b[1mStars:\u001b[0m 13,076                                                                                             \u001b[32m│\u001b[0m\n\u001b[32m│\u001b[0m \u001b[1;33m   \u001b[0m\u001b[1;33m • \u001b[0m\u001b[1mForks:\u001b[0m 151,937                                                                                            \u001b[32m│\u001b[0m\n\u001b[32m│\u001b[0m \u001b[1;33m   \u001b[0m\u001b[1;33m • \u001b[0m\u001b[1mOpen Issues:\u001b[0m 19,304                                                                                       \u001b[32m│\u001b[0m\n\u001b[32m│\u001b[0m \u001b[1;33m   \u001b[0m\u001b[1;33m • \u001b[0m\u001b[1mDescription:\u001b[0m This repo is for demonstration purposes only.                                                \u001b[32m│\u001b[0m\n\u001b[32m│\u001b[0m \u001b[1;33m   \u001b[0m\u001b[1;33m • \u001b[0m\u001b[1mURL:\u001b[0m \u001b]8;id=655151;https://github.com/octocat/Spoon-Knife\u001b\\\u001b[4;34mSpoon-Knife\u001b[0m\u001b]8;;\u001b\\                                                                                          \u001b[32m│\u001b[0m\n\u001b[32m│\u001b[0m \u001b[1;33m 3 \u001b[0m\u001b[1moctocat.github.io\u001b[0m                                                                                            \u001b[32m│\u001b[0m\n\u001b[32m│\u001b[0m \u001b[1;33m   \u001b[0m\u001b[1;33m • \u001b[0m\u001b[1mStars:\u001b[0m 862                                                                                                \u001b[32m│\u001b[0m\n\u001b[32m│\u001b[0m \u001b[1;33m   \u001b[0m\u001b[1;33m • \u001b[0m\u001b[1mForks:\u001b[0m 419                                                                                                \u001b[32m│\u001b[0m\n\u001b[32m│\u001b[0m \u001b[1;33m   \u001b[0m\u001b[1;33m • \u001b[0m\u001b[1mOpen Issues:\u001b[0m 226                                                                                          \u001b[32m│\u001b[0m\n\u001b[32m│\u001b[0m \u001b[1;33m   \u001b[0m\u001b[1;33m • \u001b[0m\u001b[1mDescription:\u001b[0m Personal GitHub Pages site.                                                                  \u001b[32m│\u001b[0m\n\u001b[32m│\u001b[0m \u001b[1;33m   \u001b[0m\u001b[1;33m • \u001b[0m\u001b[1mURL:\u001b[0m \u001b]8;id=783155;https://github.com/octocat/octocat.github.io\u001b\\\u001b[4;34moctocat.github.io\u001b[0m\u001b]8;;\u001b\\                                                                                    \u001b[32m│\u001b[0m\n\u001b[32m│\u001b[0m \u001b[1;33m 4 \u001b[0m\u001b[1mlinguist\u001b[0m                                                                                                     \u001b[32m│\u001b[0m\n\u001b[32m│\u001b[0m \u001b[1;33m   \u001b[0m\u001b[1;33m • \u001b[0m\u001b[1mStars:\u001b[0m 561                                                                                                \u001b[32m│\u001b[0m\n\u001b[32m│\u001b[0m \u001b[1;33m   \u001b[0m\u001b[1;33m • \u001b[0m\u001b[1mForks:\u001b[0m 211                                                                                                \u001b[32m│\u001b[0m\n\u001b[32m│\u001b[0m \u001b[1;33m   \u001b[0m\u001b[1;33m • \u001b[0m\u001b[1mOpen Issues:\u001b[0m 22                                                                                           \u001b[32m│\u001b[0m\n\u001b[32m│\u001b[0m \u001b[1;33m   \u001b[0m\u001b[1;33m • \u001b[0m\u001b[1mDescription:\u001b[0m Language Savant. If your repository's language is being reported incorrectly, send us a pull \u001b[32m│\u001b[0m\n\u001b[32m│\u001b[0m \u001b[1;33m   \u001b[0m\u001b[1;33m   \u001b[0mrequest!                                                                                                  \u001b[32m│\u001b[0m\n\u001b[32m│\u001b[0m \u001b[1;33m   \u001b[0m\u001b[1;33m • \u001b[0m\u001b[1mURL:\u001b[0m \u001b]8;id=720602;https://github.com/octocat/linguist\u001b\\\u001b[4;34mlinguist\u001b[0m\u001b]8;;\u001b\\                                                                                             \u001b[32m│\u001b[0m\n\u001b[32m│\u001b[0m                                                                                                                 \u001b[32m│\u001b[0m\n\u001b[32m│\u001b[0m \u001b[1mGitHub Activity:\u001b[0m                                                                                                \u001b[32m│\u001b[0m\n\u001b[32m│\u001b[0m                                                                                                                 \u001b[32m│\u001b[0m\n\u001b[32m│\u001b[0m \u001b[1;33m • \u001b[0mThe candidate has a strong presence on GitHub with a significant number of followers and contributions to    \u001b[32m│\u001b[0m\n\u001b[32m│\u001b[0m \u001b[1;33m   \u001b[0mpopular repositories.                                                                                        \u001b[32m│\u001b[0m\n\u001b[32m│\u001b[0m \u001b[1;33m • \u001b[0mThe repositories demonstrate a variety of interests and skills, including web development and language       \u001b[32m│\u001b[0m\n\u001b[32m│\u001b[0m \u001b[1;33m   \u001b[0mprocessing.                                                                                                  \u001b[32m│\u001b[0m\n\u001b[32m│\u001b[0m                                                                                                                 \u001b[32m│\u001b[0m\n\u001b[32m│\u001b[0m \u001b[1mLinkedIn Profile Analysis:\u001b[0m                                                                                      \u001b[32m│\u001b[0m\n\u001b[32m│\u001b[0m                                                                                                                 \u001b[32m│\u001b[0m\n\u001b[32m│\u001b[0m \u001b[1;33m • \u001b[0m\u001b[1mLinkedIn Activity:\u001b[0m The candidate's LinkedIn presence includes various posts related to GitHub and its        \u001b[32m│\u001b[0m\n\u001b[32m│\u001b[0m \u001b[1;33m   \u001b[0mmascot, the Octocat. However, there is no direct professional profile or detailed work experience available. \u001b[32m│\u001b[0m\n\u001b[32m│\u001b[0m \u001b[1;33m • \u001b[0m\u001b[1mNotable Mentions:\u001b[0m The candidate is frequently mentioned in posts related to GitHub's culture and community   \u001b[32m│\u001b[0m\n\u001b[32m│\u001b[0m \u001b[1;33m   \u001b[0mevents.                                                                                                      \u001b[32m│\u001b[0m\n\u001b[32m│\u001b[0m                                                                                                                 \u001b[32m│\u001b[0m\n\u001b[32m│\u001b[0m \u001b[1mOverall Assessment:\u001b[0m                                                                                             \u001b[32m│\u001b[0m\n\u001b[32m│\u001b[0m                                                                                                                 \u001b[32m│\u001b[0m\n\u001b[32m│\u001b[0m \u001b[1;33m • \u001b[0m\u001b[1mTechnical Skills:\u001b[0m The candidate exhibits strong technical skills in web development and open-source          \u001b[32m│\u001b[0m\n\u001b[32m│\u001b[0m \u001b[1;33m   \u001b[0mcontributions, as evidenced by their GitHub repositories.                                                    \u001b[32m│\u001b[0m\n\u001b[32m│\u001b[0m \u001b[1;33m • \u001b[0m\u001b[1mCommunity Engagement:\u001b[0m High level of engagement within the GitHub community, with numerous followers and      \u001b[32m│\u001b[0m\n\u001b[32m│\u001b[0m \u001b[1;33m   \u001b[0mactive participation in repository management.                                                               \u001b[32m│\u001b[0m\n\u001b[32m│\u001b[0m \u001b[1;33m • \u001b[0m\u001b[1mProfessional Presence:\u001b[0m While the GitHub profile is robust, the LinkedIn presence lacks detailed professional \u001b[32m│\u001b[0m\n\u001b[32m│\u001b[0m \u001b[1;33m   \u001b[0mexperience or endorsements related to backend engineering.                                                   \u001b[32m│\u001b[0m\n\u001b[32m│\u001b[0m                                                                                                                 \u001b[32m│\u001b[0m\n\u001b[32m│\u001b[0m \u001b[1mScore: 8/10\u001b[0m                                                                                                     \u001b[32m│\u001b[0m\n\u001b[32m│\u001b[0m                                                                                                                 \u001b[32m│\u001b[0m\n\u001b[32m│\u001b[0m \u001b[1mConclusion:\u001b[0m The candidate demonstrates excellent technical capabilities and community involvement on GitHub,    \u001b[32m│\u001b[0m\n\u001b[32m│\u001b[0m making them a strong contender for a Backend Engineer role. However, the lack of detailed professional          \u001b[32m│\u001b[0m\n\u001b[32m│\u001b[0m experience on LinkedIn suggests a need for further verification of work history                                 \u001b[32m│\u001b[0m\n\u001b[32m╰─────────────────────────────────────────────────────────────────────────────────────────────────────────────────╯\u001b[0m\n",
                  "text/html": "<pre style=\"white-space:pre;overflow-x:auto;line-height:normal;font-family:Menlo,'DejaVu Sans Mono',consolas,'Courier New',monospace\"><span style=\"color: #008000; text-decoration-color: #008000\">╭────────────────────────────────────────────── Generating... 26.5s ──────────────────────────────────────────────╮</span>\n<span style=\"color: #008000; text-decoration-color: #008000\">│</span> <span style=\"font-weight: bold\">Comprehensive Candidate Analysis for Backend Engineer Role</span>                                                      <span style=\"color: #008000; text-decoration-color: #008000\">│</span>\n<span style=\"color: #008000; text-decoration-color: #008000\">│</span>                                                                                                                 <span style=\"color: #008000; text-decoration-color: #008000\">│</span>\n<span style=\"color: #008000; text-decoration-color: #008000\">│</span> <span style=\"font-weight: bold\">GitHub Profile Analysis:</span>                                                                                        <span style=\"color: #008000; text-decoration-color: #008000\">│</span>\n<span style=\"color: #008000; text-decoration-color: #008000\">│</span>                                                                                                                 <span style=\"color: #008000; text-decoration-color: #008000\">│</span>\n<span style=\"color: #008000; text-decoration-color: #008000\">│</span> <span style=\"color: #808000; text-decoration-color: #808000; font-weight: bold\"> • </span><span style=\"font-weight: bold\">Username:</span> octocat                                                                                            <span style=\"color: #008000; text-decoration-color: #008000\">│</span>\n<span style=\"color: #008000; text-decoration-color: #008000\">│</span> <span style=\"color: #808000; text-decoration-color: #808000; font-weight: bold\"> • </span><span style=\"font-weight: bold\">Location:</span> San Francisco                                                                                      <span style=\"color: #008000; text-decoration-color: #008000\">│</span>\n<span style=\"color: #008000; text-decoration-color: #008000\">│</span> <span style=\"color: #808000; text-decoration-color: #808000; font-weight: bold\"> • </span><span style=\"font-weight: bold\">Company:</span> GitHub                                                                                              <span style=\"color: #008000; text-decoration-color: #008000\">│</span>\n<span style=\"color: #008000; text-decoration-color: #008000\">│</span> <span style=\"color: #808000; text-decoration-color: #808000; font-weight: bold\"> • </span><span style=\"font-weight: bold\">Public Repositories:</span> 8                                                                                       <span style=\"color: #008000; text-decoration-color: #008000\">│</span>\n<span style=\"color: #008000; text-decoration-color: #008000\">│</span> <span style=\"color: #808000; text-decoration-color: #808000; font-weight: bold\"> • </span><span style=\"font-weight: bold\">Followers:</span> 18,440                                                                                            <span style=\"color: #008000; text-decoration-color: #008000\">│</span>\n<span style=\"color: #008000; text-decoration-color: #008000\">│</span> <span style=\"color: #808000; text-decoration-color: #808000; font-weight: bold\"> • </span><span style=\"font-weight: bold\">Following:</span> 9                                                                                                 <span style=\"color: #008000; text-decoration-color: #008000\">│</span>\n<span style=\"color: #008000; text-decoration-color: #008000\">│</span> <span style=\"color: #808000; text-decoration-color: #808000; font-weight: bold\"> • </span><span style=\"font-weight: bold\">GitHub Member Since:</span> January 25, 2011                                                                        <span style=\"color: #008000; text-decoration-color: #008000\">│</span>\n<span style=\"color: #008000; text-decoration-color: #008000\">│</span>                                                                                                                 <span style=\"color: #008000; text-decoration-color: #008000\">│</span>\n<span style=\"color: #008000; text-decoration-color: #008000\">│</span> <span style=\"font-weight: bold\">Notable Repositories:</span>                                                                                           <span style=\"color: #008000; text-decoration-color: #008000\">│</span>\n<span style=\"color: #008000; text-decoration-color: #008000\">│</span>                                                                                                                 <span style=\"color: #008000; text-decoration-color: #008000\">│</span>\n<span style=\"color: #008000; text-decoration-color: #008000\">│</span> <span style=\"color: #808000; text-decoration-color: #808000; font-weight: bold\"> 1 </span><span style=\"font-weight: bold\">Hello-World</span>                                                                                                  <span style=\"color: #008000; text-decoration-color: #008000\">│</span>\n<span style=\"color: #008000; text-decoration-color: #008000\">│</span> <span style=\"color: #808000; text-decoration-color: #808000; font-weight: bold\">    • </span><span style=\"font-weight: bold\">Stars:</span> 3,000                                                                                              <span style=\"color: #008000; text-decoration-color: #008000\">│</span>\n<span style=\"color: #008000; text-decoration-color: #008000\">│</span> <span style=\"color: #808000; text-decoration-color: #808000; font-weight: bold\">    • </span><span style=\"font-weight: bold\">Forks:</span> 3,154                                                                                              <span style=\"color: #008000; text-decoration-color: #008000\">│</span>\n<span style=\"color: #008000; text-decoration-color: #008000\">│</span> <span style=\"color: #808000; text-decoration-color: #808000; font-weight: bold\">    • </span><span style=\"font-weight: bold\">Open Issues:</span> 1,762                                                                                        <span style=\"color: #008000; text-decoration-color: #008000\">│</span>\n<span style=\"color: #008000; text-decoration-color: #008000\">│</span> <span style=\"color: #808000; text-decoration-color: #808000; font-weight: bold\">    • </span><span style=\"font-weight: bold\">Description:</span> My first repository on GitHub!                                                               <span style=\"color: #008000; text-decoration-color: #008000\">│</span>\n<span style=\"color: #008000; text-decoration-color: #008000\">│</span> <span style=\"color: #808000; text-decoration-color: #808000; font-weight: bold\">    • </span><span style=\"font-weight: bold\">URL:</span> <a href=\"https://github.com/octocat/Hello-World\" target=\"_blank\"><span style=\"color: #000080; text-decoration-color: #000080; text-decoration: underline\">Hello-World</span></a>                                                                                          <span style=\"color: #008000; text-decoration-color: #008000\">│</span>\n<span style=\"color: #008000; text-decoration-color: #008000\">│</span> <span style=\"color: #808000; text-decoration-color: #808000; font-weight: bold\"> 2 </span><span style=\"font-weight: bold\">Spoon-Knife</span>                                                                                                  <span style=\"color: #008000; text-decoration-color: #008000\">│</span>\n<span style=\"color: #008000; text-decoration-color: #008000\">│</span> <span style=\"color: #808000; text-decoration-color: #808000; font-weight: bold\">    • </span><span style=\"font-weight: bold\">Stars:</span> 13,076                                                                                             <span style=\"color: #008000; text-decoration-color: #008000\">│</span>\n<span style=\"color: #008000; text-decoration-color: #008000\">│</span> <span style=\"color: #808000; text-decoration-color: #808000; font-weight: bold\">    • </span><span style=\"font-weight: bold\">Forks:</span> 151,937                                                                                            <span style=\"color: #008000; text-decoration-color: #008000\">│</span>\n<span style=\"color: #008000; text-decoration-color: #008000\">│</span> <span style=\"color: #808000; text-decoration-color: #808000; font-weight: bold\">    • </span><span style=\"font-weight: bold\">Open Issues:</span> 19,304                                                                                       <span style=\"color: #008000; text-decoration-color: #008000\">│</span>\n<span style=\"color: #008000; text-decoration-color: #008000\">│</span> <span style=\"color: #808000; text-decoration-color: #808000; font-weight: bold\">    • </span><span style=\"font-weight: bold\">Description:</span> This repo is for demonstration purposes only.                                                <span style=\"color: #008000; text-decoration-color: #008000\">│</span>\n<span style=\"color: #008000; text-decoration-color: #008000\">│</span> <span style=\"color: #808000; text-decoration-color: #808000; font-weight: bold\">    • </span><span style=\"font-weight: bold\">URL:</span> <a href=\"https://github.com/octocat/Spoon-Knife\" target=\"_blank\"><span style=\"color: #000080; text-decoration-color: #000080; text-decoration: underline\">Spoon-Knife</span></a>                                                                                          <span style=\"color: #008000; text-decoration-color: #008000\">│</span>\n<span style=\"color: #008000; text-decoration-color: #008000\">│</span> <span style=\"color: #808000; text-decoration-color: #808000; font-weight: bold\"> 3 </span><span style=\"font-weight: bold\">octocat.github.io</span>                                                                                            <span style=\"color: #008000; text-decoration-color: #008000\">│</span>\n<span style=\"color: #008000; text-decoration-color: #008000\">│</span> <span style=\"color: #808000; text-decoration-color: #808000; font-weight: bold\">    • </span><span style=\"font-weight: bold\">Stars:</span> 862                                                                                                <span style=\"color: #008000; text-decoration-color: #008000\">│</span>\n<span style=\"color: #008000; text-decoration-color: #008000\">│</span> <span style=\"color: #808000; text-decoration-color: #808000; font-weight: bold\">    • </span><span style=\"font-weight: bold\">Forks:</span> 419                                                                                                <span style=\"color: #008000; text-decoration-color: #008000\">│</span>\n<span style=\"color: #008000; text-decoration-color: #008000\">│</span> <span style=\"color: #808000; text-decoration-color: #808000; font-weight: bold\">    • </span><span style=\"font-weight: bold\">Open Issues:</span> 226                                                                                          <span style=\"color: #008000; text-decoration-color: #008000\">│</span>\n<span style=\"color: #008000; text-decoration-color: #008000\">│</span> <span style=\"color: #808000; text-decoration-color: #808000; font-weight: bold\">    • </span><span style=\"font-weight: bold\">Description:</span> Personal GitHub Pages site.                                                                  <span style=\"color: #008000; text-decoration-color: #008000\">│</span>\n<span style=\"color: #008000; text-decoration-color: #008000\">│</span> <span style=\"color: #808000; text-decoration-color: #808000; font-weight: bold\">    • </span><span style=\"font-weight: bold\">URL:</span> <a href=\"https://github.com/octocat/octocat.github.io\" target=\"_blank\"><span style=\"color: #000080; text-decoration-color: #000080; text-decoration: underline\">octocat.github.io</span></a>                                                                                    <span style=\"color: #008000; text-decoration-color: #008000\">│</span>\n<span style=\"color: #008000; text-decoration-color: #008000\">│</span> <span style=\"color: #808000; text-decoration-color: #808000; font-weight: bold\"> 4 </span><span style=\"font-weight: bold\">linguist</span>                                                                                                     <span style=\"color: #008000; text-decoration-color: #008000\">│</span>\n<span style=\"color: #008000; text-decoration-color: #008000\">│</span> <span style=\"color: #808000; text-decoration-color: #808000; font-weight: bold\">    • </span><span style=\"font-weight: bold\">Stars:</span> 561                                                                                                <span style=\"color: #008000; text-decoration-color: #008000\">│</span>\n<span style=\"color: #008000; text-decoration-color: #008000\">│</span> <span style=\"color: #808000; text-decoration-color: #808000; font-weight: bold\">    • </span><span style=\"font-weight: bold\">Forks:</span> 211                                                                                                <span style=\"color: #008000; text-decoration-color: #008000\">│</span>\n<span style=\"color: #008000; text-decoration-color: #008000\">│</span> <span style=\"color: #808000; text-decoration-color: #808000; font-weight: bold\">    • </span><span style=\"font-weight: bold\">Open Issues:</span> 22                                                                                           <span style=\"color: #008000; text-decoration-color: #008000\">│</span>\n<span style=\"color: #008000; text-decoration-color: #008000\">│</span> <span style=\"color: #808000; text-decoration-color: #808000; font-weight: bold\">    • </span><span style=\"font-weight: bold\">Description:</span> Language Savant. If your repository's language is being reported incorrectly, send us a pull <span style=\"color: #008000; text-decoration-color: #008000\">│</span>\n<span style=\"color: #008000; text-decoration-color: #008000\">│</span> <span style=\"color: #808000; text-decoration-color: #808000; font-weight: bold\">      </span>request!                                                                                                  <span style=\"color: #008000; text-decoration-color: #008000\">│</span>\n<span style=\"color: #008000; text-decoration-color: #008000\">│</span> <span style=\"color: #808000; text-decoration-color: #808000; font-weight: bold\">    • </span><span style=\"font-weight: bold\">URL:</span> <a href=\"https://github.com/octocat/linguist\" target=\"_blank\"><span style=\"color: #000080; text-decoration-color: #000080; text-decoration: underline\">linguist</span></a>                                                                                             <span style=\"color: #008000; text-decoration-color: #008000\">│</span>\n<span style=\"color: #008000; text-decoration-color: #008000\">│</span>                                                                                                                 <span style=\"color: #008000; text-decoration-color: #008000\">│</span>\n<span style=\"color: #008000; text-decoration-color: #008000\">│</span> <span style=\"font-weight: bold\">GitHub Activity:</span>                                                                                                <span style=\"color: #008000; text-decoration-color: #008000\">│</span>\n<span style=\"color: #008000; text-decoration-color: #008000\">│</span>                                                                                                                 <span style=\"color: #008000; text-decoration-color: #008000\">│</span>\n<span style=\"color: #008000; text-decoration-color: #008000\">│</span> <span style=\"color: #808000; text-decoration-color: #808000; font-weight: bold\"> • </span>The candidate has a strong presence on GitHub with a significant number of followers and contributions to    <span style=\"color: #008000; text-decoration-color: #008000\">│</span>\n<span style=\"color: #008000; text-decoration-color: #008000\">│</span> <span style=\"color: #808000; text-decoration-color: #808000; font-weight: bold\">   </span>popular repositories.                                                                                        <span style=\"color: #008000; text-decoration-color: #008000\">│</span>\n<span style=\"color: #008000; text-decoration-color: #008000\">│</span> <span style=\"color: #808000; text-decoration-color: #808000; font-weight: bold\"> • </span>The repositories demonstrate a variety of interests and skills, including web development and language       <span style=\"color: #008000; text-decoration-color: #008000\">│</span>\n<span style=\"color: #008000; text-decoration-color: #008000\">│</span> <span style=\"color: #808000; text-decoration-color: #808000; font-weight: bold\">   </span>processing.                                                                                                  <span style=\"color: #008000; text-decoration-color: #008000\">│</span>\n<span style=\"color: #008000; text-decoration-color: #008000\">│</span>                                                                                                                 <span style=\"color: #008000; text-decoration-color: #008000\">│</span>\n<span style=\"color: #008000; text-decoration-color: #008000\">│</span> <span style=\"font-weight: bold\">LinkedIn Profile Analysis:</span>                                                                                      <span style=\"color: #008000; text-decoration-color: #008000\">│</span>\n<span style=\"color: #008000; text-decoration-color: #008000\">│</span>                                                                                                                 <span style=\"color: #008000; text-decoration-color: #008000\">│</span>\n<span style=\"color: #008000; text-decoration-color: #008000\">│</span> <span style=\"color: #808000; text-decoration-color: #808000; font-weight: bold\"> • </span><span style=\"font-weight: bold\">LinkedIn Activity:</span> The candidate's LinkedIn presence includes various posts related to GitHub and its        <span style=\"color: #008000; text-decoration-color: #008000\">│</span>\n<span style=\"color: #008000; text-decoration-color: #008000\">│</span> <span style=\"color: #808000; text-decoration-color: #808000; font-weight: bold\">   </span>mascot, the Octocat. However, there is no direct professional profile or detailed work experience available. <span style=\"color: #008000; text-decoration-color: #008000\">│</span>\n<span style=\"color: #008000; text-decoration-color: #008000\">│</span> <span style=\"color: #808000; text-decoration-color: #808000; font-weight: bold\"> • </span><span style=\"font-weight: bold\">Notable Mentions:</span> The candidate is frequently mentioned in posts related to GitHub's culture and community   <span style=\"color: #008000; text-decoration-color: #008000\">│</span>\n<span style=\"color: #008000; text-decoration-color: #008000\">│</span> <span style=\"color: #808000; text-decoration-color: #808000; font-weight: bold\">   </span>events.                                                                                                      <span style=\"color: #008000; text-decoration-color: #008000\">│</span>\n<span style=\"color: #008000; text-decoration-color: #008000\">│</span>                                                                                                                 <span style=\"color: #008000; text-decoration-color: #008000\">│</span>\n<span style=\"color: #008000; text-decoration-color: #008000\">│</span> <span style=\"font-weight: bold\">Overall Assessment:</span>                                                                                             <span style=\"color: #008000; text-decoration-color: #008000\">│</span>\n<span style=\"color: #008000; text-decoration-color: #008000\">│</span>                                                                                                                 <span style=\"color: #008000; text-decoration-color: #008000\">│</span>\n<span style=\"color: #008000; text-decoration-color: #008000\">│</span> <span style=\"color: #808000; text-decoration-color: #808000; font-weight: bold\"> • </span><span style=\"font-weight: bold\">Technical Skills:</span> The candidate exhibits strong technical skills in web development and open-source          <span style=\"color: #008000; text-decoration-color: #008000\">│</span>\n<span style=\"color: #008000; text-decoration-color: #008000\">│</span> <span style=\"color: #808000; text-decoration-color: #808000; font-weight: bold\">   </span>contributions, as evidenced by their GitHub repositories.                                                    <span style=\"color: #008000; text-decoration-color: #008000\">│</span>\n<span style=\"color: #008000; text-decoration-color: #008000\">│</span> <span style=\"color: #808000; text-decoration-color: #808000; font-weight: bold\"> • </span><span style=\"font-weight: bold\">Community Engagement:</span> High level of engagement within the GitHub community, with numerous followers and      <span style=\"color: #008000; text-decoration-color: #008000\">│</span>\n<span style=\"color: #008000; text-decoration-color: #008000\">│</span> <span style=\"color: #808000; text-decoration-color: #808000; font-weight: bold\">   </span>active participation in repository management.                                                               <span style=\"color: #008000; text-decoration-color: #008000\">│</span>\n<span style=\"color: #008000; text-decoration-color: #008000\">│</span> <span style=\"color: #808000; text-decoration-color: #808000; font-weight: bold\"> • </span><span style=\"font-weight: bold\">Professional Presence:</span> While the GitHub profile is robust, the LinkedIn presence lacks detailed professional <span style=\"color: #008000; text-decoration-color: #008000\">│</span>\n<span style=\"color: #008000; text-decoration-color: #008000\">│</span> <span style=\"color: #808000; text-decoration-color: #808000; font-weight: bold\">   </span>experience or endorsements related to backend engineering.                                                   <span style=\"color: #008000; text-decoration-color: #008000\">│</span>\n<span style=\"color: #008000; text-decoration-color: #008000\">│</span>                                                                                                                 <span style=\"color: #008000; text-decoration-color: #008000\">│</span>\n<span style=\"color: #008000; text-decoration-color: #008000\">│</span> <span style=\"font-weight: bold\">Score: 8/10</span>                                                                                                     <span style=\"color: #008000; text-decoration-color: #008000\">│</span>\n<span style=\"color: #008000; text-decoration-color: #008000\">│</span>                                                                                                                 <span style=\"color: #008000; text-decoration-color: #008000\">│</span>\n<span style=\"color: #008000; text-decoration-color: #008000\">│</span> <span style=\"font-weight: bold\">Conclusion:</span> The candidate demonstrates excellent technical capabilities and community involvement on GitHub,    <span style=\"color: #008000; text-decoration-color: #008000\">│</span>\n<span style=\"color: #008000; text-decoration-color: #008000\">│</span> making them a strong contender for a Backend Engineer role. However, the lack of detailed professional          <span style=\"color: #008000; text-decoration-color: #008000\">│</span>\n<span style=\"color: #008000; text-decoration-color: #008000\">│</span> experience on LinkedIn suggests a need for further verification of work history                                 <span style=\"color: #008000; text-decoration-color: #008000\">│</span>\n<span style=\"color: #008000; text-decoration-color: #008000\">╰─────────────────────────────────────────────────────────────────────────────────────────────────────────────────╯</span>\n</pre>\n"
                },
                "metadata": {}
              }
            ]
          }
        },
        "7bdb011bf81645569c7904e7c5109b2c": {
          "model_module": "@jupyter-widgets/base",
          "model_name": "LayoutModel",
          "model_module_version": "1.2.0",
          "state": {
            "_model_module": "@jupyter-widgets/base",
            "_model_module_version": "1.2.0",
            "_model_name": "LayoutModel",
            "_view_count": null,
            "_view_module": "@jupyter-widgets/base",
            "_view_module_version": "1.2.0",
            "_view_name": "LayoutView",
            "align_content": null,
            "align_items": null,
            "align_self": null,
            "border": null,
            "bottom": null,
            "display": null,
            "flex": null,
            "flex_flow": null,
            "grid_area": null,
            "grid_auto_columns": null,
            "grid_auto_flow": null,
            "grid_auto_rows": null,
            "grid_column": null,
            "grid_gap": null,
            "grid_row": null,
            "grid_template_areas": null,
            "grid_template_columns": null,
            "grid_template_rows": null,
            "height": null,
            "justify_content": null,
            "justify_items": null,
            "left": null,
            "margin": null,
            "max_height": null,
            "max_width": null,
            "min_height": null,
            "min_width": null,
            "object_fit": null,
            "object_position": null,
            "order": null,
            "overflow": null,
            "overflow_x": null,
            "overflow_y": null,
            "padding": null,
            "right": null,
            "top": null,
            "visibility": null,
            "width": null
          }
        }
      }
    }
  },
  "nbformat": 4,
  "nbformat_minor": 5
}